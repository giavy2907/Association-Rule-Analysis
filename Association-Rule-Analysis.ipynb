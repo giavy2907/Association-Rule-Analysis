{
 "cells": [
  {
   "cell_type": "markdown",
   "metadata": {},
   "source": [
    "<h1 style='color: white;;font-family: Georgia;text-align:center'><strong>✨ Importing The Libraries And Reading Data ✨</strong></h1>"
   ]
  },
  {
   "cell_type": "code",
   "execution_count": 1,
   "metadata": {},
   "outputs": [],
   "source": [
    "import numpy as np\n",
    "import pandas as pd\n",
    "import seaborn as sns\n",
    "import matplotlib.pyplot as plt\n",
    "import matplotlib.ticker as ticker\n",
    "import plotly.express as px\n",
    "import plotly.graph_objs as go\n",
    "from plotly.subplots import make_subplots\n",
    "from mlxtend.preprocessing import TransactionEncoder\n",
    "from mlxtend.frequent_patterns import apriori \n",
    "from mlxtend.frequent_patterns import association_rules"
   ]
  },
  {
   "cell_type": "code",
   "execution_count": null,
   "metadata": {},
   "outputs": [],
   "source": [
    "excel_file='G:\\Download\\Video\\Groceries.xlsx'\n",
    "sheet = ['HanhViMua','DanhMuc','Chiphi','data']"
   ]
  },
  {
   "cell_type": "code",
   "execution_count": null,
   "metadata": {},
   "outputs": [],
   "source": [
    "data=pd.read_excel(excel_file,sheet_name='data')"
   ]
  },
  {
   "cell_type": "code",
   "execution_count": 4,
   "metadata": {},
   "outputs": [
    {
     "data": {
      "text/html": [
       "<div>\n",
       "<style scoped>\n",
       "    .dataframe tbody tr th:only-of-type {\n",
       "        vertical-align: middle;\n",
       "    }\n",
       "\n",
       "    .dataframe tbody tr th {\n",
       "        vertical-align: top;\n",
       "    }\n",
       "\n",
       "    .dataframe thead th {\n",
       "        text-align: right;\n",
       "    }\n",
       "</style>\n",
       "<table border=\"1\" class=\"dataframe\">\n",
       "  <thead>\n",
       "    <tr style=\"text-align: right;\">\n",
       "      <th></th>\n",
       "      <th>Thời gian tạo đơn</th>\n",
       "      <th>Mã đơn hàng</th>\n",
       "      <th>Mã khách hàng</th>\n",
       "      <th>Tên khách hàng</th>\n",
       "      <th>Mã PKKH</th>\n",
       "      <th>Mô tả Phân Khúc Khách hàng</th>\n",
       "      <th>Mã nhóm hàng</th>\n",
       "      <th>Tên nhóm hàng</th>\n",
       "      <th>Mã mặt hàng</th>\n",
       "      <th>Tên mặt hàng</th>\n",
       "      <th>SL</th>\n",
       "      <th>Đơn giá</th>\n",
       "      <th>Thành tiền</th>\n",
       "    </tr>\n",
       "  </thead>\n",
       "  <tbody>\n",
       "    <tr>\n",
       "      <th>0</th>\n",
       "      <td>2022-01-01 08:12:18</td>\n",
       "      <td>ORD0000001</td>\n",
       "      <td>CUZ00001</td>\n",
       "      <td>Nguyễn Chí Hiếu</td>\n",
       "      <td>A1</td>\n",
       "      <td>Học sinh, sinh viên có sở thích ăn vặt</td>\n",
       "      <td>BAN</td>\n",
       "      <td>Bánh</td>\n",
       "      <td>BAN01</td>\n",
       "      <td>Bánh gấu thái lan nhân SCL</td>\n",
       "      <td>1</td>\n",
       "      <td>65000</td>\n",
       "      <td>65000</td>\n",
       "    </tr>\n",
       "    <tr>\n",
       "      <th>1</th>\n",
       "      <td>2022-01-01 08:12:18</td>\n",
       "      <td>ORD0000001</td>\n",
       "      <td>CUZ00001</td>\n",
       "      <td>Nguyễn Chí Hiếu</td>\n",
       "      <td>A1</td>\n",
       "      <td>Học sinh, sinh viên có sở thích ăn vặt</td>\n",
       "      <td>BAN</td>\n",
       "      <td>Bánh</td>\n",
       "      <td>BAN02</td>\n",
       "      <td>Bánh gấu mix 3 vị</td>\n",
       "      <td>1</td>\n",
       "      <td>79000</td>\n",
       "      <td>79000</td>\n",
       "    </tr>\n",
       "    <tr>\n",
       "      <th>2</th>\n",
       "      <td>2022-01-01 08:12:18</td>\n",
       "      <td>ORD0000001</td>\n",
       "      <td>CUZ00001</td>\n",
       "      <td>Nguyễn Chí Hiếu</td>\n",
       "      <td>A1</td>\n",
       "      <td>Học sinh, sinh viên có sở thích ăn vặt</td>\n",
       "      <td>BIM</td>\n",
       "      <td>Bim Bim</td>\n",
       "      <td>BIM01</td>\n",
       "      <td>Bắp rim bò lá chanh</td>\n",
       "      <td>2</td>\n",
       "      <td>54000</td>\n",
       "      <td>108000</td>\n",
       "    </tr>\n",
       "    <tr>\n",
       "      <th>3</th>\n",
       "      <td>2022-01-01 08:12:18</td>\n",
       "      <td>ORD0000001</td>\n",
       "      <td>CUZ00001</td>\n",
       "      <td>Nguyễn Chí Hiếu</td>\n",
       "      <td>A1</td>\n",
       "      <td>Học sinh, sinh viên có sở thích ăn vặt</td>\n",
       "      <td>BIM</td>\n",
       "      <td>Bim Bim</td>\n",
       "      <td>BIM02</td>\n",
       "      <td>Cơm cháy lắc khô gà</td>\n",
       "      <td>2</td>\n",
       "      <td>58000</td>\n",
       "      <td>116000</td>\n",
       "    </tr>\n",
       "    <tr>\n",
       "      <th>4</th>\n",
       "      <td>2022-01-01 08:12:18</td>\n",
       "      <td>ORD0000001</td>\n",
       "      <td>CUZ00001</td>\n",
       "      <td>Nguyễn Chí Hiếu</td>\n",
       "      <td>A1</td>\n",
       "      <td>Học sinh, sinh viên có sở thích ăn vặt</td>\n",
       "      <td>BIM</td>\n",
       "      <td>Bim Bim</td>\n",
       "      <td>BIM04</td>\n",
       "      <td>Me xí muội Thái Lan</td>\n",
       "      <td>2</td>\n",
       "      <td>79000</td>\n",
       "      <td>158000</td>\n",
       "    </tr>\n",
       "  </tbody>\n",
       "</table>\n",
       "</div>"
      ],
      "text/plain": [
       "     Thời gian tạo đơn Mã đơn hàng Mã khách hàng   Tên khách hàng Mã PKKH  \\\n",
       "0  2022-01-01 08:12:18  ORD0000001      CUZ00001  Nguyễn Chí Hiếu      A1   \n",
       "1  2022-01-01 08:12:18  ORD0000001      CUZ00001  Nguyễn Chí Hiếu      A1   \n",
       "2  2022-01-01 08:12:18  ORD0000001      CUZ00001  Nguyễn Chí Hiếu      A1   \n",
       "3  2022-01-01 08:12:18  ORD0000001      CUZ00001  Nguyễn Chí Hiếu      A1   \n",
       "4  2022-01-01 08:12:18  ORD0000001      CUZ00001  Nguyễn Chí Hiếu      A1   \n",
       "\n",
       "               Mô tả Phân Khúc Khách hàng Mã nhóm hàng Tên nhóm hàng  \\\n",
       "0  Học sinh, sinh viên có sở thích ăn vặt          BAN          Bánh   \n",
       "1  Học sinh, sinh viên có sở thích ăn vặt          BAN          Bánh   \n",
       "2  Học sinh, sinh viên có sở thích ăn vặt          BIM       Bim Bim   \n",
       "3  Học sinh, sinh viên có sở thích ăn vặt          BIM       Bim Bim   \n",
       "4  Học sinh, sinh viên có sở thích ăn vặt          BIM       Bim Bim   \n",
       "\n",
       "  Mã mặt hàng                Tên mặt hàng  SL  Đơn giá  Thành tiền  \n",
       "0       BAN01  Bánh gấu thái lan nhân SCL   1    65000       65000  \n",
       "1       BAN02           Bánh gấu mix 3 vị   1    79000       79000  \n",
       "2       BIM01         Bắp rim bò lá chanh   2    54000      108000  \n",
       "3       BIM02         Cơm cháy lắc khô gà   2    58000      116000  \n",
       "4       BIM04         Me xí muội Thái Lan   2    79000      158000  "
      ]
     },
     "execution_count": 4,
     "metadata": {},
     "output_type": "execute_result"
    }
   ],
   "source": [
    "data.head()"
   ]
  },
  {
   "cell_type": "code",
   "execution_count": 5,
   "metadata": {},
   "outputs": [
    {
     "data": {
      "text/html": [
       "<div>\n",
       "<style scoped>\n",
       "    .dataframe tbody tr th:only-of-type {\n",
       "        vertical-align: middle;\n",
       "    }\n",
       "\n",
       "    .dataframe tbody tr th {\n",
       "        vertical-align: top;\n",
       "    }\n",
       "\n",
       "    .dataframe thead th {\n",
       "        text-align: right;\n",
       "    }\n",
       "</style>\n",
       "<table border=\"1\" class=\"dataframe\">\n",
       "  <thead>\n",
       "    <tr style=\"text-align: right;\">\n",
       "      <th></th>\n",
       "      <th>Thời gian tạo đơn</th>\n",
       "      <th>Mã đơn hàng</th>\n",
       "      <th>Mã khách hàng</th>\n",
       "      <th>Tên khách hàng</th>\n",
       "      <th>Mã PKKH</th>\n",
       "      <th>Mô tả Phân Khúc Khách hàng</th>\n",
       "      <th>Mã nhóm hàng</th>\n",
       "      <th>Tên nhóm hàng</th>\n",
       "      <th>Mã mặt hàng</th>\n",
       "      <th>Tên mặt hàng</th>\n",
       "      <th>SL</th>\n",
       "      <th>Đơn giá</th>\n",
       "      <th>Thành tiền</th>\n",
       "    </tr>\n",
       "  </thead>\n",
       "  <tbody>\n",
       "    <tr>\n",
       "      <th>396044</th>\n",
       "      <td>2022-12-31 23:30:40</td>\n",
       "      <td>ORD0030265</td>\n",
       "      <td>CUZ10053</td>\n",
       "      <td>NaN</td>\n",
       "      <td>A1</td>\n",
       "      <td>Học sinh, sinh viên có sở thích ăn vặt</td>\n",
       "      <td>KHO</td>\n",
       "      <td>Đồ Khô</td>\n",
       "      <td>KHO06</td>\n",
       "      <td>Khô mix 3 vị (heo bơ tỏi, mực, gà)</td>\n",
       "      <td>1</td>\n",
       "      <td>109000</td>\n",
       "      <td>109000</td>\n",
       "    </tr>\n",
       "    <tr>\n",
       "      <th>396045</th>\n",
       "      <td>2022-12-31 23:30:40</td>\n",
       "      <td>ORD0030265</td>\n",
       "      <td>CUZ10053</td>\n",
       "      <td>NaN</td>\n",
       "      <td>A1</td>\n",
       "      <td>Học sinh, sinh viên có sở thích ăn vặt</td>\n",
       "      <td>KHO</td>\n",
       "      <td>Đồ Khô</td>\n",
       "      <td>KHO07</td>\n",
       "      <td>Tóp mỡ rim mắm tỏi</td>\n",
       "      <td>5</td>\n",
       "      <td>99000</td>\n",
       "      <td>495000</td>\n",
       "    </tr>\n",
       "    <tr>\n",
       "      <th>396046</th>\n",
       "      <td>2022-12-31 23:30:40</td>\n",
       "      <td>ORD0030265</td>\n",
       "      <td>CUZ10053</td>\n",
       "      <td>NaN</td>\n",
       "      <td>A1</td>\n",
       "      <td>Học sinh, sinh viên có sở thích ăn vặt</td>\n",
       "      <td>KHO</td>\n",
       "      <td>Đồ Khô</td>\n",
       "      <td>KHO08</td>\n",
       "      <td>Mực xé sợi hấp dừa</td>\n",
       "      <td>3</td>\n",
       "      <td>89000</td>\n",
       "      <td>267000</td>\n",
       "    </tr>\n",
       "    <tr>\n",
       "      <th>396047</th>\n",
       "      <td>2022-12-31 23:30:40</td>\n",
       "      <td>ORD0030265</td>\n",
       "      <td>CUZ10053</td>\n",
       "      <td>NaN</td>\n",
       "      <td>A1</td>\n",
       "      <td>Học sinh, sinh viên có sở thích ăn vặt</td>\n",
       "      <td>KHO</td>\n",
       "      <td>Đồ Khô</td>\n",
       "      <td>KHO09</td>\n",
       "      <td>Da cá trứng muối</td>\n",
       "      <td>2</td>\n",
       "      <td>75000</td>\n",
       "      <td>150000</td>\n",
       "    </tr>\n",
       "    <tr>\n",
       "      <th>396048</th>\n",
       "      <td>2022-12-31 23:30:40</td>\n",
       "      <td>ORD0030265</td>\n",
       "      <td>CUZ10053</td>\n",
       "      <td>NaN</td>\n",
       "      <td>A1</td>\n",
       "      <td>Học sinh, sinh viên có sở thích ăn vặt</td>\n",
       "      <td>NCO</td>\n",
       "      <td>Ngũ Cốc</td>\n",
       "      <td>NCO01</td>\n",
       "      <td>Thanh cơm gạo lứt chà bông</td>\n",
       "      <td>2</td>\n",
       "      <td>65000</td>\n",
       "      <td>130000</td>\n",
       "    </tr>\n",
       "  </tbody>\n",
       "</table>\n",
       "</div>"
      ],
      "text/plain": [
       "          Thời gian tạo đơn Mã đơn hàng Mã khách hàng Tên khách hàng Mã PKKH  \\\n",
       "396044  2022-12-31 23:30:40  ORD0030265      CUZ10053            NaN      A1   \n",
       "396045  2022-12-31 23:30:40  ORD0030265      CUZ10053            NaN      A1   \n",
       "396046  2022-12-31 23:30:40  ORD0030265      CUZ10053            NaN      A1   \n",
       "396047  2022-12-31 23:30:40  ORD0030265      CUZ10053            NaN      A1   \n",
       "396048  2022-12-31 23:30:40  ORD0030265      CUZ10053            NaN      A1   \n",
       "\n",
       "                    Mô tả Phân Khúc Khách hàng Mã nhóm hàng Tên nhóm hàng  \\\n",
       "396044  Học sinh, sinh viên có sở thích ăn vặt          KHO        Đồ Khô   \n",
       "396045  Học sinh, sinh viên có sở thích ăn vặt          KHO        Đồ Khô   \n",
       "396046  Học sinh, sinh viên có sở thích ăn vặt          KHO        Đồ Khô   \n",
       "396047  Học sinh, sinh viên có sở thích ăn vặt          KHO        Đồ Khô   \n",
       "396048  Học sinh, sinh viên có sở thích ăn vặt          NCO       Ngũ Cốc   \n",
       "\n",
       "       Mã mặt hàng                        Tên mặt hàng  SL  Đơn giá  \\\n",
       "396044       KHO06  Khô mix 3 vị (heo bơ tỏi, mực, gà)   1   109000   \n",
       "396045       KHO07                  Tóp mỡ rim mắm tỏi   5    99000   \n",
       "396046       KHO08                  Mực xé sợi hấp dừa   3    89000   \n",
       "396047       KHO09                    Da cá trứng muối   2    75000   \n",
       "396048       NCO01          Thanh cơm gạo lứt chà bông   2    65000   \n",
       "\n",
       "        Thành tiền  \n",
       "396044      109000  \n",
       "396045      495000  \n",
       "396046      267000  \n",
       "396047      150000  \n",
       "396048      130000  "
      ]
     },
     "execution_count": 5,
     "metadata": {},
     "output_type": "execute_result"
    }
   ],
   "source": [
    "data.tail()"
   ]
  },
  {
   "cell_type": "code",
   "execution_count": 6,
   "metadata": {},
   "outputs": [
    {
     "data": {
      "text/plain": [
       "Index(['Thời gian tạo đơn', 'Mã đơn hàng', 'Mã khách hàng', 'Tên khách hàng',\n",
       "       'Mã PKKH', 'Mô tả Phân Khúc Khách hàng', 'Mã nhóm hàng',\n",
       "       'Tên nhóm hàng', 'Mã mặt hàng', 'Tên mặt hàng', 'SL', 'Đơn giá',\n",
       "       'Thành tiền'],\n",
       "      dtype='object')"
      ]
     },
     "execution_count": 6,
     "metadata": {},
     "output_type": "execute_result"
    }
   ],
   "source": [
    "data.columns"
   ]
  },
  {
   "cell_type": "code",
   "execution_count": 7,
   "metadata": {},
   "outputs": [
    {
     "name": "stdout",
     "output_type": "stream",
     "text": [
      "Data info:\n",
      "<class 'pandas.core.frame.DataFrame'>\n",
      "RangeIndex: 396049 entries, 0 to 396048\n",
      "Data columns (total 13 columns):\n",
      " #   Column                      Non-Null Count   Dtype \n",
      "---  ------                      --------------   ----- \n",
      " 0   Thời gian tạo đơn           396049 non-null  object\n",
      " 1   Mã đơn hàng                 396049 non-null  object\n",
      " 2   Mã khách hàng               396049 non-null  object\n",
      " 3   Tên khách hàng              156405 non-null  object\n",
      " 4   Mã PKKH                     396049 non-null  object\n",
      " 5   Mô tả Phân Khúc Khách hàng  396049 non-null  object\n",
      " 6   Mã nhóm hàng                396049 non-null  object\n",
      " 7   Tên nhóm hàng               396049 non-null  object\n",
      " 8   Mã mặt hàng                 396049 non-null  object\n",
      " 9   Tên mặt hàng                396049 non-null  object\n",
      " 10  SL                          396049 non-null  int64 \n",
      " 11  Đơn giá                     396049 non-null  int64 \n",
      " 12  Thành tiền                  396049 non-null  int64 \n",
      "dtypes: int64(3), object(10)\n",
      "memory usage: 39.3+ MB\n"
     ]
    }
   ],
   "source": [
    "print('Data info:')\n",
    "data.info()"
   ]
  },
  {
   "cell_type": "code",
   "execution_count": 8,
   "metadata": {},
   "outputs": [
    {
     "name": "stdout",
     "output_type": "stream",
     "text": [
      "Shape of Dataset\n",
      "Rows: 396049\n",
      "Columns: 13\n"
     ]
    }
   ],
   "source": [
    "print('Shape of Dataset')\n",
    "print(f'Rows: {data.shape[0]}')\n",
    "print(f'Columns: {data.shape[1]}')"
   ]
  },
  {
   "cell_type": "code",
   "execution_count": 9,
   "metadata": {},
   "outputs": [
    {
     "name": "stdout",
     "output_type": "stream",
     "text": [
      "Data Type\n"
     ]
    },
    {
     "data": {
      "text/plain": [
       "object    10\n",
       "int64      3\n",
       "Name: count, dtype: int64"
      ]
     },
     "execution_count": 9,
     "metadata": {},
     "output_type": "execute_result"
    }
   ],
   "source": [
    "print('Data Type')\n",
    "data.dtypes.value_counts()"
   ]
  },
  {
   "cell_type": "code",
   "execution_count": 10,
   "metadata": {},
   "outputs": [
    {
     "name": "stdout",
     "output_type": "stream",
     "text": [
      "Data Duplicated\n"
     ]
    },
    {
     "data": {
      "text/plain": [
       "0"
      ]
     },
     "execution_count": 10,
     "metadata": {},
     "output_type": "execute_result"
    }
   ],
   "source": [
    "print('Data Duplicated')\n",
    "data.duplicated().sum()"
   ]
  },
  {
   "cell_type": "code",
   "execution_count": 11,
   "metadata": {},
   "outputs": [
    {
     "name": "stdout",
     "output_type": "stream",
     "text": [
      "Statistics of data\n"
     ]
    },
    {
     "data": {
      "text/html": [
       "<div>\n",
       "<style scoped>\n",
       "    .dataframe tbody tr th:only-of-type {\n",
       "        vertical-align: middle;\n",
       "    }\n",
       "\n",
       "    .dataframe tbody tr th {\n",
       "        vertical-align: top;\n",
       "    }\n",
       "\n",
       "    .dataframe thead th {\n",
       "        text-align: right;\n",
       "    }\n",
       "</style>\n",
       "<table border=\"1\" class=\"dataframe\">\n",
       "  <thead>\n",
       "    <tr style=\"text-align: right;\">\n",
       "      <th></th>\n",
       "      <th>SL</th>\n",
       "      <th>Đơn giá</th>\n",
       "      <th>Thành tiền</th>\n",
       "    </tr>\n",
       "  </thead>\n",
       "  <tbody>\n",
       "    <tr>\n",
       "      <th>count</th>\n",
       "      <td>396049.000000</td>\n",
       "      <td>396049.000000</td>\n",
       "      <td>3.960490e+05</td>\n",
       "    </tr>\n",
       "    <tr>\n",
       "      <th>mean</th>\n",
       "      <td>2.352355</td>\n",
       "      <td>80159.477741</td>\n",
       "      <td>1.970438e+05</td>\n",
       "    </tr>\n",
       "    <tr>\n",
       "      <th>std</th>\n",
       "      <td>3.709168</td>\n",
       "      <td>19236.487202</td>\n",
       "      <td>3.768047e+05</td>\n",
       "    </tr>\n",
       "    <tr>\n",
       "      <th>min</th>\n",
       "      <td>1.000000</td>\n",
       "      <td>54000.000000</td>\n",
       "      <td>5.400000e+04</td>\n",
       "    </tr>\n",
       "    <tr>\n",
       "      <th>25%</th>\n",
       "      <td>1.000000</td>\n",
       "      <td>65000.000000</td>\n",
       "      <td>7.500000e+04</td>\n",
       "    </tr>\n",
       "    <tr>\n",
       "      <th>50%</th>\n",
       "      <td>1.000000</td>\n",
       "      <td>75000.000000</td>\n",
       "      <td>1.160000e+05</td>\n",
       "    </tr>\n",
       "    <tr>\n",
       "      <th>75%</th>\n",
       "      <td>2.000000</td>\n",
       "      <td>89000.000000</td>\n",
       "      <td>1.980000e+05</td>\n",
       "    </tr>\n",
       "    <tr>\n",
       "      <th>max</th>\n",
       "      <td>97.000000</td>\n",
       "      <td>119000.000000</td>\n",
       "      <td>1.154300e+07</td>\n",
       "    </tr>\n",
       "  </tbody>\n",
       "</table>\n",
       "</div>"
      ],
      "text/plain": [
       "                  SL        Đơn giá    Thành tiền\n",
       "count  396049.000000  396049.000000  3.960490e+05\n",
       "mean        2.352355   80159.477741  1.970438e+05\n",
       "std         3.709168   19236.487202  3.768047e+05\n",
       "min         1.000000   54000.000000  5.400000e+04\n",
       "25%         1.000000   65000.000000  7.500000e+04\n",
       "50%         1.000000   75000.000000  1.160000e+05\n",
       "75%         2.000000   89000.000000  1.980000e+05\n",
       "max        97.000000  119000.000000  1.154300e+07"
      ]
     },
     "execution_count": 11,
     "metadata": {},
     "output_type": "execute_result"
    }
   ],
   "source": [
    "print('Statistics of data')\n",
    "data.describe()"
   ]
  },
  {
   "cell_type": "markdown",
   "metadata": {},
   "source": [
    "<h3 style=\"color:white\"><strong>🔘 Tạo các cột thời gian</strong></h3>"
   ]
  },
  {
   "cell_type": "code",
   "execution_count": 12,
   "metadata": {},
   "outputs": [],
   "source": [
    "data['Thời gian tạo đơn'] = pd.to_datetime(data['Thời gian tạo đơn'])\n",
    "# Extract day, month, year, and time into new columns\n",
    "data['Thời gian'] = data['Thời gian tạo đơn'].dt.time\n",
    "\n",
    "data['Ngày'] = data['Thời gian tạo đơn'].dt.day\n",
    "\n",
    "data['Tháng'] = data['Thời gian tạo đơn'].dt.month\n",
    "\n",
    "data['Quý'] = data['Thời gian tạo đơn'].dt.quarter\n",
    "\n",
    "data['Năm'] = data['Thời gian tạo đơn'].dt.year"
   ]
  },
  {
   "cell_type": "code",
   "execution_count": 13,
   "metadata": {},
   "outputs": [
    {
     "data": {
      "text/html": [
       "<div>\n",
       "<style scoped>\n",
       "    .dataframe tbody tr th:only-of-type {\n",
       "        vertical-align: middle;\n",
       "    }\n",
       "\n",
       "    .dataframe tbody tr th {\n",
       "        vertical-align: top;\n",
       "    }\n",
       "\n",
       "    .dataframe thead th {\n",
       "        text-align: right;\n",
       "    }\n",
       "</style>\n",
       "<table border=\"1\" class=\"dataframe\">\n",
       "  <thead>\n",
       "    <tr style=\"text-align: right;\">\n",
       "      <th></th>\n",
       "      <th>Thời gian tạo đơn</th>\n",
       "      <th>Mã đơn hàng</th>\n",
       "      <th>Mã khách hàng</th>\n",
       "      <th>Tên khách hàng</th>\n",
       "      <th>Mã PKKH</th>\n",
       "      <th>Mô tả Phân Khúc Khách hàng</th>\n",
       "      <th>Mã nhóm hàng</th>\n",
       "      <th>Tên nhóm hàng</th>\n",
       "      <th>Mã mặt hàng</th>\n",
       "      <th>Tên mặt hàng</th>\n",
       "      <th>SL</th>\n",
       "      <th>Đơn giá</th>\n",
       "      <th>Thành tiền</th>\n",
       "      <th>Thời gian</th>\n",
       "      <th>Ngày</th>\n",
       "      <th>Tháng</th>\n",
       "      <th>Quý</th>\n",
       "      <th>Năm</th>\n",
       "    </tr>\n",
       "  </thead>\n",
       "  <tbody>\n",
       "    <tr>\n",
       "      <th>0</th>\n",
       "      <td>2022-01-01 08:12:18</td>\n",
       "      <td>ORD0000001</td>\n",
       "      <td>CUZ00001</td>\n",
       "      <td>Nguyễn Chí Hiếu</td>\n",
       "      <td>A1</td>\n",
       "      <td>Học sinh, sinh viên có sở thích ăn vặt</td>\n",
       "      <td>BAN</td>\n",
       "      <td>Bánh</td>\n",
       "      <td>BAN01</td>\n",
       "      <td>Bánh gấu thái lan nhân SCL</td>\n",
       "      <td>1</td>\n",
       "      <td>65000</td>\n",
       "      <td>65000</td>\n",
       "      <td>08:12:18</td>\n",
       "      <td>1</td>\n",
       "      <td>1</td>\n",
       "      <td>1</td>\n",
       "      <td>2022</td>\n",
       "    </tr>\n",
       "    <tr>\n",
       "      <th>1</th>\n",
       "      <td>2022-01-01 08:12:18</td>\n",
       "      <td>ORD0000001</td>\n",
       "      <td>CUZ00001</td>\n",
       "      <td>Nguyễn Chí Hiếu</td>\n",
       "      <td>A1</td>\n",
       "      <td>Học sinh, sinh viên có sở thích ăn vặt</td>\n",
       "      <td>BAN</td>\n",
       "      <td>Bánh</td>\n",
       "      <td>BAN02</td>\n",
       "      <td>Bánh gấu mix 3 vị</td>\n",
       "      <td>1</td>\n",
       "      <td>79000</td>\n",
       "      <td>79000</td>\n",
       "      <td>08:12:18</td>\n",
       "      <td>1</td>\n",
       "      <td>1</td>\n",
       "      <td>1</td>\n",
       "      <td>2022</td>\n",
       "    </tr>\n",
       "    <tr>\n",
       "      <th>2</th>\n",
       "      <td>2022-01-01 08:12:18</td>\n",
       "      <td>ORD0000001</td>\n",
       "      <td>CUZ00001</td>\n",
       "      <td>Nguyễn Chí Hiếu</td>\n",
       "      <td>A1</td>\n",
       "      <td>Học sinh, sinh viên có sở thích ăn vặt</td>\n",
       "      <td>BIM</td>\n",
       "      <td>Bim Bim</td>\n",
       "      <td>BIM01</td>\n",
       "      <td>Bắp rim bò lá chanh</td>\n",
       "      <td>2</td>\n",
       "      <td>54000</td>\n",
       "      <td>108000</td>\n",
       "      <td>08:12:18</td>\n",
       "      <td>1</td>\n",
       "      <td>1</td>\n",
       "      <td>1</td>\n",
       "      <td>2022</td>\n",
       "    </tr>\n",
       "    <tr>\n",
       "      <th>3</th>\n",
       "      <td>2022-01-01 08:12:18</td>\n",
       "      <td>ORD0000001</td>\n",
       "      <td>CUZ00001</td>\n",
       "      <td>Nguyễn Chí Hiếu</td>\n",
       "      <td>A1</td>\n",
       "      <td>Học sinh, sinh viên có sở thích ăn vặt</td>\n",
       "      <td>BIM</td>\n",
       "      <td>Bim Bim</td>\n",
       "      <td>BIM02</td>\n",
       "      <td>Cơm cháy lắc khô gà</td>\n",
       "      <td>2</td>\n",
       "      <td>58000</td>\n",
       "      <td>116000</td>\n",
       "      <td>08:12:18</td>\n",
       "      <td>1</td>\n",
       "      <td>1</td>\n",
       "      <td>1</td>\n",
       "      <td>2022</td>\n",
       "    </tr>\n",
       "    <tr>\n",
       "      <th>4</th>\n",
       "      <td>2022-01-01 08:12:18</td>\n",
       "      <td>ORD0000001</td>\n",
       "      <td>CUZ00001</td>\n",
       "      <td>Nguyễn Chí Hiếu</td>\n",
       "      <td>A1</td>\n",
       "      <td>Học sinh, sinh viên có sở thích ăn vặt</td>\n",
       "      <td>BIM</td>\n",
       "      <td>Bim Bim</td>\n",
       "      <td>BIM04</td>\n",
       "      <td>Me xí muội Thái Lan</td>\n",
       "      <td>2</td>\n",
       "      <td>79000</td>\n",
       "      <td>158000</td>\n",
       "      <td>08:12:18</td>\n",
       "      <td>1</td>\n",
       "      <td>1</td>\n",
       "      <td>1</td>\n",
       "      <td>2022</td>\n",
       "    </tr>\n",
       "  </tbody>\n",
       "</table>\n",
       "</div>"
      ],
      "text/plain": [
       "    Thời gian tạo đơn Mã đơn hàng Mã khách hàng   Tên khách hàng Mã PKKH  \\\n",
       "0 2022-01-01 08:12:18  ORD0000001      CUZ00001  Nguyễn Chí Hiếu      A1   \n",
       "1 2022-01-01 08:12:18  ORD0000001      CUZ00001  Nguyễn Chí Hiếu      A1   \n",
       "2 2022-01-01 08:12:18  ORD0000001      CUZ00001  Nguyễn Chí Hiếu      A1   \n",
       "3 2022-01-01 08:12:18  ORD0000001      CUZ00001  Nguyễn Chí Hiếu      A1   \n",
       "4 2022-01-01 08:12:18  ORD0000001      CUZ00001  Nguyễn Chí Hiếu      A1   \n",
       "\n",
       "               Mô tả Phân Khúc Khách hàng Mã nhóm hàng Tên nhóm hàng  \\\n",
       "0  Học sinh, sinh viên có sở thích ăn vặt          BAN          Bánh   \n",
       "1  Học sinh, sinh viên có sở thích ăn vặt          BAN          Bánh   \n",
       "2  Học sinh, sinh viên có sở thích ăn vặt          BIM       Bim Bim   \n",
       "3  Học sinh, sinh viên có sở thích ăn vặt          BIM       Bim Bim   \n",
       "4  Học sinh, sinh viên có sở thích ăn vặt          BIM       Bim Bim   \n",
       "\n",
       "  Mã mặt hàng                Tên mặt hàng  SL  Đơn giá  Thành tiền Thời gian  \\\n",
       "0       BAN01  Bánh gấu thái lan nhân SCL   1    65000       65000  08:12:18   \n",
       "1       BAN02           Bánh gấu mix 3 vị   1    79000       79000  08:12:18   \n",
       "2       BIM01         Bắp rim bò lá chanh   2    54000      108000  08:12:18   \n",
       "3       BIM02         Cơm cháy lắc khô gà   2    58000      116000  08:12:18   \n",
       "4       BIM04         Me xí muội Thái Lan   2    79000      158000  08:12:18   \n",
       "\n",
       "   Ngày  Tháng  Quý   Năm  \n",
       "0     1      1    1  2022  \n",
       "1     1      1    1  2022  \n",
       "2     1      1    1  2022  \n",
       "3     1      1    1  2022  \n",
       "4     1      1    1  2022  "
      ]
     },
     "execution_count": 13,
     "metadata": {},
     "output_type": "execute_result"
    }
   ],
   "source": [
    "data.head()"
   ]
  },
  {
   "cell_type": "markdown",
   "metadata": {},
   "source": [
    "<h1 style=\"color:#ffffff;font-family:Georgia;text-align:center;\">\n",
    "<strong>✨ Phân tích tổng quan ✨</strong>\n",
    "</h1>"
   ]
  },
  {
   "cell_type": "markdown",
   "metadata": {},
   "source": [
    "<h2 style=\"color:#ffffff;font-family:Georgia;text-align:center;\">\n",
    "<strong>---- Phân tích theo mặt hàng và nhóm hàng ----</strong>\n",
    "<h2>"
   ]
  },
  {
   "cell_type": "markdown",
   "metadata": {},
   "source": [
    "<h3 style=\"color:white\"><strong>🔘 Số lượng sản phẩm</strong"
   ]
  },
  {
   "cell_type": "code",
   "execution_count": 14,
   "metadata": {},
   "outputs": [
    {
     "name": "stdout",
     "output_type": "stream",
     "text": [
      "Số lượng sản phẩm: 34\n"
     ]
    }
   ],
   "source": [
    "unique_product=data['Mã mặt hàng'].nunique()\n",
    "print('Số lượng sản phẩm:',unique_product)\n"
   ]
  },
  {
   "cell_type": "markdown",
   "metadata": {},
   "source": [
    "<h3 style=\"color:white\"> <strong>🔘 Số lượng đơn hàng</strong>"
   ]
  },
  {
   "cell_type": "code",
   "execution_count": 15,
   "metadata": {},
   "outputs": [
    {
     "name": "stdout",
     "output_type": "stream",
     "text": [
      "Số lượng đơn hàng: 30265\n"
     ]
    }
   ],
   "source": [
    "unique_order=data['Mã đơn hàng'].nunique()\n",
    "print('Số lượng đơn hàng:',unique_order)"
   ]
  },
  {
   "cell_type": "markdown",
   "metadata": {},
   "source": [
    "<h3 style=\"color:white\"><b>🔘 Số lượng đơn hàng theo tháng"
   ]
  },
  {
   "cell_type": "code",
   "execution_count": 16,
   "metadata": {},
   "outputs": [
    {
     "data": {
      "text/html": [
       "<div>\n",
       "<style scoped>\n",
       "    .dataframe tbody tr th:only-of-type {\n",
       "        vertical-align: middle;\n",
       "    }\n",
       "\n",
       "    .dataframe tbody tr th {\n",
       "        vertical-align: top;\n",
       "    }\n",
       "\n",
       "    .dataframe thead th {\n",
       "        text-align: right;\n",
       "    }\n",
       "</style>\n",
       "<table border=\"1\" class=\"dataframe\">\n",
       "  <thead>\n",
       "    <tr style=\"text-align: right;\">\n",
       "      <th></th>\n",
       "      <th>Tháng</th>\n",
       "      <th>Số lượng đơn hàng</th>\n",
       "    </tr>\n",
       "  </thead>\n",
       "  <tbody>\n",
       "    <tr>\n",
       "      <th>0</th>\n",
       "      <td>3</td>\n",
       "      <td>1512</td>\n",
       "    </tr>\n",
       "    <tr>\n",
       "      <th>1</th>\n",
       "      <td>1</td>\n",
       "      <td>1518</td>\n",
       "    </tr>\n",
       "    <tr>\n",
       "      <th>2</th>\n",
       "      <td>2</td>\n",
       "      <td>1605</td>\n",
       "    </tr>\n",
       "    <tr>\n",
       "      <th>3</th>\n",
       "      <td>4</td>\n",
       "      <td>1749</td>\n",
       "    </tr>\n",
       "    <tr>\n",
       "      <th>4</th>\n",
       "      <td>5</td>\n",
       "      <td>2291</td>\n",
       "    </tr>\n",
       "    <tr>\n",
       "      <th>5</th>\n",
       "      <td>7</td>\n",
       "      <td>2661</td>\n",
       "    </tr>\n",
       "    <tr>\n",
       "      <th>6</th>\n",
       "      <td>10</td>\n",
       "      <td>2703</td>\n",
       "    </tr>\n",
       "    <tr>\n",
       "      <th>7</th>\n",
       "      <td>8</td>\n",
       "      <td>2705</td>\n",
       "    </tr>\n",
       "    <tr>\n",
       "      <th>8</th>\n",
       "      <td>9</td>\n",
       "      <td>2888</td>\n",
       "    </tr>\n",
       "    <tr>\n",
       "      <th>9</th>\n",
       "      <td>6</td>\n",
       "      <td>2932</td>\n",
       "    </tr>\n",
       "    <tr>\n",
       "      <th>10</th>\n",
       "      <td>11</td>\n",
       "      <td>3376</td>\n",
       "    </tr>\n",
       "    <tr>\n",
       "      <th>11</th>\n",
       "      <td>12</td>\n",
       "      <td>4325</td>\n",
       "    </tr>\n",
       "  </tbody>\n",
       "</table>\n",
       "</div>"
      ],
      "text/plain": [
       "    Tháng  Số lượng đơn hàng\n",
       "0       3               1512\n",
       "1       1               1518\n",
       "2       2               1605\n",
       "3       4               1749\n",
       "4       5               2291\n",
       "5       7               2661\n",
       "6      10               2703\n",
       "7       8               2705\n",
       "8       9               2888\n",
       "9       6               2932\n",
       "10     11               3376\n",
       "11     12               4325"
      ]
     },
     "execution_count": 16,
     "metadata": {},
     "output_type": "execute_result"
    }
   ],
   "source": [
    "orders_per_month = data.groupby('Tháng')['Mã đơn hàng'].nunique().sort_values(ascending=True)\n",
    "data_orders_per_month = orders_per_month.reset_index(name='Số lượng đơn hàng')\n",
    "data_orders_per_month"
   ]
  },
  {
   "cell_type": "code",
   "execution_count": 17,
   "metadata": {},
   "outputs": [
    {
     "data": {
      "application/vnd.plotly.v1+json": {
       "config": {
        "plotlyServerURL": "https://plot.ly"
       },
       "data": [
        {
         "alignmentgroup": "True",
         "hovertemplate": "Tháng=%{x}<br>Số lượng đơn hàng=%{marker.color}<extra></extra>",
         "legendgroup": "",
         "marker": {
          "color": [
           1512,
           1518,
           1605,
           1749,
           2291,
           2661,
           2703,
           2705,
           2888,
           2932,
           3376,
           4325
          ],
          "coloraxis": "coloraxis",
          "pattern": {
           "shape": ""
          }
         },
         "name": "",
         "offsetgroup": "",
         "orientation": "v",
         "showlegend": false,
         "textposition": "auto",
         "type": "bar",
         "x": [
          3,
          1,
          2,
          4,
          5,
          7,
          10,
          8,
          9,
          6,
          11,
          12
         ],
         "xaxis": "x",
         "y": [
          1512,
          1518,
          1605,
          1749,
          2291,
          2661,
          2703,
          2705,
          2888,
          2932,
          3376,
          4325
         ],
         "yaxis": "y"
        }
       ],
       "layout": {
        "barmode": "relative",
        "coloraxis": {
         "colorbar": {
          "title": {
           "text": "Số lượng đơn hàng"
          }
         },
         "colorscale": [
          [
           0,
           "#fde725"
          ],
          [
           0.1111111111111111,
           "#b5de2b"
          ],
          [
           0.2222222222222222,
           "#6ece58"
          ],
          [
           0.3333333333333333,
           "#35b779"
          ],
          [
           0.4444444444444444,
           "#1f9e89"
          ],
          [
           0.5555555555555556,
           "#26828e"
          ],
          [
           0.6666666666666666,
           "#31688e"
          ],
          [
           0.7777777777777778,
           "#3e4989"
          ],
          [
           0.8888888888888888,
           "#482878"
          ],
          [
           1,
           "#440154"
          ]
         ]
        },
        "legend": {
         "tracegroupgap": 0
        },
        "paper_bgcolor": "lightgrey",
        "plot_bgcolor": "lightgrey",
        "template": {
         "data": {
          "bar": [
           {
            "error_x": {
             "color": "#2a3f5f"
            },
            "error_y": {
             "color": "#2a3f5f"
            },
            "marker": {
             "line": {
              "color": "#E5ECF6",
              "width": 0.5
             },
             "pattern": {
              "fillmode": "overlay",
              "size": 10,
              "solidity": 0.2
             }
            },
            "type": "bar"
           }
          ],
          "barpolar": [
           {
            "marker": {
             "line": {
              "color": "#E5ECF6",
              "width": 0.5
             },
             "pattern": {
              "fillmode": "overlay",
              "size": 10,
              "solidity": 0.2
             }
            },
            "type": "barpolar"
           }
          ],
          "carpet": [
           {
            "aaxis": {
             "endlinecolor": "#2a3f5f",
             "gridcolor": "white",
             "linecolor": "white",
             "minorgridcolor": "white",
             "startlinecolor": "#2a3f5f"
            },
            "baxis": {
             "endlinecolor": "#2a3f5f",
             "gridcolor": "white",
             "linecolor": "white",
             "minorgridcolor": "white",
             "startlinecolor": "#2a3f5f"
            },
            "type": "carpet"
           }
          ],
          "choropleth": [
           {
            "colorbar": {
             "outlinewidth": 0,
             "ticks": ""
            },
            "type": "choropleth"
           }
          ],
          "contour": [
           {
            "colorbar": {
             "outlinewidth": 0,
             "ticks": ""
            },
            "colorscale": [
             [
              0,
              "#0d0887"
             ],
             [
              0.1111111111111111,
              "#46039f"
             ],
             [
              0.2222222222222222,
              "#7201a8"
             ],
             [
              0.3333333333333333,
              "#9c179e"
             ],
             [
              0.4444444444444444,
              "#bd3786"
             ],
             [
              0.5555555555555556,
              "#d8576b"
             ],
             [
              0.6666666666666666,
              "#ed7953"
             ],
             [
              0.7777777777777778,
              "#fb9f3a"
             ],
             [
              0.8888888888888888,
              "#fdca26"
             ],
             [
              1,
              "#f0f921"
             ]
            ],
            "type": "contour"
           }
          ],
          "contourcarpet": [
           {
            "colorbar": {
             "outlinewidth": 0,
             "ticks": ""
            },
            "type": "contourcarpet"
           }
          ],
          "heatmap": [
           {
            "colorbar": {
             "outlinewidth": 0,
             "ticks": ""
            },
            "colorscale": [
             [
              0,
              "#0d0887"
             ],
             [
              0.1111111111111111,
              "#46039f"
             ],
             [
              0.2222222222222222,
              "#7201a8"
             ],
             [
              0.3333333333333333,
              "#9c179e"
             ],
             [
              0.4444444444444444,
              "#bd3786"
             ],
             [
              0.5555555555555556,
              "#d8576b"
             ],
             [
              0.6666666666666666,
              "#ed7953"
             ],
             [
              0.7777777777777778,
              "#fb9f3a"
             ],
             [
              0.8888888888888888,
              "#fdca26"
             ],
             [
              1,
              "#f0f921"
             ]
            ],
            "type": "heatmap"
           }
          ],
          "heatmapgl": [
           {
            "colorbar": {
             "outlinewidth": 0,
             "ticks": ""
            },
            "colorscale": [
             [
              0,
              "#0d0887"
             ],
             [
              0.1111111111111111,
              "#46039f"
             ],
             [
              0.2222222222222222,
              "#7201a8"
             ],
             [
              0.3333333333333333,
              "#9c179e"
             ],
             [
              0.4444444444444444,
              "#bd3786"
             ],
             [
              0.5555555555555556,
              "#d8576b"
             ],
             [
              0.6666666666666666,
              "#ed7953"
             ],
             [
              0.7777777777777778,
              "#fb9f3a"
             ],
             [
              0.8888888888888888,
              "#fdca26"
             ],
             [
              1,
              "#f0f921"
             ]
            ],
            "type": "heatmapgl"
           }
          ],
          "histogram": [
           {
            "marker": {
             "pattern": {
              "fillmode": "overlay",
              "size": 10,
              "solidity": 0.2
             }
            },
            "type": "histogram"
           }
          ],
          "histogram2d": [
           {
            "colorbar": {
             "outlinewidth": 0,
             "ticks": ""
            },
            "colorscale": [
             [
              0,
              "#0d0887"
             ],
             [
              0.1111111111111111,
              "#46039f"
             ],
             [
              0.2222222222222222,
              "#7201a8"
             ],
             [
              0.3333333333333333,
              "#9c179e"
             ],
             [
              0.4444444444444444,
              "#bd3786"
             ],
             [
              0.5555555555555556,
              "#d8576b"
             ],
             [
              0.6666666666666666,
              "#ed7953"
             ],
             [
              0.7777777777777778,
              "#fb9f3a"
             ],
             [
              0.8888888888888888,
              "#fdca26"
             ],
             [
              1,
              "#f0f921"
             ]
            ],
            "type": "histogram2d"
           }
          ],
          "histogram2dcontour": [
           {
            "colorbar": {
             "outlinewidth": 0,
             "ticks": ""
            },
            "colorscale": [
             [
              0,
              "#0d0887"
             ],
             [
              0.1111111111111111,
              "#46039f"
             ],
             [
              0.2222222222222222,
              "#7201a8"
             ],
             [
              0.3333333333333333,
              "#9c179e"
             ],
             [
              0.4444444444444444,
              "#bd3786"
             ],
             [
              0.5555555555555556,
              "#d8576b"
             ],
             [
              0.6666666666666666,
              "#ed7953"
             ],
             [
              0.7777777777777778,
              "#fb9f3a"
             ],
             [
              0.8888888888888888,
              "#fdca26"
             ],
             [
              1,
              "#f0f921"
             ]
            ],
            "type": "histogram2dcontour"
           }
          ],
          "mesh3d": [
           {
            "colorbar": {
             "outlinewidth": 0,
             "ticks": ""
            },
            "type": "mesh3d"
           }
          ],
          "parcoords": [
           {
            "line": {
             "colorbar": {
              "outlinewidth": 0,
              "ticks": ""
             }
            },
            "type": "parcoords"
           }
          ],
          "pie": [
           {
            "automargin": true,
            "type": "pie"
           }
          ],
          "scatter": [
           {
            "fillpattern": {
             "fillmode": "overlay",
             "size": 10,
             "solidity": 0.2
            },
            "type": "scatter"
           }
          ],
          "scatter3d": [
           {
            "line": {
             "colorbar": {
              "outlinewidth": 0,
              "ticks": ""
             }
            },
            "marker": {
             "colorbar": {
              "outlinewidth": 0,
              "ticks": ""
             }
            },
            "type": "scatter3d"
           }
          ],
          "scattercarpet": [
           {
            "marker": {
             "colorbar": {
              "outlinewidth": 0,
              "ticks": ""
             }
            },
            "type": "scattercarpet"
           }
          ],
          "scattergeo": [
           {
            "marker": {
             "colorbar": {
              "outlinewidth": 0,
              "ticks": ""
             }
            },
            "type": "scattergeo"
           }
          ],
          "scattergl": [
           {
            "marker": {
             "colorbar": {
              "outlinewidth": 0,
              "ticks": ""
             }
            },
            "type": "scattergl"
           }
          ],
          "scattermapbox": [
           {
            "marker": {
             "colorbar": {
              "outlinewidth": 0,
              "ticks": ""
             }
            },
            "type": "scattermapbox"
           }
          ],
          "scatterpolar": [
           {
            "marker": {
             "colorbar": {
              "outlinewidth": 0,
              "ticks": ""
             }
            },
            "type": "scatterpolar"
           }
          ],
          "scatterpolargl": [
           {
            "marker": {
             "colorbar": {
              "outlinewidth": 0,
              "ticks": ""
             }
            },
            "type": "scatterpolargl"
           }
          ],
          "scatterternary": [
           {
            "marker": {
             "colorbar": {
              "outlinewidth": 0,
              "ticks": ""
             }
            },
            "type": "scatterternary"
           }
          ],
          "surface": [
           {
            "colorbar": {
             "outlinewidth": 0,
             "ticks": ""
            },
            "colorscale": [
             [
              0,
              "#0d0887"
             ],
             [
              0.1111111111111111,
              "#46039f"
             ],
             [
              0.2222222222222222,
              "#7201a8"
             ],
             [
              0.3333333333333333,
              "#9c179e"
             ],
             [
              0.4444444444444444,
              "#bd3786"
             ],
             [
              0.5555555555555556,
              "#d8576b"
             ],
             [
              0.6666666666666666,
              "#ed7953"
             ],
             [
              0.7777777777777778,
              "#fb9f3a"
             ],
             [
              0.8888888888888888,
              "#fdca26"
             ],
             [
              1,
              "#f0f921"
             ]
            ],
            "type": "surface"
           }
          ],
          "table": [
           {
            "cells": {
             "fill": {
              "color": "#EBF0F8"
             },
             "line": {
              "color": "white"
             }
            },
            "header": {
             "fill": {
              "color": "#C8D4E3"
             },
             "line": {
              "color": "white"
             }
            },
            "type": "table"
           }
          ]
         },
         "layout": {
          "annotationdefaults": {
           "arrowcolor": "#2a3f5f",
           "arrowhead": 0,
           "arrowwidth": 1
          },
          "autotypenumbers": "strict",
          "coloraxis": {
           "colorbar": {
            "outlinewidth": 0,
            "ticks": ""
           }
          },
          "colorscale": {
           "diverging": [
            [
             0,
             "#8e0152"
            ],
            [
             0.1,
             "#c51b7d"
            ],
            [
             0.2,
             "#de77ae"
            ],
            [
             0.3,
             "#f1b6da"
            ],
            [
             0.4,
             "#fde0ef"
            ],
            [
             0.5,
             "#f7f7f7"
            ],
            [
             0.6,
             "#e6f5d0"
            ],
            [
             0.7,
             "#b8e186"
            ],
            [
             0.8,
             "#7fbc41"
            ],
            [
             0.9,
             "#4d9221"
            ],
            [
             1,
             "#276419"
            ]
           ],
           "sequential": [
            [
             0,
             "#0d0887"
            ],
            [
             0.1111111111111111,
             "#46039f"
            ],
            [
             0.2222222222222222,
             "#7201a8"
            ],
            [
             0.3333333333333333,
             "#9c179e"
            ],
            [
             0.4444444444444444,
             "#bd3786"
            ],
            [
             0.5555555555555556,
             "#d8576b"
            ],
            [
             0.6666666666666666,
             "#ed7953"
            ],
            [
             0.7777777777777778,
             "#fb9f3a"
            ],
            [
             0.8888888888888888,
             "#fdca26"
            ],
            [
             1,
             "#f0f921"
            ]
           ],
           "sequentialminus": [
            [
             0,
             "#0d0887"
            ],
            [
             0.1111111111111111,
             "#46039f"
            ],
            [
             0.2222222222222222,
             "#7201a8"
            ],
            [
             0.3333333333333333,
             "#9c179e"
            ],
            [
             0.4444444444444444,
             "#bd3786"
            ],
            [
             0.5555555555555556,
             "#d8576b"
            ],
            [
             0.6666666666666666,
             "#ed7953"
            ],
            [
             0.7777777777777778,
             "#fb9f3a"
            ],
            [
             0.8888888888888888,
             "#fdca26"
            ],
            [
             1,
             "#f0f921"
            ]
           ]
          },
          "colorway": [
           "#636efa",
           "#EF553B",
           "#00cc96",
           "#ab63fa",
           "#FFA15A",
           "#19d3f3",
           "#FF6692",
           "#B6E880",
           "#FF97FF",
           "#FECB52"
          ],
          "font": {
           "color": "#2a3f5f"
          },
          "geo": {
           "bgcolor": "white",
           "lakecolor": "white",
           "landcolor": "#E5ECF6",
           "showlakes": true,
           "showland": true,
           "subunitcolor": "white"
          },
          "hoverlabel": {
           "align": "left"
          },
          "hovermode": "closest",
          "mapbox": {
           "style": "light"
          },
          "paper_bgcolor": "white",
          "plot_bgcolor": "#E5ECF6",
          "polar": {
           "angularaxis": {
            "gridcolor": "white",
            "linecolor": "white",
            "ticks": ""
           },
           "bgcolor": "#E5ECF6",
           "radialaxis": {
            "gridcolor": "white",
            "linecolor": "white",
            "ticks": ""
           }
          },
          "scene": {
           "xaxis": {
            "backgroundcolor": "#E5ECF6",
            "gridcolor": "white",
            "gridwidth": 2,
            "linecolor": "white",
            "showbackground": true,
            "ticks": "",
            "zerolinecolor": "white"
           },
           "yaxis": {
            "backgroundcolor": "#E5ECF6",
            "gridcolor": "white",
            "gridwidth": 2,
            "linecolor": "white",
            "showbackground": true,
            "ticks": "",
            "zerolinecolor": "white"
           },
           "zaxis": {
            "backgroundcolor": "#E5ECF6",
            "gridcolor": "white",
            "gridwidth": 2,
            "linecolor": "white",
            "showbackground": true,
            "ticks": "",
            "zerolinecolor": "white"
           }
          },
          "shapedefaults": {
           "line": {
            "color": "#2a3f5f"
           }
          },
          "ternary": {
           "aaxis": {
            "gridcolor": "white",
            "linecolor": "white",
            "ticks": ""
           },
           "baxis": {
            "gridcolor": "white",
            "linecolor": "white",
            "ticks": ""
           },
           "bgcolor": "#E5ECF6",
           "caxis": {
            "gridcolor": "white",
            "linecolor": "white",
            "ticks": ""
           }
          },
          "title": {
           "x": 0.05
          },
          "xaxis": {
           "automargin": true,
           "gridcolor": "white",
           "linecolor": "white",
           "ticks": "",
           "title": {
            "standoff": 15
           },
           "zerolinecolor": "white",
           "zerolinewidth": 2
          },
          "yaxis": {
           "automargin": true,
           "gridcolor": "white",
           "linecolor": "white",
           "ticks": "",
           "title": {
            "standoff": 15
           },
           "zerolinecolor": "white",
           "zerolinewidth": 2
          }
         }
        },
        "title": {
         "text": "<b>Số Lượng Đơn Hàng Theo Từng Tháng<b>"
        },
        "xaxis": {
         "anchor": "y",
         "domain": [
          0,
          1
         ],
         "title": {
          "text": "Tháng"
         }
        },
        "yaxis": {
         "anchor": "x",
         "domain": [
          0,
          1
         ],
         "title": {
          "text": "Số lượng đơn hàng"
         }
        }
       }
      }
     },
     "metadata": {},
     "output_type": "display_data"
    }
   ],
   "source": [
    "# Vẽ biểu đồ với Plotly\n",
    "fig = px.bar(data_orders_per_month, x='Tháng', y='Số lượng đơn hàng',\n",
    "             title='Số Lượng Đơn Hàng Theo Tháng',\n",
    "             color='Số lượng đơn hàng',\n",
    "             color_continuous_scale=px.colors.sequential.Viridis_r)\n",
    "# Cập nhật bố cục\n",
    "fig.update_layout(title='<b>Số Lượng Đơn Hàng Theo Từng Tháng<b>',\n",
    "    xaxis_title=\"Tháng\",\n",
    "    yaxis_title=\"Số lượng đơn hàng\",\n",
    "    paper_bgcolor='lightgrey',\n",
    "    plot_bgcolor='lightgrey'\n",
    ")\n",
    "# Hiển thị biểu đồ\n",
    "fig.show()"
   ]
  },
  {
   "cell_type": "markdown",
   "metadata": {},
   "source": [
    "<h3 style=\"color:white\"><b>🔘 Số giao dịch của các mặt hàng được bán "
   ]
  },
  {
   "cell_type": "code",
   "execution_count": 18,
   "metadata": {},
   "outputs": [
    {
     "data": {
      "text/html": [
       "<div>\n",
       "<style scoped>\n",
       "    .dataframe tbody tr th:only-of-type {\n",
       "        vertical-align: middle;\n",
       "    }\n",
       "\n",
       "    .dataframe tbody tr th {\n",
       "        vertical-align: top;\n",
       "    }\n",
       "\n",
       "    .dataframe thead th {\n",
       "        text-align: right;\n",
       "    }\n",
       "</style>\n",
       "<table border=\"1\" class=\"dataframe\">\n",
       "  <thead>\n",
       "    <tr style=\"text-align: right;\">\n",
       "      <th></th>\n",
       "      <th>Tên mặt hàng</th>\n",
       "      <th>Số giao dịch</th>\n",
       "    </tr>\n",
       "  </thead>\n",
       "  <tbody>\n",
       "    <tr>\n",
       "      <th>32</th>\n",
       "      <td>Tàu hủ trân châu đường đen</td>\n",
       "      <td>4752</td>\n",
       "    </tr>\n",
       "    <tr>\n",
       "      <th>24</th>\n",
       "      <td>Sâm bổ lượng</td>\n",
       "      <td>4916</td>\n",
       "    </tr>\n",
       "    <tr>\n",
       "      <th>28</th>\n",
       "      <td>Trà sữa Socola</td>\n",
       "      <td>5056</td>\n",
       "    </tr>\n",
       "    <tr>\n",
       "      <th>30</th>\n",
       "      <td>Trà sữa thái xanh</td>\n",
       "      <td>5091</td>\n",
       "    </tr>\n",
       "    <tr>\n",
       "      <th>29</th>\n",
       "      <td>Trà sữa phúc long</td>\n",
       "      <td>5091</td>\n",
       "    </tr>\n",
       "    <tr>\n",
       "      <th>7</th>\n",
       "      <td>Chè dưỡng nhan</td>\n",
       "      <td>5326</td>\n",
       "    </tr>\n",
       "    <tr>\n",
       "      <th>31</th>\n",
       "      <td>Trà sữa ô long</td>\n",
       "      <td>5754</td>\n",
       "    </tr>\n",
       "    <tr>\n",
       "      <th>6</th>\n",
       "      <td>Bột củ sen hòa tan hạt dinh dưỡng collagen</td>\n",
       "      <td>7867</td>\n",
       "    </tr>\n",
       "    <tr>\n",
       "      <th>5</th>\n",
       "      <td>Bột củ sen hòa tan hạt chia hoa hạt dinh dưỡng</td>\n",
       "      <td>7889</td>\n",
       "    </tr>\n",
       "    <tr>\n",
       "      <th>4</th>\n",
       "      <td>Bột củ sen hòa tan dinh dưỡng không đường</td>\n",
       "      <td>10221</td>\n",
       "    </tr>\n",
       "    <tr>\n",
       "      <th>10</th>\n",
       "      <td>Khô bò que hồng ngự</td>\n",
       "      <td>10929</td>\n",
       "    </tr>\n",
       "    <tr>\n",
       "      <th>16</th>\n",
       "      <td>Me xí muội Thái Lan</td>\n",
       "      <td>11176</td>\n",
       "    </tr>\n",
       "    <tr>\n",
       "      <th>22</th>\n",
       "      <td>Nui sấy bò lá chanh</td>\n",
       "      <td>11759</td>\n",
       "    </tr>\n",
       "    <tr>\n",
       "      <th>3</th>\n",
       "      <td>Bắp rim bò lá chanh</td>\n",
       "      <td>11837</td>\n",
       "    </tr>\n",
       "    <tr>\n",
       "      <th>14</th>\n",
       "      <td>Khô heo cháy tỏi</td>\n",
       "      <td>12092</td>\n",
       "    </tr>\n",
       "    <tr>\n",
       "      <th>18</th>\n",
       "      <td>Mực xé sợi hấp dừa</td>\n",
       "      <td>13022</td>\n",
       "    </tr>\n",
       "    <tr>\n",
       "      <th>11</th>\n",
       "      <td>Khô bò sợi lá chanh</td>\n",
       "      <td>13024</td>\n",
       "    </tr>\n",
       "    <tr>\n",
       "      <th>12</th>\n",
       "      <td>Khô gà bơ tỏi</td>\n",
       "      <td>13042</td>\n",
       "    </tr>\n",
       "    <tr>\n",
       "      <th>9</th>\n",
       "      <td>Da cá trứng muối</td>\n",
       "      <td>13082</td>\n",
       "    </tr>\n",
       "    <tr>\n",
       "      <th>15</th>\n",
       "      <td>Khô mix 3 vị (heo bơ tỏi, mực, gà)</td>\n",
       "      <td>13197</td>\n",
       "    </tr>\n",
       "    <tr>\n",
       "      <th>13</th>\n",
       "      <td>Khô gà lá chanh</td>\n",
       "      <td>13517</td>\n",
       "    </tr>\n",
       "    <tr>\n",
       "      <th>33</th>\n",
       "      <td>Tóp mỡ rim mắm tỏi</td>\n",
       "      <td>13692</td>\n",
       "    </tr>\n",
       "    <tr>\n",
       "      <th>19</th>\n",
       "      <td>Ngũ cốc granola vị matcha</td>\n",
       "      <td>13919</td>\n",
       "    </tr>\n",
       "    <tr>\n",
       "      <th>20</th>\n",
       "      <td>Ngũ cốc granola vị nguyên vị</td>\n",
       "      <td>13983</td>\n",
       "    </tr>\n",
       "    <tr>\n",
       "      <th>21</th>\n",
       "      <td>Ngũ cốc granola vị socola</td>\n",
       "      <td>14012</td>\n",
       "    </tr>\n",
       "    <tr>\n",
       "      <th>8</th>\n",
       "      <td>Cơm cháy lắc khô gà</td>\n",
       "      <td>14880</td>\n",
       "    </tr>\n",
       "    <tr>\n",
       "      <th>25</th>\n",
       "      <td>Thanh cơm gạo lứt chà bông</td>\n",
       "      <td>15180</td>\n",
       "    </tr>\n",
       "    <tr>\n",
       "      <th>1</th>\n",
       "      <td>Bánh gấu thái lan nhân SCL</td>\n",
       "      <td>15201</td>\n",
       "    </tr>\n",
       "    <tr>\n",
       "      <th>17</th>\n",
       "      <td>Mít sấy mộc</td>\n",
       "      <td>15309</td>\n",
       "    </tr>\n",
       "    <tr>\n",
       "      <th>26</th>\n",
       "      <td>Thanh cơm gạo lứt mix hạt</td>\n",
       "      <td>16010</td>\n",
       "    </tr>\n",
       "    <tr>\n",
       "      <th>27</th>\n",
       "      <td>Thanh cơm gạo lứt rong biển</td>\n",
       "      <td>16030</td>\n",
       "    </tr>\n",
       "    <tr>\n",
       "      <th>2</th>\n",
       "      <td>Bánh ngói hạnh nhân</td>\n",
       "      <td>16105</td>\n",
       "    </tr>\n",
       "    <tr>\n",
       "      <th>0</th>\n",
       "      <td>Bánh gấu mix 3 vị</td>\n",
       "      <td>16327</td>\n",
       "    </tr>\n",
       "    <tr>\n",
       "      <th>23</th>\n",
       "      <td>Rong biển cháy tỏi</td>\n",
       "      <td>16761</td>\n",
       "    </tr>\n",
       "  </tbody>\n",
       "</table>\n",
       "</div>"
      ],
      "text/plain": [
       "                                      Tên mặt hàng  Số giao dịch\n",
       "32                      Tàu hủ trân châu đường đen          4752\n",
       "24                                    Sâm bổ lượng          4916\n",
       "28                                  Trà sữa Socola          5056\n",
       "30                               Trà sữa thái xanh          5091\n",
       "29                               Trà sữa phúc long          5091\n",
       "7                                   Chè dưỡng nhan          5326\n",
       "31                                  Trà sữa ô long          5754\n",
       "6       Bột củ sen hòa tan hạt dinh dưỡng collagen          7867\n",
       "5   Bột củ sen hòa tan hạt chia hoa hạt dinh dưỡng          7889\n",
       "4        Bột củ sen hòa tan dinh dưỡng không đường         10221\n",
       "10                             Khô bò que hồng ngự         10929\n",
       "16                             Me xí muội Thái Lan         11176\n",
       "22                             Nui sấy bò lá chanh         11759\n",
       "3                              Bắp rim bò lá chanh         11837\n",
       "14                                Khô heo cháy tỏi         12092\n",
       "18                              Mực xé sợi hấp dừa         13022\n",
       "11                             Khô bò sợi lá chanh         13024\n",
       "12                                   Khô gà bơ tỏi         13042\n",
       "9                                 Da cá trứng muối         13082\n",
       "15              Khô mix 3 vị (heo bơ tỏi, mực, gà)         13197\n",
       "13                                 Khô gà lá chanh         13517\n",
       "33                              Tóp mỡ rim mắm tỏi         13692\n",
       "19                       Ngũ cốc granola vị matcha         13919\n",
       "20                    Ngũ cốc granola vị nguyên vị         13983\n",
       "21                       Ngũ cốc granola vị socola         14012\n",
       "8                              Cơm cháy lắc khô gà         14880\n",
       "25                      Thanh cơm gạo lứt chà bông         15180\n",
       "1                       Bánh gấu thái lan nhân SCL         15201\n",
       "17                                     Mít sấy mộc         15309\n",
       "26                       Thanh cơm gạo lứt mix hạt         16010\n",
       "27                     Thanh cơm gạo lứt rong biển         16030\n",
       "2                              Bánh ngói hạnh nhân         16105\n",
       "0                                Bánh gấu mix 3 vị         16327\n",
       "23                              Rong biển cháy tỏi         16761"
      ]
     },
     "execution_count": 18,
     "metadata": {},
     "output_type": "execute_result"
    }
   ],
   "source": [
    "data_product_transaction=data.groupby(\"Tên mặt hàng\")['Mã đơn hàng'].count().reset_index(name=\"Số giao dịch\")\n",
    "data_product_transaction_check=data_product_transaction.sort_values(by=\"Số giao dịch\",ascending=True)\n",
    "data_product_transaction_check"
   ]
  },
  {
   "cell_type": "code",
   "execution_count": 20,
   "metadata": {},
   "outputs": [
    {
     "data": {
      "image/png": "[encoded data removed]",
      "text/plain": [
       "<Figure size 1400x1000 with 1 Axes>"
      ]
     },
     "metadata": {},
     "output_type": "display_data"
    }
   ],
   "source": [
    "# Cài đặt phong cách hiển thị của biểu đồ\n",
    "sns.set_style(\"whitegrid\")\n",
    "\n",
    "#Tạo khung và định kích thước biểu đồ\n",
    "plt.figure(figsize=(14, 10))\n",
    "\n",
    "# Vẽ biểu đồ thanh ngang\n",
    "ax = sns.barplot(x='Số giao dịch', y='Tên mặt hàng', data=data_product_transaction_check, color='steelblue')  # Chọn màu 'steelblue'\n",
    "\n",
    "# Thêm nhãn dữ liệu trên các thanh\n",
    "for p in ax.patches:\n",
    "    width = p.get_width()\n",
    "    plt.text(width + 1, p.get_y() + p.get_height() / 2,\n",
    "             '{:1.0f}'.format(width), ha=\"left\", va=\"center\")  # Sử dụng ha=\"left\" và va=\"center\" để căn giữa\n",
    "\n",
    "# Thêm tiêu đề và hiển thị biểu đồ\n",
    "plt.title('Số lượt giao dịch của từng mặt hàng')\n",
    "plt.show()"
   ]
  },
  {
   "cell_type": "markdown",
   "metadata": {},
   "source": [
    "<h3 style=\"color:white\"><b>🔘 Doanh thu theo từng nhóm hàng</b></h2>"
   ]
  },
  {
   "cell_type": "code",
   "execution_count": 22,
   "metadata": {},
   "outputs": [
    {
     "data": {
      "text/html": [
       "<div>\n",
       "<style scoped>\n",
       "    .dataframe tbody tr th:only-of-type {\n",
       "        vertical-align: middle;\n",
       "    }\n",
       "\n",
       "    .dataframe tbody tr th {\n",
       "        vertical-align: top;\n",
       "    }\n",
       "\n",
       "    .dataframe thead th {\n",
       "        text-align: right;\n",
       "    }\n",
       "</style>\n",
       "<table border=\"1\" class=\"dataframe\">\n",
       "  <thead>\n",
       "    <tr style=\"text-align: right;\">\n",
       "      <th></th>\n",
       "      <th>Tên nhóm hàng</th>\n",
       "      <th>Mã nhóm hàng</th>\n",
       "      <th>Doanh thu</th>\n",
       "    </tr>\n",
       "  </thead>\n",
       "  <tbody>\n",
       "    <tr>\n",
       "      <th>0</th>\n",
       "      <td>Đồ uống</td>\n",
       "      <td>DUN</td>\n",
       "      <td>3285675000</td>\n",
       "    </tr>\n",
       "    <tr>\n",
       "      <th>1</th>\n",
       "      <td>Bột củ sen</td>\n",
       "      <td>BOT</td>\n",
       "      <td>3984825000</td>\n",
       "    </tr>\n",
       "    <tr>\n",
       "      <th>2</th>\n",
       "      <td>Bánh</td>\n",
       "      <td>BAN</td>\n",
       "      <td>6171875000</td>\n",
       "    </tr>\n",
       "    <tr>\n",
       "      <th>3</th>\n",
       "      <td>Bim Bim</td>\n",
       "      <td>BIM</td>\n",
       "      <td>9839956000</td>\n",
       "    </tr>\n",
       "    <tr>\n",
       "      <th>4</th>\n",
       "      <td>Đồ Khô</td>\n",
       "      <td>KHO</td>\n",
       "      <td>19763399000</td>\n",
       "    </tr>\n",
       "    <tr>\n",
       "      <th>5</th>\n",
       "      <td>Ngũ Cốc</td>\n",
       "      <td>NCO</td>\n",
       "      <td>34993269000</td>\n",
       "    </tr>\n",
       "  </tbody>\n",
       "</table>\n",
       "</div>"
      ],
      "text/plain": [
       "  Tên nhóm hàng Mã nhóm hàng    Doanh thu\n",
       "0       Đồ uống          DUN   3285675000\n",
       "1    Bột củ sen          BOT   3984825000\n",
       "2          Bánh          BAN   6171875000\n",
       "3       Bim Bim          BIM   9839956000\n",
       "4        Đồ Khô          KHO  19763399000\n",
       "5       Ngũ Cốc          NCO  34993269000"
      ]
     },
     "execution_count": 22,
     "metadata": {},
     "output_type": "execute_result"
    }
   ],
   "source": [
    "data_ten_nhom_hang=data.groupby([\"Tên nhóm hàng\",\"Mã nhóm hàng\"])['Thành tiền'].sum().sort_values(ascending=True).reset_index(name=\"Doanh thu\")\n",
    "data_ten_nhom_hang"
   ]
  },
  {
   "cell_type": "markdown",
   "metadata": {},
   "source": [
    "<h3 style=\"color:white\"><b>--> Nhóm mặt hàng ngũ cốc chiếm doanh số tốt nhất và có cách biệt rõ ràng so với các mặt hàng còn lại</b></h3>\n"
   ]
  },
  {
   "cell_type": "code",
   "execution_count": 23,
   "metadata": {},
   "outputs": [
    {
     "data": {
      "image/png": "[encoded data removed]",
      "text/plain": [
       "<Figure size 1600x800 with 1 Axes>"
      ]
     },
     "metadata": {},
     "output_type": "display_data"
    }
   ],
   "source": [
    "# Điều chỉnh kích thước biểu đồ\n",
    "plt.figure(figsize=(16, 8))  \n",
    "\n",
    "# Vẽ biểu đồ cột\n",
    "plt.bar(data_ten_nhom_hang['Tên nhóm hàng'], data_ten_nhom_hang['Doanh thu'], color='steelblue')\n",
    "\n",
    "# Đặt tiêu đề và nhãn cho biểu đồ\n",
    "plt.title('Biểu đồ doanh thu theo từng nhóm hàng', fontsize=16)\n",
    "plt.xlabel('Tên nhóm hàng', fontsize=12)\n",
    "plt.ylabel('Doanh thu', fontsize=12)\n",
    "\n",
    "# Hiển thị biểu đồ\n",
    "plt.grid(axis='y')  # Thêm lưới nền (tùy chọn)\n",
    "plt.show()"
   ]
  },
  {
   "cell_type": "markdown",
   "metadata": {},
   "source": [
    "<h3 style=\"color:white\"><b>🔘 Doanh thu của mặt hàng theo từng nhóm hàng</b></h2>"
   ]
  },
  {
   "cell_type": "code",
   "execution_count": 24,
   "metadata": {},
   "outputs": [
    {
     "data": {
      "text/html": [
       "<div>\n",
       "<style scoped>\n",
       "    .dataframe tbody tr th:only-of-type {\n",
       "        vertical-align: middle;\n",
       "    }\n",
       "\n",
       "    .dataframe tbody tr th {\n",
       "        vertical-align: top;\n",
       "    }\n",
       "\n",
       "    .dataframe thead th {\n",
       "        text-align: right;\n",
       "    }\n",
       "</style>\n",
       "<table border=\"1\" class=\"dataframe\">\n",
       "  <thead>\n",
       "    <tr style=\"text-align: right;\">\n",
       "      <th></th>\n",
       "      <th>Tên nhóm hàng</th>\n",
       "      <th>Tên mặt hàng</th>\n",
       "      <th>Doanh thu</th>\n",
       "    </tr>\n",
       "  </thead>\n",
       "  <tbody>\n",
       "    <tr>\n",
       "      <th>5</th>\n",
       "      <td>Bim Bim</td>\n",
       "      <td>Rong biển cháy tỏi</td>\n",
       "      <td>2635968000</td>\n",
       "    </tr>\n",
       "    <tr>\n",
       "      <th>3</th>\n",
       "      <td>Bim Bim</td>\n",
       "      <td>Mít sấy mộc</td>\n",
       "      <td>2260944000</td>\n",
       "    </tr>\n",
       "    <tr>\n",
       "      <th>1</th>\n",
       "      <td>Bim Bim</td>\n",
       "      <td>Cơm cháy lắc khô gà</td>\n",
       "      <td>1586822000</td>\n",
       "    </tr>\n",
       "    <tr>\n",
       "      <th>2</th>\n",
       "      <td>Bim Bim</td>\n",
       "      <td>Me xí muội Thái Lan</td>\n",
       "      <td>1314876000</td>\n",
       "    </tr>\n",
       "    <tr>\n",
       "      <th>4</th>\n",
       "      <td>Bim Bim</td>\n",
       "      <td>Nui sấy bò lá chanh</td>\n",
       "      <td>1066484000</td>\n",
       "    </tr>\n",
       "    <tr>\n",
       "      <th>0</th>\n",
       "      <td>Bim Bim</td>\n",
       "      <td>Bắp rim bò lá chanh</td>\n",
       "      <td>974862000</td>\n",
       "    </tr>\n",
       "    <tr>\n",
       "      <th>8</th>\n",
       "      <td>Bánh</td>\n",
       "      <td>Bánh ngói hạnh nhân</td>\n",
       "      <td>2462031000</td>\n",
       "    </tr>\n",
       "    <tr>\n",
       "      <th>6</th>\n",
       "      <td>Bánh</td>\n",
       "      <td>Bánh gấu mix 3 vị</td>\n",
       "      <td>2178899000</td>\n",
       "    </tr>\n",
       "    <tr>\n",
       "      <th>7</th>\n",
       "      <td>Bánh</td>\n",
       "      <td>Bánh gấu thái lan nhân SCL</td>\n",
       "      <td>1530945000</td>\n",
       "    </tr>\n",
       "    <tr>\n",
       "      <th>9</th>\n",
       "      <td>Bột củ sen</td>\n",
       "      <td>Bột củ sen hòa tan dinh dưỡng không đường</td>\n",
       "      <td>1943175000</td>\n",
       "    </tr>\n",
       "    <tr>\n",
       "      <th>10</th>\n",
       "      <td>Bột củ sen</td>\n",
       "      <td>Bột củ sen hòa tan hạt chia hoa hạt dinh dưỡng</td>\n",
       "      <td>1023075000</td>\n",
       "    </tr>\n",
       "    <tr>\n",
       "      <th>11</th>\n",
       "      <td>Bột củ sen</td>\n",
       "      <td>Bột củ sen hòa tan hạt dinh dưỡng collagen</td>\n",
       "      <td>1018575000</td>\n",
       "    </tr>\n",
       "    <tr>\n",
       "      <th>13</th>\n",
       "      <td>Ngũ Cốc</td>\n",
       "      <td>Ngũ cốc granola vị nguyên vị</td>\n",
       "      <td>7876610000</td>\n",
       "    </tr>\n",
       "    <tr>\n",
       "      <th>14</th>\n",
       "      <td>Ngũ Cốc</td>\n",
       "      <td>Ngũ cốc granola vị socola</td>\n",
       "      <td>7740117000</td>\n",
       "    </tr>\n",
       "    <tr>\n",
       "      <th>12</th>\n",
       "      <td>Ngũ Cốc</td>\n",
       "      <td>Ngũ cốc granola vị matcha</td>\n",
       "      <td>7604457000</td>\n",
       "    </tr>\n",
       "    <tr>\n",
       "      <th>16</th>\n",
       "      <td>Ngũ Cốc</td>\n",
       "      <td>Thanh cơm gạo lứt mix hạt</td>\n",
       "      <td>4452890000</td>\n",
       "    </tr>\n",
       "    <tr>\n",
       "      <th>17</th>\n",
       "      <td>Ngũ Cốc</td>\n",
       "      <td>Thanh cơm gạo lứt rong biển</td>\n",
       "      <td>3738670000</td>\n",
       "    </tr>\n",
       "    <tr>\n",
       "      <th>15</th>\n",
       "      <td>Ngũ Cốc</td>\n",
       "      <td>Thanh cơm gạo lứt chà bông</td>\n",
       "      <td>3580525000</td>\n",
       "    </tr>\n",
       "    <tr>\n",
       "      <th>24</th>\n",
       "      <td>Đồ Khô</td>\n",
       "      <td>Khô mix 3 vị (heo bơ tỏi, mực, gà)</td>\n",
       "      <td>2966544000</td>\n",
       "    </tr>\n",
       "    <tr>\n",
       "      <th>26</th>\n",
       "      <td>Đồ Khô</td>\n",
       "      <td>Tóp mỡ rim mắm tỏi</td>\n",
       "      <td>2903274000</td>\n",
       "    </tr>\n",
       "    <tr>\n",
       "      <th>25</th>\n",
       "      <td>Đồ Khô</td>\n",
       "      <td>Mực xé sợi hấp dừa</td>\n",
       "      <td>2350045000</td>\n",
       "    </tr>\n",
       "    <tr>\n",
       "      <th>19</th>\n",
       "      <td>Đồ Khô</td>\n",
       "      <td>Khô bò que hồng ngự</td>\n",
       "      <td>2329984000</td>\n",
       "    </tr>\n",
       "    <tr>\n",
       "      <th>20</th>\n",
       "      <td>Đồ Khô</td>\n",
       "      <td>Khô bò sợi lá chanh</td>\n",
       "      <td>2058392000</td>\n",
       "    </tr>\n",
       "    <tr>\n",
       "      <th>22</th>\n",
       "      <td>Đồ Khô</td>\n",
       "      <td>Khô gà lá chanh</td>\n",
       "      <td>2018055000</td>\n",
       "    </tr>\n",
       "    <tr>\n",
       "      <th>18</th>\n",
       "      <td>Đồ Khô</td>\n",
       "      <td>Da cá trứng muối</td>\n",
       "      <td>1888575000</td>\n",
       "    </tr>\n",
       "    <tr>\n",
       "      <th>21</th>\n",
       "      <td>Đồ Khô</td>\n",
       "      <td>Khô gà bơ tỏi</td>\n",
       "      <td>1757430000</td>\n",
       "    </tr>\n",
       "    <tr>\n",
       "      <th>23</th>\n",
       "      <td>Đồ Khô</td>\n",
       "      <td>Khô heo cháy tỏi</td>\n",
       "      <td>1491100000</td>\n",
       "    </tr>\n",
       "    <tr>\n",
       "      <th>32</th>\n",
       "      <td>Đồ uống</td>\n",
       "      <td>Trà sữa ô long</td>\n",
       "      <td>630861000</td>\n",
       "    </tr>\n",
       "    <tr>\n",
       "      <th>31</th>\n",
       "      <td>Đồ uống</td>\n",
       "      <td>Trà sữa thái xanh</td>\n",
       "      <td>501334000</td>\n",
       "    </tr>\n",
       "    <tr>\n",
       "      <th>33</th>\n",
       "      <td>Đồ uống</td>\n",
       "      <td>Tàu hủ trân châu đường đen</td>\n",
       "      <td>463680000</td>\n",
       "    </tr>\n",
       "    <tr>\n",
       "      <th>29</th>\n",
       "      <td>Đồ uống</td>\n",
       "      <td>Trà sữa Socola</td>\n",
       "      <td>458578000</td>\n",
       "    </tr>\n",
       "    <tr>\n",
       "      <th>30</th>\n",
       "      <td>Đồ uống</td>\n",
       "      <td>Trà sữa phúc long</td>\n",
       "      <td>445878000</td>\n",
       "    </tr>\n",
       "    <tr>\n",
       "      <th>27</th>\n",
       "      <td>Đồ uống</td>\n",
       "      <td>Chè dưỡng nhan</td>\n",
       "      <td>412032000</td>\n",
       "    </tr>\n",
       "    <tr>\n",
       "      <th>28</th>\n",
       "      <td>Đồ uống</td>\n",
       "      <td>Sâm bổ lượng</td>\n",
       "      <td>373312000</td>\n",
       "    </tr>\n",
       "  </tbody>\n",
       "</table>\n",
       "</div>"
      ],
      "text/plain": [
       "   Tên nhóm hàng                                    Tên mặt hàng   Doanh thu\n",
       "5        Bim Bim                              Rong biển cháy tỏi  2635968000\n",
       "3        Bim Bim                                     Mít sấy mộc  2260944000\n",
       "1        Bim Bim                             Cơm cháy lắc khô gà  1586822000\n",
       "2        Bim Bim                             Me xí muội Thái Lan  1314876000\n",
       "4        Bim Bim                             Nui sấy bò lá chanh  1066484000\n",
       "0        Bim Bim                             Bắp rim bò lá chanh   974862000\n",
       "8           Bánh                             Bánh ngói hạnh nhân  2462031000\n",
       "6           Bánh                               Bánh gấu mix 3 vị  2178899000\n",
       "7           Bánh                      Bánh gấu thái lan nhân SCL  1530945000\n",
       "9     Bột củ sen       Bột củ sen hòa tan dinh dưỡng không đường  1943175000\n",
       "10    Bột củ sen  Bột củ sen hòa tan hạt chia hoa hạt dinh dưỡng  1023075000\n",
       "11    Bột củ sen      Bột củ sen hòa tan hạt dinh dưỡng collagen  1018575000\n",
       "13       Ngũ Cốc                    Ngũ cốc granola vị nguyên vị  7876610000\n",
       "14       Ngũ Cốc                       Ngũ cốc granola vị socola  7740117000\n",
       "12       Ngũ Cốc                       Ngũ cốc granola vị matcha  7604457000\n",
       "16       Ngũ Cốc                       Thanh cơm gạo lứt mix hạt  4452890000\n",
       "17       Ngũ Cốc                     Thanh cơm gạo lứt rong biển  3738670000\n",
       "15       Ngũ Cốc                      Thanh cơm gạo lứt chà bông  3580525000\n",
       "24        Đồ Khô              Khô mix 3 vị (heo bơ tỏi, mực, gà)  2966544000\n",
       "26        Đồ Khô                              Tóp mỡ rim mắm tỏi  2903274000\n",
       "25        Đồ Khô                              Mực xé sợi hấp dừa  2350045000\n",
       "19        Đồ Khô                             Khô bò que hồng ngự  2329984000\n",
       "20        Đồ Khô                             Khô bò sợi lá chanh  2058392000\n",
       "22        Đồ Khô                                 Khô gà lá chanh  2018055000\n",
       "18        Đồ Khô                                Da cá trứng muối  1888575000\n",
       "21        Đồ Khô                                   Khô gà bơ tỏi  1757430000\n",
       "23        Đồ Khô                                Khô heo cháy tỏi  1491100000\n",
       "32       Đồ uống                                  Trà sữa ô long   630861000\n",
       "31       Đồ uống                               Trà sữa thái xanh   501334000\n",
       "33       Đồ uống                      Tàu hủ trân châu đường đen   463680000\n",
       "29       Đồ uống                                  Trà sữa Socola   458578000\n",
       "30       Đồ uống                               Trà sữa phúc long   445878000\n",
       "27       Đồ uống                                  Chè dưỡng nhan   412032000\n",
       "28       Đồ uống                                    Sâm bổ lượng   373312000"
      ]
     },
     "execution_count": 24,
     "metadata": {},
     "output_type": "execute_result"
    }
   ],
   "source": [
    "data_product_of_group = data.groupby(['Tên nhóm hàng','Tên mặt hàng'])['Thành tiền'].sum().reset_index(name='Doanh thu')\n",
    "data_product_of_group.sort_values(by=['Tên nhóm hàng', 'Doanh thu'], ascending=[True, False])"
   ]
  },
  {
   "cell_type": "markdown",
   "metadata": {},
   "source": [
    "<h3 style=\"color:white\"><strong>--> Trong nhóm mặt hàng ngũ cốc: <em>Ngũ cốc granola vị nguyên vị</em> chiếm doanh số tốt nhất</strong></h3>"
   ]
  },
  {
   "cell_type": "code",
   "execution_count": 25,
   "metadata": {},
   "outputs": [
    {
     "data": {
      "application/vnd.plotly.v1+json": {
       "config": {
        "plotlyServerURL": "https://plot.ly"
       },
       "data": [
        {
         "alignmentgroup": "True",
         "hovertemplate": "Tên mặt hàng=Bắp rim bò lá chanh<br>Tên nhóm hàng=%{x}<br>Doanh thu=%{y}<extra></extra>",
         "legendgroup": "Bắp rim bò lá chanh",
         "marker": {
          "color": "rgb(12,51,131)",
          "pattern": {
           "shape": ""
          }
         },
         "name": "Bắp rim bò lá chanh",
         "offsetgroup": "Bắp rim bò lá chanh",
         "orientation": "v",
         "showlegend": true,
         "textposition": "auto",
         "type": "bar",
         "x": [
          "Bim Bim"
         ],
         "xaxis": "x",
         "y": [
          974862000
         ],
         "yaxis": "y"
        },
        {
         "alignmentgroup": "True",
         "hovertemplate": "Tên mặt hàng=Cơm cháy lắc khô gà<br>Tên nhóm hàng=%{x}<br>Doanh thu=%{y}<extra></extra>",
         "legendgroup": "Cơm cháy lắc khô gà",
         "marker": {
          "color": "rgb(10,136,186)",
          "pattern": {
           "shape": ""
          }
         },
         "name": "Cơm cháy lắc khô gà",
         "offsetgroup": "Cơm cháy lắc khô gà",
         "orientation": "v",
         "showlegend": true,
         "textposition": "auto",
         "type": "bar",
         "x": [
          "Bim Bim"
         ],
         "xaxis": "x",
         "y": [
          1586822000
         ],
         "yaxis": "y"
        },
        {
         "alignmentgroup": "True",
         "hovertemplate": "Tên mặt hàng=Me xí muội Thái Lan<br>Tên nhóm hàng=%{x}<br>Doanh thu=%{y}<extra></extra>",
         "legendgroup": "Me xí muội Thái Lan",
         "marker": {
          "color": "rgb(242,211,56)",
          "pattern": {
           "shape": ""
          }
         },
         "name": "Me xí muội Thái Lan",
         "offsetgroup": "Me xí muội Thái Lan",
         "orientation": "v",
         "showlegend": true,
         "textposition": "auto",
         "type": "bar",
         "x": [
          "Bim Bim"
         ],
         "xaxis": "x",
         "y": [
          1314876000
         ],
         "yaxis": "y"
        },
        {
         "alignmentgroup": "True",
         "hovertemplate": "Tên mặt hàng=Mít sấy mộc<br>Tên nhóm hàng=%{x}<br>Doanh thu=%{y}<extra></extra>",
         "legendgroup": "Mít sấy mộc",
         "marker": {
          "color": "rgb(242,143,56)",
          "pattern": {
           "shape": ""
          }
         },
         "name": "Mít sấy mộc",
         "offsetgroup": "Mít sấy mộc",
         "orientation": "v",
         "showlegend": true,
         "textposition": "auto",
         "type": "bar",
         "x": [
          "Bim Bim"
         ],
         "xaxis": "x",
         "y": [
          2260944000
         ],
         "yaxis": "y"
        },
        {
         "alignmentgroup": "True",
         "hovertemplate": "Tên mặt hàng=Nui sấy bò lá chanh<br>Tên nhóm hàng=%{x}<br>Doanh thu=%{y}<extra></extra>",
         "legendgroup": "Nui sấy bò lá chanh",
         "marker": {
          "color": "rgb(217,30,30)",
          "pattern": {
           "shape": ""
          }
         },
         "name": "Nui sấy bò lá chanh",
         "offsetgroup": "Nui sấy bò lá chanh",
         "orientation": "v",
         "showlegend": true,
         "textposition": "auto",
         "type": "bar",
         "x": [
          "Bim Bim"
         ],
         "xaxis": "x",
         "y": [
          1066484000
         ],
         "yaxis": "y"
        },
        {
         "alignmentgroup": "True",
         "hovertemplate": "Tên mặt hàng=Rong biển cháy tỏi<br>Tên nhóm hàng=%{x}<br>Doanh thu=%{y}<extra></extra>",
         "legendgroup": "Rong biển cháy tỏi",
         "marker": {
          "color": "rgb(12,51,131)",
          "pattern": {
           "shape": ""
          }
         },
         "name": "Rong biển cháy tỏi",
         "offsetgroup": "Rong biển cháy tỏi",
         "orientation": "v",
         "showlegend": true,
         "textposition": "auto",
         "type": "bar",
         "x": [
          "Bim Bim"
         ],
         "xaxis": "x",
         "y": [
          2635968000
         ],
         "yaxis": "y"
        },
        {
         "alignmentgroup": "True",
         "hovertemplate": "Tên mặt hàng=Bánh gấu mix 3 vị<br>Tên nhóm hàng=%{x}<br>Doanh thu=%{y}<extra></extra>",
         "legendgroup": "Bánh gấu mix 3 vị",
         "marker": {
          "color": "rgb(10,136,186)",
          "pattern": {
           "shape": ""
          }
         },
         "name": "Bánh gấu mix 3 vị",
         "offsetgroup": "Bánh gấu mix 3 vị",
         "orientation": "v",
         "showlegend": true,
         "textposition": "auto",
         "type": "bar",
         "x": [
          "Bánh"
         ],
         "xaxis": "x",
         "y": [
          2178899000
         ],
         "yaxis": "y"
        },
        {
         "alignmentgroup": "True",
         "hovertemplate": "Tên mặt hàng=Bánh gấu thái lan nhân SCL<br>Tên nhóm hàng=%{x}<br>Doanh thu=%{y}<extra></extra>",
         "legendgroup": "Bánh gấu thái lan nhân SCL",
         "marker": {
          "color": "rgb(242,211,56)",
          "pattern": {
           "shape": ""
          }
         },
         "name": "Bánh gấu thái lan nhân SCL",
         "offsetgroup": "Bánh gấu thái lan nhân SCL",
         "orientation": "v",
         "showlegend": true,
         "textposition": "auto",
         "type": "bar",
         "x": [
          "Bánh"
         ],
         "xaxis": "x",
         "y": [
          1530945000
         ],
         "yaxis": "y"
        },
        {
         "alignmentgroup": "True",
         "hovertemplate": "Tên mặt hàng=Bánh ngói hạnh nhân<br>Tên nhóm hàng=%{x}<br>Doanh thu=%{y}<extra></extra>",
         "legendgroup": "Bánh ngói hạnh nhân",
         "marker": {
          "color": "rgb(242,143,56)",
          "pattern": {
           "shape": ""
          }
         },
         "name": "Bánh ngói hạnh nhân",
         "offsetgroup": "Bánh ngói hạnh nhân",
         "orientation": "v",
         "showlegend": true,
         "textposition": "auto",
         "type": "bar",
         "x": [
          "Bánh"
         ],
         "xaxis": "x",
         "y": [
          2462031000
         ],
         "yaxis": "y"
        },
        {
         "alignmentgroup": "True",
         "hovertemplate": "Tên mặt hàng=Bột củ sen hòa tan dinh dưỡng không đường<br>Tên nhóm hàng=%{x}<br>Doanh thu=%{y}<extra></extra>",
         "legendgroup": "Bột củ sen hòa tan dinh dưỡng không đường",
         "marker": {
          "color": "rgb(217,30,30)",
          "pattern": {
           "shape": ""
          }
         },
         "name": "Bột củ sen hòa tan dinh dưỡng không đường",
         "offsetgroup": "Bột củ sen hòa tan dinh dưỡng không đường",
         "orientation": "v",
         "showlegend": true,
         "textposition": "auto",
         "type": "bar",
         "x": [
          "Bột củ sen"
         ],
         "xaxis": "x",
         "y": [
          1943175000
         ],
         "yaxis": "y"
        },
        {
         "alignmentgroup": "True",
         "hovertemplate": "Tên mặt hàng=Bột củ sen hòa tan hạt chia hoa hạt dinh dưỡng<br>Tên nhóm hàng=%{x}<br>Doanh thu=%{y}<extra></extra>",
         "legendgroup": "Bột củ sen hòa tan hạt chia hoa hạt dinh dưỡng",
         "marker": {
          "color": "rgb(12,51,131)",
          "pattern": {
           "shape": ""
          }
         },
         "name": "Bột củ sen hòa tan hạt chia hoa hạt dinh dưỡng",
         "offsetgroup": "Bột củ sen hòa tan hạt chia hoa hạt dinh dưỡng",
         "orientation": "v",
         "showlegend": true,
         "textposition": "auto",
         "type": "bar",
         "x": [
          "Bột củ sen"
         ],
         "xaxis": "x",
         "y": [
          1023075000
         ],
         "yaxis": "y"
        },
        {
         "alignmentgroup": "True",
         "hovertemplate": "Tên mặt hàng=Bột củ sen hòa tan hạt dinh dưỡng collagen<br>Tên nhóm hàng=%{x}<br>Doanh thu=%{y}<extra></extra>",
         "legendgroup": "Bột củ sen hòa tan hạt dinh dưỡng collagen",
         "marker": {
          "color": "rgb(10,136,186)",
          "pattern": {
           "shape": ""
          }
         },
         "name": "Bột củ sen hòa tan hạt dinh dưỡng collagen",
         "offsetgroup": "Bột củ sen hòa tan hạt dinh dưỡng collagen",
         "orientation": "v",
         "showlegend": true,
         "textposition": "auto",
         "type": "bar",
         "x": [
          "Bột củ sen"
         ],
         "xaxis": "x",
         "y": [
          1018575000
         ],
         "yaxis": "y"
        },
        {
         "alignmentgroup": "True",
         "hovertemplate": "Tên mặt hàng=Ngũ cốc granola vị matcha<br>Tên nhóm hàng=%{x}<br>Doanh thu=%{y}<extra></extra>",
         "legendgroup": "Ngũ cốc granola vị matcha",
         "marker": {
          "color": "rgb(242,211,56)",
          "pattern": {
           "shape": ""
          }
         },
         "name": "Ngũ cốc granola vị matcha",
         "offsetgroup": "Ngũ cốc granola vị matcha",
         "orientation": "v",
         "showlegend": true,
         "textposition": "auto",
         "type": "bar",
         "x": [
          "Ngũ Cốc"
         ],
         "xaxis": "x",
         "y": [
          7604457000
         ],
         "yaxis": "y"
        },
        {
         "alignmentgroup": "True",
         "hovertemplate": "Tên mặt hàng=Ngũ cốc granola vị nguyên vị<br>Tên nhóm hàng=%{x}<br>Doanh thu=%{y}<extra></extra>",
         "legendgroup": "Ngũ cốc granola vị nguyên vị",
         "marker": {
          "color": "rgb(242,143,56)",
          "pattern": {
           "shape": ""
          }
         },
         "name": "Ngũ cốc granola vị nguyên vị",
         "offsetgroup": "Ngũ cốc granola vị nguyên vị",
         "orientation": "v",
         "showlegend": true,
         "textposition": "auto",
         "type": "bar",
         "x": [
          "Ngũ Cốc"
         ],
         "xaxis": "x",
         "y": [
          7876610000
         ],
         "yaxis": "y"
        },
        {
         "alignmentgroup": "True",
         "hovertemplate": "Tên mặt hàng=Ngũ cốc granola vị socola<br>Tên nhóm hàng=%{x}<br>Doanh thu=%{y}<extra></extra>",
         "legendgroup": "Ngũ cốc granola vị socola",
         "marker": {
          "color": "rgb(217,30,30)",
          "pattern": {
           "shape": ""
          }
         },
         "name": "Ngũ cốc granola vị socola",
         "offsetgroup": "Ngũ cốc granola vị socola",
         "orientation": "v",
         "showlegend": true,
         "textposition": "auto",
         "type": "bar",
         "x": [
          "Ngũ Cốc"
         ],
         "xaxis": "x",
         "y": [
          7740117000
         ],
         "yaxis": "y"
        },
        {
         "alignmentgroup": "True",
         "hovertemplate": "Tên mặt hàng=Thanh cơm gạo lứt chà bông<br>Tên nhóm hàng=%{x}<br>Doanh thu=%{y}<extra></extra>",
         "legendgroup": "Thanh cơm gạo lứt chà bông",
         "marker": {
          "color": "rgb(12,51,131)",
          "pattern": {
           "shape": ""
          }
         },
         "name": "Thanh cơm gạo lứt chà bông",
         "offsetgroup": "Thanh cơm gạo lứt chà bông",
         "orientation": "v",
         "showlegend": true,
         "textposition": "auto",
         "type": "bar",
         "x": [
          "Ngũ Cốc"
         ],
         "xaxis": "x",
         "y": [
          3580525000
         ],
         "yaxis": "y"
        },
        {
         "alignmentgroup": "True",
         "hovertemplate": "Tên mặt hàng=Thanh cơm gạo lứt mix hạt<br>Tên nhóm hàng=%{x}<br>Doanh thu=%{y}<extra></extra>",
         "legendgroup": "Thanh cơm gạo lứt mix hạt",
         "marker": {
          "color": "rgb(10,136,186)",
          "pattern": {
           "shape": ""
          }
         },
         "name": "Thanh cơm gạo lứt mix hạt",
         "offsetgroup": "Thanh cơm gạo lứt mix hạt",
         "orientation": "v",
         "showlegend": true,
         "textposition": "auto",
         "type": "bar",
         "x": [
          "Ngũ Cốc"
         ],
         "xaxis": "x",
         "y": [
          4452890000
         ],
         "yaxis": "y"
        },
        {
         "alignmentgroup": "True",
         "hovertemplate": "Tên mặt hàng=Thanh cơm gạo lứt rong biển<br>Tên nhóm hàng=%{x}<br>Doanh thu=%{y}<extra></extra>",
         "legendgroup": "Thanh cơm gạo lứt rong biển",
         "marker": {
          "color": "rgb(242,211,56)",
          "pattern": {
           "shape": ""
          }
         },
         "name": "Thanh cơm gạo lứt rong biển",
         "offsetgroup": "Thanh cơm gạo lứt rong biển",
         "orientation": "v",
         "showlegend": true,
         "textposition": "auto",
         "type": "bar",
         "x": [
          "Ngũ Cốc"
         ],
         "xaxis": "x",
         "y": [
          3738670000
         ],
         "yaxis": "y"
        },
        {
         "alignmentgroup": "True",
         "hovertemplate": "Tên mặt hàng=Da cá trứng muối<br>Tên nhóm hàng=%{x}<br>Doanh thu=%{y}<extra></extra>",
         "legendgroup": "Da cá trứng muối",
         "marker": {
          "color": "rgb(242,143,56)",
          "pattern": {
           "shape": ""
          }
         },
         "name": "Da cá trứng muối",
         "offsetgroup": "Da cá trứng muối",
         "orientation": "v",
         "showlegend": true,
         "textposition": "auto",
         "type": "bar",
         "x": [
          "Đồ Khô"
         ],
         "xaxis": "x",
         "y": [
          1888575000
         ],
         "yaxis": "y"
        },
        {
         "alignmentgroup": "True",
         "hovertemplate": "Tên mặt hàng=Khô bò que hồng ngự<br>Tên nhóm hàng=%{x}<br>Doanh thu=%{y}<extra></extra>",
         "legendgroup": "Khô bò que hồng ngự",
         "marker": {
          "color": "rgb(217,30,30)",
          "pattern": {
           "shape": ""
          }
         },
         "name": "Khô bò que hồng ngự",
         "offsetgroup": "Khô bò que hồng ngự",
         "orientation": "v",
         "showlegend": true,
         "textposition": "auto",
         "type": "bar",
         "x": [
          "Đồ Khô"
         ],
         "xaxis": "x",
         "y": [
          2329984000
         ],
         "yaxis": "y"
        },
        {
         "alignmentgroup": "True",
         "hovertemplate": "Tên mặt hàng=Khô bò sợi lá chanh<br>Tên nhóm hàng=%{x}<br>Doanh thu=%{y}<extra></extra>",
         "legendgroup": "Khô bò sợi lá chanh",
         "marker": {
          "color": "rgb(12,51,131)",
          "pattern": {
           "shape": ""
          }
         },
         "name": "Khô bò sợi lá chanh",
         "offsetgroup": "Khô bò sợi lá chanh",
         "orientation": "v",
         "showlegend": true,
         "textposition": "auto",
         "type": "bar",
         "x": [
          "Đồ Khô"
         ],
         "xaxis": "x",
         "y": [
          2058392000
         ],
         "yaxis": "y"
        },
        {
         "alignmentgroup": "True",
         "hovertemplate": "Tên mặt hàng=Khô gà bơ tỏi<br>Tên nhóm hàng=%{x}<br>Doanh thu=%{y}<extra></extra>",
         "legendgroup": "Khô gà bơ tỏi",
         "marker": {
          "color": "rgb(10,136,186)",
          "pattern": {
           "shape": ""
          }
         },
         "name": "Khô gà bơ tỏi",
         "offsetgroup": "Khô gà bơ tỏi",
         "orientation": "v",
         "showlegend": true,
         "textposition": "auto",
         "type": "bar",
         "x": [
          "Đồ Khô"
         ],
         "xaxis": "x",
         "y": [
          1757430000
         ],
         "yaxis": "y"
        },
        {
         "alignmentgroup": "True",
         "hovertemplate": "Tên mặt hàng=Khô gà lá chanh<br>Tên nhóm hàng=%{x}<br>Doanh thu=%{y}<extra></extra>",
         "legendgroup": "Khô gà lá chanh",
         "marker": {
          "color": "rgb(242,211,56)",
          "pattern": {
           "shape": ""
          }
         },
         "name": "Khô gà lá chanh",
         "offsetgroup": "Khô gà lá chanh",
         "orientation": "v",
         "showlegend": true,
         "textposition": "auto",
         "type": "bar",
         "x": [
          "Đồ Khô"
         ],
         "xaxis": "x",
         "y": [
          2018055000
         ],
         "yaxis": "y"
        },
        {
         "alignmentgroup": "True",
         "hovertemplate": "Tên mặt hàng=Khô heo cháy tỏi<br>Tên nhóm hàng=%{x}<br>Doanh thu=%{y}<extra></extra>",
         "legendgroup": "Khô heo cháy tỏi",
         "marker": {
          "color": "rgb(242,143,56)",
          "pattern": {
           "shape": ""
          }
         },
         "name": "Khô heo cháy tỏi",
         "offsetgroup": "Khô heo cháy tỏi",
         "orientation": "v",
         "showlegend": true,
         "textposition": "auto",
         "type": "bar",
         "x": [
          "Đồ Khô"
         ],
         "xaxis": "x",
         "y": [
          1491100000
         ],
         "yaxis": "y"
        },
        {
         "alignmentgroup": "True",
         "hovertemplate": "Tên mặt hàng=Khô mix 3 vị (heo bơ tỏi, mực, gà)<br>Tên nhóm hàng=%{x}<br>Doanh thu=%{y}<extra></extra>",
         "legendgroup": "Khô mix 3 vị (heo bơ tỏi, mực, gà)",
         "marker": {
          "color": "rgb(217,30,30)",
          "pattern": {
           "shape": ""
          }
         },
         "name": "Khô mix 3 vị (heo bơ tỏi, mực, gà)",
         "offsetgroup": "Khô mix 3 vị (heo bơ tỏi, mực, gà)",
         "orientation": "v",
         "showlegend": true,
         "textposition": "auto",
         "type": "bar",
         "x": [
          "Đồ Khô"
         ],
         "xaxis": "x",
         "y": [
          2966544000
         ],
         "yaxis": "y"
        },
        {
         "alignmentgroup": "True",
         "hovertemplate": "Tên mặt hàng=Mực xé sợi hấp dừa<br>Tên nhóm hàng=%{x}<br>Doanh thu=%{y}<extra></extra>",
         "legendgroup": "Mực xé sợi hấp dừa",
         "marker": {
          "color": "rgb(12,51,131)",
          "pattern": {
           "shape": ""
          }
         },
         "name": "Mực xé sợi hấp dừa",
         "offsetgroup": "Mực xé sợi hấp dừa",
         "orientation": "v",
         "showlegend": true,
         "textposition": "auto",
         "type": "bar",
         "x": [
          "Đồ Khô"
         ],
         "xaxis": "x",
         "y": [
          2350045000
         ],
         "yaxis": "y"
        },
        {
         "alignmentgroup": "True",
         "hovertemplate": "Tên mặt hàng=Tóp mỡ rim mắm tỏi<br>Tên nhóm hàng=%{x}<br>Doanh thu=%{y}<extra></extra>",
         "legendgroup": "Tóp mỡ rim mắm tỏi",
         "marker": {
          "color": "rgb(10,136,186)",
          "pattern": {
           "shape": ""
          }
         },
         "name": "Tóp mỡ rim mắm tỏi",
         "offsetgroup": "Tóp mỡ rim mắm tỏi",
         "orientation": "v",
         "showlegend": true,
         "textposition": "auto",
         "type": "bar",
         "x": [
          "Đồ Khô"
         ],
         "xaxis": "x",
         "y": [
          2903274000
         ],
         "yaxis": "y"
        },
        {
         "alignmentgroup": "True",
         "hovertemplate": "Tên mặt hàng=Chè dưỡng nhan<br>Tên nhóm hàng=%{x}<br>Doanh thu=%{y}<extra></extra>",
         "legendgroup": "Chè dưỡng nhan",
         "marker": {
          "color": "rgb(242,211,56)",
          "pattern": {
           "shape": ""
          }
         },
         "name": "Chè dưỡng nhan",
         "offsetgroup": "Chè dưỡng nhan",
         "orientation": "v",
         "showlegend": true,
         "textposition": "auto",
         "type": "bar",
         "x": [
          "Đồ uống"
         ],
         "xaxis": "x",
         "y": [
          412032000
         ],
         "yaxis": "y"
        },
        {
         "alignmentgroup": "True",
         "hovertemplate": "Tên mặt hàng=Sâm bổ lượng<br>Tên nhóm hàng=%{x}<br>Doanh thu=%{y}<extra></extra>",
         "legendgroup": "Sâm bổ lượng",
         "marker": {
          "color": "rgb(242,143,56)",
          "pattern": {
           "shape": ""
          }
         },
         "name": "Sâm bổ lượng",
         "offsetgroup": "Sâm bổ lượng",
         "orientation": "v",
         "showlegend": true,
         "textposition": "auto",
         "type": "bar",
         "x": [
          "Đồ uống"
         ],
         "xaxis": "x",
         "y": [
          373312000
         ],
         "yaxis": "y"
        },
        {
         "alignmentgroup": "True",
         "hovertemplate": "Tên mặt hàng=Trà sữa Socola<br>Tên nhóm hàng=%{x}<br>Doanh thu=%{y}<extra></extra>",
         "legendgroup": "Trà sữa Socola",
         "marker": {
          "color": "rgb(217,30,30)",
          "pattern": {
           "shape": ""
          }
         },
         "name": "Trà sữa Socola",
         "offsetgroup": "Trà sữa Socola",
         "orientation": "v",
         "showlegend": true,
         "textposition": "auto",
         "type": "bar",
         "x": [
          "Đồ uống"
         ],
         "xaxis": "x",
         "y": [
          458578000
         ],
         "yaxis": "y"
        },
        {
         "alignmentgroup": "True",
         "hovertemplate": "Tên mặt hàng=Trà sữa phúc long<br>Tên nhóm hàng=%{x}<br>Doanh thu=%{y}<extra></extra>",
         "legendgroup": "Trà sữa phúc long",
         "marker": {
          "color": "rgb(12,51,131)",
          "pattern": {
           "shape": ""
          }
         },
         "name": "Trà sữa phúc long",
         "offsetgroup": "Trà sữa phúc long",
         "orientation": "v",
         "showlegend": true,
         "textposition": "auto",
         "type": "bar",
         "x": [
          "Đồ uống"
         ],
         "xaxis": "x",
         "y": [
          445878000
         ],
         "yaxis": "y"
        },
        {
         "alignmentgroup": "True",
         "hovertemplate": "Tên mặt hàng=Trà sữa thái xanh<br>Tên nhóm hàng=%{x}<br>Doanh thu=%{y}<extra></extra>",
         "legendgroup": "Trà sữa thái xanh",
         "marker": {
          "color": "rgb(10,136,186)",
          "pattern": {
           "shape": ""
          }
         },
         "name": "Trà sữa thái xanh",
         "offsetgroup": "Trà sữa thái xanh",
         "orientation": "v",
         "showlegend": true,
         "textposition": "auto",
         "type": "bar",
         "x": [
          "Đồ uống"
         ],
         "xaxis": "x",
         "y": [
          501334000
         ],
         "yaxis": "y"
        },
        {
         "alignmentgroup": "True",
         "hovertemplate": "Tên mặt hàng=Trà sữa ô long<br>Tên nhóm hàng=%{x}<br>Doanh thu=%{y}<extra></extra>",
         "legendgroup": "Trà sữa ô long",
         "marker": {
          "color": "rgb(242,211,56)",
          "pattern": {
           "shape": ""
          }
         },
         "name": "Trà sữa ô long",
         "offsetgroup": "Trà sữa ô long",
         "orientation": "v",
         "showlegend": true,
         "textposition": "auto",
         "type": "bar",
         "x": [
          "Đồ uống"
         ],
         "xaxis": "x",
         "y": [
          630861000
         ],
         "yaxis": "y"
        },
        {
         "alignmentgroup": "True",
         "hovertemplate": "Tên mặt hàng=Tàu hủ trân châu đường đen<br>Tên nhóm hàng=%{x}<br>Doanh thu=%{y}<extra></extra>",
         "legendgroup": "Tàu hủ trân châu đường đen",
         "marker": {
          "color": "rgb(242,143,56)",
          "pattern": {
           "shape": ""
          }
         },
         "name": "Tàu hủ trân châu đường đen",
         "offsetgroup": "Tàu hủ trân châu đường đen",
         "orientation": "v",
         "showlegend": true,
         "textposition": "auto",
         "type": "bar",
         "x": [
          "Đồ uống"
         ],
         "xaxis": "x",
         "y": [
          463680000
         ],
         "yaxis": "y"
        }
       ],
       "layout": {
        "barmode": "relative",
        "height": 600,
        "legend": {
         "title": {
          "text": "Tên mặt hàng"
         },
         "tracegroupgap": 0
        },
        "paper_bgcolor": "lightgrey",
        "plot_bgcolor": "lightgrey",
        "template": {
         "data": {
          "bar": [
           {
            "error_x": {
             "color": "#2a3f5f"
            },
            "error_y": {
             "color": "#2a3f5f"
            },
            "marker": {
             "line": {
              "color": "#E5ECF6",
              "width": 0.5
             },
             "pattern": {
              "fillmode": "overlay",
              "size": 10,
              "solidity": 0.2
             }
            },
            "type": "bar"
           }
          ],
          "barpolar": [
           {
            "marker": {
             "line": {
              "color": "#E5ECF6",
              "width": 0.5
             },
             "pattern": {
              "fillmode": "overlay",
              "size": 10,
              "solidity": 0.2
             }
            },
            "type": "barpolar"
           }
          ],
          "carpet": [
           {
            "aaxis": {
             "endlinecolor": "#2a3f5f",
             "gridcolor": "white",
             "linecolor": "white",
             "minorgridcolor": "white",
             "startlinecolor": "#2a3f5f"
            },
            "baxis": {
             "endlinecolor": "#2a3f5f",
             "gridcolor": "white",
             "linecolor": "white",
             "minorgridcolor": "white",
             "startlinecolor": "#2a3f5f"
            },
            "type": "carpet"
           }
          ],
          "choropleth": [
           {
            "colorbar": {
             "outlinewidth": 0,
             "ticks": ""
            },
            "type": "choropleth"
           }
          ],
          "contour": [
           {
            "colorbar": {
             "outlinewidth": 0,
             "ticks": ""
            },
            "colorscale": [
             [
              0,
              "#0d0887"
             ],
             [
              0.1111111111111111,
              "#46039f"
             ],
             [
              0.2222222222222222,
              "#7201a8"
             ],
             [
              0.3333333333333333,
              "#9c179e"
             ],
             [
              0.4444444444444444,
              "#bd3786"
             ],
             [
              0.5555555555555556,
              "#d8576b"
             ],
             [
              0.6666666666666666,
              "#ed7953"
             ],
             [
              0.7777777777777778,
              "#fb9f3a"
             ],
             [
              0.8888888888888888,
              "#fdca26"
             ],
             [
              1,
              "#f0f921"
             ]
            ],
            "type": "contour"
           }
          ],
          "contourcarpet": [
           {
            "colorbar": {
             "outlinewidth": 0,
             "ticks": ""
            },
            "type": "contourcarpet"
           }
          ],
          "heatmap": [
           {
            "colorbar": {
             "outlinewidth": 0,
             "ticks": ""
            },
            "colorscale": [
             [
              0,
              "#0d0887"
             ],
             [
              0.1111111111111111,
              "#46039f"
             ],
             [
              0.2222222222222222,
              "#7201a8"
             ],
             [
              0.3333333333333333,
              "#9c179e"
             ],
             [
              0.4444444444444444,
              "#bd3786"
             ],
             [
              0.5555555555555556,
              "#d8576b"
             ],
             [
              0.6666666666666666,
              "#ed7953"
             ],
             [
              0.7777777777777778,
              "#fb9f3a"
             ],
             [
              0.8888888888888888,
              "#fdca26"
             ],
             [
              1,
              "#f0f921"
             ]
            ],
            "type": "heatmap"
           }
          ],
          "heatmapgl": [
           {
            "colorbar": {
             "outlinewidth": 0,
             "ticks": ""
            },
            "colorscale": [
             [
              0,
              "#0d0887"
             ],
             [
              0.1111111111111111,
              "#46039f"
             ],
             [
              0.2222222222222222,
              "#7201a8"
             ],
             [
              0.3333333333333333,
              "#9c179e"
             ],
             [
              0.4444444444444444,
              "#bd3786"
             ],
             [
              0.5555555555555556,
              "#d8576b"
             ],
             [
              0.6666666666666666,
              "#ed7953"
             ],
             [
              0.7777777777777778,
              "#fb9f3a"
             ],
             [
              0.8888888888888888,
              "#fdca26"
             ],
             [
              1,
              "#f0f921"
             ]
            ],
            "type": "heatmapgl"
           }
          ],
          "histogram": [
           {
            "marker": {
             "pattern": {
              "fillmode": "overlay",
              "size": 10,
              "solidity": 0.2
             }
            },
            "type": "histogram"
           }
          ],
          "histogram2d": [
           {
            "colorbar": {
             "outlinewidth": 0,
             "ticks": ""
            },
            "colorscale": [
             [
              0,
              "#0d0887"
             ],
             [
              0.1111111111111111,
              "#46039f"
             ],
             [
              0.2222222222222222,
              "#7201a8"
             ],
             [
              0.3333333333333333,
              "#9c179e"
             ],
             [
              0.4444444444444444,
              "#bd3786"
             ],
             [
              0.5555555555555556,
              "#d8576b"
             ],
             [
              0.6666666666666666,
              "#ed7953"
             ],
             [
              0.7777777777777778,
              "#fb9f3a"
             ],
             [
              0.8888888888888888,
              "#fdca26"
             ],
             [
              1,
              "#f0f921"
             ]
            ],
            "type": "histogram2d"
           }
          ],
          "histogram2dcontour": [
           {
            "colorbar": {
             "outlinewidth": 0,
             "ticks": ""
            },
            "colorscale": [
             [
              0,
              "#0d0887"
             ],
             [
              0.1111111111111111,
              "#46039f"
             ],
             [
              0.2222222222222222,
              "#7201a8"
             ],
             [
              0.3333333333333333,
              "#9c179e"
             ],
             [
              0.4444444444444444,
              "#bd3786"
             ],
             [
              0.5555555555555556,
              "#d8576b"
             ],
             [
              0.6666666666666666,
              "#ed7953"
             ],
             [
              0.7777777777777778,
              "#fb9f3a"
             ],
             [
              0.8888888888888888,
              "#fdca26"
             ],
             [
              1,
              "#f0f921"
             ]
            ],
            "type": "histogram2dcontour"
           }
          ],
          "mesh3d": [
           {
            "colorbar": {
             "outlinewidth": 0,
             "ticks": ""
            },
            "type": "mesh3d"
           }
          ],
          "parcoords": [
           {
            "line": {
             "colorbar": {
              "outlinewidth": 0,
              "ticks": ""
             }
            },
            "type": "parcoords"
           }
          ],
          "pie": [
           {
            "automargin": true,
            "type": "pie"
           }
          ],
          "scatter": [
           {
            "fillpattern": {
             "fillmode": "overlay",
             "size": 10,
             "solidity": 0.2
            },
            "type": "scatter"
           }
          ],
          "scatter3d": [
           {
            "line": {
             "colorbar": {
              "outlinewidth": 0,
              "ticks": ""
             }
            },
            "marker": {
             "colorbar": {
              "outlinewidth": 0,
              "ticks": ""
             }
            },
            "type": "scatter3d"
           }
          ],
          "scattercarpet": [
           {
            "marker": {
             "colorbar": {
              "outlinewidth": 0,
              "ticks": ""
             }
            },
            "type": "scattercarpet"
           }
          ],
          "scattergeo": [
           {
            "marker": {
             "colorbar": {
              "outlinewidth": 0,
              "ticks": ""
             }
            },
            "type": "scattergeo"
           }
          ],
          "scattergl": [
           {
            "marker": {
             "colorbar": {
              "outlinewidth": 0,
              "ticks": ""
             }
            },
            "type": "scattergl"
           }
          ],
          "scattermapbox": [
           {
            "marker": {
             "colorbar": {
              "outlinewidth": 0,
              "ticks": ""
             }
            },
            "type": "scattermapbox"
           }
          ],
          "scatterpolar": [
           {
            "marker": {
             "colorbar": {
              "outlinewidth": 0,
              "ticks": ""
             }
            },
            "type": "scatterpolar"
           }
          ],
          "scatterpolargl": [
           {
            "marker": {
             "colorbar": {
              "outlinewidth": 0,
              "ticks": ""
             }
            },
            "type": "scatterpolargl"
           }
          ],
          "scatterternary": [
           {
            "marker": {
             "colorbar": {
              "outlinewidth": 0,
              "ticks": ""
             }
            },
            "type": "scatterternary"
           }
          ],
          "surface": [
           {
            "colorbar": {
             "outlinewidth": 0,
             "ticks": ""
            },
            "colorscale": [
             [
              0,
              "#0d0887"
             ],
             [
              0.1111111111111111,
              "#46039f"
             ],
             [
              0.2222222222222222,
              "#7201a8"
             ],
             [
              0.3333333333333333,
              "#9c179e"
             ],
             [
              0.4444444444444444,
              "#bd3786"
             ],
             [
              0.5555555555555556,
              "#d8576b"
             ],
             [
              0.6666666666666666,
              "#ed7953"
             ],
             [
              0.7777777777777778,
              "#fb9f3a"
             ],
             [
              0.8888888888888888,
              "#fdca26"
             ],
             [
              1,
              "#f0f921"
             ]
            ],
            "type": "surface"
           }
          ],
          "table": [
           {
            "cells": {
             "fill": {
              "color": "#EBF0F8"
             },
             "line": {
              "color": "white"
             }
            },
            "header": {
             "fill": {
              "color": "#C8D4E3"
             },
             "line": {
              "color": "white"
             }
            },
            "type": "table"
           }
          ]
         },
         "layout": {
          "annotationdefaults": {
           "arrowcolor": "#2a3f5f",
           "arrowhead": 0,
           "arrowwidth": 1
          },
          "autotypenumbers": "strict",
          "coloraxis": {
           "colorbar": {
            "outlinewidth": 0,
            "ticks": ""
           }
          },
          "colorscale": {
           "diverging": [
            [
             0,
             "#8e0152"
            ],
            [
             0.1,
             "#c51b7d"
            ],
            [
             0.2,
             "#de77ae"
            ],
            [
             0.3,
             "#f1b6da"
            ],
            [
             0.4,
             "#fde0ef"
            ],
            [
             0.5,
             "#f7f7f7"
            ],
            [
             0.6,
             "#e6f5d0"
            ],
            [
             0.7,
             "#b8e186"
            ],
            [
             0.8,
             "#7fbc41"
            ],
            [
             0.9,
             "#4d9221"
            ],
            [
             1,
             "#276419"
            ]
           ],
           "sequential": [
            [
             0,
             "#0d0887"
            ],
            [
             0.1111111111111111,
             "#46039f"
            ],
            [
             0.2222222222222222,
             "#7201a8"
            ],
            [
             0.3333333333333333,
             "#9c179e"
            ],
            [
             0.4444444444444444,
             "#bd3786"
            ],
            [
             0.5555555555555556,
             "#d8576b"
            ],
            [
             0.6666666666666666,
             "#ed7953"
            ],
            [
             0.7777777777777778,
             "#fb9f3a"
            ],
            [
             0.8888888888888888,
             "#fdca26"
            ],
            [
             1,
             "#f0f921"
            ]
           ],
           "sequentialminus": [
            [
             0,
             "#0d0887"
            ],
            [
             0.1111111111111111,
             "#46039f"
            ],
            [
             0.2222222222222222,
             "#7201a8"
            ],
            [
             0.3333333333333333,
             "#9c179e"
            ],
            [
             0.4444444444444444,
             "#bd3786"
            ],
            [
             0.5555555555555556,
             "#d8576b"
            ],
            [
             0.6666666666666666,
             "#ed7953"
            ],
            [
             0.7777777777777778,
             "#fb9f3a"
            ],
            [
             0.8888888888888888,
             "#fdca26"
            ],
            [
             1,
             "#f0f921"
            ]
           ]
          },
          "colorway": [
           "#636efa",
           "#EF553B",
           "#00cc96",
           "#ab63fa",
           "#FFA15A",
           "#19d3f3",
           "#FF6692",
           "#B6E880",
           "#FF97FF",
           "#FECB52"
          ],
          "font": {
           "color": "#2a3f5f"
          },
          "geo": {
           "bgcolor": "white",
           "lakecolor": "white",
           "landcolor": "#E5ECF6",
           "showlakes": true,
           "showland": true,
           "subunitcolor": "white"
          },
          "hoverlabel": {
           "align": "left"
          },
          "hovermode": "closest",
          "mapbox": {
           "style": "light"
          },
          "paper_bgcolor": "white",
          "plot_bgcolor": "#E5ECF6",
          "polar": {
           "angularaxis": {
            "gridcolor": "white",
            "linecolor": "white",
            "ticks": ""
           },
           "bgcolor": "#E5ECF6",
           "radialaxis": {
            "gridcolor": "white",
            "linecolor": "white",
            "ticks": ""
           }
          },
          "scene": {
           "xaxis": {
            "backgroundcolor": "#E5ECF6",
            "gridcolor": "white",
            "gridwidth": 2,
            "linecolor": "white",
            "showbackground": true,
            "ticks": "",
            "zerolinecolor": "white"
           },
           "yaxis": {
            "backgroundcolor": "#E5ECF6",
            "gridcolor": "white",
            "gridwidth": 2,
            "linecolor": "white",
            "showbackground": true,
            "ticks": "",
            "zerolinecolor": "white"
           },
           "zaxis": {
            "backgroundcolor": "#E5ECF6",
            "gridcolor": "white",
            "gridwidth": 2,
            "linecolor": "white",
            "showbackground": true,
            "ticks": "",
            "zerolinecolor": "white"
           }
          },
          "shapedefaults": {
           "line": {
            "color": "#2a3f5f"
           }
          },
          "ternary": {
           "aaxis": {
            "gridcolor": "white",
            "linecolor": "white",
            "ticks": ""
           },
           "baxis": {
            "gridcolor": "white",
            "linecolor": "white",
            "ticks": ""
           },
           "bgcolor": "#E5ECF6",
           "caxis": {
            "gridcolor": "white",
            "linecolor": "white",
            "ticks": ""
           }
          },
          "title": {
           "x": 0.05
          },
          "xaxis": {
           "automargin": true,
           "gridcolor": "white",
           "linecolor": "white",
           "ticks": "",
           "title": {
            "standoff": 15
           },
           "zerolinecolor": "white",
           "zerolinewidth": 2
          },
          "yaxis": {
           "automargin": true,
           "gridcolor": "white",
           "linecolor": "white",
           "ticks": "",
           "title": {
            "standoff": 15
           },
           "zerolinecolor": "white",
           "zerolinewidth": 2
          }
         }
        },
        "title": {
         "text": "<b>Doanh thu của từng mặt hàng theo nhóm hàng</b>"
        },
        "width": 1200,
        "xaxis": {
         "anchor": "y",
         "domain": [
          0,
          1
         ],
         "title": {
          "text": "Tên nhóm hàng"
         }
        },
        "yaxis": {
         "anchor": "x",
         "domain": [
          0,
          1
         ],
         "title": {
          "text": "Doanh thu"
         }
        }
       }
      }
     },
     "metadata": {},
     "output_type": "display_data"
    }
   ],
   "source": [
    "color_discrete_sequence = px.colors.diverging.Portland \n",
    "\n",
    "fig = px.bar(data_product_of_group, x='Tên nhóm hàng', y='Doanh thu',\n",
    "             title='Doanh thu',\n",
    "             color='Tên mặt hàng', \n",
    "             color_discrete_sequence=color_discrete_sequence)\n",
    "\n",
    "# Cập nhật bố cục\n",
    "fig.update_layout(title='<b>Doanh thu của từng mặt hàng theo nhóm hàng</b>',\n",
    "                  xaxis_title=\"Tên nhóm hàng\",\n",
    "                  yaxis_title=\"Doanh thu\",\n",
    "                  paper_bgcolor='lightgrey',\n",
    "                  plot_bgcolor='lightgrey',\n",
    "                  height=600,  # Tăng kích thước chiều cao\n",
    "                  width=1200 # Tăng kích thước chiều rộng\n",
    ")\n",
    "\n",
    "# Hiển thị biểu đồ\n",
    "fig.show()"
   ]
  },
  {
   "cell_type": "markdown",
   "metadata": {},
   "source": [
    "<h3 style=\"color:white\"><strong>🔘Tỷ lệ chuyển đổi của 6 nhóm hàng theo tháng</strong></h3>"
   ]
  },
  {
   "cell_type": "markdown",
   "metadata": {},
   "source": [
    "<h4 style=\"color:white\"><strong>+) Số lượng đơn hàng của 6 nhóm hàng theo tháng</strong></h4>"
   ]
  },
  {
   "cell_type": "code",
   "execution_count": 26,
   "metadata": {},
   "outputs": [
    {
     "data": {
      "text/html": [
       "<div>\n",
       "<style scoped>\n",
       "    .dataframe tbody tr th:only-of-type {\n",
       "        vertical-align: middle;\n",
       "    }\n",
       "\n",
       "    .dataframe tbody tr th {\n",
       "        vertical-align: top;\n",
       "    }\n",
       "\n",
       "    .dataframe thead th {\n",
       "        text-align: right;\n",
       "    }\n",
       "</style>\n",
       "<table border=\"1\" class=\"dataframe\">\n",
       "  <thead>\n",
       "    <tr style=\"text-align: right;\">\n",
       "      <th></th>\n",
       "      <th>Tên nhóm hàng</th>\n",
       "      <th>Tháng</th>\n",
       "      <th>Số lượng đơn hàng</th>\n",
       "    </tr>\n",
       "  </thead>\n",
       "  <tbody>\n",
       "    <tr>\n",
       "      <th>0</th>\n",
       "      <td>Bim Bim</td>\n",
       "      <td>1</td>\n",
       "      <td>1412</td>\n",
       "    </tr>\n",
       "    <tr>\n",
       "      <th>1</th>\n",
       "      <td>Bim Bim</td>\n",
       "      <td>2</td>\n",
       "      <td>1300</td>\n",
       "    </tr>\n",
       "    <tr>\n",
       "      <th>2</th>\n",
       "      <td>Bim Bim</td>\n",
       "      <td>3</td>\n",
       "      <td>1104</td>\n",
       "    </tr>\n",
       "    <tr>\n",
       "      <th>3</th>\n",
       "      <td>Bim Bim</td>\n",
       "      <td>4</td>\n",
       "      <td>1399</td>\n",
       "    </tr>\n",
       "    <tr>\n",
       "      <th>4</th>\n",
       "      <td>Bim Bim</td>\n",
       "      <td>5</td>\n",
       "      <td>1887</td>\n",
       "    </tr>\n",
       "    <tr>\n",
       "      <th>...</th>\n",
       "      <td>...</td>\n",
       "      <td>...</td>\n",
       "      <td>...</td>\n",
       "    </tr>\n",
       "    <tr>\n",
       "      <th>67</th>\n",
       "      <td>Đồ uống</td>\n",
       "      <td>8</td>\n",
       "      <td>2322</td>\n",
       "    </tr>\n",
       "    <tr>\n",
       "      <th>68</th>\n",
       "      <td>Đồ uống</td>\n",
       "      <td>9</td>\n",
       "      <td>1599</td>\n",
       "    </tr>\n",
       "    <tr>\n",
       "      <th>69</th>\n",
       "      <td>Đồ uống</td>\n",
       "      <td>10</td>\n",
       "      <td>1442</td>\n",
       "    </tr>\n",
       "    <tr>\n",
       "      <th>70</th>\n",
       "      <td>Đồ uống</td>\n",
       "      <td>11</td>\n",
       "      <td>1666</td>\n",
       "    </tr>\n",
       "    <tr>\n",
       "      <th>71</th>\n",
       "      <td>Đồ uống</td>\n",
       "      <td>12</td>\n",
       "      <td>2209</td>\n",
       "    </tr>\n",
       "  </tbody>\n",
       "</table>\n",
       "<p>72 rows × 3 columns</p>\n",
       "</div>"
      ],
      "text/plain": [
       "   Tên nhóm hàng  Tháng  Số lượng đơn hàng\n",
       "0        Bim Bim      1               1412\n",
       "1        Bim Bim      2               1300\n",
       "2        Bim Bim      3               1104\n",
       "3        Bim Bim      4               1399\n",
       "4        Bim Bim      5               1887\n",
       "..           ...    ...                ...\n",
       "67       Đồ uống      8               2322\n",
       "68       Đồ uống      9               1599\n",
       "69       Đồ uống     10               1442\n",
       "70       Đồ uống     11               1666\n",
       "71       Đồ uống     12               2209\n",
       "\n",
       "[72 rows x 3 columns]"
      ]
     },
     "execution_count": 26,
     "metadata": {},
     "output_type": "execute_result"
    }
   ],
   "source": [
    "dt_6_order = data.groupby([\"Tên nhóm hàng\",\"Tháng\"])['Mã đơn hàng'].nunique().reset_index(name=\"Số lượng đơn hàng\")\n",
    "dt_6_order"
   ]
  },
  {
   "cell_type": "markdown",
   "metadata": {},
   "source": [
    "<h4 style=\"color:white\"><strong>+) Số lượng đơn hàng của 6 nhóm hàng</strong></h4>"
   ]
  },
  {
   "cell_type": "code",
   "execution_count": 27,
   "metadata": {},
   "outputs": [
    {
     "data": {
      "text/html": [
       "<div>\n",
       "<style scoped>\n",
       "    .dataframe tbody tr th:only-of-type {\n",
       "        vertical-align: middle;\n",
       "    }\n",
       "\n",
       "    .dataframe tbody tr th {\n",
       "        vertical-align: top;\n",
       "    }\n",
       "\n",
       "    .dataframe thead th {\n",
       "        text-align: right;\n",
       "    }\n",
       "</style>\n",
       "<table border=\"1\" class=\"dataframe\">\n",
       "  <thead>\n",
       "    <tr style=\"text-align: right;\">\n",
       "      <th></th>\n",
       "      <th>Tên nhóm hàng</th>\n",
       "      <th>Số lượng đơn hàng</th>\n",
       "    </tr>\n",
       "  </thead>\n",
       "  <tbody>\n",
       "    <tr>\n",
       "      <th>0</th>\n",
       "      <td>Bim Bim</td>\n",
       "      <td>25845</td>\n",
       "    </tr>\n",
       "    <tr>\n",
       "      <th>1</th>\n",
       "      <td>Bánh</td>\n",
       "      <td>25953</td>\n",
       "    </tr>\n",
       "    <tr>\n",
       "      <th>2</th>\n",
       "      <td>Bột củ sen</td>\n",
       "      <td>13765</td>\n",
       "    </tr>\n",
       "    <tr>\n",
       "      <th>3</th>\n",
       "      <td>Ngũ Cốc</td>\n",
       "      <td>24510</td>\n",
       "    </tr>\n",
       "    <tr>\n",
       "      <th>4</th>\n",
       "      <td>Đồ Khô</td>\n",
       "      <td>26534</td>\n",
       "    </tr>\n",
       "    <tr>\n",
       "      <th>5</th>\n",
       "      <td>Đồ uống</td>\n",
       "      <td>17605</td>\n",
       "    </tr>\n",
       "  </tbody>\n",
       "</table>\n",
       "</div>"
      ],
      "text/plain": [
       "  Tên nhóm hàng  Số lượng đơn hàng\n",
       "0       Bim Bim              25845\n",
       "1          Bánh              25953\n",
       "2    Bột củ sen              13765\n",
       "3       Ngũ Cốc              24510\n",
       "4        Đồ Khô              26534\n",
       "5       Đồ uống              17605"
      ]
     },
     "execution_count": 27,
     "metadata": {},
     "output_type": "execute_result"
    }
   ],
   "source": [
    "dt_all_order= data.groupby('Tên nhóm hàng')['Mã đơn hàng'].nunique().reset_index(name=\"Số lượng đơn hàng\")\n",
    "dt_all_order"
   ]
  },
  {
   "cell_type": "markdown",
   "metadata": {},
   "source": [
    "<h4 style=\"color:white\"><strong>+) Hợp 2 bảng lại</strong></h4>"
   ]
  },
  {
   "cell_type": "code",
   "execution_count": 28,
   "metadata": {},
   "outputs": [
    {
     "data": {
      "text/html": [
       "<div>\n",
       "<style scoped>\n",
       "    .dataframe tbody tr th:only-of-type {\n",
       "        vertical-align: middle;\n",
       "    }\n",
       "\n",
       "    .dataframe tbody tr th {\n",
       "        vertical-align: top;\n",
       "    }\n",
       "\n",
       "    .dataframe thead th {\n",
       "        text-align: right;\n",
       "    }\n",
       "</style>\n",
       "<table border=\"1\" class=\"dataframe\">\n",
       "  <thead>\n",
       "    <tr style=\"text-align: right;\">\n",
       "      <th></th>\n",
       "      <th>Tên nhóm hàng</th>\n",
       "      <th>Tháng</th>\n",
       "      <th>Số lượng đơn hàng_top_6</th>\n",
       "      <th>Số lượng đơn hàng_all</th>\n",
       "    </tr>\n",
       "  </thead>\n",
       "  <tbody>\n",
       "    <tr>\n",
       "      <th>0</th>\n",
       "      <td>Bim Bim</td>\n",
       "      <td>1</td>\n",
       "      <td>1412</td>\n",
       "      <td>25845</td>\n",
       "    </tr>\n",
       "    <tr>\n",
       "      <th>1</th>\n",
       "      <td>Bim Bim</td>\n",
       "      <td>2</td>\n",
       "      <td>1300</td>\n",
       "      <td>25845</td>\n",
       "    </tr>\n",
       "    <tr>\n",
       "      <th>2</th>\n",
       "      <td>Bim Bim</td>\n",
       "      <td>3</td>\n",
       "      <td>1104</td>\n",
       "      <td>25845</td>\n",
       "    </tr>\n",
       "    <tr>\n",
       "      <th>3</th>\n",
       "      <td>Bim Bim</td>\n",
       "      <td>4</td>\n",
       "      <td>1399</td>\n",
       "      <td>25845</td>\n",
       "    </tr>\n",
       "    <tr>\n",
       "      <th>4</th>\n",
       "      <td>Bim Bim</td>\n",
       "      <td>5</td>\n",
       "      <td>1887</td>\n",
       "      <td>25845</td>\n",
       "    </tr>\n",
       "    <tr>\n",
       "      <th>...</th>\n",
       "      <td>...</td>\n",
       "      <td>...</td>\n",
       "      <td>...</td>\n",
       "      <td>...</td>\n",
       "    </tr>\n",
       "    <tr>\n",
       "      <th>67</th>\n",
       "      <td>Đồ uống</td>\n",
       "      <td>8</td>\n",
       "      <td>2322</td>\n",
       "      <td>17605</td>\n",
       "    </tr>\n",
       "    <tr>\n",
       "      <th>68</th>\n",
       "      <td>Đồ uống</td>\n",
       "      <td>9</td>\n",
       "      <td>1599</td>\n",
       "      <td>17605</td>\n",
       "    </tr>\n",
       "    <tr>\n",
       "      <th>69</th>\n",
       "      <td>Đồ uống</td>\n",
       "      <td>10</td>\n",
       "      <td>1442</td>\n",
       "      <td>17605</td>\n",
       "    </tr>\n",
       "    <tr>\n",
       "      <th>70</th>\n",
       "      <td>Đồ uống</td>\n",
       "      <td>11</td>\n",
       "      <td>1666</td>\n",
       "      <td>17605</td>\n",
       "    </tr>\n",
       "    <tr>\n",
       "      <th>71</th>\n",
       "      <td>Đồ uống</td>\n",
       "      <td>12</td>\n",
       "      <td>2209</td>\n",
       "      <td>17605</td>\n",
       "    </tr>\n",
       "  </tbody>\n",
       "</table>\n",
       "<p>72 rows × 4 columns</p>\n",
       "</div>"
      ],
      "text/plain": [
       "   Tên nhóm hàng  Tháng  Số lượng đơn hàng_top_6  Số lượng đơn hàng_all\n",
       "0        Bim Bim      1                     1412                  25845\n",
       "1        Bim Bim      2                     1300                  25845\n",
       "2        Bim Bim      3                     1104                  25845\n",
       "3        Bim Bim      4                     1399                  25845\n",
       "4        Bim Bim      5                     1887                  25845\n",
       "..           ...    ...                      ...                    ...\n",
       "67       Đồ uống      8                     2322                  17605\n",
       "68       Đồ uống      9                     1599                  17605\n",
       "69       Đồ uống     10                     1442                  17605\n",
       "70       Đồ uống     11                     1666                  17605\n",
       "71       Đồ uống     12                     2209                  17605\n",
       "\n",
       "[72 rows x 4 columns]"
      ]
     },
     "execution_count": 28,
     "metadata": {},
     "output_type": "execute_result"
    }
   ],
   "source": [
    "conversion_rate = pd.merge(dt_6_order,dt_all_order, on=['Tên nhóm hàng'], suffixes=('_top_6', '_all'))\n",
    "conversion_rate"
   ]
  },
  {
   "cell_type": "markdown",
   "metadata": {},
   "source": [
    "<h3 style=\"color:white\"><strong>+) Tính tỷ lệ chuyển đổi</strong></h3>"
   ]
  },
  {
   "cell_type": "code",
   "execution_count": 29,
   "metadata": {},
   "outputs": [
    {
     "data": {
      "text/html": [
       "<div>\n",
       "<style scoped>\n",
       "    .dataframe tbody tr th:only-of-type {\n",
       "        vertical-align: middle;\n",
       "    }\n",
       "\n",
       "    .dataframe tbody tr th {\n",
       "        vertical-align: top;\n",
       "    }\n",
       "\n",
       "    .dataframe thead th {\n",
       "        text-align: right;\n",
       "    }\n",
       "</style>\n",
       "<table border=\"1\" class=\"dataframe\">\n",
       "  <thead>\n",
       "    <tr style=\"text-align: right;\">\n",
       "      <th></th>\n",
       "      <th>Tên nhóm hàng</th>\n",
       "      <th>Tháng</th>\n",
       "      <th>tỷ lệ chuyển đổi (%)</th>\n",
       "    </tr>\n",
       "  </thead>\n",
       "  <tbody>\n",
       "    <tr>\n",
       "      <th>0</th>\n",
       "      <td>Bim Bim</td>\n",
       "      <td>1</td>\n",
       "      <td>5.463339</td>\n",
       "    </tr>\n",
       "    <tr>\n",
       "      <th>1</th>\n",
       "      <td>Bim Bim</td>\n",
       "      <td>2</td>\n",
       "      <td>5.029986</td>\n",
       "    </tr>\n",
       "    <tr>\n",
       "      <th>2</th>\n",
       "      <td>Bim Bim</td>\n",
       "      <td>3</td>\n",
       "      <td>4.271619</td>\n",
       "    </tr>\n",
       "    <tr>\n",
       "      <th>3</th>\n",
       "      <td>Bim Bim</td>\n",
       "      <td>4</td>\n",
       "      <td>5.413039</td>\n",
       "    </tr>\n",
       "    <tr>\n",
       "      <th>4</th>\n",
       "      <td>Bim Bim</td>\n",
       "      <td>5</td>\n",
       "      <td>7.301219</td>\n",
       "    </tr>\n",
       "    <tr>\n",
       "      <th>...</th>\n",
       "      <td>...</td>\n",
       "      <td>...</td>\n",
       "      <td>...</td>\n",
       "    </tr>\n",
       "    <tr>\n",
       "      <th>67</th>\n",
       "      <td>Đồ uống</td>\n",
       "      <td>8</td>\n",
       "      <td>13.189435</td>\n",
       "    </tr>\n",
       "    <tr>\n",
       "      <th>68</th>\n",
       "      <td>Đồ uống</td>\n",
       "      <td>9</td>\n",
       "      <td>9.082647</td>\n",
       "    </tr>\n",
       "    <tr>\n",
       "      <th>69</th>\n",
       "      <td>Đồ uống</td>\n",
       "      <td>10</td>\n",
       "      <td>8.190855</td>\n",
       "    </tr>\n",
       "    <tr>\n",
       "      <th>70</th>\n",
       "      <td>Đồ uống</td>\n",
       "      <td>11</td>\n",
       "      <td>9.463221</td>\n",
       "    </tr>\n",
       "    <tr>\n",
       "      <th>71</th>\n",
       "      <td>Đồ uống</td>\n",
       "      <td>12</td>\n",
       "      <td>12.547572</td>\n",
       "    </tr>\n",
       "  </tbody>\n",
       "</table>\n",
       "<p>72 rows × 3 columns</p>\n",
       "</div>"
      ],
      "text/plain": [
       "   Tên nhóm hàng  Tháng  tỷ lệ chuyển đổi (%)\n",
       "0        Bim Bim      1              5.463339\n",
       "1        Bim Bim      2              5.029986\n",
       "2        Bim Bim      3              4.271619\n",
       "3        Bim Bim      4              5.413039\n",
       "4        Bim Bim      5              7.301219\n",
       "..           ...    ...                   ...\n",
       "67       Đồ uống      8             13.189435\n",
       "68       Đồ uống      9              9.082647\n",
       "69       Đồ uống     10              8.190855\n",
       "70       Đồ uống     11              9.463221\n",
       "71       Đồ uống     12             12.547572\n",
       "\n",
       "[72 rows x 3 columns]"
      ]
     },
     "execution_count": 29,
     "metadata": {},
     "output_type": "execute_result"
    }
   ],
   "source": [
    "conversion_rate['tỷ lệ chuyển đổi (%)'] = (conversion_rate['Số lượng đơn hàng_top_6'] / conversion_rate['Số lượng đơn hàng_all']) * 100\n",
    "\n",
    "# Xem kết quả\n",
    "conversion_rate[['Tên nhóm hàng', 'Tháng', 'tỷ lệ chuyển đổi (%)']]"
   ]
  },
  {
   "cell_type": "markdown",
   "metadata": {},
   "source": [
    "<h3 style=\"color:white\"><strong>+) Bảng hoàn thiện</strong></h3>"
   ]
  },
  {
   "cell_type": "code",
   "execution_count": 30,
   "metadata": {},
   "outputs": [
    {
     "data": {
      "text/html": [
       "<div>\n",
       "<style scoped>\n",
       "    .dataframe tbody tr th:only-of-type {\n",
       "        vertical-align: middle;\n",
       "    }\n",
       "\n",
       "    .dataframe tbody tr th {\n",
       "        vertical-align: top;\n",
       "    }\n",
       "\n",
       "    .dataframe thead th {\n",
       "        text-align: right;\n",
       "    }\n",
       "</style>\n",
       "<table border=\"1\" class=\"dataframe\">\n",
       "  <thead>\n",
       "    <tr style=\"text-align: right;\">\n",
       "      <th></th>\n",
       "      <th>Tên nhóm hàng</th>\n",
       "      <th>Tháng</th>\n",
       "      <th>Số lượng đơn hàng_top_6</th>\n",
       "      <th>Số lượng đơn hàng_all</th>\n",
       "      <th>tỷ lệ chuyển đổi (%)</th>\n",
       "    </tr>\n",
       "  </thead>\n",
       "  <tbody>\n",
       "    <tr>\n",
       "      <th>0</th>\n",
       "      <td>Bim Bim</td>\n",
       "      <td>1</td>\n",
       "      <td>1412</td>\n",
       "      <td>25845</td>\n",
       "      <td>5.463339</td>\n",
       "    </tr>\n",
       "    <tr>\n",
       "      <th>1</th>\n",
       "      <td>Bim Bim</td>\n",
       "      <td>2</td>\n",
       "      <td>1300</td>\n",
       "      <td>25845</td>\n",
       "      <td>5.029986</td>\n",
       "    </tr>\n",
       "    <tr>\n",
       "      <th>2</th>\n",
       "      <td>Bim Bim</td>\n",
       "      <td>3</td>\n",
       "      <td>1104</td>\n",
       "      <td>25845</td>\n",
       "      <td>4.271619</td>\n",
       "    </tr>\n",
       "    <tr>\n",
       "      <th>3</th>\n",
       "      <td>Bim Bim</td>\n",
       "      <td>4</td>\n",
       "      <td>1399</td>\n",
       "      <td>25845</td>\n",
       "      <td>5.413039</td>\n",
       "    </tr>\n",
       "    <tr>\n",
       "      <th>4</th>\n",
       "      <td>Bim Bim</td>\n",
       "      <td>5</td>\n",
       "      <td>1887</td>\n",
       "      <td>25845</td>\n",
       "      <td>7.301219</td>\n",
       "    </tr>\n",
       "    <tr>\n",
       "      <th>...</th>\n",
       "      <td>...</td>\n",
       "      <td>...</td>\n",
       "      <td>...</td>\n",
       "      <td>...</td>\n",
       "      <td>...</td>\n",
       "    </tr>\n",
       "    <tr>\n",
       "      <th>67</th>\n",
       "      <td>Đồ uống</td>\n",
       "      <td>8</td>\n",
       "      <td>2322</td>\n",
       "      <td>17605</td>\n",
       "      <td>13.189435</td>\n",
       "    </tr>\n",
       "    <tr>\n",
       "      <th>68</th>\n",
       "      <td>Đồ uống</td>\n",
       "      <td>9</td>\n",
       "      <td>1599</td>\n",
       "      <td>17605</td>\n",
       "      <td>9.082647</td>\n",
       "    </tr>\n",
       "    <tr>\n",
       "      <th>69</th>\n",
       "      <td>Đồ uống</td>\n",
       "      <td>10</td>\n",
       "      <td>1442</td>\n",
       "      <td>17605</td>\n",
       "      <td>8.190855</td>\n",
       "    </tr>\n",
       "    <tr>\n",
       "      <th>70</th>\n",
       "      <td>Đồ uống</td>\n",
       "      <td>11</td>\n",
       "      <td>1666</td>\n",
       "      <td>17605</td>\n",
       "      <td>9.463221</td>\n",
       "    </tr>\n",
       "    <tr>\n",
       "      <th>71</th>\n",
       "      <td>Đồ uống</td>\n",
       "      <td>12</td>\n",
       "      <td>2209</td>\n",
       "      <td>17605</td>\n",
       "      <td>12.547572</td>\n",
       "    </tr>\n",
       "  </tbody>\n",
       "</table>\n",
       "<p>72 rows × 5 columns</p>\n",
       "</div>"
      ],
      "text/plain": [
       "   Tên nhóm hàng  Tháng  Số lượng đơn hàng_top_6  Số lượng đơn hàng_all  \\\n",
       "0        Bim Bim      1                     1412                  25845   \n",
       "1        Bim Bim      2                     1300                  25845   \n",
       "2        Bim Bim      3                     1104                  25845   \n",
       "3        Bim Bim      4                     1399                  25845   \n",
       "4        Bim Bim      5                     1887                  25845   \n",
       "..           ...    ...                      ...                    ...   \n",
       "67       Đồ uống      8                     2322                  17605   \n",
       "68       Đồ uống      9                     1599                  17605   \n",
       "69       Đồ uống     10                     1442                  17605   \n",
       "70       Đồ uống     11                     1666                  17605   \n",
       "71       Đồ uống     12                     2209                  17605   \n",
       "\n",
       "    tỷ lệ chuyển đổi (%)  \n",
       "0               5.463339  \n",
       "1               5.029986  \n",
       "2               4.271619  \n",
       "3               5.413039  \n",
       "4               7.301219  \n",
       "..                   ...  \n",
       "67             13.189435  \n",
       "68              9.082647  \n",
       "69              8.190855  \n",
       "70              9.463221  \n",
       "71             12.547572  \n",
       "\n",
       "[72 rows x 5 columns]"
      ]
     },
     "execution_count": 30,
     "metadata": {},
     "output_type": "execute_result"
    }
   ],
   "source": [
    "conversion_rate"
   ]
  },
  {
   "cell_type": "code",
   "execution_count": 31,
   "metadata": {},
   "outputs": [
    {
     "data": {
      "application/vnd.plotly.v1+json": {
       "config": {
        "plotlyServerURL": "https://plot.ly"
       },
       "data": [
        {
         "hovertemplate": "Tháng: %{x} <br>Tên mặt hàng: %{data.name} <br>Tỷ lệ chuyển đổi: %{y:.2f}%",
         "legendgroup": "Bim Bim",
         "line": {
          "color": "rgb(103,0,31)",
          "dash": "solid",
          "width": 3
         },
         "marker": {
          "symbol": "circle"
         },
         "mode": "lines+markers",
         "name": "Bim Bim",
         "orientation": "v",
         "showlegend": true,
         "type": "scatter",
         "x": [
          1,
          2,
          3,
          4,
          5,
          6,
          7,
          8,
          9,
          10,
          11,
          12
         ],
         "xaxis": "x",
         "y": [
          5.463339137163861,
          5.029986457728768,
          4.2716192687173535,
          5.413039272586573,
          7.301218804410911,
          10.087057457922228,
          8.914683691236217,
          8.891468369123622,
          9.676920100599729,
          8.845037724898432,
          10.829947765525247,
          15.275681950087058
         ],
         "yaxis": "y"
        },
        {
         "hovertemplate": "Tháng: %{x} <br>Tên mặt hàng: %{data.name} <br>Tỷ lệ chuyển đổi: %{y:.2f}%",
         "legendgroup": "Bánh",
         "line": {
          "color": "rgb(178,24,43)",
          "dash": "solid",
          "width": 3
         },
         "marker": {
          "symbol": "circle"
         },
         "mode": "lines+markers",
         "name": "Bánh",
         "orientation": "v",
         "showlegend": true,
         "type": "scatter",
         "x": [
          1,
          2,
          3,
          4,
          5,
          6,
          7,
          8,
          9,
          10,
          11,
          12
         ],
         "xaxis": "x",
         "y": [
          5.36739490617655,
          5.864447270065118,
          5.313451238777791,
          5.402072978075752,
          7.10129850113667,
          9.36693253188456,
          8.157053134512388,
          8.627133664701576,
          9.13959850498979,
          9.043270527492005,
          11.563210418834046,
          15.054136323353756
         ],
         "yaxis": "y"
        },
        {
         "hovertemplate": "Tháng: %{x} <br>Tên mặt hàng: %{data.name} <br>Tỷ lệ chuyển đổi: %{y:.2f}%",
         "legendgroup": "Bột củ sen",
         "line": {
          "color": "rgb(214,96,77)",
          "dash": "solid",
          "width": 3
         },
         "marker": {
          "symbol": "circle"
         },
         "mode": "lines+markers",
         "name": "Bột củ sen",
         "orientation": "v",
         "showlegend": true,
         "type": "scatter",
         "x": [
          1,
          2,
          3,
          4,
          5,
          6,
          7,
          8,
          9,
          10,
          11,
          12
         ],
         "xaxis": "x",
         "y": [
          3.726843443516164,
          3.5379585906284055,
          4.998183799491464,
          5.535779150018162,
          6.509262622593534,
          10.134398837631675,
          10.497638939338904,
          6.4220849981837995,
          7.032328369051943,
          10.14166363966582,
          14.384308027606249,
          17.079549582273884
         ],
         "yaxis": "y"
        },
        {
         "hovertemplate": "Tháng: %{x} <br>Tên mặt hàng: %{data.name} <br>Tỷ lệ chuyển đổi: %{y:.2f}%",
         "legendgroup": "Ngũ Cốc",
         "line": {
          "color": "rgb(244,165,130)",
          "dash": "solid",
          "width": 3
         },
         "marker": {
          "symbol": "circle"
         },
         "mode": "lines+markers",
         "name": "Ngũ Cốc",
         "orientation": "v",
         "showlegend": true,
         "type": "scatter",
         "x": [
          1,
          2,
          3,
          4,
          5,
          6,
          7,
          8,
          9,
          10,
          11,
          12
         ],
         "xaxis": "x",
         "y": [
          4.887800897592819,
          4.439004487964096,
          4.6470828233374135,
          5.303957568339453,
          7.84577723378213,
          9.559363525091799,
          8.97592819257446,
          7.960016319869441,
          8.68625050999592,
          11.015911872705018,
          11.78702570379437,
          14.89188086495308
         ],
         "yaxis": "y"
        },
        {
         "hovertemplate": "Tháng: %{x} <br>Tên mặt hàng: %{data.name} <br>Tỷ lệ chuyển đổi: %{y:.2f}%",
         "legendgroup": "Đồ Khô",
         "line": {
          "color": "rgb(253,219,199)",
          "dash": "solid",
          "width": 3
         },
         "marker": {
          "symbol": "circle"
         },
         "mode": "lines+markers",
         "name": "Đồ Khô",
         "orientation": "v",
         "showlegend": true,
         "type": "scatter",
         "x": [
          1,
          2,
          3,
          4,
          5,
          6,
          7,
          8,
          9,
          10,
          11,
          12
         ],
         "xaxis": "x",
         "y": [
          5.449611818798523,
          5.291324338584458,
          4.6129494233813215,
          5.3553930805758645,
          7.235999095500113,
          10.277379965327505,
          9.173136353357956,
          8.800030149996232,
          9.361573829803271,
          8.52491143438607,
          10.409286198839226,
          15.50840431144946
         ],
         "yaxis": "y"
        },
        {
         "hovertemplate": "Tháng: %{x} <br>Tên mặt hàng: %{data.name} <br>Tỷ lệ chuyển đổi: %{y:.2f}%",
         "legendgroup": "Đồ uống",
         "line": {
          "color": "rgb(247,247,247)",
          "dash": "solid",
          "width": 3
         },
         "marker": {
          "symbol": "circle"
         },
         "mode": "lines+markers",
         "name": "Đồ uống",
         "orientation": "v",
         "showlegend": true,
         "type": "scatter",
         "x": [
          1,
          2,
          3,
          4,
          5,
          6,
          7,
          8,
          9,
          10,
          11,
          12
         ],
         "xaxis": "x",
         "y": [
          2.8514626526554956,
          3.1297926725362113,
          3.9704629366657205,
          4.652087475149106,
          6.651519454700369,
          13.842658335700087,
          12.42828741834706,
          13.189434819653508,
          9.08264697529111,
          8.190854870775349,
          9.463220675944333,
          12.547571712581654
         ],
         "yaxis": "y"
        }
       ],
       "layout": {
        "legend": {
         "title": {
          "text": "Tên nhóm hàng"
         },
         "tracegroupgap": 0
        },
        "paper_bgcolor": "lightgrey",
        "plot_bgcolor": "lightgrey",
        "template": {
         "data": {
          "bar": [
           {
            "error_x": {
             "color": "#2a3f5f"
            },
            "error_y": {
             "color": "#2a3f5f"
            },
            "marker": {
             "line": {
              "color": "#E5ECF6",
              "width": 0.5
             },
             "pattern": {
              "fillmode": "overlay",
              "size": 10,
              "solidity": 0.2
             }
            },
            "type": "bar"
           }
          ],
          "barpolar": [
           {
            "marker": {
             "line": {
              "color": "#E5ECF6",
              "width": 0.5
             },
             "pattern": {
              "fillmode": "overlay",
              "size": 10,
              "solidity": 0.2
             }
            },
            "type": "barpolar"
           }
          ],
          "carpet": [
           {
            "aaxis": {
             "endlinecolor": "#2a3f5f",
             "gridcolor": "white",
             "linecolor": "white",
             "minorgridcolor": "white",
             "startlinecolor": "#2a3f5f"
            },
            "baxis": {
             "endlinecolor": "#2a3f5f",
             "gridcolor": "white",
             "linecolor": "white",
             "minorgridcolor": "white",
             "startlinecolor": "#2a3f5f"
            },
            "type": "carpet"
           }
          ],
          "choropleth": [
           {
            "colorbar": {
             "outlinewidth": 0,
             "ticks": ""
            },
            "type": "choropleth"
           }
          ],
          "contour": [
           {
            "colorbar": {
             "outlinewidth": 0,
             "ticks": ""
            },
            "colorscale": [
             [
              0,
              "#0d0887"
             ],
             [
              0.1111111111111111,
              "#46039f"
             ],
             [
              0.2222222222222222,
              "#7201a8"
             ],
             [
              0.3333333333333333,
              "#9c179e"
             ],
             [
              0.4444444444444444,
              "#bd3786"
             ],
             [
              0.5555555555555556,
              "#d8576b"
             ],
             [
              0.6666666666666666,
              "#ed7953"
             ],
             [
              0.7777777777777778,
              "#fb9f3a"
             ],
             [
              0.8888888888888888,
              "#fdca26"
             ],
             [
              1,
              "#f0f921"
             ]
            ],
            "type": "contour"
           }
          ],
          "contourcarpet": [
           {
            "colorbar": {
             "outlinewidth": 0,
             "ticks": ""
            },
            "type": "contourcarpet"
           }
          ],
          "heatmap": [
           {
            "colorbar": {
             "outlinewidth": 0,
             "ticks": ""
            },
            "colorscale": [
             [
              0,
              "#0d0887"
             ],
             [
              0.1111111111111111,
              "#46039f"
             ],
             [
              0.2222222222222222,
              "#7201a8"
             ],
             [
              0.3333333333333333,
              "#9c179e"
             ],
             [
              0.4444444444444444,
              "#bd3786"
             ],
             [
              0.5555555555555556,
              "#d8576b"
             ],
             [
              0.6666666666666666,
              "#ed7953"
             ],
             [
              0.7777777777777778,
              "#fb9f3a"
             ],
             [
              0.8888888888888888,
              "#fdca26"
             ],
             [
              1,
              "#f0f921"
             ]
            ],
            "type": "heatmap"
           }
          ],
          "heatmapgl": [
           {
            "colorbar": {
             "outlinewidth": 0,
             "ticks": ""
            },
            "colorscale": [
             [
              0,
              "#0d0887"
             ],
             [
              0.1111111111111111,
              "#46039f"
             ],
             [
              0.2222222222222222,
              "#7201a8"
             ],
             [
              0.3333333333333333,
              "#9c179e"
             ],
             [
              0.4444444444444444,
              "#bd3786"
             ],
             [
              0.5555555555555556,
              "#d8576b"
             ],
             [
              0.6666666666666666,
              "#ed7953"
             ],
             [
              0.7777777777777778,
              "#fb9f3a"
             ],
             [
              0.8888888888888888,
              "#fdca26"
             ],
             [
              1,
              "#f0f921"
             ]
            ],
            "type": "heatmapgl"
           }
          ],
          "histogram": [
           {
            "marker": {
             "pattern": {
              "fillmode": "overlay",
              "size": 10,
              "solidity": 0.2
             }
            },
            "type": "histogram"
           }
          ],
          "histogram2d": [
           {
            "colorbar": {
             "outlinewidth": 0,
             "ticks": ""
            },
            "colorscale": [
             [
              0,
              "#0d0887"
             ],
             [
              0.1111111111111111,
              "#46039f"
             ],
             [
              0.2222222222222222,
              "#7201a8"
             ],
             [
              0.3333333333333333,
              "#9c179e"
             ],
             [
              0.4444444444444444,
              "#bd3786"
             ],
             [
              0.5555555555555556,
              "#d8576b"
             ],
             [
              0.6666666666666666,
              "#ed7953"
             ],
             [
              0.7777777777777778,
              "#fb9f3a"
             ],
             [
              0.8888888888888888,
              "#fdca26"
             ],
             [
              1,
              "#f0f921"
             ]
            ],
            "type": "histogram2d"
           }
          ],
          "histogram2dcontour": [
           {
            "colorbar": {
             "outlinewidth": 0,
             "ticks": ""
            },
            "colorscale": [
             [
              0,
              "#0d0887"
             ],
             [
              0.1111111111111111,
              "#46039f"
             ],
             [
              0.2222222222222222,
              "#7201a8"
             ],
             [
              0.3333333333333333,
              "#9c179e"
             ],
             [
              0.4444444444444444,
              "#bd3786"
             ],
             [
              0.5555555555555556,
              "#d8576b"
             ],
             [
              0.6666666666666666,
              "#ed7953"
             ],
             [
              0.7777777777777778,
              "#fb9f3a"
             ],
             [
              0.8888888888888888,
              "#fdca26"
             ],
             [
              1,
              "#f0f921"
             ]
            ],
            "type": "histogram2dcontour"
           }
          ],
          "mesh3d": [
           {
            "colorbar": {
             "outlinewidth": 0,
             "ticks": ""
            },
            "type": "mesh3d"
           }
          ],
          "parcoords": [
           {
            "line": {
             "colorbar": {
              "outlinewidth": 0,
              "ticks": ""
             }
            },
            "type": "parcoords"
           }
          ],
          "pie": [
           {
            "automargin": true,
            "type": "pie"
           }
          ],
          "scatter": [
           {
            "fillpattern": {
             "fillmode": "overlay",
             "size": 10,
             "solidity": 0.2
            },
            "type": "scatter"
           }
          ],
          "scatter3d": [
           {
            "line": {
             "colorbar": {
              "outlinewidth": 0,
              "ticks": ""
             }
            },
            "marker": {
             "colorbar": {
              "outlinewidth": 0,
              "ticks": ""
             }
            },
            "type": "scatter3d"
           }
          ],
          "scattercarpet": [
           {
            "marker": {
             "colorbar": {
              "outlinewidth": 0,
              "ticks": ""
             }
            },
            "type": "scattercarpet"
           }
          ],
          "scattergeo": [
           {
            "marker": {
             "colorbar": {
              "outlinewidth": 0,
              "ticks": ""
             }
            },
            "type": "scattergeo"
           }
          ],
          "scattergl": [
           {
            "marker": {
             "colorbar": {
              "outlinewidth": 0,
              "ticks": ""
             }
            },
            "type": "scattergl"
           }
          ],
          "scattermapbox": [
           {
            "marker": {
             "colorbar": {
              "outlinewidth": 0,
              "ticks": ""
             }
            },
            "type": "scattermapbox"
           }
          ],
          "scatterpolar": [
           {
            "marker": {
             "colorbar": {
              "outlinewidth": 0,
              "ticks": ""
             }
            },
            "type": "scatterpolar"
           }
          ],
          "scatterpolargl": [
           {
            "marker": {
             "colorbar": {
              "outlinewidth": 0,
              "ticks": ""
             }
            },
            "type": "scatterpolargl"
           }
          ],
          "scatterternary": [
           {
            "marker": {
             "colorbar": {
              "outlinewidth": 0,
              "ticks": ""
             }
            },
            "type": "scatterternary"
           }
          ],
          "surface": [
           {
            "colorbar": {
             "outlinewidth": 0,
             "ticks": ""
            },
            "colorscale": [
             [
              0,
              "#0d0887"
             ],
             [
              0.1111111111111111,
              "#46039f"
             ],
             [
              0.2222222222222222,
              "#7201a8"
             ],
             [
              0.3333333333333333,
              "#9c179e"
             ],
             [
              0.4444444444444444,
              "#bd3786"
             ],
             [
              0.5555555555555556,
              "#d8576b"
             ],
             [
              0.6666666666666666,
              "#ed7953"
             ],
             [
              0.7777777777777778,
              "#fb9f3a"
             ],
             [
              0.8888888888888888,
              "#fdca26"
             ],
             [
              1,
              "#f0f921"
             ]
            ],
            "type": "surface"
           }
          ],
          "table": [
           {
            "cells": {
             "fill": {
              "color": "#EBF0F8"
             },
             "line": {
              "color": "white"
             }
            },
            "header": {
             "fill": {
              "color": "#C8D4E3"
             },
             "line": {
              "color": "white"
             }
            },
            "type": "table"
           }
          ]
         },
         "layout": {
          "annotationdefaults": {
           "arrowcolor": "#2a3f5f",
           "arrowhead": 0,
           "arrowwidth": 1
          },
          "autotypenumbers": "strict",
          "coloraxis": {
           "colorbar": {
            "outlinewidth": 0,
            "ticks": ""
           }
          },
          "colorscale": {
           "diverging": [
            [
             0,
             "#8e0152"
            ],
            [
             0.1,
             "#c51b7d"
            ],
            [
             0.2,
             "#de77ae"
            ],
            [
             0.3,
             "#f1b6da"
            ],
            [
             0.4,
             "#fde0ef"
            ],
            [
             0.5,
             "#f7f7f7"
            ],
            [
             0.6,
             "#e6f5d0"
            ],
            [
             0.7,
             "#b8e186"
            ],
            [
             0.8,
             "#7fbc41"
            ],
            [
             0.9,
             "#4d9221"
            ],
            [
             1,
             "#276419"
            ]
           ],
           "sequential": [
            [
             0,
             "#0d0887"
            ],
            [
             0.1111111111111111,
             "#46039f"
            ],
            [
             0.2222222222222222,
             "#7201a8"
            ],
            [
             0.3333333333333333,
             "#9c179e"
            ],
            [
             0.4444444444444444,
             "#bd3786"
            ],
            [
             0.5555555555555556,
             "#d8576b"
            ],
            [
             0.6666666666666666,
             "#ed7953"
            ],
            [
             0.7777777777777778,
             "#fb9f3a"
            ],
            [
             0.8888888888888888,
             "#fdca26"
            ],
            [
             1,
             "#f0f921"
            ]
           ],
           "sequentialminus": [
            [
             0,
             "#0d0887"
            ],
            [
             0.1111111111111111,
             "#46039f"
            ],
            [
             0.2222222222222222,
             "#7201a8"
            ],
            [
             0.3333333333333333,
             "#9c179e"
            ],
            [
             0.4444444444444444,
             "#bd3786"
            ],
            [
             0.5555555555555556,
             "#d8576b"
            ],
            [
             0.6666666666666666,
             "#ed7953"
            ],
            [
             0.7777777777777778,
             "#fb9f3a"
            ],
            [
             0.8888888888888888,
             "#fdca26"
            ],
            [
             1,
             "#f0f921"
            ]
           ]
          },
          "colorway": [
           "#636efa",
           "#EF553B",
           "#00cc96",
           "#ab63fa",
           "#FFA15A",
           "#19d3f3",
           "#FF6692",
           "#B6E880",
           "#FF97FF",
           "#FECB52"
          ],
          "font": {
           "color": "#2a3f5f"
          },
          "geo": {
           "bgcolor": "white",
           "lakecolor": "white",
           "landcolor": "#E5ECF6",
           "showlakes": true,
           "showland": true,
           "subunitcolor": "white"
          },
          "hoverlabel": {
           "align": "left"
          },
          "hovermode": "closest",
          "mapbox": {
           "style": "light"
          },
          "paper_bgcolor": "white",
          "plot_bgcolor": "#E5ECF6",
          "polar": {
           "angularaxis": {
            "gridcolor": "white",
            "linecolor": "white",
            "ticks": ""
           },
           "bgcolor": "#E5ECF6",
           "radialaxis": {
            "gridcolor": "white",
            "linecolor": "white",
            "ticks": ""
           }
          },
          "scene": {
           "xaxis": {
            "backgroundcolor": "#E5ECF6",
            "gridcolor": "white",
            "gridwidth": 2,
            "linecolor": "white",
            "showbackground": true,
            "ticks": "",
            "zerolinecolor": "white"
           },
           "yaxis": {
            "backgroundcolor": "#E5ECF6",
            "gridcolor": "white",
            "gridwidth": 2,
            "linecolor": "white",
            "showbackground": true,
            "ticks": "",
            "zerolinecolor": "white"
           },
           "zaxis": {
            "backgroundcolor": "#E5ECF6",
            "gridcolor": "white",
            "gridwidth": 2,
            "linecolor": "white",
            "showbackground": true,
            "ticks": "",
            "zerolinecolor": "white"
           }
          },
          "shapedefaults": {
           "line": {
            "color": "#2a3f5f"
           }
          },
          "ternary": {
           "aaxis": {
            "gridcolor": "white",
            "linecolor": "white",
            "ticks": ""
           },
           "baxis": {
            "gridcolor": "white",
            "linecolor": "white",
            "ticks": ""
           },
           "bgcolor": "#E5ECF6",
           "caxis": {
            "gridcolor": "white",
            "linecolor": "white",
            "ticks": ""
           }
          },
          "title": {
           "x": 0.05
          },
          "xaxis": {
           "automargin": true,
           "gridcolor": "white",
           "linecolor": "white",
           "ticks": "",
           "title": {
            "standoff": 15
           },
           "zerolinecolor": "white",
           "zerolinewidth": 2
          },
          "yaxis": {
           "automargin": true,
           "gridcolor": "white",
           "linecolor": "white",
           "ticks": "",
           "title": {
            "standoff": 15
           },
           "zerolinecolor": "white",
           "zerolinewidth": 2
          }
         }
        },
        "title": {
         "text": "<b>Biểu Đồ Tỷ Lệ Chuyển Đổi Theo Từng Tháng của 6 nhóm hàng<b>"
        },
        "xaxis": {
         "anchor": "y",
         "domain": [
          0,
          1
         ],
         "title": {
          "text": "Tháng"
         }
        },
        "yaxis": {
         "anchor": "x",
         "domain": [
          0,
          1
         ],
         "title": {
          "text": "Tỷ lệ chuyển đổi (%)"
         }
        }
       }
      }
     },
     "metadata": {},
     "output_type": "display_data"
    }
   ],
   "source": [
    "# Tạo biểu đồ đường sử dụng Plotly Express\n",
    "fig = px.line(\n",
    "    conversion_rate,\n",
    "    x='Tháng',\n",
    "    y='tỷ lệ chuyển đổi (%)',\n",
    "    color='Tên nhóm hàng',\n",
    "    title='Biểu Đồ Tỷ Lệ Chuyển Đổi Theo Từng Tháng',\n",
    "    markers=True,\n",
    "    color_discrete_sequence=px.colors.diverging.RdBu  \n",
    ")\n",
    "\n",
    "# Cập nhật bố cục\n",
    "fig.update_layout(\n",
    "    title='<b>Biểu Đồ Tỷ Lệ Chuyển Đổi Theo Từng Tháng của 6 nhóm hàng<b>',\n",
    "    xaxis_title=\"Tháng\",\n",
    "    yaxis_title=\"Tỷ lệ chuyển đổi (%)\",\n",
    "    paper_bgcolor='lightgrey',\n",
    "    plot_bgcolor='lightgrey'\n",
    ")\n",
    "\n",
    "# Cập nhật mẫu thông tin khi rê chuột (hover)\n",
    "fig.update_traces(\n",
    "    hovertemplate='Tháng: %{x} <br>Tên mặt hàng: %{data.name} <br>Tỷ lệ chuyển đổi: %{y:.2f}%'\n",
    ")\n",
    "\n",
    "# Cập nhật độ đậm của đường\n",
    "fig.update_traces(\n",
    "    line=dict(width=3)\n",
    ")\n",
    "\n",
    "# Hiển thị biểu đồ\n",
    "fig.show()"
   ]
  },
  {
   "cell_type": "markdown",
   "metadata": {},
   "source": [
    "<h4 style=\"color:white\"><strong>* \n",
    "Nhận xét:</strong></h4>"
   ]
  },
  {
   "cell_type": "markdown",
   "metadata": {},
   "source": [
    "<h4 style=\"color:white\"><strong>--> Tỷ lệ chuyển đổi của hầu hết các nhóm hàng có xu hướng tăng dần từ tháng 1 đến tháng 12.\n",
    ".</strong></h4>"
   ]
  },
  {
   "cell_type": "markdown",
   "metadata": {},
   "source": [
    "<h4 style=\"color:white\"><strong>---> Các nhóm hàng trong tháng 10,11,12 có tỷ lệ chuyển đổi vượt bật so với các tháng còn lại.</strong></h4>"
   ]
  },
  {
   "cell_type": "markdown",
   "metadata": {},
   "source": [
    "<h3 style=\"color:white\"><strong>--> Tổng quát lại, ta thấy được các nhóm hàng trong quý 4 có tỷ lệ chuyển đổi tốt nhất so với các quý còn lại. </strong></h4>"
   ]
  },
  {
   "cell_type": "markdown",
   "metadata": {},
   "source": [
    "<h2 style=\"color:#ffffff;font-family:Georgia;text-align:center;\">\n",
    "<strong>---- Phân tích doanh thu theo thời gian ----</strong>\n",
    "</h2>"
   ]
  },
  {
   "cell_type": "markdown",
   "metadata": {},
   "source": [
    "<h3 style=\"color:white\"><strong>🔘 Số lượng khách hàng</strong>"
   ]
  },
  {
   "cell_type": "code",
   "execution_count": 32,
   "metadata": {},
   "outputs": [
    {
     "name": "stdout",
     "output_type": "stream",
     "text": [
      "Số lượng khách hàng: 23056\n"
     ]
    }
   ],
   "source": [
    "unique_cus=data['Mã khách hàng'].nunique()\n",
    "print('Số lượng khách hàng:',unique_cus)"
   ]
  },
  {
   "cell_type": "markdown",
   "metadata": {},
   "source": [
    "<h3 style=\"color:white\"><strong>\n",
    "🔘 Tổng doanh thu</strong>"
   ]
  },
  {
   "cell_type": "code",
   "execution_count": 33,
   "metadata": {},
   "outputs": [
    {
     "name": "stdout",
     "output_type": "stream",
     "text": [
      "Tổng doanh thu: 78,038,999,000 VNĐ\n"
     ]
    }
   ],
   "source": [
    "total_revenue=data['Thành tiền'].sum()\n",
    "print(f'Tổng doanh thu: {total_revenue:,.0f} VNĐ')"
   ]
  },
  {
   "cell_type": "markdown",
   "metadata": {},
   "source": [
    "<h3 style=\"color:white\"><strong>🔘 Trung bình doanh thu/khách hàng</strong>"
   ]
  },
  {
   "cell_type": "code",
   "execution_count": 34,
   "metadata": {},
   "outputs": [
    {
     "name": "stdout",
     "output_type": "stream",
     "text": [
      "Trung bình doanh thu/khách hàng: 3,384,759 VNĐ\n"
     ]
    }
   ],
   "source": [
    "average_revenue_per_cus=total_revenue/unique_cus\n",
    "print(f'Trung bình doanh thu/khách hàng: {average_revenue_per_cus:,.0f} VNĐ')"
   ]
  },
  {
   "cell_type": "markdown",
   "metadata": {},
   "source": [
    "<h3 style=\"color:white\"><b>🔘 Doanh thu theo tháng </b></h3>"
   ]
  },
  {
   "cell_type": "code",
   "execution_count": 35,
   "metadata": {},
   "outputs": [
    {
     "data": {
      "text/html": [
       "<div>\n",
       "<style scoped>\n",
       "    .dataframe tbody tr th:only-of-type {\n",
       "        vertical-align: middle;\n",
       "    }\n",
       "\n",
       "    .dataframe tbody tr th {\n",
       "        vertical-align: top;\n",
       "    }\n",
       "\n",
       "    .dataframe thead th {\n",
       "        text-align: right;\n",
       "    }\n",
       "</style>\n",
       "<table border=\"1\" class=\"dataframe\">\n",
       "  <thead>\n",
       "    <tr style=\"text-align: right;\">\n",
       "      <th></th>\n",
       "      <th>Tháng</th>\n",
       "      <th>Doanh thu</th>\n",
       "    </tr>\n",
       "  </thead>\n",
       "  <tbody>\n",
       "    <tr>\n",
       "      <th>2</th>\n",
       "      <td>3</td>\n",
       "      <td>2094375000</td>\n",
       "    </tr>\n",
       "    <tr>\n",
       "      <th>3</th>\n",
       "      <td>4</td>\n",
       "      <td>2385088000</td>\n",
       "    </tr>\n",
       "    <tr>\n",
       "      <th>1</th>\n",
       "      <td>2</td>\n",
       "      <td>2414617000</td>\n",
       "    </tr>\n",
       "    <tr>\n",
       "      <th>0</th>\n",
       "      <td>1</td>\n",
       "      <td>3632227000</td>\n",
       "    </tr>\n",
       "    <tr>\n",
       "      <th>4</th>\n",
       "      <td>5</td>\n",
       "      <td>4226496000</td>\n",
       "    </tr>\n",
       "    <tr>\n",
       "      <th>8</th>\n",
       "      <td>9</td>\n",
       "      <td>4713469000</td>\n",
       "    </tr>\n",
       "    <tr>\n",
       "      <th>7</th>\n",
       "      <td>8</td>\n",
       "      <td>4818308000</td>\n",
       "    </tr>\n",
       "    <tr>\n",
       "      <th>6</th>\n",
       "      <td>7</td>\n",
       "      <td>6461747000</td>\n",
       "    </tr>\n",
       "    <tr>\n",
       "      <th>5</th>\n",
       "      <td>6</td>\n",
       "      <td>7096955000</td>\n",
       "    </tr>\n",
       "    <tr>\n",
       "      <th>10</th>\n",
       "      <td>11</td>\n",
       "      <td>7149526000</td>\n",
       "    </tr>\n",
       "    <tr>\n",
       "      <th>11</th>\n",
       "      <td>12</td>\n",
       "      <td>12652256000</td>\n",
       "    </tr>\n",
       "    <tr>\n",
       "      <th>9</th>\n",
       "      <td>10</td>\n",
       "      <td>20393935000</td>\n",
       "    </tr>\n",
       "  </tbody>\n",
       "</table>\n",
       "</div>"
      ],
      "text/plain": [
       "    Tháng    Doanh thu\n",
       "2       3   2094375000\n",
       "3       4   2385088000\n",
       "1       2   2414617000\n",
       "0       1   3632227000\n",
       "4       5   4226496000\n",
       "8       9   4713469000\n",
       "7       8   4818308000\n",
       "6       7   6461747000\n",
       "5       6   7096955000\n",
       "10     11   7149526000\n",
       "11     12  12652256000\n",
       "9      10  20393935000"
      ]
     },
     "execution_count": 35,
     "metadata": {},
     "output_type": "execute_result"
    }
   ],
   "source": [
    "\n",
    "data_revenue_per_month = data.groupby(\"Tháng\")['Thành tiền'].sum().reset_index(name='Doanh thu')\n",
    "data_revenue_per_month.sort_values(by='Doanh thu', ascending=True)"
   ]
  },
  {
   "cell_type": "markdown",
   "metadata": {},
   "source": [
    "<h3 style=\"color:white\"><b>--> Tháng 10 có doanh thu cao nhất và có sự cách biệt rõ ràng</b></h3>"
   ]
  },
  {
   "cell_type": "code",
   "execution_count": 36,
   "metadata": {},
   "outputs": [
    {
     "data": {
      "image/png": "[encoded data removed]",
      "text/plain": [
       "<Figure size 1600x800 with 1 Axes>"
      ]
     },
     "metadata": {},
     "output_type": "display_data"
    }
   ],
   "source": [
    "# Vẽ biểu đồ\n",
    "plt.figure(figsize=(16, 8))\n",
    "plt.bar(data_revenue_per_month['Tháng'], data_revenue_per_month['Doanh thu'], color='steelblue')\n",
    "\n",
    "# Thêm tiêu đề và nhãn\n",
    "plt.title('Biểu đồ doanh thu theo từng tháng', fontsize=16)\n",
    "plt.xlabel('Tháng', fontsize=12)\n",
    "plt.ylabel('Doanh thu', fontsize=12)\n",
    "\n",
    "# Hiển thị biểu đồ\n",
    "plt.show()"
   ]
  },
  {
   "cell_type": "markdown",
   "metadata": {},
   "source": [
    "<h3 style=\"color:white\"><b>🔘 Doanh thu theo quý</b></h3>"
   ]
  },
  {
   "cell_type": "code",
   "execution_count": 37,
   "metadata": {},
   "outputs": [
    {
     "data": {
      "text/html": [
       "<div>\n",
       "<style scoped>\n",
       "    .dataframe tbody tr th:only-of-type {\n",
       "        vertical-align: middle;\n",
       "    }\n",
       "\n",
       "    .dataframe tbody tr th {\n",
       "        vertical-align: top;\n",
       "    }\n",
       "\n",
       "    .dataframe thead th {\n",
       "        text-align: right;\n",
       "    }\n",
       "</style>\n",
       "<table border=\"1\" class=\"dataframe\">\n",
       "  <thead>\n",
       "    <tr style=\"text-align: right;\">\n",
       "      <th></th>\n",
       "      <th>Quý</th>\n",
       "      <th>Năm</th>\n",
       "      <th>Doanh thu</th>\n",
       "    </tr>\n",
       "  </thead>\n",
       "  <tbody>\n",
       "    <tr>\n",
       "      <th>0</th>\n",
       "      <td>1</td>\n",
       "      <td>2022</td>\n",
       "      <td>8141219000</td>\n",
       "    </tr>\n",
       "    <tr>\n",
       "      <th>1</th>\n",
       "      <td>2</td>\n",
       "      <td>2022</td>\n",
       "      <td>13708539000</td>\n",
       "    </tr>\n",
       "    <tr>\n",
       "      <th>2</th>\n",
       "      <td>3</td>\n",
       "      <td>2022</td>\n",
       "      <td>15993524000</td>\n",
       "    </tr>\n",
       "    <tr>\n",
       "      <th>3</th>\n",
       "      <td>4</td>\n",
       "      <td>2022</td>\n",
       "      <td>40195717000</td>\n",
       "    </tr>\n",
       "  </tbody>\n",
       "</table>\n",
       "</div>"
      ],
      "text/plain": [
       "   Quý   Năm    Doanh thu\n",
       "0    1  2022   8141219000\n",
       "1    2  2022  13708539000\n",
       "2    3  2022  15993524000\n",
       "3    4  2022  40195717000"
      ]
     },
     "execution_count": 37,
     "metadata": {},
     "output_type": "execute_result"
    }
   ],
   "source": [
    "revenue_per_quarter=data.groupby(['Quý','Năm'])['Thành tiền'].sum()\n",
    "df_revenue_per_quarter=revenue_per_quarter.sort_values(ascending=True).reset_index(name=\"Doanh thu\")\n",
    "df_revenue_per_quarter"
   ]
  },
  {
   "cell_type": "markdown",
   "metadata": {},
   "source": [
    "<h3 style=\"color:white\"><strong>--> Quý 4 có doanh thu cao nhất và vượt trội so với các quý còn lại"
   ]
  },
  {
   "cell_type": "code",
   "execution_count": 38,
   "metadata": {},
   "outputs": [
    {
     "data": {
      "application/vnd.plotly.v1+json": {
       "config": {
        "plotlyServerURL": "https://plot.ly"
       },
       "data": [
        {
         "hovertemplate": "Quý %{x}: %{y:.2f} VNĐ",
         "legendgroup": "",
         "line": {
          "color": "#636efa",
          "dash": "solid",
          "width": 2
         },
         "marker": {
          "symbol": "circle"
         },
         "mode": "lines",
         "name": "",
         "orientation": "v",
         "showlegend": false,
         "type": "scatter",
         "x": [
          1,
          2,
          3,
          4
         ],
         "xaxis": "x",
         "y": [
          8141219000,
          13708539000,
          15993524000,
          40195717000
         ],
         "yaxis": "y"
        }
       ],
       "layout": {
        "legend": {
         "title": {
          "text": "Chỉ tiêu"
         },
         "tracegroupgap": 0
        },
        "paper_bgcolor": "lightgrey",
        "plot_bgcolor": "lightgrey",
        "template": {
         "data": {
          "bar": [
           {
            "error_x": {
             "color": "#2a3f5f"
            },
            "error_y": {
             "color": "#2a3f5f"
            },
            "marker": {
             "line": {
              "color": "#E5ECF6",
              "width": 0.5
             },
             "pattern": {
              "fillmode": "overlay",
              "size": 10,
              "solidity": 0.2
             }
            },
            "type": "bar"
           }
          ],
          "barpolar": [
           {
            "marker": {
             "line": {
              "color": "#E5ECF6",
              "width": 0.5
             },
             "pattern": {
              "fillmode": "overlay",
              "size": 10,
              "solidity": 0.2
             }
            },
            "type": "barpolar"
           }
          ],
          "carpet": [
           {
            "aaxis": {
             "endlinecolor": "#2a3f5f",
             "gridcolor": "white",
             "linecolor": "white",
             "minorgridcolor": "white",
             "startlinecolor": "#2a3f5f"
            },
            "baxis": {
             "endlinecolor": "#2a3f5f",
             "gridcolor": "white",
             "linecolor": "white",
             "minorgridcolor": "white",
             "startlinecolor": "#2a3f5f"
            },
            "type": "carpet"
           }
          ],
          "choropleth": [
           {
            "colorbar": {
             "outlinewidth": 0,
             "ticks": ""
            },
            "type": "choropleth"
           }
          ],
          "contour": [
           {
            "colorbar": {
             "outlinewidth": 0,
             "ticks": ""
            },
            "colorscale": [
             [
              0,
              "#0d0887"
             ],
             [
              0.1111111111111111,
              "#46039f"
             ],
             [
              0.2222222222222222,
              "#7201a8"
             ],
             [
              0.3333333333333333,
              "#9c179e"
             ],
             [
              0.4444444444444444,
              "#bd3786"
             ],
             [
              0.5555555555555556,
              "#d8576b"
             ],
             [
              0.6666666666666666,
              "#ed7953"
             ],
             [
              0.7777777777777778,
              "#fb9f3a"
             ],
             [
              0.8888888888888888,
              "#fdca26"
             ],
             [
              1,
              "#f0f921"
             ]
            ],
            "type": "contour"
           }
          ],
          "contourcarpet": [
           {
            "colorbar": {
             "outlinewidth": 0,
             "ticks": ""
            },
            "type": "contourcarpet"
           }
          ],
          "heatmap": [
           {
            "colorbar": {
             "outlinewidth": 0,
             "ticks": ""
            },
            "colorscale": [
             [
              0,
              "#0d0887"
             ],
             [
              0.1111111111111111,
              "#46039f"
             ],
             [
              0.2222222222222222,
              "#7201a8"
             ],
             [
              0.3333333333333333,
              "#9c179e"
             ],
             [
              0.4444444444444444,
              "#bd3786"
             ],
             [
              0.5555555555555556,
              "#d8576b"
             ],
             [
              0.6666666666666666,
              "#ed7953"
             ],
             [
              0.7777777777777778,
              "#fb9f3a"
             ],
             [
              0.8888888888888888,
              "#fdca26"
             ],
             [
              1,
              "#f0f921"
             ]
            ],
            "type": "heatmap"
           }
          ],
          "heatmapgl": [
           {
            "colorbar": {
             "outlinewidth": 0,
             "ticks": ""
            },
            "colorscale": [
             [
              0,
              "#0d0887"
             ],
             [
              0.1111111111111111,
              "#46039f"
             ],
             [
              0.2222222222222222,
              "#7201a8"
             ],
             [
              0.3333333333333333,
              "#9c179e"
             ],
             [
              0.4444444444444444,
              "#bd3786"
             ],
             [
              0.5555555555555556,
              "#d8576b"
             ],
             [
              0.6666666666666666,
              "#ed7953"
             ],
             [
              0.7777777777777778,
              "#fb9f3a"
             ],
             [
              0.8888888888888888,
              "#fdca26"
             ],
             [
              1,
              "#f0f921"
             ]
            ],
            "type": "heatmapgl"
           }
          ],
          "histogram": [
           {
            "marker": {
             "pattern": {
              "fillmode": "overlay",
              "size": 10,
              "solidity": 0.2
             }
            },
            "type": "histogram"
           }
          ],
          "histogram2d": [
           {
            "colorbar": {
             "outlinewidth": 0,
             "ticks": ""
            },
            "colorscale": [
             [
              0,
              "#0d0887"
             ],
             [
              0.1111111111111111,
              "#46039f"
             ],
             [
              0.2222222222222222,
              "#7201a8"
             ],
             [
              0.3333333333333333,
              "#9c179e"
             ],
             [
              0.4444444444444444,
              "#bd3786"
             ],
             [
              0.5555555555555556,
              "#d8576b"
             ],
             [
              0.6666666666666666,
              "#ed7953"
             ],
             [
              0.7777777777777778,
              "#fb9f3a"
             ],
             [
              0.8888888888888888,
              "#fdca26"
             ],
             [
              1,
              "#f0f921"
             ]
            ],
            "type": "histogram2d"
           }
          ],
          "histogram2dcontour": [
           {
            "colorbar": {
             "outlinewidth": 0,
             "ticks": ""
            },
            "colorscale": [
             [
              0,
              "#0d0887"
             ],
             [
              0.1111111111111111,
              "#46039f"
             ],
             [
              0.2222222222222222,
              "#7201a8"
             ],
             [
              0.3333333333333333,
              "#9c179e"
             ],
             [
              0.4444444444444444,
              "#bd3786"
             ],
             [
              0.5555555555555556,
              "#d8576b"
             ],
             [
              0.6666666666666666,
              "#ed7953"
             ],
             [
              0.7777777777777778,
              "#fb9f3a"
             ],
             [
              0.8888888888888888,
              "#fdca26"
             ],
             [
              1,
              "#f0f921"
             ]
            ],
            "type": "histogram2dcontour"
           }
          ],
          "mesh3d": [
           {
            "colorbar": {
             "outlinewidth": 0,
             "ticks": ""
            },
            "type": "mesh3d"
           }
          ],
          "parcoords": [
           {
            "line": {
             "colorbar": {
              "outlinewidth": 0,
              "ticks": ""
             }
            },
            "type": "parcoords"
           }
          ],
          "pie": [
           {
            "automargin": true,
            "type": "pie"
           }
          ],
          "scatter": [
           {
            "fillpattern": {
             "fillmode": "overlay",
             "size": 10,
             "solidity": 0.2
            },
            "type": "scatter"
           }
          ],
          "scatter3d": [
           {
            "line": {
             "colorbar": {
              "outlinewidth": 0,
              "ticks": ""
             }
            },
            "marker": {
             "colorbar": {
              "outlinewidth": 0,
              "ticks": ""
             }
            },
            "type": "scatter3d"
           }
          ],
          "scattercarpet": [
           {
            "marker": {
             "colorbar": {
              "outlinewidth": 0,
              "ticks": ""
             }
            },
            "type": "scattercarpet"
           }
          ],
          "scattergeo": [
           {
            "marker": {
             "colorbar": {
              "outlinewidth": 0,
              "ticks": ""
             }
            },
            "type": "scattergeo"
           }
          ],
          "scattergl": [
           {
            "marker": {
             "colorbar": {
              "outlinewidth": 0,
              "ticks": ""
             }
            },
            "type": "scattergl"
           }
          ],
          "scattermapbox": [
           {
            "marker": {
             "colorbar": {
              "outlinewidth": 0,
              "ticks": ""
             }
            },
            "type": "scattermapbox"
           }
          ],
          "scatterpolar": [
           {
            "marker": {
             "colorbar": {
              "outlinewidth": 0,
              "ticks": ""
             }
            },
            "type": "scatterpolar"
           }
          ],
          "scatterpolargl": [
           {
            "marker": {
             "colorbar": {
              "outlinewidth": 0,
              "ticks": ""
             }
            },
            "type": "scatterpolargl"
           }
          ],
          "scatterternary": [
           {
            "marker": {
             "colorbar": {
              "outlinewidth": 0,
              "ticks": ""
             }
            },
            "type": "scatterternary"
           }
          ],
          "surface": [
           {
            "colorbar": {
             "outlinewidth": 0,
             "ticks": ""
            },
            "colorscale": [
             [
              0,
              "#0d0887"
             ],
             [
              0.1111111111111111,
              "#46039f"
             ],
             [
              0.2222222222222222,
              "#7201a8"
             ],
             [
              0.3333333333333333,
              "#9c179e"
             ],
             [
              0.4444444444444444,
              "#bd3786"
             ],
             [
              0.5555555555555556,
              "#d8576b"
             ],
             [
              0.6666666666666666,
              "#ed7953"
             ],
             [
              0.7777777777777778,
              "#fb9f3a"
             ],
             [
              0.8888888888888888,
              "#fdca26"
             ],
             [
              1,
              "#f0f921"
             ]
            ],
            "type": "surface"
           }
          ],
          "table": [
           {
            "cells": {
             "fill": {
              "color": "#EBF0F8"
             },
             "line": {
              "color": "white"
             }
            },
            "header": {
             "fill": {
              "color": "#C8D4E3"
             },
             "line": {
              "color": "white"
             }
            },
            "type": "table"
           }
          ]
         },
         "layout": {
          "annotationdefaults": {
           "arrowcolor": "#2a3f5f",
           "arrowhead": 0,
           "arrowwidth": 1
          },
          "autotypenumbers": "strict",
          "coloraxis": {
           "colorbar": {
            "outlinewidth": 0,
            "ticks": ""
           }
          },
          "colorscale": {
           "diverging": [
            [
             0,
             "#8e0152"
            ],
            [
             0.1,
             "#c51b7d"
            ],
            [
             0.2,
             "#de77ae"
            ],
            [
             0.3,
             "#f1b6da"
            ],
            [
             0.4,
             "#fde0ef"
            ],
            [
             0.5,
             "#f7f7f7"
            ],
            [
             0.6,
             "#e6f5d0"
            ],
            [
             0.7,
             "#b8e186"
            ],
            [
             0.8,
             "#7fbc41"
            ],
            [
             0.9,
             "#4d9221"
            ],
            [
             1,
             "#276419"
            ]
           ],
           "sequential": [
            [
             0,
             "#0d0887"
            ],
            [
             0.1111111111111111,
             "#46039f"
            ],
            [
             0.2222222222222222,
             "#7201a8"
            ],
            [
             0.3333333333333333,
             "#9c179e"
            ],
            [
             0.4444444444444444,
             "#bd3786"
            ],
            [
             0.5555555555555556,
             "#d8576b"
            ],
            [
             0.6666666666666666,
             "#ed7953"
            ],
            [
             0.7777777777777778,
             "#fb9f3a"
            ],
            [
             0.8888888888888888,
             "#fdca26"
            ],
            [
             1,
             "#f0f921"
            ]
           ],
           "sequentialminus": [
            [
             0,
             "#0d0887"
            ],
            [
             0.1111111111111111,
             "#46039f"
            ],
            [
             0.2222222222222222,
             "#7201a8"
            ],
            [
             0.3333333333333333,
             "#9c179e"
            ],
            [
             0.4444444444444444,
             "#bd3786"
            ],
            [
             0.5555555555555556,
             "#d8576b"
            ],
            [
             0.6666666666666666,
             "#ed7953"
            ],
            [
             0.7777777777777778,
             "#fb9f3a"
            ],
            [
             0.8888888888888888,
             "#fdca26"
            ],
            [
             1,
             "#f0f921"
            ]
           ]
          },
          "colorway": [
           "#636efa",
           "#EF553B",
           "#00cc96",
           "#ab63fa",
           "#FFA15A",
           "#19d3f3",
           "#FF6692",
           "#B6E880",
           "#FF97FF",
           "#FECB52"
          ],
          "font": {
           "color": "#2a3f5f"
          },
          "geo": {
           "bgcolor": "white",
           "lakecolor": "white",
           "landcolor": "#E5ECF6",
           "showlakes": true,
           "showland": true,
           "subunitcolor": "white"
          },
          "hoverlabel": {
           "align": "left"
          },
          "hovermode": "closest",
          "mapbox": {
           "style": "light"
          },
          "paper_bgcolor": "white",
          "plot_bgcolor": "#E5ECF6",
          "polar": {
           "angularaxis": {
            "gridcolor": "white",
            "linecolor": "white",
            "ticks": ""
           },
           "bgcolor": "#E5ECF6",
           "radialaxis": {
            "gridcolor": "white",
            "linecolor": "white",
            "ticks": ""
           }
          },
          "scene": {
           "xaxis": {
            "backgroundcolor": "#E5ECF6",
            "gridcolor": "white",
            "gridwidth": 2,
            "linecolor": "white",
            "showbackground": true,
            "ticks": "",
            "zerolinecolor": "white"
           },
           "yaxis": {
            "backgroundcolor": "#E5ECF6",
            "gridcolor": "white",
            "gridwidth": 2,
            "linecolor": "white",
            "showbackground": true,
            "ticks": "",
            "zerolinecolor": "white"
           },
           "zaxis": {
            "backgroundcolor": "#E5ECF6",
            "gridcolor": "white",
            "gridwidth": 2,
            "linecolor": "white",
            "showbackground": true,
            "ticks": "",
            "zerolinecolor": "white"
           }
          },
          "shapedefaults": {
           "line": {
            "color": "#2a3f5f"
           }
          },
          "ternary": {
           "aaxis": {
            "gridcolor": "white",
            "linecolor": "white",
            "ticks": ""
           },
           "baxis": {
            "gridcolor": "white",
            "linecolor": "white",
            "ticks": ""
           },
           "bgcolor": "#E5ECF6",
           "caxis": {
            "gridcolor": "white",
            "linecolor": "white",
            "ticks": ""
           }
          },
          "title": {
           "x": 0.05
          },
          "xaxis": {
           "automargin": true,
           "gridcolor": "white",
           "linecolor": "white",
           "ticks": "",
           "title": {
            "standoff": 15
           },
           "zerolinecolor": "white",
           "zerolinewidth": 2
          },
          "yaxis": {
           "automargin": true,
           "gridcolor": "white",
           "linecolor": "white",
           "ticks": "",
           "title": {
            "standoff": 15
           },
           "zerolinecolor": "white",
           "zerolinewidth": 2
          }
         }
        },
        "title": {
         "text": "<b>Doanh Thu Biểu Diễn Theo Từng Tháng</b>"
        },
        "xaxis": {
         "anchor": "y",
         "domain": [
          0,
          1
         ],
         "tickmode": "array",
         "ticktext": [
          "Q1",
          "Q2",
          "Q3",
          "Q4"
         ],
         "tickvals": [
          1,
          2,
          3,
          4
         ],
         "title": {
          "text": "Quý"
         }
        },
        "yaxis": {
         "anchor": "x",
         "domain": [
          0,
          1
         ],
         "title": {
          "text": "Giá trị (VNĐ)"
         }
        }
       }
      }
     },
     "metadata": {},
     "output_type": "display_data"
    }
   ],
   "source": [
    "fig=fig = px.line(df_revenue_per_quarter, x='Quý', y='Doanh thu', title='<b>Doanh Thu Biểu Diễn Theo Từng Tháng</b>')\n",
    "fig.update_layout(\n",
    "    xaxis=dict(\n",
    "        tickmode='array',\n",
    "        tickvals=[1, 2, 3, 4],\n",
    "        ticktext=['Q1', 'Q2', 'Q3', 'Q4']\n",
    "    ),\n",
    "    yaxis_title=\"Giá trị (VNĐ)\",\n",
    "    legend_title=\"Chỉ tiêu\",\n",
    "    paper_bgcolor='lightgrey',\n",
    "    plot_bgcolor='lightgrey',\n",
    "    \n",
    ")\n",
    "\n",
    "fig.update_traces(\n",
    "    hovertemplate='Quý %{x}: %{y:.2f} VNĐ',\n",
    "    line=dict(width=2)\n",
    ")\n",
    "\n",
    "fig.update_traces(selector=dict(name='Doanh thu'), line=dict(color='blue'))\n",
    "fig.update_traces(selector=dict(name='Lợi nhuận'), line=dict(color='green', dash='dash'))\n",
    "\n",
    "fig.show()"
   ]
  },
  {
   "cell_type": "markdown",
   "metadata": {},
   "source": [
    "<h3 style=\"color:white\"><strong>🔘 Tạo cột \"Nhóm PKKH\"</strong></h3>"
   ]
  },
  {
   "cell_type": "code",
   "execution_count": 39,
   "metadata": {},
   "outputs": [],
   "source": [
    "data['Nhóm PKKH'] = data['Mã PKKH'].str[0]"
   ]
  },
  {
   "cell_type": "code",
   "execution_count": 40,
   "metadata": {},
   "outputs": [
    {
     "data": {
      "text/html": [
       "<div>\n",
       "<style scoped>\n",
       "    .dataframe tbody tr th:only-of-type {\n",
       "        vertical-align: middle;\n",
       "    }\n",
       "\n",
       "    .dataframe tbody tr th {\n",
       "        vertical-align: top;\n",
       "    }\n",
       "\n",
       "    .dataframe thead th {\n",
       "        text-align: right;\n",
       "    }\n",
       "</style>\n",
       "<table border=\"1\" class=\"dataframe\">\n",
       "  <thead>\n",
       "    <tr style=\"text-align: right;\">\n",
       "      <th></th>\n",
       "      <th>Thời gian tạo đơn</th>\n",
       "      <th>Mã đơn hàng</th>\n",
       "      <th>Mã khách hàng</th>\n",
       "      <th>Tên khách hàng</th>\n",
       "      <th>Mã PKKH</th>\n",
       "      <th>Mô tả Phân Khúc Khách hàng</th>\n",
       "      <th>Mã nhóm hàng</th>\n",
       "      <th>Tên nhóm hàng</th>\n",
       "      <th>Mã mặt hàng</th>\n",
       "      <th>Tên mặt hàng</th>\n",
       "      <th>SL</th>\n",
       "      <th>Đơn giá</th>\n",
       "      <th>Thành tiền</th>\n",
       "      <th>Thời gian</th>\n",
       "      <th>Ngày</th>\n",
       "      <th>Tháng</th>\n",
       "      <th>Quý</th>\n",
       "      <th>Năm</th>\n",
       "      <th>Nhóm PKKH</th>\n",
       "    </tr>\n",
       "  </thead>\n",
       "  <tbody>\n",
       "    <tr>\n",
       "      <th>0</th>\n",
       "      <td>2022-01-01 08:12:18</td>\n",
       "      <td>ORD0000001</td>\n",
       "      <td>CUZ00001</td>\n",
       "      <td>Nguyễn Chí Hiếu</td>\n",
       "      <td>A1</td>\n",
       "      <td>Học sinh, sinh viên có sở thích ăn vặt</td>\n",
       "      <td>BAN</td>\n",
       "      <td>Bánh</td>\n",
       "      <td>BAN01</td>\n",
       "      <td>Bánh gấu thái lan nhân SCL</td>\n",
       "      <td>1</td>\n",
       "      <td>65000</td>\n",
       "      <td>65000</td>\n",
       "      <td>08:12:18</td>\n",
       "      <td>1</td>\n",
       "      <td>1</td>\n",
       "      <td>1</td>\n",
       "      <td>2022</td>\n",
       "      <td>A</td>\n",
       "    </tr>\n",
       "    <tr>\n",
       "      <th>1</th>\n",
       "      <td>2022-01-01 08:12:18</td>\n",
       "      <td>ORD0000001</td>\n",
       "      <td>CUZ00001</td>\n",
       "      <td>Nguyễn Chí Hiếu</td>\n",
       "      <td>A1</td>\n",
       "      <td>Học sinh, sinh viên có sở thích ăn vặt</td>\n",
       "      <td>BAN</td>\n",
       "      <td>Bánh</td>\n",
       "      <td>BAN02</td>\n",
       "      <td>Bánh gấu mix 3 vị</td>\n",
       "      <td>1</td>\n",
       "      <td>79000</td>\n",
       "      <td>79000</td>\n",
       "      <td>08:12:18</td>\n",
       "      <td>1</td>\n",
       "      <td>1</td>\n",
       "      <td>1</td>\n",
       "      <td>2022</td>\n",
       "      <td>A</td>\n",
       "    </tr>\n",
       "  </tbody>\n",
       "</table>\n",
       "</div>"
      ],
      "text/plain": [
       "    Thời gian tạo đơn Mã đơn hàng Mã khách hàng   Tên khách hàng Mã PKKH  \\\n",
       "0 2022-01-01 08:12:18  ORD0000001      CUZ00001  Nguyễn Chí Hiếu      A1   \n",
       "1 2022-01-01 08:12:18  ORD0000001      CUZ00001  Nguyễn Chí Hiếu      A1   \n",
       "\n",
       "               Mô tả Phân Khúc Khách hàng Mã nhóm hàng Tên nhóm hàng  \\\n",
       "0  Học sinh, sinh viên có sở thích ăn vặt          BAN          Bánh   \n",
       "1  Học sinh, sinh viên có sở thích ăn vặt          BAN          Bánh   \n",
       "\n",
       "  Mã mặt hàng                Tên mặt hàng  SL  Đơn giá  Thành tiền Thời gian  \\\n",
       "0       BAN01  Bánh gấu thái lan nhân SCL   1    65000       65000  08:12:18   \n",
       "1       BAN02           Bánh gấu mix 3 vị   1    79000       79000  08:12:18   \n",
       "\n",
       "   Ngày  Tháng  Quý   Năm Nhóm PKKH  \n",
       "0     1      1    1  2022         A  \n",
       "1     1      1    1  2022         A  "
      ]
     },
     "execution_count": 40,
     "metadata": {},
     "output_type": "execute_result"
    }
   ],
   "source": [
    "data.head(2)"
   ]
  },
  {
   "cell_type": "markdown",
   "metadata": {},
   "source": [
    "<h3 style=\"color:white\"><strong>🔘 Doanh thu của từng nhóm PKKH</strong>"
   ]
  },
  {
   "cell_type": "code",
   "execution_count": 41,
   "metadata": {},
   "outputs": [
    {
     "data": {
      "text/html": [
       "<div>\n",
       "<style scoped>\n",
       "    .dataframe tbody tr th:only-of-type {\n",
       "        vertical-align: middle;\n",
       "    }\n",
       "\n",
       "    .dataframe tbody tr th {\n",
       "        vertical-align: top;\n",
       "    }\n",
       "\n",
       "    .dataframe thead th {\n",
       "        text-align: right;\n",
       "    }\n",
       "</style>\n",
       "<table border=\"1\" class=\"dataframe\">\n",
       "  <thead>\n",
       "    <tr style=\"text-align: right;\">\n",
       "      <th></th>\n",
       "      <th>Nhóm PKKH</th>\n",
       "      <th>Doanh thu</th>\n",
       "    </tr>\n",
       "  </thead>\n",
       "  <tbody>\n",
       "    <tr>\n",
       "      <th>2</th>\n",
       "      <td>C</td>\n",
       "      <td>3889632000</td>\n",
       "    </tr>\n",
       "    <tr>\n",
       "      <th>0</th>\n",
       "      <td>A</td>\n",
       "      <td>30562294000</td>\n",
       "    </tr>\n",
       "    <tr>\n",
       "      <th>1</th>\n",
       "      <td>B</td>\n",
       "      <td>43587073000</td>\n",
       "    </tr>\n",
       "  </tbody>\n",
       "</table>\n",
       "</div>"
      ],
      "text/plain": [
       "  Nhóm PKKH    Doanh thu\n",
       "2         C   3889632000\n",
       "0         A  30562294000\n",
       "1         B  43587073000"
      ]
     },
     "execution_count": 41,
     "metadata": {},
     "output_type": "execute_result"
    }
   ],
   "source": [
    "\n",
    "data_revenue_of_group_customer_segment = data.groupby('Nhóm PKKH')['Thành tiền'].sum().reset_index(name='Doanh thu')\n",
    "data_revenue_of_group_customer_segment.sort_values(by='Doanh thu', ascending=True)"
   ]
  },
  {
   "cell_type": "markdown",
   "metadata": {},
   "source": [
    "<h3 style=\"color:white\"><strong>--> Nhóm PKKH B có doanh thu cao nhất và cao gấp nhóm PKKH C gần 11 lần</strong>"
   ]
  },
  {
   "cell_type": "code",
   "execution_count": 42,
   "metadata": {},
   "outputs": [
    {
     "data": {
      "image/png": "[encoded data removed]",
      "text/plain": [
       "<Figure size 1600x600 with 1 Axes>"
      ]
     },
     "metadata": {},
     "output_type": "display_data"
    }
   ],
   "source": [
    "# Vẽ biểu đồ\n",
    "plt.figure(figsize=(16, 6))\n",
    "plt.bar(data_revenue_of_group_customer_segment['Nhóm PKKH'], data_revenue_of_group_customer_segment['Doanh thu'], color='steelblue')\n",
    "\n",
    "# Thêm tiêu đề và nhãn\n",
    "plt.title('Biểu đồ doanh thu theo nhóm PKKH', fontsize=16)\n",
    "plt.xlabel('Nhóm PKKH', fontsize=8)\n",
    "plt.ylabel('Doanh thu', fontsize=12)\n",
    "\n",
    "# Hiển thị biểu đồ\n",
    "plt.show()"
   ]
  },
  {
   "cell_type": "markdown",
   "metadata": {},
   "source": [
    "<h3 style=\"color:white\"><b>🔘 Doanh thu theo từng PKKH </b></h3>"
   ]
  },
  {
   "cell_type": "code",
   "execution_count": 43,
   "metadata": {},
   "outputs": [
    {
     "data": {
      "text/html": [
       "<div>\n",
       "<style scoped>\n",
       "    .dataframe tbody tr th:only-of-type {\n",
       "        vertical-align: middle;\n",
       "    }\n",
       "\n",
       "    .dataframe tbody tr th {\n",
       "        vertical-align: top;\n",
       "    }\n",
       "\n",
       "    .dataframe thead th {\n",
       "        text-align: right;\n",
       "    }\n",
       "</style>\n",
       "<table border=\"1\" class=\"dataframe\">\n",
       "  <thead>\n",
       "    <tr style=\"text-align: right;\">\n",
       "      <th></th>\n",
       "      <th>Mã PKKH</th>\n",
       "      <th>Doanh thu</th>\n",
       "    </tr>\n",
       "  </thead>\n",
       "  <tbody>\n",
       "    <tr>\n",
       "      <th>8</th>\n",
       "      <td>C3</td>\n",
       "      <td>579745000</td>\n",
       "    </tr>\n",
       "    <tr>\n",
       "      <th>6</th>\n",
       "      <td>C1</td>\n",
       "      <td>947685000</td>\n",
       "    </tr>\n",
       "    <tr>\n",
       "      <th>7</th>\n",
       "      <td>C2</td>\n",
       "      <td>2362202000</td>\n",
       "    </tr>\n",
       "    <tr>\n",
       "      <th>1</th>\n",
       "      <td>A2</td>\n",
       "      <td>8480964000</td>\n",
       "    </tr>\n",
       "    <tr>\n",
       "      <th>0</th>\n",
       "      <td>A1</td>\n",
       "      <td>10076569000</td>\n",
       "    </tr>\n",
       "    <tr>\n",
       "      <th>3</th>\n",
       "      <td>B1</td>\n",
       "      <td>10377196000</td>\n",
       "    </tr>\n",
       "    <tr>\n",
       "      <th>2</th>\n",
       "      <td>A3</td>\n",
       "      <td>12004761000</td>\n",
       "    </tr>\n",
       "    <tr>\n",
       "      <th>5</th>\n",
       "      <td>B3</td>\n",
       "      <td>14428356000</td>\n",
       "    </tr>\n",
       "    <tr>\n",
       "      <th>4</th>\n",
       "      <td>B2</td>\n",
       "      <td>18781521000</td>\n",
       "    </tr>\n",
       "  </tbody>\n",
       "</table>\n",
       "</div>"
      ],
      "text/plain": [
       "  Mã PKKH    Doanh thu\n",
       "8      C3    579745000\n",
       "6      C1    947685000\n",
       "7      C2   2362202000\n",
       "1      A2   8480964000\n",
       "0      A1  10076569000\n",
       "3      B1  10377196000\n",
       "2      A3  12004761000\n",
       "5      B3  14428356000\n",
       "4      B2  18781521000"
      ]
     },
     "execution_count": 43,
     "metadata": {},
     "output_type": "execute_result"
    }
   ],
   "source": [
    "data_revenue_of_customer_segment = data.groupby('Mã PKKH')['Thành tiền'].sum().reset_index(name='Doanh thu')\n",
    "data_revenue_of_customer_segment.sort_values(by=\"Doanh thu\", ascending=True)"
   ]
  },
  {
   "cell_type": "markdown",
   "metadata": {},
   "source": [
    "<h3 style=\"color:white\"><b>--> PKKH B2 có doanh thu cao nhất </b></h3>"
   ]
  },
  {
   "cell_type": "code",
   "execution_count": 44,
   "metadata": {},
   "outputs": [
    {
     "data": {
      "image/png": "[encoded data removed]",
      "text/plain": [
       "<Figure size 1600x800 with 1 Axes>"
      ]
     },
     "metadata": {},
     "output_type": "display_data"
    }
   ],
   "source": [
    "# Vẽ biểu đồ\n",
    "plt.figure(figsize=(16, 8))\n",
    "plt.bar(data_revenue_of_customer_segment['Mã PKKH'], data_revenue_of_customer_segment['Doanh thu'], color='steelblue')\n",
    "\n",
    "# Thêm tiêu đề và nhãn\n",
    "plt.title('Biểu đồ doanh thu theo từng mã PKKH', fontsize=16)\n",
    "plt.xlabel('Mã PKKH', fontsize=12)\n",
    "plt.ylabel('Doanh thu', fontsize=12)\n",
    "\n",
    "# Hiển thị biểu đồ\n",
    "plt.show()"
   ]
  },
  {
   "cell_type": "markdown",
   "metadata": {},
   "source": [
    "<h3 style=\"color:white\"><b>🔘 Doanh thu theo tháng của từng PKKH </b></h3>"
   ]
  },
  {
   "cell_type": "code",
   "execution_count": 45,
   "metadata": {},
   "outputs": [
    {
     "data": {
      "text/html": [
       "<div>\n",
       "<style scoped>\n",
       "    .dataframe tbody tr th:only-of-type {\n",
       "        vertical-align: middle;\n",
       "    }\n",
       "\n",
       "    .dataframe tbody tr th {\n",
       "        vertical-align: top;\n",
       "    }\n",
       "\n",
       "    .dataframe thead th {\n",
       "        text-align: right;\n",
       "    }\n",
       "</style>\n",
       "<table border=\"1\" class=\"dataframe\">\n",
       "  <thead>\n",
       "    <tr style=\"text-align: right;\">\n",
       "      <th></th>\n",
       "      <th>Mã PKKH</th>\n",
       "      <th>Tháng</th>\n",
       "      <th>Doanh thu</th>\n",
       "    </tr>\n",
       "  </thead>\n",
       "  <tbody>\n",
       "    <tr>\n",
       "      <th>0</th>\n",
       "      <td>A1</td>\n",
       "      <td>1</td>\n",
       "      <td>182075000</td>\n",
       "    </tr>\n",
       "    <tr>\n",
       "      <th>1</th>\n",
       "      <td>A1</td>\n",
       "      <td>2</td>\n",
       "      <td>119789000</td>\n",
       "    </tr>\n",
       "    <tr>\n",
       "      <th>2</th>\n",
       "      <td>A1</td>\n",
       "      <td>3</td>\n",
       "      <td>148016000</td>\n",
       "    </tr>\n",
       "    <tr>\n",
       "      <th>3</th>\n",
       "      <td>A1</td>\n",
       "      <td>4</td>\n",
       "      <td>241847000</td>\n",
       "    </tr>\n",
       "    <tr>\n",
       "      <th>4</th>\n",
       "      <td>A1</td>\n",
       "      <td>5</td>\n",
       "      <td>440740000</td>\n",
       "    </tr>\n",
       "    <tr>\n",
       "      <th>...</th>\n",
       "      <td>...</td>\n",
       "      <td>...</td>\n",
       "      <td>...</td>\n",
       "    </tr>\n",
       "    <tr>\n",
       "      <th>103</th>\n",
       "      <td>C3</td>\n",
       "      <td>8</td>\n",
       "      <td>42906000</td>\n",
       "    </tr>\n",
       "    <tr>\n",
       "      <th>104</th>\n",
       "      <td>C3</td>\n",
       "      <td>9</td>\n",
       "      <td>36400000</td>\n",
       "    </tr>\n",
       "    <tr>\n",
       "      <th>105</th>\n",
       "      <td>C3</td>\n",
       "      <td>10</td>\n",
       "      <td>82964000</td>\n",
       "    </tr>\n",
       "    <tr>\n",
       "      <th>106</th>\n",
       "      <td>C3</td>\n",
       "      <td>11</td>\n",
       "      <td>45467000</td>\n",
       "    </tr>\n",
       "    <tr>\n",
       "      <th>107</th>\n",
       "      <td>C3</td>\n",
       "      <td>12</td>\n",
       "      <td>77291000</td>\n",
       "    </tr>\n",
       "  </tbody>\n",
       "</table>\n",
       "<p>108 rows × 3 columns</p>\n",
       "</div>"
      ],
      "text/plain": [
       "    Mã PKKH  Tháng  Doanh thu\n",
       "0        A1      1  182075000\n",
       "1        A1      2  119789000\n",
       "2        A1      3  148016000\n",
       "3        A1      4  241847000\n",
       "4        A1      5  440740000\n",
       "..      ...    ...        ...\n",
       "103      C3      8   42906000\n",
       "104      C3      9   36400000\n",
       "105      C3     10   82964000\n",
       "106      C3     11   45467000\n",
       "107      C3     12   77291000\n",
       "\n",
       "[108 rows x 3 columns]"
      ]
     },
     "execution_count": 45,
     "metadata": {},
     "output_type": "execute_result"
    }
   ],
   "source": [
    "data_revenue_of_segment_of_month = data.groupby([\"Mã PKKH\",\"Tháng\"])[\"Thành tiền\"].sum().reset_index(name=\"Doanh thu\")\n",
    "data_revenue_of_segment_of_month"
   ]
  },
  {
   "cell_type": "code",
   "execution_count": 46,
   "metadata": {},
   "outputs": [
    {
     "data": {
      "application/vnd.plotly.v1+json": {
       "config": {
        "plotlyServerURL": "https://plot.ly"
       },
       "data": [
        {
         "hovertemplate": "Mã PKKH=A1<br>Tháng=%{x}<br>Doanh thu=%{y}<extra></extra>",
         "legendgroup": "A1",
         "line": {
          "color": "rgb(12,51,131)",
          "dash": "solid",
          "width": 2
         },
         "marker": {
          "symbol": "circle"
         },
         "mode": "lines+markers",
         "name": "A1",
         "orientation": "v",
         "showlegend": true,
         "type": "scatter",
         "x": [
          1,
          2,
          3,
          4,
          5,
          6,
          7,
          8,
          9,
          10,
          11,
          12
         ],
         "xaxis": "x",
         "y": [
          182075000,
          119789000,
          148016000,
          241847000,
          440740000,
          1558573000,
          1183912000,
          1428930000,
          946161000,
          1195941000,
          914939000,
          1715646000
         ],
         "yaxis": "y"
        },
        {
         "hovertemplate": "Mã PKKH=A2<br>Tháng=%{x}<br>Doanh thu=%{y}<extra></extra>",
         "legendgroup": "A2",
         "line": {
          "color": "rgb(10,136,186)",
          "dash": "solid",
          "width": 2
         },
         "marker": {
          "symbol": "circle"
         },
         "mode": "lines+markers",
         "name": "A2",
         "orientation": "v",
         "showlegend": true,
         "type": "scatter",
         "x": [
          1,
          2,
          3,
          4,
          5,
          6,
          7,
          8,
          9,
          10,
          11,
          12
         ],
         "xaxis": "x",
         "y": [
          635944000,
          595173000,
          301274000,
          380159000,
          518009000,
          764149000,
          710821000,
          600621000,
          536674000,
          724576000,
          593937000,
          2119627000
         ],
         "yaxis": "y"
        },
        {
         "hovertemplate": "Mã PKKH=A3<br>Tháng=%{x}<br>Doanh thu=%{y}<extra></extra>",
         "legendgroup": "A3",
         "line": {
          "color": "rgb(242,211,56)",
          "dash": "solid",
          "width": 2
         },
         "marker": {
          "symbol": "circle"
         },
         "mode": "lines+markers",
         "name": "A3",
         "orientation": "v",
         "showlegend": true,
         "type": "scatter",
         "x": [
          1,
          2,
          3,
          4,
          5,
          6,
          7,
          8,
          9,
          10,
          11,
          12
         ],
         "xaxis": "x",
         "y": [
          1118672000,
          820587000,
          422432000,
          438011000,
          770686000,
          1350222000,
          894537000,
          612048000,
          999836000,
          1325977000,
          788311000,
          2463442000
         ],
         "yaxis": "y"
        },
        {
         "hovertemplate": "Mã PKKH=B1<br>Tháng=%{x}<br>Doanh thu=%{y}<extra></extra>",
         "legendgroup": "B1",
         "line": {
          "color": "rgb(242,143,56)",
          "dash": "solid",
          "width": 2
         },
         "marker": {
          "symbol": "circle"
         },
         "mode": "lines+markers",
         "name": "B1",
         "orientation": "v",
         "showlegend": true,
         "type": "scatter",
         "x": [
          1,
          2,
          3,
          4,
          5,
          6,
          7,
          8,
          9,
          10,
          11,
          12
         ],
         "xaxis": "x",
         "y": [
          212171000,
          151222000,
          314884000,
          342819000,
          553263000,
          711852000,
          749238000,
          463060000,
          416006000,
          3776116000,
          1182575000,
          1503990000
         ],
         "yaxis": "y"
        },
        {
         "hovertemplate": "Mã PKKH=B2<br>Tháng=%{x}<br>Doanh thu=%{y}<extra></extra>",
         "legendgroup": "B2",
         "line": {
          "color": "rgb(217,30,30)",
          "dash": "solid",
          "width": 2
         },
         "marker": {
          "symbol": "circle"
         },
         "mode": "lines+markers",
         "name": "B2",
         "orientation": "v",
         "showlegend": true,
         "type": "scatter",
         "x": [
          1,
          2,
          3,
          4,
          5,
          6,
          7,
          8,
          9,
          10,
          11,
          12
         ],
         "xaxis": "x",
         "y": [
          552441000,
          334456000,
          473234000,
          524339000,
          946549000,
          1496665000,
          1653944000,
          870862000,
          901951000,
          6215743000,
          2279949000,
          2531388000
         ],
         "yaxis": "y"
        },
        {
         "hovertemplate": "Mã PKKH=B3<br>Tháng=%{x}<br>Doanh thu=%{y}<extra></extra>",
         "legendgroup": "B3",
         "line": {
          "color": "rgb(12,51,131)",
          "dash": "solid",
          "width": 2
         },
         "marker": {
          "symbol": "circle"
         },
         "mode": "lines+markers",
         "name": "B3",
         "orientation": "v",
         "showlegend": true,
         "type": "scatter",
         "x": [
          1,
          2,
          3,
          4,
          5,
          6,
          7,
          8,
          9,
          10,
          11,
          12
         ],
         "xaxis": "x",
         "y": [
          524097000,
          260579000,
          277663000,
          312445000,
          798915000,
          821504000,
          855922000,
          611162000,
          690128000,
          6654687000,
          1036818000,
          1584436000
         ],
         "yaxis": "y"
        },
        {
         "hovertemplate": "Mã PKKH=C1<br>Tháng=%{x}<br>Doanh thu=%{y}<extra></extra>",
         "legendgroup": "C1",
         "line": {
          "color": "rgb(10,136,186)",
          "dash": "solid",
          "width": 2
         },
         "marker": {
          "symbol": "circle"
         },
         "mode": "lines+markers",
         "name": "C1",
         "orientation": "v",
         "showlegend": true,
         "type": "scatter",
         "x": [
          1,
          2,
          3,
          4,
          5,
          6,
          7,
          8,
          9,
          10,
          11,
          12
         ],
         "xaxis": "x",
         "y": [
          92046000,
          36103000,
          44125000,
          39207000,
          44441000,
          88703000,
          87695000,
          60401000,
          62888000,
          124842000,
          85200000,
          182034000
         ],
         "yaxis": "y"
        },
        {
         "hovertemplate": "Mã PKKH=C2<br>Tháng=%{x}<br>Doanh thu=%{y}<extra></extra>",
         "legendgroup": "C2",
         "line": {
          "color": "rgb(242,211,56)",
          "dash": "solid",
          "width": 2
         },
         "marker": {
          "symbol": "circle"
         },
         "mode": "lines+markers",
         "name": "C2",
         "orientation": "v",
         "showlegend": true,
         "type": "scatter",
         "x": [
          1,
          2,
          3,
          4,
          5,
          6,
          7,
          8,
          9,
          10,
          11,
          12
         ],
         "xaxis": "x",
         "y": [
          259557000,
          67634000,
          82490000,
          76769000,
          116458000,
          249910000,
          267820000,
          128318000,
          123425000,
          293089000,
          222330000,
          474402000
         ],
         "yaxis": "y"
        },
        {
         "hovertemplate": "Mã PKKH=C3<br>Tháng=%{x}<br>Doanh thu=%{y}<extra></extra>",
         "legendgroup": "C3",
         "line": {
          "color": "rgb(242,143,56)",
          "dash": "solid",
          "width": 2
         },
         "marker": {
          "symbol": "circle"
         },
         "mode": "lines+markers",
         "name": "C3",
         "orientation": "v",
         "showlegend": true,
         "type": "scatter",
         "x": [
          1,
          2,
          3,
          4,
          5,
          6,
          7,
          8,
          9,
          10,
          11,
          12
         ],
         "xaxis": "x",
         "y": [
          55224000,
          29074000,
          30257000,
          29492000,
          37435000,
          55377000,
          57858000,
          42906000,
          36400000,
          82964000,
          45467000,
          77291000
         ],
         "yaxis": "y"
        }
       ],
       "layout": {
        "legend": {
         "title": {
          "text": "Mã PKKH"
         },
         "tracegroupgap": 0
        },
        "paper_bgcolor": "lightgrey",
        "plot_bgcolor": "lightgrey",
        "template": {
         "data": {
          "bar": [
           {
            "error_x": {
             "color": "#2a3f5f"
            },
            "error_y": {
             "color": "#2a3f5f"
            },
            "marker": {
             "line": {
              "color": "#E5ECF6",
              "width": 0.5
             },
             "pattern": {
              "fillmode": "overlay",
              "size": 10,
              "solidity": 0.2
             }
            },
            "type": "bar"
           }
          ],
          "barpolar": [
           {
            "marker": {
             "line": {
              "color": "#E5ECF6",
              "width": 0.5
             },
             "pattern": {
              "fillmode": "overlay",
              "size": 10,
              "solidity": 0.2
             }
            },
            "type": "barpolar"
           }
          ],
          "carpet": [
           {
            "aaxis": {
             "endlinecolor": "#2a3f5f",
             "gridcolor": "white",
             "linecolor": "white",
             "minorgridcolor": "white",
             "startlinecolor": "#2a3f5f"
            },
            "baxis": {
             "endlinecolor": "#2a3f5f",
             "gridcolor": "white",
             "linecolor": "white",
             "minorgridcolor": "white",
             "startlinecolor": "#2a3f5f"
            },
            "type": "carpet"
           }
          ],
          "choropleth": [
           {
            "colorbar": {
             "outlinewidth": 0,
             "ticks": ""
            },
            "type": "choropleth"
           }
          ],
          "contour": [
           {
            "colorbar": {
             "outlinewidth": 0,
             "ticks": ""
            },
            "colorscale": [
             [
              0,
              "#0d0887"
             ],
             [
              0.1111111111111111,
              "#46039f"
             ],
             [
              0.2222222222222222,
              "#7201a8"
             ],
             [
              0.3333333333333333,
              "#9c179e"
             ],
             [
              0.4444444444444444,
              "#bd3786"
             ],
             [
              0.5555555555555556,
              "#d8576b"
             ],
             [
              0.6666666666666666,
              "#ed7953"
             ],
             [
              0.7777777777777778,
              "#fb9f3a"
             ],
             [
              0.8888888888888888,
              "#fdca26"
             ],
             [
              1,
              "#f0f921"
             ]
            ],
            "type": "contour"
           }
          ],
          "contourcarpet": [
           {
            "colorbar": {
             "outlinewidth": 0,
             "ticks": ""
            },
            "type": "contourcarpet"
           }
          ],
          "heatmap": [
           {
            "colorbar": {
             "outlinewidth": 0,
             "ticks": ""
            },
            "colorscale": [
             [
              0,
              "#0d0887"
             ],
             [
              0.1111111111111111,
              "#46039f"
             ],
             [
              0.2222222222222222,
              "#7201a8"
             ],
             [
              0.3333333333333333,
              "#9c179e"
             ],
             [
              0.4444444444444444,
              "#bd3786"
             ],
             [
              0.5555555555555556,
              "#d8576b"
             ],
             [
              0.6666666666666666,
              "#ed7953"
             ],
             [
              0.7777777777777778,
              "#fb9f3a"
             ],
             [
              0.8888888888888888,
              "#fdca26"
             ],
             [
              1,
              "#f0f921"
             ]
            ],
            "type": "heatmap"
           }
          ],
          "heatmapgl": [
           {
            "colorbar": {
             "outlinewidth": 0,
             "ticks": ""
            },
            "colorscale": [
             [
              0,
              "#0d0887"
             ],
             [
              0.1111111111111111,
              "#46039f"
             ],
             [
              0.2222222222222222,
              "#7201a8"
             ],
             [
              0.3333333333333333,
              "#9c179e"
             ],
             [
              0.4444444444444444,
              "#bd3786"
             ],
             [
              0.5555555555555556,
              "#d8576b"
             ],
             [
              0.6666666666666666,
              "#ed7953"
             ],
             [
              0.7777777777777778,
              "#fb9f3a"
             ],
             [
              0.8888888888888888,
              "#fdca26"
             ],
             [
              1,
              "#f0f921"
             ]
            ],
            "type": "heatmapgl"
           }
          ],
          "histogram": [
           {
            "marker": {
             "pattern": {
              "fillmode": "overlay",
              "size": 10,
              "solidity": 0.2
             }
            },
            "type": "histogram"
           }
          ],
          "histogram2d": [
           {
            "colorbar": {
             "outlinewidth": 0,
             "ticks": ""
            },
            "colorscale": [
             [
              0,
              "#0d0887"
             ],
             [
              0.1111111111111111,
              "#46039f"
             ],
             [
              0.2222222222222222,
              "#7201a8"
             ],
             [
              0.3333333333333333,
              "#9c179e"
             ],
             [
              0.4444444444444444,
              "#bd3786"
             ],
             [
              0.5555555555555556,
              "#d8576b"
             ],
             [
              0.6666666666666666,
              "#ed7953"
             ],
             [
              0.7777777777777778,
              "#fb9f3a"
             ],
             [
              0.8888888888888888,
              "#fdca26"
             ],
             [
              1,
              "#f0f921"
             ]
            ],
            "type": "histogram2d"
           }
          ],
          "histogram2dcontour": [
           {
            "colorbar": {
             "outlinewidth": 0,
             "ticks": ""
            },
            "colorscale": [
             [
              0,
              "#0d0887"
             ],
             [
              0.1111111111111111,
              "#46039f"
             ],
             [
              0.2222222222222222,
              "#7201a8"
             ],
             [
              0.3333333333333333,
              "#9c179e"
             ],
             [
              0.4444444444444444,
              "#bd3786"
             ],
             [
              0.5555555555555556,
              "#d8576b"
             ],
             [
              0.6666666666666666,
              "#ed7953"
             ],
             [
              0.7777777777777778,
              "#fb9f3a"
             ],
             [
              0.8888888888888888,
              "#fdca26"
             ],
             [
              1,
              "#f0f921"
             ]
            ],
            "type": "histogram2dcontour"
           }
          ],
          "mesh3d": [
           {
            "colorbar": {
             "outlinewidth": 0,
             "ticks": ""
            },
            "type": "mesh3d"
           }
          ],
          "parcoords": [
           {
            "line": {
             "colorbar": {
              "outlinewidth": 0,
              "ticks": ""
             }
            },
            "type": "parcoords"
           }
          ],
          "pie": [
           {
            "automargin": true,
            "type": "pie"
           }
          ],
          "scatter": [
           {
            "fillpattern": {
             "fillmode": "overlay",
             "size": 10,
             "solidity": 0.2
            },
            "type": "scatter"
           }
          ],
          "scatter3d": [
           {
            "line": {
             "colorbar": {
              "outlinewidth": 0,
              "ticks": ""
             }
            },
            "marker": {
             "colorbar": {
              "outlinewidth": 0,
              "ticks": ""
             }
            },
            "type": "scatter3d"
           }
          ],
          "scattercarpet": [
           {
            "marker": {
             "colorbar": {
              "outlinewidth": 0,
              "ticks": ""
             }
            },
            "type": "scattercarpet"
           }
          ],
          "scattergeo": [
           {
            "marker": {
             "colorbar": {
              "outlinewidth": 0,
              "ticks": ""
             }
            },
            "type": "scattergeo"
           }
          ],
          "scattergl": [
           {
            "marker": {
             "colorbar": {
              "outlinewidth": 0,
              "ticks": ""
             }
            },
            "type": "scattergl"
           }
          ],
          "scattermapbox": [
           {
            "marker": {
             "colorbar": {
              "outlinewidth": 0,
              "ticks": ""
             }
            },
            "type": "scattermapbox"
           }
          ],
          "scatterpolar": [
           {
            "marker": {
             "colorbar": {
              "outlinewidth": 0,
              "ticks": ""
             }
            },
            "type": "scatterpolar"
           }
          ],
          "scatterpolargl": [
           {
            "marker": {
             "colorbar": {
              "outlinewidth": 0,
              "ticks": ""
             }
            },
            "type": "scatterpolargl"
           }
          ],
          "scatterternary": [
           {
            "marker": {
             "colorbar": {
              "outlinewidth": 0,
              "ticks": ""
             }
            },
            "type": "scatterternary"
           }
          ],
          "surface": [
           {
            "colorbar": {
             "outlinewidth": 0,
             "ticks": ""
            },
            "colorscale": [
             [
              0,
              "#0d0887"
             ],
             [
              0.1111111111111111,
              "#46039f"
             ],
             [
              0.2222222222222222,
              "#7201a8"
             ],
             [
              0.3333333333333333,
              "#9c179e"
             ],
             [
              0.4444444444444444,
              "#bd3786"
             ],
             [
              0.5555555555555556,
              "#d8576b"
             ],
             [
              0.6666666666666666,
              "#ed7953"
             ],
             [
              0.7777777777777778,
              "#fb9f3a"
             ],
             [
              0.8888888888888888,
              "#fdca26"
             ],
             [
              1,
              "#f0f921"
             ]
            ],
            "type": "surface"
           }
          ],
          "table": [
           {
            "cells": {
             "fill": {
              "color": "#EBF0F8"
             },
             "line": {
              "color": "white"
             }
            },
            "header": {
             "fill": {
              "color": "#C8D4E3"
             },
             "line": {
              "color": "white"
             }
            },
            "type": "table"
           }
          ]
         },
         "layout": {
          "annotationdefaults": {
           "arrowcolor": "#2a3f5f",
           "arrowhead": 0,
           "arrowwidth": 1
          },
          "autotypenumbers": "strict",
          "coloraxis": {
           "colorbar": {
            "outlinewidth": 0,
            "ticks": ""
           }
          },
          "colorscale": {
           "diverging": [
            [
             0,
             "#8e0152"
            ],
            [
             0.1,
             "#c51b7d"
            ],
            [
             0.2,
             "#de77ae"
            ],
            [
             0.3,
             "#f1b6da"
            ],
            [
             0.4,
             "#fde0ef"
            ],
            [
             0.5,
             "#f7f7f7"
            ],
            [
             0.6,
             "#e6f5d0"
            ],
            [
             0.7,
             "#b8e186"
            ],
            [
             0.8,
             "#7fbc41"
            ],
            [
             0.9,
             "#4d9221"
            ],
            [
             1,
             "#276419"
            ]
           ],
           "sequential": [
            [
             0,
             "#0d0887"
            ],
            [
             0.1111111111111111,
             "#46039f"
            ],
            [
             0.2222222222222222,
             "#7201a8"
            ],
            [
             0.3333333333333333,
             "#9c179e"
            ],
            [
             0.4444444444444444,
             "#bd3786"
            ],
            [
             0.5555555555555556,
             "#d8576b"
            ],
            [
             0.6666666666666666,
             "#ed7953"
            ],
            [
             0.7777777777777778,
             "#fb9f3a"
            ],
            [
             0.8888888888888888,
             "#fdca26"
            ],
            [
             1,
             "#f0f921"
            ]
           ],
           "sequentialminus": [
            [
             0,
             "#0d0887"
            ],
            [
             0.1111111111111111,
             "#46039f"
            ],
            [
             0.2222222222222222,
             "#7201a8"
            ],
            [
             0.3333333333333333,
             "#9c179e"
            ],
            [
             0.4444444444444444,
             "#bd3786"
            ],
            [
             0.5555555555555556,
             "#d8576b"
            ],
            [
             0.6666666666666666,
             "#ed7953"
            ],
            [
             0.7777777777777778,
             "#fb9f3a"
            ],
            [
             0.8888888888888888,
             "#fdca26"
            ],
            [
             1,
             "#f0f921"
            ]
           ]
          },
          "colorway": [
           "#636efa",
           "#EF553B",
           "#00cc96",
           "#ab63fa",
           "#FFA15A",
           "#19d3f3",
           "#FF6692",
           "#B6E880",
           "#FF97FF",
           "#FECB52"
          ],
          "font": {
           "color": "#2a3f5f"
          },
          "geo": {
           "bgcolor": "white",
           "lakecolor": "white",
           "landcolor": "#E5ECF6",
           "showlakes": true,
           "showland": true,
           "subunitcolor": "white"
          },
          "hoverlabel": {
           "align": "left"
          },
          "hovermode": "closest",
          "mapbox": {
           "style": "light"
          },
          "paper_bgcolor": "white",
          "plot_bgcolor": "#E5ECF6",
          "polar": {
           "angularaxis": {
            "gridcolor": "white",
            "linecolor": "white",
            "ticks": ""
           },
           "bgcolor": "#E5ECF6",
           "radialaxis": {
            "gridcolor": "white",
            "linecolor": "white",
            "ticks": ""
           }
          },
          "scene": {
           "xaxis": {
            "backgroundcolor": "#E5ECF6",
            "gridcolor": "white",
            "gridwidth": 2,
            "linecolor": "white",
            "showbackground": true,
            "ticks": "",
            "zerolinecolor": "white"
           },
           "yaxis": {
            "backgroundcolor": "#E5ECF6",
            "gridcolor": "white",
            "gridwidth": 2,
            "linecolor": "white",
            "showbackground": true,
            "ticks": "",
            "zerolinecolor": "white"
           },
           "zaxis": {
            "backgroundcolor": "#E5ECF6",
            "gridcolor": "white",
            "gridwidth": 2,
            "linecolor": "white",
            "showbackground": true,
            "ticks": "",
            "zerolinecolor": "white"
           }
          },
          "shapedefaults": {
           "line": {
            "color": "#2a3f5f"
           }
          },
          "ternary": {
           "aaxis": {
            "gridcolor": "white",
            "linecolor": "white",
            "ticks": ""
           },
           "baxis": {
            "gridcolor": "white",
            "linecolor": "white",
            "ticks": ""
           },
           "bgcolor": "#E5ECF6",
           "caxis": {
            "gridcolor": "white",
            "linecolor": "white",
            "ticks": ""
           }
          },
          "title": {
           "x": 0.05
          },
          "xaxis": {
           "automargin": true,
           "gridcolor": "white",
           "linecolor": "white",
           "ticks": "",
           "title": {
            "standoff": 15
           },
           "zerolinecolor": "white",
           "zerolinewidth": 2
          },
          "yaxis": {
           "automargin": true,
           "gridcolor": "white",
           "linecolor": "white",
           "ticks": "",
           "title": {
            "standoff": 15
           },
           "zerolinecolor": "white",
           "zerolinewidth": 2
          }
         }
        },
        "title": {
         "text": "<b>Doanh thu theo từng tháng của từng PKKH<b>"
        },
        "xaxis": {
         "anchor": "y",
         "domain": [
          0,
          1
         ],
         "title": {
          "text": "Tháng"
         }
        },
        "yaxis": {
         "anchor": "x",
         "domain": [
          0,
          1
         ],
         "title": {
          "text": "Doanh Thu"
         }
        }
       }
      }
     },
     "metadata": {},
     "output_type": "display_data"
    }
   ],
   "source": [
    "# Tạo biểu đồ đường\n",
    "fig = px.line(\n",
    "    data_revenue_of_segment_of_month, \n",
    "    x='Tháng', \n",
    "    y='Doanh thu', \n",
    "    color='Mã PKKH', \n",
    "    title='Doanh Thu Biểu Diễn Theo Từng Tháng',\n",
    "    markers=True, \n",
    "    color_discrete_sequence=px.colors.diverging.Portland   \n",
    ")\n",
    "\n",
    "# Cập nhật bố cục\n",
    "fig.update_layout(\n",
    "    title='<b>Doanh thu theo từng tháng của từng PKKH<b>',\n",
    "    xaxis_title=\"Tháng\",\n",
    "    yaxis_title=\"Doanh Thu\",\n",
    "    paper_bgcolor='lightgrey',\n",
    "    plot_bgcolor='lightgrey',\n",
    ")\n",
    "\n",
    "# Cập nhật độ đậm của đường\n",
    "fig.update_traces(\n",
    "    line=dict(width=2)\n",
    ")\n",
    "\n",
    "# Hiển thị biểu đồ\n",
    "fig.show()"
   ]
  },
  {
   "cell_type": "markdown",
   "metadata": {},
   "source": [
    "<h3 style=\"color:white\"><b>🔘 Doanh thu theo quý của từng PKKH </b></h3>"
   ]
  },
  {
   "cell_type": "code",
   "execution_count": 47,
   "metadata": {},
   "outputs": [
    {
     "data": {
      "text/html": [
       "<div>\n",
       "<style scoped>\n",
       "    .dataframe tbody tr th:only-of-type {\n",
       "        vertical-align: middle;\n",
       "    }\n",
       "\n",
       "    .dataframe tbody tr th {\n",
       "        vertical-align: top;\n",
       "    }\n",
       "\n",
       "    .dataframe thead th {\n",
       "        text-align: right;\n",
       "    }\n",
       "</style>\n",
       "<table border=\"1\" class=\"dataframe\">\n",
       "  <thead>\n",
       "    <tr style=\"text-align: right;\">\n",
       "      <th></th>\n",
       "      <th>Mã PKKH</th>\n",
       "      <th>Quý</th>\n",
       "      <th>Doanh thu</th>\n",
       "    </tr>\n",
       "  </thead>\n",
       "  <tbody>\n",
       "    <tr>\n",
       "      <th>0</th>\n",
       "      <td>A1</td>\n",
       "      <td>1</td>\n",
       "      <td>449880000</td>\n",
       "    </tr>\n",
       "    <tr>\n",
       "      <th>32</th>\n",
       "      <td>C3</td>\n",
       "      <td>1</td>\n",
       "      <td>114555000</td>\n",
       "    </tr>\n",
       "    <tr>\n",
       "      <th>4</th>\n",
       "      <td>A2</td>\n",
       "      <td>1</td>\n",
       "      <td>1532391000</td>\n",
       "    </tr>\n",
       "    <tr>\n",
       "      <th>28</th>\n",
       "      <td>C2</td>\n",
       "      <td>1</td>\n",
       "      <td>409681000</td>\n",
       "    </tr>\n",
       "    <tr>\n",
       "      <th>24</th>\n",
       "      <td>C1</td>\n",
       "      <td>1</td>\n",
       "      <td>172274000</td>\n",
       "    </tr>\n",
       "    <tr>\n",
       "      <th>8</th>\n",
       "      <td>A3</td>\n",
       "      <td>1</td>\n",
       "      <td>2361691000</td>\n",
       "    </tr>\n",
       "    <tr>\n",
       "      <th>20</th>\n",
       "      <td>B3</td>\n",
       "      <td>1</td>\n",
       "      <td>1062339000</td>\n",
       "    </tr>\n",
       "    <tr>\n",
       "      <th>16</th>\n",
       "      <td>B2</td>\n",
       "      <td>1</td>\n",
       "      <td>1360131000</td>\n",
       "    </tr>\n",
       "    <tr>\n",
       "      <th>12</th>\n",
       "      <td>B1</td>\n",
       "      <td>1</td>\n",
       "      <td>678277000</td>\n",
       "    </tr>\n",
       "    <tr>\n",
       "      <th>33</th>\n",
       "      <td>C3</td>\n",
       "      <td>2</td>\n",
       "      <td>122304000</td>\n",
       "    </tr>\n",
       "    <tr>\n",
       "      <th>29</th>\n",
       "      <td>C2</td>\n",
       "      <td>2</td>\n",
       "      <td>443137000</td>\n",
       "    </tr>\n",
       "    <tr>\n",
       "      <th>25</th>\n",
       "      <td>C1</td>\n",
       "      <td>2</td>\n",
       "      <td>172351000</td>\n",
       "    </tr>\n",
       "    <tr>\n",
       "      <th>21</th>\n",
       "      <td>B3</td>\n",
       "      <td>2</td>\n",
       "      <td>1932864000</td>\n",
       "    </tr>\n",
       "    <tr>\n",
       "      <th>17</th>\n",
       "      <td>B2</td>\n",
       "      <td>2</td>\n",
       "      <td>2967553000</td>\n",
       "    </tr>\n",
       "    <tr>\n",
       "      <th>1</th>\n",
       "      <td>A1</td>\n",
       "      <td>2</td>\n",
       "      <td>2241160000</td>\n",
       "    </tr>\n",
       "    <tr>\n",
       "      <th>9</th>\n",
       "      <td>A3</td>\n",
       "      <td>2</td>\n",
       "      <td>2558919000</td>\n",
       "    </tr>\n",
       "    <tr>\n",
       "      <th>13</th>\n",
       "      <td>B1</td>\n",
       "      <td>2</td>\n",
       "      <td>1607934000</td>\n",
       "    </tr>\n",
       "    <tr>\n",
       "      <th>5</th>\n",
       "      <td>A2</td>\n",
       "      <td>2</td>\n",
       "      <td>1662317000</td>\n",
       "    </tr>\n",
       "    <tr>\n",
       "      <th>14</th>\n",
       "      <td>B1</td>\n",
       "      <td>3</td>\n",
       "      <td>1628304000</td>\n",
       "    </tr>\n",
       "    <tr>\n",
       "      <th>2</th>\n",
       "      <td>A1</td>\n",
       "      <td>3</td>\n",
       "      <td>3559003000</td>\n",
       "    </tr>\n",
       "    <tr>\n",
       "      <th>34</th>\n",
       "      <td>C3</td>\n",
       "      <td>3</td>\n",
       "      <td>137164000</td>\n",
       "    </tr>\n",
       "    <tr>\n",
       "      <th>18</th>\n",
       "      <td>B2</td>\n",
       "      <td>3</td>\n",
       "      <td>3426757000</td>\n",
       "    </tr>\n",
       "    <tr>\n",
       "      <th>10</th>\n",
       "      <td>A3</td>\n",
       "      <td>3</td>\n",
       "      <td>2506421000</td>\n",
       "    </tr>\n",
       "    <tr>\n",
       "      <th>22</th>\n",
       "      <td>B3</td>\n",
       "      <td>3</td>\n",
       "      <td>2157212000</td>\n",
       "    </tr>\n",
       "    <tr>\n",
       "      <th>30</th>\n",
       "      <td>C2</td>\n",
       "      <td>3</td>\n",
       "      <td>519563000</td>\n",
       "    </tr>\n",
       "    <tr>\n",
       "      <th>6</th>\n",
       "      <td>A2</td>\n",
       "      <td>3</td>\n",
       "      <td>1848116000</td>\n",
       "    </tr>\n",
       "    <tr>\n",
       "      <th>26</th>\n",
       "      <td>C1</td>\n",
       "      <td>3</td>\n",
       "      <td>210984000</td>\n",
       "    </tr>\n",
       "    <tr>\n",
       "      <th>31</th>\n",
       "      <td>C2</td>\n",
       "      <td>4</td>\n",
       "      <td>989821000</td>\n",
       "    </tr>\n",
       "    <tr>\n",
       "      <th>3</th>\n",
       "      <td>A1</td>\n",
       "      <td>4</td>\n",
       "      <td>3826526000</td>\n",
       "    </tr>\n",
       "    <tr>\n",
       "      <th>7</th>\n",
       "      <td>A2</td>\n",
       "      <td>4</td>\n",
       "      <td>3438140000</td>\n",
       "    </tr>\n",
       "    <tr>\n",
       "      <th>23</th>\n",
       "      <td>B3</td>\n",
       "      <td>4</td>\n",
       "      <td>9275941000</td>\n",
       "    </tr>\n",
       "    <tr>\n",
       "      <th>19</th>\n",
       "      <td>B2</td>\n",
       "      <td>4</td>\n",
       "      <td>11027080000</td>\n",
       "    </tr>\n",
       "    <tr>\n",
       "      <th>11</th>\n",
       "      <td>A3</td>\n",
       "      <td>4</td>\n",
       "      <td>4577730000</td>\n",
       "    </tr>\n",
       "    <tr>\n",
       "      <th>15</th>\n",
       "      <td>B1</td>\n",
       "      <td>4</td>\n",
       "      <td>6462681000</td>\n",
       "    </tr>\n",
       "    <tr>\n",
       "      <th>27</th>\n",
       "      <td>C1</td>\n",
       "      <td>4</td>\n",
       "      <td>392076000</td>\n",
       "    </tr>\n",
       "    <tr>\n",
       "      <th>35</th>\n",
       "      <td>C3</td>\n",
       "      <td>4</td>\n",
       "      <td>205722000</td>\n",
       "    </tr>\n",
       "  </tbody>\n",
       "</table>\n",
       "</div>"
      ],
      "text/plain": [
       "   Mã PKKH  Quý    Doanh thu\n",
       "0       A1    1    449880000\n",
       "32      C3    1    114555000\n",
       "4       A2    1   1532391000\n",
       "28      C2    1    409681000\n",
       "24      C1    1    172274000\n",
       "8       A3    1   2361691000\n",
       "20      B3    1   1062339000\n",
       "16      B2    1   1360131000\n",
       "12      B1    1    678277000\n",
       "33      C3    2    122304000\n",
       "29      C2    2    443137000\n",
       "25      C1    2    172351000\n",
       "21      B3    2   1932864000\n",
       "17      B2    2   2967553000\n",
       "1       A1    2   2241160000\n",
       "9       A3    2   2558919000\n",
       "13      B1    2   1607934000\n",
       "5       A2    2   1662317000\n",
       "14      B1    3   1628304000\n",
       "2       A1    3   3559003000\n",
       "34      C3    3    137164000\n",
       "18      B2    3   3426757000\n",
       "10      A3    3   2506421000\n",
       "22      B3    3   2157212000\n",
       "30      C2    3    519563000\n",
       "6       A2    3   1848116000\n",
       "26      C1    3    210984000\n",
       "31      C2    4    989821000\n",
       "3       A1    4   3826526000\n",
       "7       A2    4   3438140000\n",
       "23      B3    4   9275941000\n",
       "19      B2    4  11027080000\n",
       "11      A3    4   4577730000\n",
       "15      B1    4   6462681000\n",
       "27      C1    4    392076000\n",
       "35      C3    4    205722000"
      ]
     },
     "execution_count": 47,
     "metadata": {},
     "output_type": "execute_result"
    }
   ],
   "source": [
    "data_revenue_of_segment_of_quarter = data.groupby([\"Mã PKKH\",\"Quý\"])[\"Thành tiền\"].sum().reset_index(name=\"Doanh thu\")\n",
    "data_revenue_of_segment_of_quarter.sort_values(by=\"Quý\", ascending=True)"
   ]
  },
  {
   "cell_type": "code",
   "execution_count": 48,
   "metadata": {},
   "outputs": [
    {
     "data": {
      "application/vnd.plotly.v1+json": {
       "config": {
        "plotlyServerURL": "https://plot.ly"
       },
       "data": [
        {
         "hovertemplate": "Mã PKKH=A1<br>Quý=%{x}<br>Doanh thu=%{y}<extra></extra>",
         "legendgroup": "A1",
         "line": {
          "color": "rgb(12,51,131)",
          "dash": "solid",
          "width": 3
         },
         "marker": {
          "symbol": "circle"
         },
         "mode": "lines+markers",
         "name": "A1",
         "orientation": "v",
         "showlegend": true,
         "type": "scatter",
         "x": [
          1,
          2,
          3,
          4
         ],
         "xaxis": "x",
         "y": [
          449880000,
          2241160000,
          3559003000,
          3826526000
         ],
         "yaxis": "y"
        },
        {
         "hovertemplate": "Mã PKKH=A2<br>Quý=%{x}<br>Doanh thu=%{y}<extra></extra>",
         "legendgroup": "A2",
         "line": {
          "color": "rgb(10,136,186)",
          "dash": "solid",
          "width": 3
         },
         "marker": {
          "symbol": "circle"
         },
         "mode": "lines+markers",
         "name": "A2",
         "orientation": "v",
         "showlegend": true,
         "type": "scatter",
         "x": [
          1,
          2,
          3,
          4
         ],
         "xaxis": "x",
         "y": [
          1532391000,
          1662317000,
          1848116000,
          3438140000
         ],
         "yaxis": "y"
        },
        {
         "hovertemplate": "Mã PKKH=A3<br>Quý=%{x}<br>Doanh thu=%{y}<extra></extra>",
         "legendgroup": "A3",
         "line": {
          "color": "rgb(242,211,56)",
          "dash": "solid",
          "width": 3
         },
         "marker": {
          "symbol": "circle"
         },
         "mode": "lines+markers",
         "name": "A3",
         "orientation": "v",
         "showlegend": true,
         "type": "scatter",
         "x": [
          1,
          2,
          3,
          4
         ],
         "xaxis": "x",
         "y": [
          2361691000,
          2558919000,
          2506421000,
          4577730000
         ],
         "yaxis": "y"
        },
        {
         "hovertemplate": "Mã PKKH=B1<br>Quý=%{x}<br>Doanh thu=%{y}<extra></extra>",
         "legendgroup": "B1",
         "line": {
          "color": "rgb(242,143,56)",
          "dash": "solid",
          "width": 3
         },
         "marker": {
          "symbol": "circle"
         },
         "mode": "lines+markers",
         "name": "B1",
         "orientation": "v",
         "showlegend": true,
         "type": "scatter",
         "x": [
          1,
          2,
          3,
          4
         ],
         "xaxis": "x",
         "y": [
          678277000,
          1607934000,
          1628304000,
          6462681000
         ],
         "yaxis": "y"
        },
        {
         "hovertemplate": "Mã PKKH=B2<br>Quý=%{x}<br>Doanh thu=%{y}<extra></extra>",
         "legendgroup": "B2",
         "line": {
          "color": "rgb(217,30,30)",
          "dash": "solid",
          "width": 3
         },
         "marker": {
          "symbol": "circle"
         },
         "mode": "lines+markers",
         "name": "B2",
         "orientation": "v",
         "showlegend": true,
         "type": "scatter",
         "x": [
          1,
          2,
          3,
          4
         ],
         "xaxis": "x",
         "y": [
          1360131000,
          2967553000,
          3426757000,
          11027080000
         ],
         "yaxis": "y"
        },
        {
         "hovertemplate": "Mã PKKH=B3<br>Quý=%{x}<br>Doanh thu=%{y}<extra></extra>",
         "legendgroup": "B3",
         "line": {
          "color": "rgb(12,51,131)",
          "dash": "solid",
          "width": 3
         },
         "marker": {
          "symbol": "circle"
         },
         "mode": "lines+markers",
         "name": "B3",
         "orientation": "v",
         "showlegend": true,
         "type": "scatter",
         "x": [
          1,
          2,
          3,
          4
         ],
         "xaxis": "x",
         "y": [
          1062339000,
          1932864000,
          2157212000,
          9275941000
         ],
         "yaxis": "y"
        },
        {
         "hovertemplate": "Mã PKKH=C1<br>Quý=%{x}<br>Doanh thu=%{y}<extra></extra>",
         "legendgroup": "C1",
         "line": {
          "color": "rgb(10,136,186)",
          "dash": "solid",
          "width": 3
         },
         "marker": {
          "symbol": "circle"
         },
         "mode": "lines+markers",
         "name": "C1",
         "orientation": "v",
         "showlegend": true,
         "type": "scatter",
         "x": [
          1,
          2,
          3,
          4
         ],
         "xaxis": "x",
         "y": [
          172274000,
          172351000,
          210984000,
          392076000
         ],
         "yaxis": "y"
        },
        {
         "hovertemplate": "Mã PKKH=C2<br>Quý=%{x}<br>Doanh thu=%{y}<extra></extra>",
         "legendgroup": "C2",
         "line": {
          "color": "rgb(242,211,56)",
          "dash": "solid",
          "width": 3
         },
         "marker": {
          "symbol": "circle"
         },
         "mode": "lines+markers",
         "name": "C2",
         "orientation": "v",
         "showlegend": true,
         "type": "scatter",
         "x": [
          1,
          2,
          3,
          4
         ],
         "xaxis": "x",
         "y": [
          409681000,
          443137000,
          519563000,
          989821000
         ],
         "yaxis": "y"
        },
        {
         "hovertemplate": "Mã PKKH=C3<br>Quý=%{x}<br>Doanh thu=%{y}<extra></extra>",
         "legendgroup": "C3",
         "line": {
          "color": "rgb(242,143,56)",
          "dash": "solid",
          "width": 3
         },
         "marker": {
          "symbol": "circle"
         },
         "mode": "lines+markers",
         "name": "C3",
         "orientation": "v",
         "showlegend": true,
         "type": "scatter",
         "x": [
          1,
          2,
          3,
          4
         ],
         "xaxis": "x",
         "y": [
          114555000,
          122304000,
          137164000,
          205722000
         ],
         "yaxis": "y"
        }
       ],
       "layout": {
        "height": 600,
        "legend": {
         "title": {
          "text": "Mã PKKH"
         },
         "tracegroupgap": 0
        },
        "paper_bgcolor": "lightgrey",
        "plot_bgcolor": "lightgrey",
        "template": {
         "data": {
          "bar": [
           {
            "error_x": {
             "color": "#2a3f5f"
            },
            "error_y": {
             "color": "#2a3f5f"
            },
            "marker": {
             "line": {
              "color": "#E5ECF6",
              "width": 0.5
             },
             "pattern": {
              "fillmode": "overlay",
              "size": 10,
              "solidity": 0.2
             }
            },
            "type": "bar"
           }
          ],
          "barpolar": [
           {
            "marker": {
             "line": {
              "color": "#E5ECF6",
              "width": 0.5
             },
             "pattern": {
              "fillmode": "overlay",
              "size": 10,
              "solidity": 0.2
             }
            },
            "type": "barpolar"
           }
          ],
          "carpet": [
           {
            "aaxis": {
             "endlinecolor": "#2a3f5f",
             "gridcolor": "white",
             "linecolor": "white",
             "minorgridcolor": "white",
             "startlinecolor": "#2a3f5f"
            },
            "baxis": {
             "endlinecolor": "#2a3f5f",
             "gridcolor": "white",
             "linecolor": "white",
             "minorgridcolor": "white",
             "startlinecolor": "#2a3f5f"
            },
            "type": "carpet"
           }
          ],
          "choropleth": [
           {
            "colorbar": {
             "outlinewidth": 0,
             "ticks": ""
            },
            "type": "choropleth"
           }
          ],
          "contour": [
           {
            "colorbar": {
             "outlinewidth": 0,
             "ticks": ""
            },
            "colorscale": [
             [
              0,
              "#0d0887"
             ],
             [
              0.1111111111111111,
              "#46039f"
             ],
             [
              0.2222222222222222,
              "#7201a8"
             ],
             [
              0.3333333333333333,
              "#9c179e"
             ],
             [
              0.4444444444444444,
              "#bd3786"
             ],
             [
              0.5555555555555556,
              "#d8576b"
             ],
             [
              0.6666666666666666,
              "#ed7953"
             ],
             [
              0.7777777777777778,
              "#fb9f3a"
             ],
             [
              0.8888888888888888,
              "#fdca26"
             ],
             [
              1,
              "#f0f921"
             ]
            ],
            "type": "contour"
           }
          ],
          "contourcarpet": [
           {
            "colorbar": {
             "outlinewidth": 0,
             "ticks": ""
            },
            "type": "contourcarpet"
           }
          ],
          "heatmap": [
           {
            "colorbar": {
             "outlinewidth": 0,
             "ticks": ""
            },
            "colorscale": [
             [
              0,
              "#0d0887"
             ],
             [
              0.1111111111111111,
              "#46039f"
             ],
             [
              0.2222222222222222,
              "#7201a8"
             ],
             [
              0.3333333333333333,
              "#9c179e"
             ],
             [
              0.4444444444444444,
              "#bd3786"
             ],
             [
              0.5555555555555556,
              "#d8576b"
             ],
             [
              0.6666666666666666,
              "#ed7953"
             ],
             [
              0.7777777777777778,
              "#fb9f3a"
             ],
             [
              0.8888888888888888,
              "#fdca26"
             ],
             [
              1,
              "#f0f921"
             ]
            ],
            "type": "heatmap"
           }
          ],
          "heatmapgl": [
           {
            "colorbar": {
             "outlinewidth": 0,
             "ticks": ""
            },
            "colorscale": [
             [
              0,
              "#0d0887"
             ],
             [
              0.1111111111111111,
              "#46039f"
             ],
             [
              0.2222222222222222,
              "#7201a8"
             ],
             [
              0.3333333333333333,
              "#9c179e"
             ],
             [
              0.4444444444444444,
              "#bd3786"
             ],
             [
              0.5555555555555556,
              "#d8576b"
             ],
             [
              0.6666666666666666,
              "#ed7953"
             ],
             [
              0.7777777777777778,
              "#fb9f3a"
             ],
             [
              0.8888888888888888,
              "#fdca26"
             ],
             [
              1,
              "#f0f921"
             ]
            ],
            "type": "heatmapgl"
           }
          ],
          "histogram": [
           {
            "marker": {
             "pattern": {
              "fillmode": "overlay",
              "size": 10,
              "solidity": 0.2
             }
            },
            "type": "histogram"
           }
          ],
          "histogram2d": [
           {
            "colorbar": {
             "outlinewidth": 0,
             "ticks": ""
            },
            "colorscale": [
             [
              0,
              "#0d0887"
             ],
             [
              0.1111111111111111,
              "#46039f"
             ],
             [
              0.2222222222222222,
              "#7201a8"
             ],
             [
              0.3333333333333333,
              "#9c179e"
             ],
             [
              0.4444444444444444,
              "#bd3786"
             ],
             [
              0.5555555555555556,
              "#d8576b"
             ],
             [
              0.6666666666666666,
              "#ed7953"
             ],
             [
              0.7777777777777778,
              "#fb9f3a"
             ],
             [
              0.8888888888888888,
              "#fdca26"
             ],
             [
              1,
              "#f0f921"
             ]
            ],
            "type": "histogram2d"
           }
          ],
          "histogram2dcontour": [
           {
            "colorbar": {
             "outlinewidth": 0,
             "ticks": ""
            },
            "colorscale": [
             [
              0,
              "#0d0887"
             ],
             [
              0.1111111111111111,
              "#46039f"
             ],
             [
              0.2222222222222222,
              "#7201a8"
             ],
             [
              0.3333333333333333,
              "#9c179e"
             ],
             [
              0.4444444444444444,
              "#bd3786"
             ],
             [
              0.5555555555555556,
              "#d8576b"
             ],
             [
              0.6666666666666666,
              "#ed7953"
             ],
             [
              0.7777777777777778,
              "#fb9f3a"
             ],
             [
              0.8888888888888888,
              "#fdca26"
             ],
             [
              1,
              "#f0f921"
             ]
            ],
            "type": "histogram2dcontour"
           }
          ],
          "mesh3d": [
           {
            "colorbar": {
             "outlinewidth": 0,
             "ticks": ""
            },
            "type": "mesh3d"
           }
          ],
          "parcoords": [
           {
            "line": {
             "colorbar": {
              "outlinewidth": 0,
              "ticks": ""
             }
            },
            "type": "parcoords"
           }
          ],
          "pie": [
           {
            "automargin": true,
            "type": "pie"
           }
          ],
          "scatter": [
           {
            "fillpattern": {
             "fillmode": "overlay",
             "size": 10,
             "solidity": 0.2
            },
            "type": "scatter"
           }
          ],
          "scatter3d": [
           {
            "line": {
             "colorbar": {
              "outlinewidth": 0,
              "ticks": ""
             }
            },
            "marker": {
             "colorbar": {
              "outlinewidth": 0,
              "ticks": ""
             }
            },
            "type": "scatter3d"
           }
          ],
          "scattercarpet": [
           {
            "marker": {
             "colorbar": {
              "outlinewidth": 0,
              "ticks": ""
             }
            },
            "type": "scattercarpet"
           }
          ],
          "scattergeo": [
           {
            "marker": {
             "colorbar": {
              "outlinewidth": 0,
              "ticks": ""
             }
            },
            "type": "scattergeo"
           }
          ],
          "scattergl": [
           {
            "marker": {
             "colorbar": {
              "outlinewidth": 0,
              "ticks": ""
             }
            },
            "type": "scattergl"
           }
          ],
          "scattermapbox": [
           {
            "marker": {
             "colorbar": {
              "outlinewidth": 0,
              "ticks": ""
             }
            },
            "type": "scattermapbox"
           }
          ],
          "scatterpolar": [
           {
            "marker": {
             "colorbar": {
              "outlinewidth": 0,
              "ticks": ""
             }
            },
            "type": "scatterpolar"
           }
          ],
          "scatterpolargl": [
           {
            "marker": {
             "colorbar": {
              "outlinewidth": 0,
              "ticks": ""
             }
            },
            "type": "scatterpolargl"
           }
          ],
          "scatterternary": [
           {
            "marker": {
             "colorbar": {
              "outlinewidth": 0,
              "ticks": ""
             }
            },
            "type": "scatterternary"
           }
          ],
          "surface": [
           {
            "colorbar": {
             "outlinewidth": 0,
             "ticks": ""
            },
            "colorscale": [
             [
              0,
              "#0d0887"
             ],
             [
              0.1111111111111111,
              "#46039f"
             ],
             [
              0.2222222222222222,
              "#7201a8"
             ],
             [
              0.3333333333333333,
              "#9c179e"
             ],
             [
              0.4444444444444444,
              "#bd3786"
             ],
             [
              0.5555555555555556,
              "#d8576b"
             ],
             [
              0.6666666666666666,
              "#ed7953"
             ],
             [
              0.7777777777777778,
              "#fb9f3a"
             ],
             [
              0.8888888888888888,
              "#fdca26"
             ],
             [
              1,
              "#f0f921"
             ]
            ],
            "type": "surface"
           }
          ],
          "table": [
           {
            "cells": {
             "fill": {
              "color": "#EBF0F8"
             },
             "line": {
              "color": "white"
             }
            },
            "header": {
             "fill": {
              "color": "#C8D4E3"
             },
             "line": {
              "color": "white"
             }
            },
            "type": "table"
           }
          ]
         },
         "layout": {
          "annotationdefaults": {
           "arrowcolor": "#2a3f5f",
           "arrowhead": 0,
           "arrowwidth": 1
          },
          "autotypenumbers": "strict",
          "coloraxis": {
           "colorbar": {
            "outlinewidth": 0,
            "ticks": ""
           }
          },
          "colorscale": {
           "diverging": [
            [
             0,
             "#8e0152"
            ],
            [
             0.1,
             "#c51b7d"
            ],
            [
             0.2,
             "#de77ae"
            ],
            [
             0.3,
             "#f1b6da"
            ],
            [
             0.4,
             "#fde0ef"
            ],
            [
             0.5,
             "#f7f7f7"
            ],
            [
             0.6,
             "#e6f5d0"
            ],
            [
             0.7,
             "#b8e186"
            ],
            [
             0.8,
             "#7fbc41"
            ],
            [
             0.9,
             "#4d9221"
            ],
            [
             1,
             "#276419"
            ]
           ],
           "sequential": [
            [
             0,
             "#0d0887"
            ],
            [
             0.1111111111111111,
             "#46039f"
            ],
            [
             0.2222222222222222,
             "#7201a8"
            ],
            [
             0.3333333333333333,
             "#9c179e"
            ],
            [
             0.4444444444444444,
             "#bd3786"
            ],
            [
             0.5555555555555556,
             "#d8576b"
            ],
            [
             0.6666666666666666,
             "#ed7953"
            ],
            [
             0.7777777777777778,
             "#fb9f3a"
            ],
            [
             0.8888888888888888,
             "#fdca26"
            ],
            [
             1,
             "#f0f921"
            ]
           ],
           "sequentialminus": [
            [
             0,
             "#0d0887"
            ],
            [
             0.1111111111111111,
             "#46039f"
            ],
            [
             0.2222222222222222,
             "#7201a8"
            ],
            [
             0.3333333333333333,
             "#9c179e"
            ],
            [
             0.4444444444444444,
             "#bd3786"
            ],
            [
             0.5555555555555556,
             "#d8576b"
            ],
            [
             0.6666666666666666,
             "#ed7953"
            ],
            [
             0.7777777777777778,
             "#fb9f3a"
            ],
            [
             0.8888888888888888,
             "#fdca26"
            ],
            [
             1,
             "#f0f921"
            ]
           ]
          },
          "colorway": [
           "#636efa",
           "#EF553B",
           "#00cc96",
           "#ab63fa",
           "#FFA15A",
           "#19d3f3",
           "#FF6692",
           "#B6E880",
           "#FF97FF",
           "#FECB52"
          ],
          "font": {
           "color": "#2a3f5f"
          },
          "geo": {
           "bgcolor": "white",
           "lakecolor": "white",
           "landcolor": "#E5ECF6",
           "showlakes": true,
           "showland": true,
           "subunitcolor": "white"
          },
          "hoverlabel": {
           "align": "left"
          },
          "hovermode": "closest",
          "mapbox": {
           "style": "light"
          },
          "paper_bgcolor": "white",
          "plot_bgcolor": "#E5ECF6",
          "polar": {
           "angularaxis": {
            "gridcolor": "white",
            "linecolor": "white",
            "ticks": ""
           },
           "bgcolor": "#E5ECF6",
           "radialaxis": {
            "gridcolor": "white",
            "linecolor": "white",
            "ticks": ""
           }
          },
          "scene": {
           "xaxis": {
            "backgroundcolor": "#E5ECF6",
            "gridcolor": "white",
            "gridwidth": 2,
            "linecolor": "white",
            "showbackground": true,
            "ticks": "",
            "zerolinecolor": "white"
           },
           "yaxis": {
            "backgroundcolor": "#E5ECF6",
            "gridcolor": "white",
            "gridwidth": 2,
            "linecolor": "white",
            "showbackground": true,
            "ticks": "",
            "zerolinecolor": "white"
           },
           "zaxis": {
            "backgroundcolor": "#E5ECF6",
            "gridcolor": "white",
            "gridwidth": 2,
            "linecolor": "white",
            "showbackground": true,
            "ticks": "",
            "zerolinecolor": "white"
           }
          },
          "shapedefaults": {
           "line": {
            "color": "#2a3f5f"
           }
          },
          "ternary": {
           "aaxis": {
            "gridcolor": "white",
            "linecolor": "white",
            "ticks": ""
           },
           "baxis": {
            "gridcolor": "white",
            "linecolor": "white",
            "ticks": ""
           },
           "bgcolor": "#E5ECF6",
           "caxis": {
            "gridcolor": "white",
            "linecolor": "white",
            "ticks": ""
           }
          },
          "title": {
           "x": 0.05
          },
          "xaxis": {
           "automargin": true,
           "gridcolor": "white",
           "linecolor": "white",
           "ticks": "",
           "title": {
            "standoff": 15
           },
           "zerolinecolor": "white",
           "zerolinewidth": 2
          },
          "yaxis": {
           "automargin": true,
           "gridcolor": "white",
           "linecolor": "white",
           "ticks": "",
           "title": {
            "standoff": 15
           },
           "zerolinecolor": "white",
           "zerolinewidth": 2
          }
         }
        },
        "title": {
         "text": "<b>Doanh thu theo từng Quý của từng PKKH<b>"
        },
        "width": 1100,
        "xaxis": {
         "anchor": "y",
         "domain": [
          0,
          1
         ],
         "title": {
          "text": "Quý"
         }
        },
        "yaxis": {
         "anchor": "x",
         "domain": [
          0,
          1
         ],
         "title": {
          "text": "Doanh Thu"
         }
        }
       }
      }
     },
     "metadata": {},
     "output_type": "display_data"
    }
   ],
   "source": [
    "# Tạo biểu đồ đường\n",
    "fig = px.line(\n",
    "    data_revenue_of_segment_of_quarter, \n",
    "    x='Quý', \n",
    "    y='Doanh thu', \n",
    "    color='Mã PKKH', \n",
    "    title='Doanh Thu Biểu Diễn Theo Từng Quý',\n",
    "    markers=True, \n",
    "    color_discrete_sequence=px.colors.diverging.Portland   \n",
    ")\n",
    "\n",
    "# Cập nhật bố cục\n",
    "fig.update_layout(\n",
    "    title='<b>Doanh thu theo từng Quý của từng PKKH<b>',\n",
    "    xaxis_title=\"Quý\",\n",
    "    yaxis_title=\"Doanh Thu\",\n",
    "    paper_bgcolor='lightgrey',\n",
    "    plot_bgcolor='lightgrey',\n",
    "    height=600,  # Tăng kích thước chiều cao\n",
    "    width=1100\n",
    ")\n",
    "\n",
    "# Cập nhật độ đậm của đường\n",
    "fig.update_traces(\n",
    "    line=dict(width=3)\n",
    ")\n",
    "\n",
    "# Hiển thị biểu đồ\n",
    "fig.show()"
   ]
  },
  {
   "cell_type": "markdown",
   "metadata": {},
   "source": [
    "<h3 style=\"color:white\"><b>--> Từ phân tích tổng quan về số đơn hàng và doanh thu, ta thấy quý 4 có số đơn hàng và doanh thu vượt trội so với các quý còn lại trong năm</b></h3>"
   ]
  },
  {
   "cell_type": "markdown",
   "metadata": {},
   "source": [
    "<h1 style=\"color:white\"><strong><em>* Ý tưởng 1 : Phân tích theo Quý 4"
   ]
  },
  {
   "cell_type": "markdown",
   "metadata": {},
   "source": [
    "<h3 style=\"color:white\"><b>--> Nhóm sẽ thực hiện phân tích theo Quý 4</b></h3>"
   ]
  },
  {
   "cell_type": "markdown",
   "metadata": {},
   "source": [
    "<p style=\"text-align:center;\">------------------------------------------------------------------------------------</p>"
   ]
  },
  {
   "cell_type": "markdown",
   "metadata": {},
   "source": [
    "<h1 style=\"color:#ffffff;font-family:Georgia;text-align:center;\"><strong>✨ Phân tích giỏ hàng theo Quý 4 ✨"
   ]
  },
  {
   "cell_type": "markdown",
   "metadata": {},
   "source": [
    "<h3 style=\"color:white\"><b>🔘 Lọc ra những sản phẩm trong Quý 4</b></h3>"
   ]
  },
  {
   "cell_type": "code",
   "execution_count": 49,
   "metadata": {},
   "outputs": [],
   "source": [
    "products_in_quarter = data[data[\"Quý\"] ==4]\n",
    "df_quarter=products_in_quarter"
   ]
  },
  {
   "cell_type": "code",
   "execution_count": 50,
   "metadata": {},
   "outputs": [
    {
     "data": {
      "text/html": [
       "<div>\n",
       "<style scoped>\n",
       "    .dataframe tbody tr th:only-of-type {\n",
       "        vertical-align: middle;\n",
       "    }\n",
       "\n",
       "    .dataframe tbody tr th {\n",
       "        vertical-align: top;\n",
       "    }\n",
       "\n",
       "    .dataframe thead th {\n",
       "        text-align: right;\n",
       "    }\n",
       "</style>\n",
       "<table border=\"1\" class=\"dataframe\">\n",
       "  <thead>\n",
       "    <tr style=\"text-align: right;\">\n",
       "      <th></th>\n",
       "      <th>Thời gian tạo đơn</th>\n",
       "      <th>Mã đơn hàng</th>\n",
       "      <th>Mã khách hàng</th>\n",
       "      <th>Tên khách hàng</th>\n",
       "      <th>Mã PKKH</th>\n",
       "      <th>Mô tả Phân Khúc Khách hàng</th>\n",
       "      <th>Mã nhóm hàng</th>\n",
       "      <th>Tên nhóm hàng</th>\n",
       "      <th>Mã mặt hàng</th>\n",
       "      <th>Tên mặt hàng</th>\n",
       "      <th>SL</th>\n",
       "      <th>Đơn giá</th>\n",
       "      <th>Thành tiền</th>\n",
       "      <th>Thời gian</th>\n",
       "      <th>Ngày</th>\n",
       "      <th>Tháng</th>\n",
       "      <th>Quý</th>\n",
       "      <th>Năm</th>\n",
       "      <th>Nhóm PKKH</th>\n",
       "    </tr>\n",
       "  </thead>\n",
       "  <tbody>\n",
       "    <tr>\n",
       "      <th>249410</th>\n",
       "      <td>2022-10-01 08:00:01</td>\n",
       "      <td>ORD0019862</td>\n",
       "      <td>CUZ16165</td>\n",
       "      <td>NaN</td>\n",
       "      <td>A2</td>\n",
       "      <td>Nhân viên văn phòng, freelancer thu nhập trung...</td>\n",
       "      <td>BAN</td>\n",
       "      <td>Bánh</td>\n",
       "      <td>BAN01</td>\n",
       "      <td>Bánh gấu thái lan nhân SCL</td>\n",
       "      <td>1</td>\n",
       "      <td>65000</td>\n",
       "      <td>65000</td>\n",
       "      <td>08:00:01</td>\n",
       "      <td>1</td>\n",
       "      <td>10</td>\n",
       "      <td>4</td>\n",
       "      <td>2022</td>\n",
       "      <td>A</td>\n",
       "    </tr>\n",
       "    <tr>\n",
       "      <th>249411</th>\n",
       "      <td>2022-10-01 08:00:01</td>\n",
       "      <td>ORD0019862</td>\n",
       "      <td>CUZ16165</td>\n",
       "      <td>NaN</td>\n",
       "      <td>A2</td>\n",
       "      <td>Nhân viên văn phòng, freelancer thu nhập trung...</td>\n",
       "      <td>BIM</td>\n",
       "      <td>Bim Bim</td>\n",
       "      <td>BIM02</td>\n",
       "      <td>Cơm cháy lắc khô gà</td>\n",
       "      <td>1</td>\n",
       "      <td>58000</td>\n",
       "      <td>58000</td>\n",
       "      <td>08:00:01</td>\n",
       "      <td>1</td>\n",
       "      <td>10</td>\n",
       "      <td>4</td>\n",
       "      <td>2022</td>\n",
       "      <td>A</td>\n",
       "    </tr>\n",
       "    <tr>\n",
       "      <th>249412</th>\n",
       "      <td>2022-10-01 08:00:01</td>\n",
       "      <td>ORD0019862</td>\n",
       "      <td>CUZ16165</td>\n",
       "      <td>NaN</td>\n",
       "      <td>A2</td>\n",
       "      <td>Nhân viên văn phòng, freelancer thu nhập trung...</td>\n",
       "      <td>BIM</td>\n",
       "      <td>Bim Bim</td>\n",
       "      <td>BIM03</td>\n",
       "      <td>Nui sấy bò lá chanh</td>\n",
       "      <td>1</td>\n",
       "      <td>59000</td>\n",
       "      <td>59000</td>\n",
       "      <td>08:00:01</td>\n",
       "      <td>1</td>\n",
       "      <td>10</td>\n",
       "      <td>4</td>\n",
       "      <td>2022</td>\n",
       "      <td>A</td>\n",
       "    </tr>\n",
       "    <tr>\n",
       "      <th>249413</th>\n",
       "      <td>2022-10-01 08:00:01</td>\n",
       "      <td>ORD0019862</td>\n",
       "      <td>CUZ16165</td>\n",
       "      <td>NaN</td>\n",
       "      <td>A2</td>\n",
       "      <td>Nhân viên văn phòng, freelancer thu nhập trung...</td>\n",
       "      <td>BIM</td>\n",
       "      <td>Bim Bim</td>\n",
       "      <td>BIM06</td>\n",
       "      <td>Rong biển cháy tỏi</td>\n",
       "      <td>1</td>\n",
       "      <td>64000</td>\n",
       "      <td>64000</td>\n",
       "      <td>08:00:01</td>\n",
       "      <td>1</td>\n",
       "      <td>10</td>\n",
       "      <td>4</td>\n",
       "      <td>2022</td>\n",
       "      <td>A</td>\n",
       "    </tr>\n",
       "    <tr>\n",
       "      <th>249414</th>\n",
       "      <td>2022-10-01 08:00:01</td>\n",
       "      <td>ORD0019862</td>\n",
       "      <td>CUZ16165</td>\n",
       "      <td>NaN</td>\n",
       "      <td>A2</td>\n",
       "      <td>Nhân viên văn phòng, freelancer thu nhập trung...</td>\n",
       "      <td>BOT</td>\n",
       "      <td>Bột củ sen</td>\n",
       "      <td>BOT01</td>\n",
       "      <td>Bột củ sen hòa tan hạt chia hoa hạt dinh dưỡng</td>\n",
       "      <td>1</td>\n",
       "      <td>75000</td>\n",
       "      <td>75000</td>\n",
       "      <td>08:00:01</td>\n",
       "      <td>1</td>\n",
       "      <td>10</td>\n",
       "      <td>4</td>\n",
       "      <td>2022</td>\n",
       "      <td>A</td>\n",
       "    </tr>\n",
       "  </tbody>\n",
       "</table>\n",
       "</div>"
      ],
      "text/plain": [
       "         Thời gian tạo đơn Mã đơn hàng Mã khách hàng Tên khách hàng Mã PKKH  \\\n",
       "249410 2022-10-01 08:00:01  ORD0019862      CUZ16165            NaN      A2   \n",
       "249411 2022-10-01 08:00:01  ORD0019862      CUZ16165            NaN      A2   \n",
       "249412 2022-10-01 08:00:01  ORD0019862      CUZ16165            NaN      A2   \n",
       "249413 2022-10-01 08:00:01  ORD0019862      CUZ16165            NaN      A2   \n",
       "249414 2022-10-01 08:00:01  ORD0019862      CUZ16165            NaN      A2   \n",
       "\n",
       "                               Mô tả Phân Khúc Khách hàng Mã nhóm hàng  \\\n",
       "249410  Nhân viên văn phòng, freelancer thu nhập trung...          BAN   \n",
       "249411  Nhân viên văn phòng, freelancer thu nhập trung...          BIM   \n",
       "249412  Nhân viên văn phòng, freelancer thu nhập trung...          BIM   \n",
       "249413  Nhân viên văn phòng, freelancer thu nhập trung...          BIM   \n",
       "249414  Nhân viên văn phòng, freelancer thu nhập trung...          BOT   \n",
       "\n",
       "       Tên nhóm hàng Mã mặt hàng  \\\n",
       "249410          Bánh       BAN01   \n",
       "249411       Bim Bim       BIM02   \n",
       "249412       Bim Bim       BIM03   \n",
       "249413       Bim Bim       BIM06   \n",
       "249414    Bột củ sen       BOT01   \n",
       "\n",
       "                                          Tên mặt hàng  SL  Đơn giá  \\\n",
       "249410                      Bánh gấu thái lan nhân SCL   1    65000   \n",
       "249411                             Cơm cháy lắc khô gà   1    58000   \n",
       "249412                             Nui sấy bò lá chanh   1    59000   \n",
       "249413                              Rong biển cháy tỏi   1    64000   \n",
       "249414  Bột củ sen hòa tan hạt chia hoa hạt dinh dưỡng   1    75000   \n",
       "\n",
       "        Thành tiền Thời gian  Ngày  Tháng  Quý   Năm Nhóm PKKH  \n",
       "249410       65000  08:00:01     1     10    4  2022         A  \n",
       "249411       58000  08:00:01     1     10    4  2022         A  \n",
       "249412       59000  08:00:01     1     10    4  2022         A  \n",
       "249413       64000  08:00:01     1     10    4  2022         A  \n",
       "249414       75000  08:00:01     1     10    4  2022         A  "
      ]
     },
     "execution_count": 50,
     "metadata": {},
     "output_type": "execute_result"
    }
   ],
   "source": [
    "df_quarter.head()"
   ]
  },
  {
   "cell_type": "markdown",
   "metadata": {},
   "source": [
    "<h3 style=\"color:white\"><strong>🔘 Doanh thu những mặt hàng theo nhóm hàng"
   ]
  },
  {
   "cell_type": "code",
   "execution_count": 51,
   "metadata": {},
   "outputs": [
    {
     "data": {
      "text/html": [
       "<div>\n",
       "<style scoped>\n",
       "    .dataframe tbody tr th:only-of-type {\n",
       "        vertical-align: middle;\n",
       "    }\n",
       "\n",
       "    .dataframe tbody tr th {\n",
       "        vertical-align: top;\n",
       "    }\n",
       "\n",
       "    .dataframe thead th {\n",
       "        text-align: right;\n",
       "    }\n",
       "</style>\n",
       "<table border=\"1\" class=\"dataframe\">\n",
       "  <thead>\n",
       "    <tr style=\"text-align: right;\">\n",
       "      <th></th>\n",
       "      <th>Tên nhóm hàng</th>\n",
       "      <th>Tên mặt hàng</th>\n",
       "      <th>Doanh thu</th>\n",
       "    </tr>\n",
       "  </thead>\n",
       "  <tbody>\n",
       "    <tr>\n",
       "      <th>28</th>\n",
       "      <td>Đồ uống</td>\n",
       "      <td>Sâm bổ lượng</td>\n",
       "      <td>75520000</td>\n",
       "    </tr>\n",
       "    <tr>\n",
       "      <th>27</th>\n",
       "      <td>Đồ uống</td>\n",
       "      <td>Chè dưỡng nhan</td>\n",
       "      <td>86144000</td>\n",
       "    </tr>\n",
       "    <tr>\n",
       "      <th>30</th>\n",
       "      <td>Đồ uống</td>\n",
       "      <td>Trà sữa phúc long</td>\n",
       "      <td>89424000</td>\n",
       "    </tr>\n",
       "    <tr>\n",
       "      <th>29</th>\n",
       "      <td>Đồ uống</td>\n",
       "      <td>Trà sữa Socola</td>\n",
       "      <td>95016000</td>\n",
       "    </tr>\n",
       "    <tr>\n",
       "      <th>33</th>\n",
       "      <td>Đồ uống</td>\n",
       "      <td>Tàu hủ trân châu đường đen</td>\n",
       "      <td>95280000</td>\n",
       "    </tr>\n",
       "    <tr>\n",
       "      <th>31</th>\n",
       "      <td>Đồ uống</td>\n",
       "      <td>Trà sữa thái xanh</td>\n",
       "      <td>103016000</td>\n",
       "    </tr>\n",
       "    <tr>\n",
       "      <th>32</th>\n",
       "      <td>Đồ uống</td>\n",
       "      <td>Trà sữa ô long</td>\n",
       "      <td>125818000</td>\n",
       "    </tr>\n",
       "    <tr>\n",
       "      <th>0</th>\n",
       "      <td>Bim Bim</td>\n",
       "      <td>Bắp rim bò lá chanh</td>\n",
       "      <td>390960000</td>\n",
       "    </tr>\n",
       "    <tr>\n",
       "      <th>4</th>\n",
       "      <td>Bim Bim</td>\n",
       "      <td>Nui sấy bò lá chanh</td>\n",
       "      <td>431172000</td>\n",
       "    </tr>\n",
       "    <tr>\n",
       "      <th>2</th>\n",
       "      <td>Bim Bim</td>\n",
       "      <td>Me xí muội Thái Lan</td>\n",
       "      <td>525666000</td>\n",
       "    </tr>\n",
       "    <tr>\n",
       "      <th>11</th>\n",
       "      <td>Bột củ sen</td>\n",
       "      <td>Bột củ sen hòa tan hạt dinh dưỡng collagen</td>\n",
       "      <td>551325000</td>\n",
       "    </tr>\n",
       "    <tr>\n",
       "      <th>10</th>\n",
       "      <td>Bột củ sen</td>\n",
       "      <td>Bột củ sen hòa tan hạt chia hoa hạt dinh dưỡng</td>\n",
       "      <td>556275000</td>\n",
       "    </tr>\n",
       "    <tr>\n",
       "      <th>23</th>\n",
       "      <td>Đồ Khô</td>\n",
       "      <td>Khô heo cháy tỏi</td>\n",
       "      <td>567358000</td>\n",
       "    </tr>\n",
       "    <tr>\n",
       "      <th>7</th>\n",
       "      <td>Bánh</td>\n",
       "      <td>Bánh gấu thái lan nhân SCL</td>\n",
       "      <td>594685000</td>\n",
       "    </tr>\n",
       "    <tr>\n",
       "      <th>1</th>\n",
       "      <td>Bim Bim</td>\n",
       "      <td>Cơm cháy lắc khô gà</td>\n",
       "      <td>629590000</td>\n",
       "    </tr>\n",
       "    <tr>\n",
       "      <th>21</th>\n",
       "      <td>Đồ Khô</td>\n",
       "      <td>Khô gà bơ tỏi</td>\n",
       "      <td>669714000</td>\n",
       "    </tr>\n",
       "    <tr>\n",
       "      <th>18</th>\n",
       "      <td>Đồ Khô</td>\n",
       "      <td>Da cá trứng muối</td>\n",
       "      <td>715950000</td>\n",
       "    </tr>\n",
       "    <tr>\n",
       "      <th>22</th>\n",
       "      <td>Đồ Khô</td>\n",
       "      <td>Khô gà lá chanh</td>\n",
       "      <td>771593000</td>\n",
       "    </tr>\n",
       "    <tr>\n",
       "      <th>20</th>\n",
       "      <td>Đồ Khô</td>\n",
       "      <td>Khô bò sợi lá chanh</td>\n",
       "      <td>783912000</td>\n",
       "    </tr>\n",
       "    <tr>\n",
       "      <th>6</th>\n",
       "      <td>Bánh</td>\n",
       "      <td>Bánh gấu mix 3 vị</td>\n",
       "      <td>851857000</td>\n",
       "    </tr>\n",
       "    <tr>\n",
       "      <th>19</th>\n",
       "      <td>Đồ Khô</td>\n",
       "      <td>Khô bò que hồng ngự</td>\n",
       "      <td>867967000</td>\n",
       "    </tr>\n",
       "    <tr>\n",
       "      <th>25</th>\n",
       "      <td>Đồ Khô</td>\n",
       "      <td>Mực xé sợi hấp dừa</td>\n",
       "      <td>883503000</td>\n",
       "    </tr>\n",
       "    <tr>\n",
       "      <th>3</th>\n",
       "      <td>Bim Bim</td>\n",
       "      <td>Mít sấy mộc</td>\n",
       "      <td>915579000</td>\n",
       "    </tr>\n",
       "    <tr>\n",
       "      <th>8</th>\n",
       "      <td>Bánh</td>\n",
       "      <td>Bánh ngói hạnh nhân</td>\n",
       "      <td>960201000</td>\n",
       "    </tr>\n",
       "    <tr>\n",
       "      <th>9</th>\n",
       "      <td>Bột củ sen</td>\n",
       "      <td>Bột củ sen hòa tan dinh dưỡng không đường</td>\n",
       "      <td>1062750000</td>\n",
       "    </tr>\n",
       "    <tr>\n",
       "      <th>5</th>\n",
       "      <td>Bim Bim</td>\n",
       "      <td>Rong biển cháy tỏi</td>\n",
       "      <td>1067520000</td>\n",
       "    </tr>\n",
       "    <tr>\n",
       "      <th>26</th>\n",
       "      <td>Đồ Khô</td>\n",
       "      <td>Tóp mỡ rim mắm tỏi</td>\n",
       "      <td>1103850000</td>\n",
       "    </tr>\n",
       "    <tr>\n",
       "      <th>24</th>\n",
       "      <td>Đồ Khô</td>\n",
       "      <td>Khô mix 3 vị (heo bơ tỏi, mực, gà)</td>\n",
       "      <td>1129785000</td>\n",
       "    </tr>\n",
       "    <tr>\n",
       "      <th>15</th>\n",
       "      <td>Ngũ Cốc</td>\n",
       "      <td>Thanh cơm gạo lứt chà bông</td>\n",
       "      <td>2397980000</td>\n",
       "    </tr>\n",
       "    <tr>\n",
       "      <th>17</th>\n",
       "      <td>Ngũ Cốc</td>\n",
       "      <td>Thanh cơm gạo lứt rong biển</td>\n",
       "      <td>2499445000</td>\n",
       "    </tr>\n",
       "    <tr>\n",
       "      <th>16</th>\n",
       "      <td>Ngũ Cốc</td>\n",
       "      <td>Thanh cơm gạo lứt mix hạt</td>\n",
       "      <td>2983110000</td>\n",
       "    </tr>\n",
       "    <tr>\n",
       "      <th>12</th>\n",
       "      <td>Ngũ Cốc</td>\n",
       "      <td>Ngũ cốc granola vị matcha</td>\n",
       "      <td>5112240000</td>\n",
       "    </tr>\n",
       "    <tr>\n",
       "      <th>14</th>\n",
       "      <td>Ngũ Cốc</td>\n",
       "      <td>Ngũ cốc granola vị socola</td>\n",
       "      <td>5202204000</td>\n",
       "    </tr>\n",
       "    <tr>\n",
       "      <th>13</th>\n",
       "      <td>Ngũ Cốc</td>\n",
       "      <td>Ngũ cốc granola vị nguyên vị</td>\n",
       "      <td>5299308000</td>\n",
       "    </tr>\n",
       "  </tbody>\n",
       "</table>\n",
       "</div>"
      ],
      "text/plain": [
       "   Tên nhóm hàng                                    Tên mặt hàng   Doanh thu\n",
       "28       Đồ uống                                    Sâm bổ lượng    75520000\n",
       "27       Đồ uống                                  Chè dưỡng nhan    86144000\n",
       "30       Đồ uống                               Trà sữa phúc long    89424000\n",
       "29       Đồ uống                                  Trà sữa Socola    95016000\n",
       "33       Đồ uống                      Tàu hủ trân châu đường đen    95280000\n",
       "31       Đồ uống                               Trà sữa thái xanh   103016000\n",
       "32       Đồ uống                                  Trà sữa ô long   125818000\n",
       "0        Bim Bim                             Bắp rim bò lá chanh   390960000\n",
       "4        Bim Bim                             Nui sấy bò lá chanh   431172000\n",
       "2        Bim Bim                             Me xí muội Thái Lan   525666000\n",
       "11    Bột củ sen      Bột củ sen hòa tan hạt dinh dưỡng collagen   551325000\n",
       "10    Bột củ sen  Bột củ sen hòa tan hạt chia hoa hạt dinh dưỡng   556275000\n",
       "23        Đồ Khô                                Khô heo cháy tỏi   567358000\n",
       "7           Bánh                      Bánh gấu thái lan nhân SCL   594685000\n",
       "1        Bim Bim                             Cơm cháy lắc khô gà   629590000\n",
       "21        Đồ Khô                                   Khô gà bơ tỏi   669714000\n",
       "18        Đồ Khô                                Da cá trứng muối   715950000\n",
       "22        Đồ Khô                                 Khô gà lá chanh   771593000\n",
       "20        Đồ Khô                             Khô bò sợi lá chanh   783912000\n",
       "6           Bánh                               Bánh gấu mix 3 vị   851857000\n",
       "19        Đồ Khô                             Khô bò que hồng ngự   867967000\n",
       "25        Đồ Khô                              Mực xé sợi hấp dừa   883503000\n",
       "3        Bim Bim                                     Mít sấy mộc   915579000\n",
       "8           Bánh                             Bánh ngói hạnh nhân   960201000\n",
       "9     Bột củ sen       Bột củ sen hòa tan dinh dưỡng không đường  1062750000\n",
       "5        Bim Bim                              Rong biển cháy tỏi  1067520000\n",
       "26        Đồ Khô                              Tóp mỡ rim mắm tỏi  1103850000\n",
       "24        Đồ Khô              Khô mix 3 vị (heo bơ tỏi, mực, gà)  1129785000\n",
       "15       Ngũ Cốc                      Thanh cơm gạo lứt chà bông  2397980000\n",
       "17       Ngũ Cốc                     Thanh cơm gạo lứt rong biển  2499445000\n",
       "16       Ngũ Cốc                       Thanh cơm gạo lứt mix hạt  2983110000\n",
       "12       Ngũ Cốc                       Ngũ cốc granola vị matcha  5112240000\n",
       "14       Ngũ Cốc                       Ngũ cốc granola vị socola  5202204000\n",
       "13       Ngũ Cốc                    Ngũ cốc granola vị nguyên vị  5299308000"
      ]
     },
     "execution_count": 51,
     "metadata": {},
     "output_type": "execute_result"
    }
   ],
   "source": [
    "df_revenue_of_product=df_quarter.groupby([\"Tên nhóm hàng\",\"Tên mặt hàng\"])['Thành tiền'].sum().reset_index(name=\"Doanh thu\")\n",
    "df_revenue_of_product.sort_values(by=\"Doanh thu\",ascending=True)"
   ]
  },
  {
   "cell_type": "code",
   "execution_count": 52,
   "metadata": {},
   "outputs": [
    {
     "data": {
      "application/vnd.plotly.v1+json": {
       "config": {
        "plotlyServerURL": "https://plot.ly"
       },
       "data": [
        {
         "alignmentgroup": "True",
         "hovertemplate": "Tên mặt hàng=Bắp rim bò lá chanh<br>Tên nhóm hàng=%{x}<br>Doanh thu=%{y}<extra></extra>",
         "legendgroup": "Bắp rim bò lá chanh",
         "marker": {
          "color": "rgb(12,51,131)",
          "pattern": {
           "shape": ""
          }
         },
         "name": "Bắp rim bò lá chanh",
         "offsetgroup": "Bắp rim bò lá chanh",
         "orientation": "v",
         "showlegend": true,
         "textposition": "auto",
         "type": "bar",
         "x": [
          "Bim Bim"
         ],
         "xaxis": "x",
         "y": [
          390960000
         ],
         "yaxis": "y"
        },
        {
         "alignmentgroup": "True",
         "hovertemplate": "Tên mặt hàng=Cơm cháy lắc khô gà<br>Tên nhóm hàng=%{x}<br>Doanh thu=%{y}<extra></extra>",
         "legendgroup": "Cơm cháy lắc khô gà",
         "marker": {
          "color": "rgb(10,136,186)",
          "pattern": {
           "shape": ""
          }
         },
         "name": "Cơm cháy lắc khô gà",
         "offsetgroup": "Cơm cháy lắc khô gà",
         "orientation": "v",
         "showlegend": true,
         "textposition": "auto",
         "type": "bar",
         "x": [
          "Bim Bim"
         ],
         "xaxis": "x",
         "y": [
          629590000
         ],
         "yaxis": "y"
        },
        {
         "alignmentgroup": "True",
         "hovertemplate": "Tên mặt hàng=Me xí muội Thái Lan<br>Tên nhóm hàng=%{x}<br>Doanh thu=%{y}<extra></extra>",
         "legendgroup": "Me xí muội Thái Lan",
         "marker": {
          "color": "rgb(242,211,56)",
          "pattern": {
           "shape": ""
          }
         },
         "name": "Me xí muội Thái Lan",
         "offsetgroup": "Me xí muội Thái Lan",
         "orientation": "v",
         "showlegend": true,
         "textposition": "auto",
         "type": "bar",
         "x": [
          "Bim Bim"
         ],
         "xaxis": "x",
         "y": [
          525666000
         ],
         "yaxis": "y"
        },
        {
         "alignmentgroup": "True",
         "hovertemplate": "Tên mặt hàng=Mít sấy mộc<br>Tên nhóm hàng=%{x}<br>Doanh thu=%{y}<extra></extra>",
         "legendgroup": "Mít sấy mộc",
         "marker": {
          "color": "rgb(242,143,56)",
          "pattern": {
           "shape": ""
          }
         },
         "name": "Mít sấy mộc",
         "offsetgroup": "Mít sấy mộc",
         "orientation": "v",
         "showlegend": true,
         "textposition": "auto",
         "type": "bar",
         "x": [
          "Bim Bim"
         ],
         "xaxis": "x",
         "y": [
          915579000
         ],
         "yaxis": "y"
        },
        {
         "alignmentgroup": "True",
         "hovertemplate": "Tên mặt hàng=Nui sấy bò lá chanh<br>Tên nhóm hàng=%{x}<br>Doanh thu=%{y}<extra></extra>",
         "legendgroup": "Nui sấy bò lá chanh",
         "marker": {
          "color": "rgb(217,30,30)",
          "pattern": {
           "shape": ""
          }
         },
         "name": "Nui sấy bò lá chanh",
         "offsetgroup": "Nui sấy bò lá chanh",
         "orientation": "v",
         "showlegend": true,
         "textposition": "auto",
         "type": "bar",
         "x": [
          "Bim Bim"
         ],
         "xaxis": "x",
         "y": [
          431172000
         ],
         "yaxis": "y"
        },
        {
         "alignmentgroup": "True",
         "hovertemplate": "Tên mặt hàng=Rong biển cháy tỏi<br>Tên nhóm hàng=%{x}<br>Doanh thu=%{y}<extra></extra>",
         "legendgroup": "Rong biển cháy tỏi",
         "marker": {
          "color": "rgb(12,51,131)",
          "pattern": {
           "shape": ""
          }
         },
         "name": "Rong biển cháy tỏi",
         "offsetgroup": "Rong biển cháy tỏi",
         "orientation": "v",
         "showlegend": true,
         "textposition": "auto",
         "type": "bar",
         "x": [
          "Bim Bim"
         ],
         "xaxis": "x",
         "y": [
          1067520000
         ],
         "yaxis": "y"
        },
        {
         "alignmentgroup": "True",
         "hovertemplate": "Tên mặt hàng=Bánh gấu mix 3 vị<br>Tên nhóm hàng=%{x}<br>Doanh thu=%{y}<extra></extra>",
         "legendgroup": "Bánh gấu mix 3 vị",
         "marker": {
          "color": "rgb(10,136,186)",
          "pattern": {
           "shape": ""
          }
         },
         "name": "Bánh gấu mix 3 vị",
         "offsetgroup": "Bánh gấu mix 3 vị",
         "orientation": "v",
         "showlegend": true,
         "textposition": "auto",
         "type": "bar",
         "x": [
          "Bánh"
         ],
         "xaxis": "x",
         "y": [
          851857000
         ],
         "yaxis": "y"
        },
        {
         "alignmentgroup": "True",
         "hovertemplate": "Tên mặt hàng=Bánh gấu thái lan nhân SCL<br>Tên nhóm hàng=%{x}<br>Doanh thu=%{y}<extra></extra>",
         "legendgroup": "Bánh gấu thái lan nhân SCL",
         "marker": {
          "color": "rgb(242,211,56)",
          "pattern": {
           "shape": ""
          }
         },
         "name": "Bánh gấu thái lan nhân SCL",
         "offsetgroup": "Bánh gấu thái lan nhân SCL",
         "orientation": "v",
         "showlegend": true,
         "textposition": "auto",
         "type": "bar",
         "x": [
          "Bánh"
         ],
         "xaxis": "x",
         "y": [
          594685000
         ],
         "yaxis": "y"
        },
        {
         "alignmentgroup": "True",
         "hovertemplate": "Tên mặt hàng=Bánh ngói hạnh nhân<br>Tên nhóm hàng=%{x}<br>Doanh thu=%{y}<extra></extra>",
         "legendgroup": "Bánh ngói hạnh nhân",
         "marker": {
          "color": "rgb(242,143,56)",
          "pattern": {
           "shape": ""
          }
         },
         "name": "Bánh ngói hạnh nhân",
         "offsetgroup": "Bánh ngói hạnh nhân",
         "orientation": "v",
         "showlegend": true,
         "textposition": "auto",
         "type": "bar",
         "x": [
          "Bánh"
         ],
         "xaxis": "x",
         "y": [
          960201000
         ],
         "yaxis": "y"
        },
        {
         "alignmentgroup": "True",
         "hovertemplate": "Tên mặt hàng=Bột củ sen hòa tan dinh dưỡng không đường<br>Tên nhóm hàng=%{x}<br>Doanh thu=%{y}<extra></extra>",
         "legendgroup": "Bột củ sen hòa tan dinh dưỡng không đường",
         "marker": {
          "color": "rgb(217,30,30)",
          "pattern": {
           "shape": ""
          }
         },
         "name": "Bột củ sen hòa tan dinh dưỡng không đường",
         "offsetgroup": "Bột củ sen hòa tan dinh dưỡng không đường",
         "orientation": "v",
         "showlegend": true,
         "textposition": "auto",
         "type": "bar",
         "x": [
          "Bột củ sen"
         ],
         "xaxis": "x",
         "y": [
          1062750000
         ],
         "yaxis": "y"
        },
        {
         "alignmentgroup": "True",
         "hovertemplate": "Tên mặt hàng=Bột củ sen hòa tan hạt chia hoa hạt dinh dưỡng<br>Tên nhóm hàng=%{x}<br>Doanh thu=%{y}<extra></extra>",
         "legendgroup": "Bột củ sen hòa tan hạt chia hoa hạt dinh dưỡng",
         "marker": {
          "color": "rgb(12,51,131)",
          "pattern": {
           "shape": ""
          }
         },
         "name": "Bột củ sen hòa tan hạt chia hoa hạt dinh dưỡng",
         "offsetgroup": "Bột củ sen hòa tan hạt chia hoa hạt dinh dưỡng",
         "orientation": "v",
         "showlegend": true,
         "textposition": "auto",
         "type": "bar",
         "x": [
          "Bột củ sen"
         ],
         "xaxis": "x",
         "y": [
          556275000
         ],
         "yaxis": "y"
        },
        {
         "alignmentgroup": "True",
         "hovertemplate": "Tên mặt hàng=Bột củ sen hòa tan hạt dinh dưỡng collagen<br>Tên nhóm hàng=%{x}<br>Doanh thu=%{y}<extra></extra>",
         "legendgroup": "Bột củ sen hòa tan hạt dinh dưỡng collagen",
         "marker": {
          "color": "rgb(10,136,186)",
          "pattern": {
           "shape": ""
          }
         },
         "name": "Bột củ sen hòa tan hạt dinh dưỡng collagen",
         "offsetgroup": "Bột củ sen hòa tan hạt dinh dưỡng collagen",
         "orientation": "v",
         "showlegend": true,
         "textposition": "auto",
         "type": "bar",
         "x": [
          "Bột củ sen"
         ],
         "xaxis": "x",
         "y": [
          551325000
         ],
         "yaxis": "y"
        },
        {
         "alignmentgroup": "True",
         "hovertemplate": "Tên mặt hàng=Ngũ cốc granola vị matcha<br>Tên nhóm hàng=%{x}<br>Doanh thu=%{y}<extra></extra>",
         "legendgroup": "Ngũ cốc granola vị matcha",
         "marker": {
          "color": "rgb(242,211,56)",
          "pattern": {
           "shape": ""
          }
         },
         "name": "Ngũ cốc granola vị matcha",
         "offsetgroup": "Ngũ cốc granola vị matcha",
         "orientation": "v",
         "showlegend": true,
         "textposition": "auto",
         "type": "bar",
         "x": [
          "Ngũ Cốc"
         ],
         "xaxis": "x",
         "y": [
          5112240000
         ],
         "yaxis": "y"
        },
        {
         "alignmentgroup": "True",
         "hovertemplate": "Tên mặt hàng=Ngũ cốc granola vị nguyên vị<br>Tên nhóm hàng=%{x}<br>Doanh thu=%{y}<extra></extra>",
         "legendgroup": "Ngũ cốc granola vị nguyên vị",
         "marker": {
          "color": "rgb(242,143,56)",
          "pattern": {
           "shape": ""
          }
         },
         "name": "Ngũ cốc granola vị nguyên vị",
         "offsetgroup": "Ngũ cốc granola vị nguyên vị",
         "orientation": "v",
         "showlegend": true,
         "textposition": "auto",
         "type": "bar",
         "x": [
          "Ngũ Cốc"
         ],
         "xaxis": "x",
         "y": [
          5299308000
         ],
         "yaxis": "y"
        },
        {
         "alignmentgroup": "True",
         "hovertemplate": "Tên mặt hàng=Ngũ cốc granola vị socola<br>Tên nhóm hàng=%{x}<br>Doanh thu=%{y}<extra></extra>",
         "legendgroup": "Ngũ cốc granola vị socola",
         "marker": {
          "color": "rgb(217,30,30)",
          "pattern": {
           "shape": ""
          }
         },
         "name": "Ngũ cốc granola vị socola",
         "offsetgroup": "Ngũ cốc granola vị socola",
         "orientation": "v",
         "showlegend": true,
         "textposition": "auto",
         "type": "bar",
         "x": [
          "Ngũ Cốc"
         ],
         "xaxis": "x",
         "y": [
          5202204000
         ],
         "yaxis": "y"
        },
        {
         "alignmentgroup": "True",
         "hovertemplate": "Tên mặt hàng=Thanh cơm gạo lứt chà bông<br>Tên nhóm hàng=%{x}<br>Doanh thu=%{y}<extra></extra>",
         "legendgroup": "Thanh cơm gạo lứt chà bông",
         "marker": {
          "color": "rgb(12,51,131)",
          "pattern": {
           "shape": ""
          }
         },
         "name": "Thanh cơm gạo lứt chà bông",
         "offsetgroup": "Thanh cơm gạo lứt chà bông",
         "orientation": "v",
         "showlegend": true,
         "textposition": "auto",
         "type": "bar",
         "x": [
          "Ngũ Cốc"
         ],
         "xaxis": "x",
         "y": [
          2397980000
         ],
         "yaxis": "y"
        },
        {
         "alignmentgroup": "True",
         "hovertemplate": "Tên mặt hàng=Thanh cơm gạo lứt mix hạt<br>Tên nhóm hàng=%{x}<br>Doanh thu=%{y}<extra></extra>",
         "legendgroup": "Thanh cơm gạo lứt mix hạt",
         "marker": {
          "color": "rgb(10,136,186)",
          "pattern": {
           "shape": ""
          }
         },
         "name": "Thanh cơm gạo lứt mix hạt",
         "offsetgroup": "Thanh cơm gạo lứt mix hạt",
         "orientation": "v",
         "showlegend": true,
         "textposition": "auto",
         "type": "bar",
         "x": [
          "Ngũ Cốc"
         ],
         "xaxis": "x",
         "y": [
          2983110000
         ],
         "yaxis": "y"
        },
        {
         "alignmentgroup": "True",
         "hovertemplate": "Tên mặt hàng=Thanh cơm gạo lứt rong biển<br>Tên nhóm hàng=%{x}<br>Doanh thu=%{y}<extra></extra>",
         "legendgroup": "Thanh cơm gạo lứt rong biển",
         "marker": {
          "color": "rgb(242,211,56)",
          "pattern": {
           "shape": ""
          }
         },
         "name": "Thanh cơm gạo lứt rong biển",
         "offsetgroup": "Thanh cơm gạo lứt rong biển",
         "orientation": "v",
         "showlegend": true,
         "textposition": "auto",
         "type": "bar",
         "x": [
          "Ngũ Cốc"
         ],
         "xaxis": "x",
         "y": [
          2499445000
         ],
         "yaxis": "y"
        },
        {
         "alignmentgroup": "True",
         "hovertemplate": "Tên mặt hàng=Da cá trứng muối<br>Tên nhóm hàng=%{x}<br>Doanh thu=%{y}<extra></extra>",
         "legendgroup": "Da cá trứng muối",
         "marker": {
          "color": "rgb(242,143,56)",
          "pattern": {
           "shape": ""
          }
         },
         "name": "Da cá trứng muối",
         "offsetgroup": "Da cá trứng muối",
         "orientation": "v",
         "showlegend": true,
         "textposition": "auto",
         "type": "bar",
         "x": [
          "Đồ Khô"
         ],
         "xaxis": "x",
         "y": [
          715950000
         ],
         "yaxis": "y"
        },
        {
         "alignmentgroup": "True",
         "hovertemplate": "Tên mặt hàng=Khô bò que hồng ngự<br>Tên nhóm hàng=%{x}<br>Doanh thu=%{y}<extra></extra>",
         "legendgroup": "Khô bò que hồng ngự",
         "marker": {
          "color": "rgb(217,30,30)",
          "pattern": {
           "shape": ""
          }
         },
         "name": "Khô bò que hồng ngự",
         "offsetgroup": "Khô bò que hồng ngự",
         "orientation": "v",
         "showlegend": true,
         "textposition": "auto",
         "type": "bar",
         "x": [
          "Đồ Khô"
         ],
         "xaxis": "x",
         "y": [
          867967000
         ],
         "yaxis": "y"
        },
        {
         "alignmentgroup": "True",
         "hovertemplate": "Tên mặt hàng=Khô bò sợi lá chanh<br>Tên nhóm hàng=%{x}<br>Doanh thu=%{y}<extra></extra>",
         "legendgroup": "Khô bò sợi lá chanh",
         "marker": {
          "color": "rgb(12,51,131)",
          "pattern": {
           "shape": ""
          }
         },
         "name": "Khô bò sợi lá chanh",
         "offsetgroup": "Khô bò sợi lá chanh",
         "orientation": "v",
         "showlegend": true,
         "textposition": "auto",
         "type": "bar",
         "x": [
          "Đồ Khô"
         ],
         "xaxis": "x",
         "y": [
          783912000
         ],
         "yaxis": "y"
        },
        {
         "alignmentgroup": "True",
         "hovertemplate": "Tên mặt hàng=Khô gà bơ tỏi<br>Tên nhóm hàng=%{x}<br>Doanh thu=%{y}<extra></extra>",
         "legendgroup": "Khô gà bơ tỏi",
         "marker": {
          "color": "rgb(10,136,186)",
          "pattern": {
           "shape": ""
          }
         },
         "name": "Khô gà bơ tỏi",
         "offsetgroup": "Khô gà bơ tỏi",
         "orientation": "v",
         "showlegend": true,
         "textposition": "auto",
         "type": "bar",
         "x": [
          "Đồ Khô"
         ],
         "xaxis": "x",
         "y": [
          669714000
         ],
         "yaxis": "y"
        },
        {
         "alignmentgroup": "True",
         "hovertemplate": "Tên mặt hàng=Khô gà lá chanh<br>Tên nhóm hàng=%{x}<br>Doanh thu=%{y}<extra></extra>",
         "legendgroup": "Khô gà lá chanh",
         "marker": {
          "color": "rgb(242,211,56)",
          "pattern": {
           "shape": ""
          }
         },
         "name": "Khô gà lá chanh",
         "offsetgroup": "Khô gà lá chanh",
         "orientation": "v",
         "showlegend": true,
         "textposition": "auto",
         "type": "bar",
         "x": [
          "Đồ Khô"
         ],
         "xaxis": "x",
         "y": [
          771593000
         ],
         "yaxis": "y"
        },
        {
         "alignmentgroup": "True",
         "hovertemplate": "Tên mặt hàng=Khô heo cháy tỏi<br>Tên nhóm hàng=%{x}<br>Doanh thu=%{y}<extra></extra>",
         "legendgroup": "Khô heo cháy tỏi",
         "marker": {
          "color": "rgb(242,143,56)",
          "pattern": {
           "shape": ""
          }
         },
         "name": "Khô heo cháy tỏi",
         "offsetgroup": "Khô heo cháy tỏi",
         "orientation": "v",
         "showlegend": true,
         "textposition": "auto",
         "type": "bar",
         "x": [
          "Đồ Khô"
         ],
         "xaxis": "x",
         "y": [
          567358000
         ],
         "yaxis": "y"
        },
        {
         "alignmentgroup": "True",
         "hovertemplate": "Tên mặt hàng=Khô mix 3 vị (heo bơ tỏi, mực, gà)<br>Tên nhóm hàng=%{x}<br>Doanh thu=%{y}<extra></extra>",
         "legendgroup": "Khô mix 3 vị (heo bơ tỏi, mực, gà)",
         "marker": {
          "color": "rgb(217,30,30)",
          "pattern": {
           "shape": ""
          }
         },
         "name": "Khô mix 3 vị (heo bơ tỏi, mực, gà)",
         "offsetgroup": "Khô mix 3 vị (heo bơ tỏi, mực, gà)",
         "orientation": "v",
         "showlegend": true,
         "textposition": "auto",
         "type": "bar",
         "x": [
          "Đồ Khô"
         ],
         "xaxis": "x",
         "y": [
          1129785000
         ],
         "yaxis": "y"
        },
        {
         "alignmentgroup": "True",
         "hovertemplate": "Tên mặt hàng=Mực xé sợi hấp dừa<br>Tên nhóm hàng=%{x}<br>Doanh thu=%{y}<extra></extra>",
         "legendgroup": "Mực xé sợi hấp dừa",
         "marker": {
          "color": "rgb(12,51,131)",
          "pattern": {
           "shape": ""
          }
         },
         "name": "Mực xé sợi hấp dừa",
         "offsetgroup": "Mực xé sợi hấp dừa",
         "orientation": "v",
         "showlegend": true,
         "textposition": "auto",
         "type": "bar",
         "x": [
          "Đồ Khô"
         ],
         "xaxis": "x",
         "y": [
          883503000
         ],
         "yaxis": "y"
        },
        {
         "alignmentgroup": "True",
         "hovertemplate": "Tên mặt hàng=Tóp mỡ rim mắm tỏi<br>Tên nhóm hàng=%{x}<br>Doanh thu=%{y}<extra></extra>",
         "legendgroup": "Tóp mỡ rim mắm tỏi",
         "marker": {
          "color": "rgb(10,136,186)",
          "pattern": {
           "shape": ""
          }
         },
         "name": "Tóp mỡ rim mắm tỏi",
         "offsetgroup": "Tóp mỡ rim mắm tỏi",
         "orientation": "v",
         "showlegend": true,
         "textposition": "auto",
         "type": "bar",
         "x": [
          "Đồ Khô"
         ],
         "xaxis": "x",
         "y": [
          1103850000
         ],
         "yaxis": "y"
        },
        {
         "alignmentgroup": "True",
         "hovertemplate": "Tên mặt hàng=Chè dưỡng nhan<br>Tên nhóm hàng=%{x}<br>Doanh thu=%{y}<extra></extra>",
         "legendgroup": "Chè dưỡng nhan",
         "marker": {
          "color": "rgb(242,211,56)",
          "pattern": {
           "shape": ""
          }
         },
         "name": "Chè dưỡng nhan",
         "offsetgroup": "Chè dưỡng nhan",
         "orientation": "v",
         "showlegend": true,
         "textposition": "auto",
         "type": "bar",
         "x": [
          "Đồ uống"
         ],
         "xaxis": "x",
         "y": [
          86144000
         ],
         "yaxis": "y"
        },
        {
         "alignmentgroup": "True",
         "hovertemplate": "Tên mặt hàng=Sâm bổ lượng<br>Tên nhóm hàng=%{x}<br>Doanh thu=%{y}<extra></extra>",
         "legendgroup": "Sâm bổ lượng",
         "marker": {
          "color": "rgb(242,143,56)",
          "pattern": {
           "shape": ""
          }
         },
         "name": "Sâm bổ lượng",
         "offsetgroup": "Sâm bổ lượng",
         "orientation": "v",
         "showlegend": true,
         "textposition": "auto",
         "type": "bar",
         "x": [
          "Đồ uống"
         ],
         "xaxis": "x",
         "y": [
          75520000
         ],
         "yaxis": "y"
        },
        {
         "alignmentgroup": "True",
         "hovertemplate": "Tên mặt hàng=Trà sữa Socola<br>Tên nhóm hàng=%{x}<br>Doanh thu=%{y}<extra></extra>",
         "legendgroup": "Trà sữa Socola",
         "marker": {
          "color": "rgb(217,30,30)",
          "pattern": {
           "shape": ""
          }
         },
         "name": "Trà sữa Socola",
         "offsetgroup": "Trà sữa Socola",
         "orientation": "v",
         "showlegend": true,
         "textposition": "auto",
         "type": "bar",
         "x": [
          "Đồ uống"
         ],
         "xaxis": "x",
         "y": [
          95016000
         ],
         "yaxis": "y"
        },
        {
         "alignmentgroup": "True",
         "hovertemplate": "Tên mặt hàng=Trà sữa phúc long<br>Tên nhóm hàng=%{x}<br>Doanh thu=%{y}<extra></extra>",
         "legendgroup": "Trà sữa phúc long",
         "marker": {
          "color": "rgb(12,51,131)",
          "pattern": {
           "shape": ""
          }
         },
         "name": "Trà sữa phúc long",
         "offsetgroup": "Trà sữa phúc long",
         "orientation": "v",
         "showlegend": true,
         "textposition": "auto",
         "type": "bar",
         "x": [
          "Đồ uống"
         ],
         "xaxis": "x",
         "y": [
          89424000
         ],
         "yaxis": "y"
        },
        {
         "alignmentgroup": "True",
         "hovertemplate": "Tên mặt hàng=Trà sữa thái xanh<br>Tên nhóm hàng=%{x}<br>Doanh thu=%{y}<extra></extra>",
         "legendgroup": "Trà sữa thái xanh",
         "marker": {
          "color": "rgb(10,136,186)",
          "pattern": {
           "shape": ""
          }
         },
         "name": "Trà sữa thái xanh",
         "offsetgroup": "Trà sữa thái xanh",
         "orientation": "v",
         "showlegend": true,
         "textposition": "auto",
         "type": "bar",
         "x": [
          "Đồ uống"
         ],
         "xaxis": "x",
         "y": [
          103016000
         ],
         "yaxis": "y"
        },
        {
         "alignmentgroup": "True",
         "hovertemplate": "Tên mặt hàng=Trà sữa ô long<br>Tên nhóm hàng=%{x}<br>Doanh thu=%{y}<extra></extra>",
         "legendgroup": "Trà sữa ô long",
         "marker": {
          "color": "rgb(242,211,56)",
          "pattern": {
           "shape": ""
          }
         },
         "name": "Trà sữa ô long",
         "offsetgroup": "Trà sữa ô long",
         "orientation": "v",
         "showlegend": true,
         "textposition": "auto",
         "type": "bar",
         "x": [
          "Đồ uống"
         ],
         "xaxis": "x",
         "y": [
          125818000
         ],
         "yaxis": "y"
        },
        {
         "alignmentgroup": "True",
         "hovertemplate": "Tên mặt hàng=Tàu hủ trân châu đường đen<br>Tên nhóm hàng=%{x}<br>Doanh thu=%{y}<extra></extra>",
         "legendgroup": "Tàu hủ trân châu đường đen",
         "marker": {
          "color": "rgb(242,143,56)",
          "pattern": {
           "shape": ""
          }
         },
         "name": "Tàu hủ trân châu đường đen",
         "offsetgroup": "Tàu hủ trân châu đường đen",
         "orientation": "v",
         "showlegend": true,
         "textposition": "auto",
         "type": "bar",
         "x": [
          "Đồ uống"
         ],
         "xaxis": "x",
         "y": [
          95280000
         ],
         "yaxis": "y"
        }
       ],
       "layout": {
        "barmode": "relative",
        "height": 600,
        "legend": {
         "title": {
          "text": "Tên mặt hàng"
         },
         "tracegroupgap": 0
        },
        "paper_bgcolor": "lightgrey",
        "plot_bgcolor": "lightgrey",
        "template": {
         "data": {
          "bar": [
           {
            "error_x": {
             "color": "#2a3f5f"
            },
            "error_y": {
             "color": "#2a3f5f"
            },
            "marker": {
             "line": {
              "color": "#E5ECF6",
              "width": 0.5
             },
             "pattern": {
              "fillmode": "overlay",
              "size": 10,
              "solidity": 0.2
             }
            },
            "type": "bar"
           }
          ],
          "barpolar": [
           {
            "marker": {
             "line": {
              "color": "#E5ECF6",
              "width": 0.5
             },
             "pattern": {
              "fillmode": "overlay",
              "size": 10,
              "solidity": 0.2
             }
            },
            "type": "barpolar"
           }
          ],
          "carpet": [
           {
            "aaxis": {
             "endlinecolor": "#2a3f5f",
             "gridcolor": "white",
             "linecolor": "white",
             "minorgridcolor": "white",
             "startlinecolor": "#2a3f5f"
            },
            "baxis": {
             "endlinecolor": "#2a3f5f",
             "gridcolor": "white",
             "linecolor": "white",
             "minorgridcolor": "white",
             "startlinecolor": "#2a3f5f"
            },
            "type": "carpet"
           }
          ],
          "choropleth": [
           {
            "colorbar": {
             "outlinewidth": 0,
             "ticks": ""
            },
            "type": "choropleth"
           }
          ],
          "contour": [
           {
            "colorbar": {
             "outlinewidth": 0,
             "ticks": ""
            },
            "colorscale": [
             [
              0,
              "#0d0887"
             ],
             [
              0.1111111111111111,
              "#46039f"
             ],
             [
              0.2222222222222222,
              "#7201a8"
             ],
             [
              0.3333333333333333,
              "#9c179e"
             ],
             [
              0.4444444444444444,
              "#bd3786"
             ],
             [
              0.5555555555555556,
              "#d8576b"
             ],
             [
              0.6666666666666666,
              "#ed7953"
             ],
             [
              0.7777777777777778,
              "#fb9f3a"
             ],
             [
              0.8888888888888888,
              "#fdca26"
             ],
             [
              1,
              "#f0f921"
             ]
            ],
            "type": "contour"
           }
          ],
          "contourcarpet": [
           {
            "colorbar": {
             "outlinewidth": 0,
             "ticks": ""
            },
            "type": "contourcarpet"
           }
          ],
          "heatmap": [
           {
            "colorbar": {
             "outlinewidth": 0,
             "ticks": ""
            },
            "colorscale": [
             [
              0,
              "#0d0887"
             ],
             [
              0.1111111111111111,
              "#46039f"
             ],
             [
              0.2222222222222222,
              "#7201a8"
             ],
             [
              0.3333333333333333,
              "#9c179e"
             ],
             [
              0.4444444444444444,
              "#bd3786"
             ],
             [
              0.5555555555555556,
              "#d8576b"
             ],
             [
              0.6666666666666666,
              "#ed7953"
             ],
             [
              0.7777777777777778,
              "#fb9f3a"
             ],
             [
              0.8888888888888888,
              "#fdca26"
             ],
             [
              1,
              "#f0f921"
             ]
            ],
            "type": "heatmap"
           }
          ],
          "heatmapgl": [
           {
            "colorbar": {
             "outlinewidth": 0,
             "ticks": ""
            },
            "colorscale": [
             [
              0,
              "#0d0887"
             ],
             [
              0.1111111111111111,
              "#46039f"
             ],
             [
              0.2222222222222222,
              "#7201a8"
             ],
             [
              0.3333333333333333,
              "#9c179e"
             ],
             [
              0.4444444444444444,
              "#bd3786"
             ],
             [
              0.5555555555555556,
              "#d8576b"
             ],
             [
              0.6666666666666666,
              "#ed7953"
             ],
             [
              0.7777777777777778,
              "#fb9f3a"
             ],
             [
              0.8888888888888888,
              "#fdca26"
             ],
             [
              1,
              "#f0f921"
             ]
            ],
            "type": "heatmapgl"
           }
          ],
          "histogram": [
           {
            "marker": {
             "pattern": {
              "fillmode": "overlay",
              "size": 10,
              "solidity": 0.2
             }
            },
            "type": "histogram"
           }
          ],
          "histogram2d": [
           {
            "colorbar": {
             "outlinewidth": 0,
             "ticks": ""
            },
            "colorscale": [
             [
              0,
              "#0d0887"
             ],
             [
              0.1111111111111111,
              "#46039f"
             ],
             [
              0.2222222222222222,
              "#7201a8"
             ],
             [
              0.3333333333333333,
              "#9c179e"
             ],
             [
              0.4444444444444444,
              "#bd3786"
             ],
             [
              0.5555555555555556,
              "#d8576b"
             ],
             [
              0.6666666666666666,
              "#ed7953"
             ],
             [
              0.7777777777777778,
              "#fb9f3a"
             ],
             [
              0.8888888888888888,
              "#fdca26"
             ],
             [
              1,
              "#f0f921"
             ]
            ],
            "type": "histogram2d"
           }
          ],
          "histogram2dcontour": [
           {
            "colorbar": {
             "outlinewidth": 0,
             "ticks": ""
            },
            "colorscale": [
             [
              0,
              "#0d0887"
             ],
             [
              0.1111111111111111,
              "#46039f"
             ],
             [
              0.2222222222222222,
              "#7201a8"
             ],
             [
              0.3333333333333333,
              "#9c179e"
             ],
             [
              0.4444444444444444,
              "#bd3786"
             ],
             [
              0.5555555555555556,
              "#d8576b"
             ],
             [
              0.6666666666666666,
              "#ed7953"
             ],
             [
              0.7777777777777778,
              "#fb9f3a"
             ],
             [
              0.8888888888888888,
              "#fdca26"
             ],
             [
              1,
              "#f0f921"
             ]
            ],
            "type": "histogram2dcontour"
           }
          ],
          "mesh3d": [
           {
            "colorbar": {
             "outlinewidth": 0,
             "ticks": ""
            },
            "type": "mesh3d"
           }
          ],
          "parcoords": [
           {
            "line": {
             "colorbar": {
              "outlinewidth": 0,
              "ticks": ""
             }
            },
            "type": "parcoords"
           }
          ],
          "pie": [
           {
            "automargin": true,
            "type": "pie"
           }
          ],
          "scatter": [
           {
            "fillpattern": {
             "fillmode": "overlay",
             "size": 10,
             "solidity": 0.2
            },
            "type": "scatter"
           }
          ],
          "scatter3d": [
           {
            "line": {
             "colorbar": {
              "outlinewidth": 0,
              "ticks": ""
             }
            },
            "marker": {
             "colorbar": {
              "outlinewidth": 0,
              "ticks": ""
             }
            },
            "type": "scatter3d"
           }
          ],
          "scattercarpet": [
           {
            "marker": {
             "colorbar": {
              "outlinewidth": 0,
              "ticks": ""
             }
            },
            "type": "scattercarpet"
           }
          ],
          "scattergeo": [
           {
            "marker": {
             "colorbar": {
              "outlinewidth": 0,
              "ticks": ""
             }
            },
            "type": "scattergeo"
           }
          ],
          "scattergl": [
           {
            "marker": {
             "colorbar": {
              "outlinewidth": 0,
              "ticks": ""
             }
            },
            "type": "scattergl"
           }
          ],
          "scattermapbox": [
           {
            "marker": {
             "colorbar": {
              "outlinewidth": 0,
              "ticks": ""
             }
            },
            "type": "scattermapbox"
           }
          ],
          "scatterpolar": [
           {
            "marker": {
             "colorbar": {
              "outlinewidth": 0,
              "ticks": ""
             }
            },
            "type": "scatterpolar"
           }
          ],
          "scatterpolargl": [
           {
            "marker": {
             "colorbar": {
              "outlinewidth": 0,
              "ticks": ""
             }
            },
            "type": "scatterpolargl"
           }
          ],
          "scatterternary": [
           {
            "marker": {
             "colorbar": {
              "outlinewidth": 0,
              "ticks": ""
             }
            },
            "type": "scatterternary"
           }
          ],
          "surface": [
           {
            "colorbar": {
             "outlinewidth": 0,
             "ticks": ""
            },
            "colorscale": [
             [
              0,
              "#0d0887"
             ],
             [
              0.1111111111111111,
              "#46039f"
             ],
             [
              0.2222222222222222,
              "#7201a8"
             ],
             [
              0.3333333333333333,
              "#9c179e"
             ],
             [
              0.4444444444444444,
              "#bd3786"
             ],
             [
              0.5555555555555556,
              "#d8576b"
             ],
             [
              0.6666666666666666,
              "#ed7953"
             ],
             [
              0.7777777777777778,
              "#fb9f3a"
             ],
             [
              0.8888888888888888,
              "#fdca26"
             ],
             [
              1,
              "#f0f921"
             ]
            ],
            "type": "surface"
           }
          ],
          "table": [
           {
            "cells": {
             "fill": {
              "color": "#EBF0F8"
             },
             "line": {
              "color": "white"
             }
            },
            "header": {
             "fill": {
              "color": "#C8D4E3"
             },
             "line": {
              "color": "white"
             }
            },
            "type": "table"
           }
          ]
         },
         "layout": {
          "annotationdefaults": {
           "arrowcolor": "#2a3f5f",
           "arrowhead": 0,
           "arrowwidth": 1
          },
          "autotypenumbers": "strict",
          "coloraxis": {
           "colorbar": {
            "outlinewidth": 0,
            "ticks": ""
           }
          },
          "colorscale": {
           "diverging": [
            [
             0,
             "#8e0152"
            ],
            [
             0.1,
             "#c51b7d"
            ],
            [
             0.2,
             "#de77ae"
            ],
            [
             0.3,
             "#f1b6da"
            ],
            [
             0.4,
             "#fde0ef"
            ],
            [
             0.5,
             "#f7f7f7"
            ],
            [
             0.6,
             "#e6f5d0"
            ],
            [
             0.7,
             "#b8e186"
            ],
            [
             0.8,
             "#7fbc41"
            ],
            [
             0.9,
             "#4d9221"
            ],
            [
             1,
             "#276419"
            ]
           ],
           "sequential": [
            [
             0,
             "#0d0887"
            ],
            [
             0.1111111111111111,
             "#46039f"
            ],
            [
             0.2222222222222222,
             "#7201a8"
            ],
            [
             0.3333333333333333,
             "#9c179e"
            ],
            [
             0.4444444444444444,
             "#bd3786"
            ],
            [
             0.5555555555555556,
             "#d8576b"
            ],
            [
             0.6666666666666666,
             "#ed7953"
            ],
            [
             0.7777777777777778,
             "#fb9f3a"
            ],
            [
             0.8888888888888888,
             "#fdca26"
            ],
            [
             1,
             "#f0f921"
            ]
           ],
           "sequentialminus": [
            [
             0,
             "#0d0887"
            ],
            [
             0.1111111111111111,
             "#46039f"
            ],
            [
             0.2222222222222222,
             "#7201a8"
            ],
            [
             0.3333333333333333,
             "#9c179e"
            ],
            [
             0.4444444444444444,
             "#bd3786"
            ],
            [
             0.5555555555555556,
             "#d8576b"
            ],
            [
             0.6666666666666666,
             "#ed7953"
            ],
            [
             0.7777777777777778,
             "#fb9f3a"
            ],
            [
             0.8888888888888888,
             "#fdca26"
            ],
            [
             1,
             "#f0f921"
            ]
           ]
          },
          "colorway": [
           "#636efa",
           "#EF553B",
           "#00cc96",
           "#ab63fa",
           "#FFA15A",
           "#19d3f3",
           "#FF6692",
           "#B6E880",
           "#FF97FF",
           "#FECB52"
          ],
          "font": {
           "color": "#2a3f5f"
          },
          "geo": {
           "bgcolor": "white",
           "lakecolor": "white",
           "landcolor": "#E5ECF6",
           "showlakes": true,
           "showland": true,
           "subunitcolor": "white"
          },
          "hoverlabel": {
           "align": "left"
          },
          "hovermode": "closest",
          "mapbox": {
           "style": "light"
          },
          "paper_bgcolor": "white",
          "plot_bgcolor": "#E5ECF6",
          "polar": {
           "angularaxis": {
            "gridcolor": "white",
            "linecolor": "white",
            "ticks": ""
           },
           "bgcolor": "#E5ECF6",
           "radialaxis": {
            "gridcolor": "white",
            "linecolor": "white",
            "ticks": ""
           }
          },
          "scene": {
           "xaxis": {
            "backgroundcolor": "#E5ECF6",
            "gridcolor": "white",
            "gridwidth": 2,
            "linecolor": "white",
            "showbackground": true,
            "ticks": "",
            "zerolinecolor": "white"
           },
           "yaxis": {
            "backgroundcolor": "#E5ECF6",
            "gridcolor": "white",
            "gridwidth": 2,
            "linecolor": "white",
            "showbackground": true,
            "ticks": "",
            "zerolinecolor": "white"
           },
           "zaxis": {
            "backgroundcolor": "#E5ECF6",
            "gridcolor": "white",
            "gridwidth": 2,
            "linecolor": "white",
            "showbackground": true,
            "ticks": "",
            "zerolinecolor": "white"
           }
          },
          "shapedefaults": {
           "line": {
            "color": "#2a3f5f"
           }
          },
          "ternary": {
           "aaxis": {
            "gridcolor": "white",
            "linecolor": "white",
            "ticks": ""
           },
           "baxis": {
            "gridcolor": "white",
            "linecolor": "white",
            "ticks": ""
           },
           "bgcolor": "#E5ECF6",
           "caxis": {
            "gridcolor": "white",
            "linecolor": "white",
            "ticks": ""
           }
          },
          "title": {
           "x": 0.05
          },
          "xaxis": {
           "automargin": true,
           "gridcolor": "white",
           "linecolor": "white",
           "ticks": "",
           "title": {
            "standoff": 15
           },
           "zerolinecolor": "white",
           "zerolinewidth": 2
          },
          "yaxis": {
           "automargin": true,
           "gridcolor": "white",
           "linecolor": "white",
           "ticks": "",
           "title": {
            "standoff": 15
           },
           "zerolinecolor": "white",
           "zerolinewidth": 2
          }
         }
        },
        "title": {
         "text": "<b>Doanh thu của từng mặt hàng theo nhóm hàng</b>"
        },
        "width": 1200,
        "xaxis": {
         "anchor": "y",
         "domain": [
          0,
          1
         ],
         "title": {
          "text": "Nhóm khách hàng"
         }
        },
        "yaxis": {
         "anchor": "x",
         "domain": [
          0,
          1
         ],
         "title": {
          "text": "Số lượng khách hàng"
         }
        }
       }
      }
     },
     "metadata": {},
     "output_type": "display_data"
    }
   ],
   "source": [
    "color_discrete_sequence = px.colors.diverging.Portland \n",
    "\n",
    "fig = px.bar(df_revenue_of_product, x='Tên nhóm hàng', y='Doanh thu',\n",
    "             title='Số khách hàng cao nhất với mỗi PKKH tương ứng với mỗi nhóm khách hàng RFM',\n",
    "             color='Tên mặt hàng', # nếu mà muốn hiện cái thang màu theo Tổng Lợi Nhuận thì thay chỗ ni thành Tổng Lợi Nhuận\n",
    "             color_discrete_sequence=color_discrete_sequence)\n",
    "\n",
    "# Updating the layout\n",
    "fig.update_layout(title='<b>Doanh thu của từng mặt hàng theo nhóm hàng</b>',\n",
    "                  xaxis_title=\"Nhóm khách hàng\",\n",
    "                  yaxis_title=\"Số lượng khách hàng\",\n",
    "                  paper_bgcolor='lightgrey',\n",
    "                  plot_bgcolor='lightgrey',\n",
    "                  height=600,  # Tăng kích thước chiều cao\n",
    "                  width=1200 # Tăng kích thước chiều rộng\n",
    ")\n",
    "# Cập nhật Hover Template\n",
    "# Display the plot\n",
    "fig.show()"
   ]
  },
  {
   "cell_type": "markdown",
   "metadata": {},
   "source": [
    "<h1 style=\"color:white\"><strong><em>* Ý tưởng 2: Mỗi nhóm hàng lấy ra một mặt hàng có doanh thu cao nhất trong Quý 4"
   ]
  },
  {
   "cell_type": "markdown",
   "metadata": {},
   "source": [
    "<h3 style=\"color:white\"><strong>🔘 Lọc ra những mặt hàng có doanh thu cao nhất trong mỗi mặt hàng"
   ]
  },
  {
   "cell_type": "code",
   "execution_count": 54,
   "metadata": {},
   "outputs": [
    {
     "data": {
      "text/html": [
       "<div>\n",
       "<style scoped>\n",
       "    .dataframe tbody tr th:only-of-type {\n",
       "        vertical-align: middle;\n",
       "    }\n",
       "\n",
       "    .dataframe tbody tr th {\n",
       "        vertical-align: top;\n",
       "    }\n",
       "\n",
       "    .dataframe thead th {\n",
       "        text-align: right;\n",
       "    }\n",
       "</style>\n",
       "<table border=\"1\" class=\"dataframe\">\n",
       "  <thead>\n",
       "    <tr style=\"text-align: right;\">\n",
       "      <th></th>\n",
       "      <th>Tên nhóm hàng</th>\n",
       "      <th>Tên mặt hàng</th>\n",
       "      <th>Doanh thu</th>\n",
       "    </tr>\n",
       "  </thead>\n",
       "  <tbody>\n",
       "    <tr>\n",
       "      <th>32</th>\n",
       "      <td>Đồ uống</td>\n",
       "      <td>Trà sữa ô long</td>\n",
       "      <td>125818000</td>\n",
       "    </tr>\n",
       "    <tr>\n",
       "      <th>24</th>\n",
       "      <td>Đồ Khô</td>\n",
       "      <td>Khô mix 3 vị (heo bơ tỏi, mực, gà)</td>\n",
       "      <td>1129785000</td>\n",
       "    </tr>\n",
       "    <tr>\n",
       "      <th>13</th>\n",
       "      <td>Ngũ Cốc</td>\n",
       "      <td>Ngũ cốc granola vị nguyên vị</td>\n",
       "      <td>5299308000</td>\n",
       "    </tr>\n",
       "    <tr>\n",
       "      <th>9</th>\n",
       "      <td>Bột củ sen</td>\n",
       "      <td>Bột củ sen hòa tan dinh dưỡng không đường</td>\n",
       "      <td>1062750000</td>\n",
       "    </tr>\n",
       "    <tr>\n",
       "      <th>8</th>\n",
       "      <td>Bánh</td>\n",
       "      <td>Bánh ngói hạnh nhân</td>\n",
       "      <td>960201000</td>\n",
       "    </tr>\n",
       "    <tr>\n",
       "      <th>5</th>\n",
       "      <td>Bim Bim</td>\n",
       "      <td>Rong biển cháy tỏi</td>\n",
       "      <td>1067520000</td>\n",
       "    </tr>\n",
       "  </tbody>\n",
       "</table>\n",
       "</div>"
      ],
      "text/plain": [
       "   Tên nhóm hàng                               Tên mặt hàng   Doanh thu\n",
       "32       Đồ uống                             Trà sữa ô long   125818000\n",
       "24        Đồ Khô         Khô mix 3 vị (heo bơ tỏi, mực, gà)  1129785000\n",
       "13       Ngũ Cốc               Ngũ cốc granola vị nguyên vị  5299308000\n",
       "9     Bột củ sen  Bột củ sen hòa tan dinh dưỡng không đường  1062750000\n",
       "8           Bánh                        Bánh ngói hạnh nhân   960201000\n",
       "5        Bim Bim                         Rong biển cháy tỏi  1067520000"
      ]
     },
     "execution_count": 54,
     "metadata": {},
     "output_type": "execute_result"
    }
   ],
   "source": [
    "# Lọc ra các mặt hàng theo nhóm hàng\n",
    "df_revenue_of_product_sorted = df_revenue_of_product.sort_values(by=['Tên nhóm hàng', 'Doanh thu'], ascending= False)\n",
    "df_revenue_of_product_sorted\n",
    "# Lấy ra các măt hàng có doanh thu cao nhất trong mỗi mặt hàng\n",
    "df_top_items = df_revenue_of_product_sorted.groupby('Tên nhóm hàng').head(1)\n",
    "# Gán biến mới \n",
    "df_top_6_items = df_top_items\n",
    "df_top_6_items"
   ]
  },
  {
   "cell_type": "markdown",
   "metadata": {},
   "source": [
    "<h3 style=\"color:white\"><b>🔘 List các mặt hàng chính"
   ]
  },
  {
   "cell_type": "code",
   "execution_count": 55,
   "metadata": {},
   "outputs": [
    {
     "name": "stdout",
     "output_type": "stream",
     "text": [
      "['Trà sữa ô long', 'Khô mix 3 vị (heo bơ tỏi, mực, gà)', 'Ngũ cốc granola vị nguyên vị', 'Bột củ sen hòa tan dinh dưỡng không đường', 'Bánh ngói hạnh nhân', 'Rong biển cháy tỏi']\n"
     ]
    }
   ],
   "source": [
    "# Chuyển những giá trị trong cột \"Tên mặt hàng\" thành list\n",
    "list_of_items = df_top_6_items[\"Tên mặt hàng\"].to_list()\n",
    "# In ra danh sách\n",
    "print(list_of_items)"
   ]
  },
  {
   "cell_type": "markdown",
   "metadata": {},
   "source": [
    "<h2 style=\"color:white\"><b>* Drop các mặt hàng không nằm trong \"list_of_items\" trong dữ liệu chính <br>\n",
    "--> Từ đó có DataFrame mới "
   ]
  },
  {
   "cell_type": "code",
   "execution_count": 56,
   "metadata": {},
   "outputs": [
    {
     "data": {
      "text/html": [
       "<div>\n",
       "<style scoped>\n",
       "    .dataframe tbody tr th:only-of-type {\n",
       "        vertical-align: middle;\n",
       "    }\n",
       "\n",
       "    .dataframe tbody tr th {\n",
       "        vertical-align: top;\n",
       "    }\n",
       "\n",
       "    .dataframe thead th {\n",
       "        text-align: right;\n",
       "    }\n",
       "</style>\n",
       "<table border=\"1\" class=\"dataframe\">\n",
       "  <thead>\n",
       "    <tr style=\"text-align: right;\">\n",
       "      <th></th>\n",
       "      <th>Thời gian tạo đơn</th>\n",
       "      <th>Mã đơn hàng</th>\n",
       "      <th>Mã khách hàng</th>\n",
       "      <th>Tên khách hàng</th>\n",
       "      <th>Mã PKKH</th>\n",
       "      <th>Mô tả Phân Khúc Khách hàng</th>\n",
       "      <th>Mã nhóm hàng</th>\n",
       "      <th>Tên nhóm hàng</th>\n",
       "      <th>Mã mặt hàng</th>\n",
       "      <th>Tên mặt hàng</th>\n",
       "      <th>SL</th>\n",
       "      <th>Đơn giá</th>\n",
       "      <th>Thành tiền</th>\n",
       "      <th>Thời gian</th>\n",
       "      <th>Ngày</th>\n",
       "      <th>Tháng</th>\n",
       "      <th>Quý</th>\n",
       "      <th>Năm</th>\n",
       "      <th>Nhóm PKKH</th>\n",
       "    </tr>\n",
       "  </thead>\n",
       "  <tbody>\n",
       "    <tr>\n",
       "      <th>249413</th>\n",
       "      <td>2022-10-01 08:00:01</td>\n",
       "      <td>ORD0019862</td>\n",
       "      <td>CUZ16165</td>\n",
       "      <td>NaN</td>\n",
       "      <td>A2</td>\n",
       "      <td>Nhân viên văn phòng, freelancer thu nhập trung...</td>\n",
       "      <td>BIM</td>\n",
       "      <td>Bim Bim</td>\n",
       "      <td>BIM06</td>\n",
       "      <td>Rong biển cháy tỏi</td>\n",
       "      <td>1</td>\n",
       "      <td>64000</td>\n",
       "      <td>64000</td>\n",
       "      <td>08:00:01</td>\n",
       "      <td>1</td>\n",
       "      <td>10</td>\n",
       "      <td>4</td>\n",
       "      <td>2022</td>\n",
       "      <td>A</td>\n",
       "    </tr>\n",
       "    <tr>\n",
       "      <th>249425</th>\n",
       "      <td>2022-10-01 08:07:47</td>\n",
       "      <td>ORD0019863</td>\n",
       "      <td>CUZ16166</td>\n",
       "      <td>NaN</td>\n",
       "      <td>C2</td>\n",
       "      <td>KOCs/Food reviewers</td>\n",
       "      <td>BAN</td>\n",
       "      <td>Bánh</td>\n",
       "      <td>BAN03</td>\n",
       "      <td>Bánh ngói hạnh nhân</td>\n",
       "      <td>1</td>\n",
       "      <td>99000</td>\n",
       "      <td>99000</td>\n",
       "      <td>08:07:47</td>\n",
       "      <td>1</td>\n",
       "      <td>10</td>\n",
       "      <td>4</td>\n",
       "      <td>2022</td>\n",
       "      <td>C</td>\n",
       "    </tr>\n",
       "    <tr>\n",
       "      <th>249428</th>\n",
       "      <td>2022-10-01 08:07:47</td>\n",
       "      <td>ORD0019863</td>\n",
       "      <td>CUZ16166</td>\n",
       "      <td>NaN</td>\n",
       "      <td>C2</td>\n",
       "      <td>KOCs/Food reviewers</td>\n",
       "      <td>BOT</td>\n",
       "      <td>Bột củ sen</td>\n",
       "      <td>BOT03</td>\n",
       "      <td>Bột củ sen hòa tan dinh dưỡng không đường</td>\n",
       "      <td>1</td>\n",
       "      <td>75000</td>\n",
       "      <td>75000</td>\n",
       "      <td>08:07:47</td>\n",
       "      <td>1</td>\n",
       "      <td>10</td>\n",
       "      <td>4</td>\n",
       "      <td>2022</td>\n",
       "      <td>C</td>\n",
       "    </tr>\n",
       "    <tr>\n",
       "      <th>249437</th>\n",
       "      <td>2022-10-01 08:07:47</td>\n",
       "      <td>ORD0019863</td>\n",
       "      <td>CUZ16166</td>\n",
       "      <td>NaN</td>\n",
       "      <td>C2</td>\n",
       "      <td>KOCs/Food reviewers</td>\n",
       "      <td>NCO</td>\n",
       "      <td>Ngũ Cốc</td>\n",
       "      <td>NCO06</td>\n",
       "      <td>Ngũ cốc granola vị nguyên vị</td>\n",
       "      <td>2</td>\n",
       "      <td>119000</td>\n",
       "      <td>238000</td>\n",
       "      <td>08:07:47</td>\n",
       "      <td>1</td>\n",
       "      <td>10</td>\n",
       "      <td>4</td>\n",
       "      <td>2022</td>\n",
       "      <td>C</td>\n",
       "    </tr>\n",
       "    <tr>\n",
       "      <th>249438</th>\n",
       "      <td>2022-10-01 08:22:15</td>\n",
       "      <td>ORD0019864</td>\n",
       "      <td>CUZ16167</td>\n",
       "      <td>NaN</td>\n",
       "      <td>B3</td>\n",
       "      <td>Người làm trong lĩnh vực nghệ thuật, làm đẹp, ...</td>\n",
       "      <td>BOT</td>\n",
       "      <td>Bột củ sen</td>\n",
       "      <td>BOT03</td>\n",
       "      <td>Bột củ sen hòa tan dinh dưỡng không đường</td>\n",
       "      <td>1</td>\n",
       "      <td>75000</td>\n",
       "      <td>75000</td>\n",
       "      <td>08:22:15</td>\n",
       "      <td>1</td>\n",
       "      <td>10</td>\n",
       "      <td>4</td>\n",
       "      <td>2022</td>\n",
       "      <td>B</td>\n",
       "    </tr>\n",
       "    <tr>\n",
       "      <th>...</th>\n",
       "      <td>...</td>\n",
       "      <td>...</td>\n",
       "      <td>...</td>\n",
       "      <td>...</td>\n",
       "      <td>...</td>\n",
       "      <td>...</td>\n",
       "      <td>...</td>\n",
       "      <td>...</td>\n",
       "      <td>...</td>\n",
       "      <td>...</td>\n",
       "      <td>...</td>\n",
       "      <td>...</td>\n",
       "      <td>...</td>\n",
       "      <td>...</td>\n",
       "      <td>...</td>\n",
       "      <td>...</td>\n",
       "      <td>...</td>\n",
       "      <td>...</td>\n",
       "      <td>...</td>\n",
       "    </tr>\n",
       "    <tr>\n",
       "      <th>396024</th>\n",
       "      <td>2022-12-31 23:23:46</td>\n",
       "      <td>ORD0030264</td>\n",
       "      <td>CUZ23056</td>\n",
       "      <td>NaN</td>\n",
       "      <td>A2</td>\n",
       "      <td>Nhân viên văn phòng, freelancer thu nhập trung...</td>\n",
       "      <td>KHO</td>\n",
       "      <td>Đồ Khô</td>\n",
       "      <td>KHO06</td>\n",
       "      <td>Khô mix 3 vị (heo bơ tỏi, mực, gà)</td>\n",
       "      <td>11</td>\n",
       "      <td>109000</td>\n",
       "      <td>1199000</td>\n",
       "      <td>23:23:46</td>\n",
       "      <td>31</td>\n",
       "      <td>12</td>\n",
       "      <td>4</td>\n",
       "      <td>2022</td>\n",
       "      <td>A</td>\n",
       "    </tr>\n",
       "    <tr>\n",
       "      <th>396029</th>\n",
       "      <td>2022-12-31 23:23:46</td>\n",
       "      <td>ORD0030264</td>\n",
       "      <td>CUZ23056</td>\n",
       "      <td>NaN</td>\n",
       "      <td>A2</td>\n",
       "      <td>Nhân viên văn phòng, freelancer thu nhập trung...</td>\n",
       "      <td>NCO</td>\n",
       "      <td>Ngũ Cốc</td>\n",
       "      <td>NCO06</td>\n",
       "      <td>Ngũ cốc granola vị nguyên vị</td>\n",
       "      <td>1</td>\n",
       "      <td>119000</td>\n",
       "      <td>119000</td>\n",
       "      <td>23:23:46</td>\n",
       "      <td>31</td>\n",
       "      <td>12</td>\n",
       "      <td>4</td>\n",
       "      <td>2022</td>\n",
       "      <td>A</td>\n",
       "    </tr>\n",
       "    <tr>\n",
       "      <th>396032</th>\n",
       "      <td>2022-12-31 23:30:40</td>\n",
       "      <td>ORD0030265</td>\n",
       "      <td>CUZ10053</td>\n",
       "      <td>NaN</td>\n",
       "      <td>A1</td>\n",
       "      <td>Học sinh, sinh viên có sở thích ăn vặt</td>\n",
       "      <td>BAN</td>\n",
       "      <td>Bánh</td>\n",
       "      <td>BAN03</td>\n",
       "      <td>Bánh ngói hạnh nhân</td>\n",
       "      <td>1</td>\n",
       "      <td>99000</td>\n",
       "      <td>99000</td>\n",
       "      <td>23:30:40</td>\n",
       "      <td>31</td>\n",
       "      <td>12</td>\n",
       "      <td>4</td>\n",
       "      <td>2022</td>\n",
       "      <td>A</td>\n",
       "    </tr>\n",
       "    <tr>\n",
       "      <th>396038</th>\n",
       "      <td>2022-12-31 23:30:40</td>\n",
       "      <td>ORD0030265</td>\n",
       "      <td>CUZ10053</td>\n",
       "      <td>NaN</td>\n",
       "      <td>A1</td>\n",
       "      <td>Học sinh, sinh viên có sở thích ăn vặt</td>\n",
       "      <td>BIM</td>\n",
       "      <td>Bim Bim</td>\n",
       "      <td>BIM06</td>\n",
       "      <td>Rong biển cháy tỏi</td>\n",
       "      <td>2</td>\n",
       "      <td>64000</td>\n",
       "      <td>128000</td>\n",
       "      <td>23:30:40</td>\n",
       "      <td>31</td>\n",
       "      <td>12</td>\n",
       "      <td>4</td>\n",
       "      <td>2022</td>\n",
       "      <td>A</td>\n",
       "    </tr>\n",
       "    <tr>\n",
       "      <th>396044</th>\n",
       "      <td>2022-12-31 23:30:40</td>\n",
       "      <td>ORD0030265</td>\n",
       "      <td>CUZ10053</td>\n",
       "      <td>NaN</td>\n",
       "      <td>A1</td>\n",
       "      <td>Học sinh, sinh viên có sở thích ăn vặt</td>\n",
       "      <td>KHO</td>\n",
       "      <td>Đồ Khô</td>\n",
       "      <td>KHO06</td>\n",
       "      <td>Khô mix 3 vị (heo bơ tỏi, mực, gà)</td>\n",
       "      <td>1</td>\n",
       "      <td>109000</td>\n",
       "      <td>109000</td>\n",
       "      <td>23:30:40</td>\n",
       "      <td>31</td>\n",
       "      <td>12</td>\n",
       "      <td>4</td>\n",
       "      <td>2022</td>\n",
       "      <td>A</td>\n",
       "    </tr>\n",
       "  </tbody>\n",
       "</table>\n",
       "<p>28517 rows × 19 columns</p>\n",
       "</div>"
      ],
      "text/plain": [
       "         Thời gian tạo đơn Mã đơn hàng Mã khách hàng Tên khách hàng Mã PKKH  \\\n",
       "249413 2022-10-01 08:00:01  ORD0019862      CUZ16165            NaN      A2   \n",
       "249425 2022-10-01 08:07:47  ORD0019863      CUZ16166            NaN      C2   \n",
       "249428 2022-10-01 08:07:47  ORD0019863      CUZ16166            NaN      C2   \n",
       "249437 2022-10-01 08:07:47  ORD0019863      CUZ16166            NaN      C2   \n",
       "249438 2022-10-01 08:22:15  ORD0019864      CUZ16167            NaN      B3   \n",
       "...                    ...         ...           ...            ...     ...   \n",
       "396024 2022-12-31 23:23:46  ORD0030264      CUZ23056            NaN      A2   \n",
       "396029 2022-12-31 23:23:46  ORD0030264      CUZ23056            NaN      A2   \n",
       "396032 2022-12-31 23:30:40  ORD0030265      CUZ10053            NaN      A1   \n",
       "396038 2022-12-31 23:30:40  ORD0030265      CUZ10053            NaN      A1   \n",
       "396044 2022-12-31 23:30:40  ORD0030265      CUZ10053            NaN      A1   \n",
       "\n",
       "                               Mô tả Phân Khúc Khách hàng Mã nhóm hàng  \\\n",
       "249413  Nhân viên văn phòng, freelancer thu nhập trung...          BIM   \n",
       "249425                                KOCs/Food reviewers          BAN   \n",
       "249428                                KOCs/Food reviewers          BOT   \n",
       "249437                                KOCs/Food reviewers          NCO   \n",
       "249438  Người làm trong lĩnh vực nghệ thuật, làm đẹp, ...          BOT   \n",
       "...                                                   ...          ...   \n",
       "396024  Nhân viên văn phòng, freelancer thu nhập trung...          KHO   \n",
       "396029  Nhân viên văn phòng, freelancer thu nhập trung...          NCO   \n",
       "396032             Học sinh, sinh viên có sở thích ăn vặt          BAN   \n",
       "396038             Học sinh, sinh viên có sở thích ăn vặt          BIM   \n",
       "396044             Học sinh, sinh viên có sở thích ăn vặt          KHO   \n",
       "\n",
       "       Tên nhóm hàng Mã mặt hàng                               Tên mặt hàng  \\\n",
       "249413       Bim Bim       BIM06                         Rong biển cháy tỏi   \n",
       "249425          Bánh       BAN03                        Bánh ngói hạnh nhân   \n",
       "249428    Bột củ sen       BOT03  Bột củ sen hòa tan dinh dưỡng không đường   \n",
       "249437       Ngũ Cốc       NCO06               Ngũ cốc granola vị nguyên vị   \n",
       "249438    Bột củ sen       BOT03  Bột củ sen hòa tan dinh dưỡng không đường   \n",
       "...              ...         ...                                        ...   \n",
       "396024        Đồ Khô       KHO06         Khô mix 3 vị (heo bơ tỏi, mực, gà)   \n",
       "396029       Ngũ Cốc       NCO06               Ngũ cốc granola vị nguyên vị   \n",
       "396032          Bánh       BAN03                        Bánh ngói hạnh nhân   \n",
       "396038       Bim Bim       BIM06                         Rong biển cháy tỏi   \n",
       "396044        Đồ Khô       KHO06         Khô mix 3 vị (heo bơ tỏi, mực, gà)   \n",
       "\n",
       "        SL  Đơn giá  Thành tiền Thời gian  Ngày  Tháng  Quý   Năm Nhóm PKKH  \n",
       "249413   1    64000       64000  08:00:01     1     10    4  2022         A  \n",
       "249425   1    99000       99000  08:07:47     1     10    4  2022         C  \n",
       "249428   1    75000       75000  08:07:47     1     10    4  2022         C  \n",
       "249437   2   119000      238000  08:07:47     1     10    4  2022         C  \n",
       "249438   1    75000       75000  08:22:15     1     10    4  2022         B  \n",
       "...     ..      ...         ...       ...   ...    ...  ...   ...       ...  \n",
       "396024  11   109000     1199000  23:23:46    31     12    4  2022         A  \n",
       "396029   1   119000      119000  23:23:46    31     12    4  2022         A  \n",
       "396032   1    99000       99000  23:30:40    31     12    4  2022         A  \n",
       "396038   2    64000      128000  23:30:40    31     12    4  2022         A  \n",
       "396044   1   109000      109000  23:30:40    31     12    4  2022         A  \n",
       "\n",
       "[28517 rows x 19 columns]"
      ]
     },
     "execution_count": 56,
     "metadata": {},
     "output_type": "execute_result"
    }
   ],
   "source": [
    "# Loại bỏ các sản phẩm mà giá trị trong cột \"Tên mặt hàng\" không có trong list_of_items\n",
    "df = df_quarter[df_quarter[\"Tên mặt hàng\"].isin(list_of_items)]\n",
    "# In ra DataFrame sau khi đã lọc\n",
    "df"
   ]
  },
  {
   "cell_type": "markdown",
   "metadata": {},
   "source": [
    "<h2 style='text-align: center; color: white'><strong>---- Thông tin chính trong dataframe mới ----\n",
    "</strong>"
   ]
  },
  {
   "cell_type": "code",
   "execution_count": 57,
   "metadata": {},
   "outputs": [
    {
     "data": {
      "text/html": [
       "<div>\n",
       "<style scoped>\n",
       "    .dataframe tbody tr th:only-of-type {\n",
       "        vertical-align: middle;\n",
       "    }\n",
       "\n",
       "    .dataframe tbody tr th {\n",
       "        vertical-align: top;\n",
       "    }\n",
       "\n",
       "    .dataframe thead th {\n",
       "        text-align: right;\n",
       "    }\n",
       "</style>\n",
       "<table border=\"1\" class=\"dataframe\">\n",
       "  <thead>\n",
       "    <tr style=\"text-align: right;\">\n",
       "      <th></th>\n",
       "      <th>Thời gian tạo đơn</th>\n",
       "      <th>Mã đơn hàng</th>\n",
       "      <th>Mã khách hàng</th>\n",
       "      <th>Tên khách hàng</th>\n",
       "      <th>Mã PKKH</th>\n",
       "      <th>Mô tả Phân Khúc Khách hàng</th>\n",
       "      <th>Mã nhóm hàng</th>\n",
       "      <th>Tên nhóm hàng</th>\n",
       "      <th>Mã mặt hàng</th>\n",
       "      <th>Tên mặt hàng</th>\n",
       "      <th>SL</th>\n",
       "      <th>Đơn giá</th>\n",
       "      <th>Thành tiền</th>\n",
       "      <th>Thời gian</th>\n",
       "      <th>Ngày</th>\n",
       "      <th>Tháng</th>\n",
       "      <th>Quý</th>\n",
       "      <th>Năm</th>\n",
       "      <th>Nhóm PKKH</th>\n",
       "    </tr>\n",
       "  </thead>\n",
       "  <tbody>\n",
       "    <tr>\n",
       "      <th>249413</th>\n",
       "      <td>2022-10-01 08:00:01</td>\n",
       "      <td>ORD0019862</td>\n",
       "      <td>CUZ16165</td>\n",
       "      <td>NaN</td>\n",
       "      <td>A2</td>\n",
       "      <td>Nhân viên văn phòng, freelancer thu nhập trung...</td>\n",
       "      <td>BIM</td>\n",
       "      <td>Bim Bim</td>\n",
       "      <td>BIM06</td>\n",
       "      <td>Rong biển cháy tỏi</td>\n",
       "      <td>1</td>\n",
       "      <td>64000</td>\n",
       "      <td>64000</td>\n",
       "      <td>08:00:01</td>\n",
       "      <td>1</td>\n",
       "      <td>10</td>\n",
       "      <td>4</td>\n",
       "      <td>2022</td>\n",
       "      <td>A</td>\n",
       "    </tr>\n",
       "    <tr>\n",
       "      <th>249425</th>\n",
       "      <td>2022-10-01 08:07:47</td>\n",
       "      <td>ORD0019863</td>\n",
       "      <td>CUZ16166</td>\n",
       "      <td>NaN</td>\n",
       "      <td>C2</td>\n",
       "      <td>KOCs/Food reviewers</td>\n",
       "      <td>BAN</td>\n",
       "      <td>Bánh</td>\n",
       "      <td>BAN03</td>\n",
       "      <td>Bánh ngói hạnh nhân</td>\n",
       "      <td>1</td>\n",
       "      <td>99000</td>\n",
       "      <td>99000</td>\n",
       "      <td>08:07:47</td>\n",
       "      <td>1</td>\n",
       "      <td>10</td>\n",
       "      <td>4</td>\n",
       "      <td>2022</td>\n",
       "      <td>C</td>\n",
       "    </tr>\n",
       "    <tr>\n",
       "      <th>249428</th>\n",
       "      <td>2022-10-01 08:07:47</td>\n",
       "      <td>ORD0019863</td>\n",
       "      <td>CUZ16166</td>\n",
       "      <td>NaN</td>\n",
       "      <td>C2</td>\n",
       "      <td>KOCs/Food reviewers</td>\n",
       "      <td>BOT</td>\n",
       "      <td>Bột củ sen</td>\n",
       "      <td>BOT03</td>\n",
       "      <td>Bột củ sen hòa tan dinh dưỡng không đường</td>\n",
       "      <td>1</td>\n",
       "      <td>75000</td>\n",
       "      <td>75000</td>\n",
       "      <td>08:07:47</td>\n",
       "      <td>1</td>\n",
       "      <td>10</td>\n",
       "      <td>4</td>\n",
       "      <td>2022</td>\n",
       "      <td>C</td>\n",
       "    </tr>\n",
       "    <tr>\n",
       "      <th>249437</th>\n",
       "      <td>2022-10-01 08:07:47</td>\n",
       "      <td>ORD0019863</td>\n",
       "      <td>CUZ16166</td>\n",
       "      <td>NaN</td>\n",
       "      <td>C2</td>\n",
       "      <td>KOCs/Food reviewers</td>\n",
       "      <td>NCO</td>\n",
       "      <td>Ngũ Cốc</td>\n",
       "      <td>NCO06</td>\n",
       "      <td>Ngũ cốc granola vị nguyên vị</td>\n",
       "      <td>2</td>\n",
       "      <td>119000</td>\n",
       "      <td>238000</td>\n",
       "      <td>08:07:47</td>\n",
       "      <td>1</td>\n",
       "      <td>10</td>\n",
       "      <td>4</td>\n",
       "      <td>2022</td>\n",
       "      <td>C</td>\n",
       "    </tr>\n",
       "    <tr>\n",
       "      <th>249438</th>\n",
       "      <td>2022-10-01 08:22:15</td>\n",
       "      <td>ORD0019864</td>\n",
       "      <td>CUZ16167</td>\n",
       "      <td>NaN</td>\n",
       "      <td>B3</td>\n",
       "      <td>Người làm trong lĩnh vực nghệ thuật, làm đẹp, ...</td>\n",
       "      <td>BOT</td>\n",
       "      <td>Bột củ sen</td>\n",
       "      <td>BOT03</td>\n",
       "      <td>Bột củ sen hòa tan dinh dưỡng không đường</td>\n",
       "      <td>1</td>\n",
       "      <td>75000</td>\n",
       "      <td>75000</td>\n",
       "      <td>08:22:15</td>\n",
       "      <td>1</td>\n",
       "      <td>10</td>\n",
       "      <td>4</td>\n",
       "      <td>2022</td>\n",
       "      <td>B</td>\n",
       "    </tr>\n",
       "  </tbody>\n",
       "</table>\n",
       "</div>"
      ],
      "text/plain": [
       "         Thời gian tạo đơn Mã đơn hàng Mã khách hàng Tên khách hàng Mã PKKH  \\\n",
       "249413 2022-10-01 08:00:01  ORD0019862      CUZ16165            NaN      A2   \n",
       "249425 2022-10-01 08:07:47  ORD0019863      CUZ16166            NaN      C2   \n",
       "249428 2022-10-01 08:07:47  ORD0019863      CUZ16166            NaN      C2   \n",
       "249437 2022-10-01 08:07:47  ORD0019863      CUZ16166            NaN      C2   \n",
       "249438 2022-10-01 08:22:15  ORD0019864      CUZ16167            NaN      B3   \n",
       "\n",
       "                               Mô tả Phân Khúc Khách hàng Mã nhóm hàng  \\\n",
       "249413  Nhân viên văn phòng, freelancer thu nhập trung...          BIM   \n",
       "249425                                KOCs/Food reviewers          BAN   \n",
       "249428                                KOCs/Food reviewers          BOT   \n",
       "249437                                KOCs/Food reviewers          NCO   \n",
       "249438  Người làm trong lĩnh vực nghệ thuật, làm đẹp, ...          BOT   \n",
       "\n",
       "       Tên nhóm hàng Mã mặt hàng                               Tên mặt hàng  \\\n",
       "249413       Bim Bim       BIM06                         Rong biển cháy tỏi   \n",
       "249425          Bánh       BAN03                        Bánh ngói hạnh nhân   \n",
       "249428    Bột củ sen       BOT03  Bột củ sen hòa tan dinh dưỡng không đường   \n",
       "249437       Ngũ Cốc       NCO06               Ngũ cốc granola vị nguyên vị   \n",
       "249438    Bột củ sen       BOT03  Bột củ sen hòa tan dinh dưỡng không đường   \n",
       "\n",
       "        SL  Đơn giá  Thành tiền Thời gian  Ngày  Tháng  Quý   Năm Nhóm PKKH  \n",
       "249413   1    64000       64000  08:00:01     1     10    4  2022         A  \n",
       "249425   1    99000       99000  08:07:47     1     10    4  2022         C  \n",
       "249428   1    75000       75000  08:07:47     1     10    4  2022         C  \n",
       "249437   2   119000      238000  08:07:47     1     10    4  2022         C  \n",
       "249438   1    75000       75000  08:22:15     1     10    4  2022         B  "
      ]
     },
     "execution_count": 57,
     "metadata": {},
     "output_type": "execute_result"
    }
   ],
   "source": [
    "df.head()"
   ]
  },
  {
   "cell_type": "code",
   "execution_count": 58,
   "metadata": {},
   "outputs": [
    {
     "data": {
      "text/html": [
       "<div>\n",
       "<style scoped>\n",
       "    .dataframe tbody tr th:only-of-type {\n",
       "        vertical-align: middle;\n",
       "    }\n",
       "\n",
       "    .dataframe tbody tr th {\n",
       "        vertical-align: top;\n",
       "    }\n",
       "\n",
       "    .dataframe thead th {\n",
       "        text-align: right;\n",
       "    }\n",
       "</style>\n",
       "<table border=\"1\" class=\"dataframe\">\n",
       "  <thead>\n",
       "    <tr style=\"text-align: right;\">\n",
       "      <th></th>\n",
       "      <th>Thời gian tạo đơn</th>\n",
       "      <th>Mã đơn hàng</th>\n",
       "      <th>Mã khách hàng</th>\n",
       "      <th>Tên khách hàng</th>\n",
       "      <th>Mã PKKH</th>\n",
       "      <th>Mô tả Phân Khúc Khách hàng</th>\n",
       "      <th>Mã nhóm hàng</th>\n",
       "      <th>Tên nhóm hàng</th>\n",
       "      <th>Mã mặt hàng</th>\n",
       "      <th>Tên mặt hàng</th>\n",
       "      <th>SL</th>\n",
       "      <th>Đơn giá</th>\n",
       "      <th>Thành tiền</th>\n",
       "      <th>Thời gian</th>\n",
       "      <th>Ngày</th>\n",
       "      <th>Tháng</th>\n",
       "      <th>Quý</th>\n",
       "      <th>Năm</th>\n",
       "      <th>Nhóm PKKH</th>\n",
       "    </tr>\n",
       "  </thead>\n",
       "  <tbody>\n",
       "    <tr>\n",
       "      <th>396024</th>\n",
       "      <td>2022-12-31 23:23:46</td>\n",
       "      <td>ORD0030264</td>\n",
       "      <td>CUZ23056</td>\n",
       "      <td>NaN</td>\n",
       "      <td>A2</td>\n",
       "      <td>Nhân viên văn phòng, freelancer thu nhập trung...</td>\n",
       "      <td>KHO</td>\n",
       "      <td>Đồ Khô</td>\n",
       "      <td>KHO06</td>\n",
       "      <td>Khô mix 3 vị (heo bơ tỏi, mực, gà)</td>\n",
       "      <td>11</td>\n",
       "      <td>109000</td>\n",
       "      <td>1199000</td>\n",
       "      <td>23:23:46</td>\n",
       "      <td>31</td>\n",
       "      <td>12</td>\n",
       "      <td>4</td>\n",
       "      <td>2022</td>\n",
       "      <td>A</td>\n",
       "    </tr>\n",
       "    <tr>\n",
       "      <th>396029</th>\n",
       "      <td>2022-12-31 23:23:46</td>\n",
       "      <td>ORD0030264</td>\n",
       "      <td>CUZ23056</td>\n",
       "      <td>NaN</td>\n",
       "      <td>A2</td>\n",
       "      <td>Nhân viên văn phòng, freelancer thu nhập trung...</td>\n",
       "      <td>NCO</td>\n",
       "      <td>Ngũ Cốc</td>\n",
       "      <td>NCO06</td>\n",
       "      <td>Ngũ cốc granola vị nguyên vị</td>\n",
       "      <td>1</td>\n",
       "      <td>119000</td>\n",
       "      <td>119000</td>\n",
       "      <td>23:23:46</td>\n",
       "      <td>31</td>\n",
       "      <td>12</td>\n",
       "      <td>4</td>\n",
       "      <td>2022</td>\n",
       "      <td>A</td>\n",
       "    </tr>\n",
       "    <tr>\n",
       "      <th>396032</th>\n",
       "      <td>2022-12-31 23:30:40</td>\n",
       "      <td>ORD0030265</td>\n",
       "      <td>CUZ10053</td>\n",
       "      <td>NaN</td>\n",
       "      <td>A1</td>\n",
       "      <td>Học sinh, sinh viên có sở thích ăn vặt</td>\n",
       "      <td>BAN</td>\n",
       "      <td>Bánh</td>\n",
       "      <td>BAN03</td>\n",
       "      <td>Bánh ngói hạnh nhân</td>\n",
       "      <td>1</td>\n",
       "      <td>99000</td>\n",
       "      <td>99000</td>\n",
       "      <td>23:30:40</td>\n",
       "      <td>31</td>\n",
       "      <td>12</td>\n",
       "      <td>4</td>\n",
       "      <td>2022</td>\n",
       "      <td>A</td>\n",
       "    </tr>\n",
       "    <tr>\n",
       "      <th>396038</th>\n",
       "      <td>2022-12-31 23:30:40</td>\n",
       "      <td>ORD0030265</td>\n",
       "      <td>CUZ10053</td>\n",
       "      <td>NaN</td>\n",
       "      <td>A1</td>\n",
       "      <td>Học sinh, sinh viên có sở thích ăn vặt</td>\n",
       "      <td>BIM</td>\n",
       "      <td>Bim Bim</td>\n",
       "      <td>BIM06</td>\n",
       "      <td>Rong biển cháy tỏi</td>\n",
       "      <td>2</td>\n",
       "      <td>64000</td>\n",
       "      <td>128000</td>\n",
       "      <td>23:30:40</td>\n",
       "      <td>31</td>\n",
       "      <td>12</td>\n",
       "      <td>4</td>\n",
       "      <td>2022</td>\n",
       "      <td>A</td>\n",
       "    </tr>\n",
       "    <tr>\n",
       "      <th>396044</th>\n",
       "      <td>2022-12-31 23:30:40</td>\n",
       "      <td>ORD0030265</td>\n",
       "      <td>CUZ10053</td>\n",
       "      <td>NaN</td>\n",
       "      <td>A1</td>\n",
       "      <td>Học sinh, sinh viên có sở thích ăn vặt</td>\n",
       "      <td>KHO</td>\n",
       "      <td>Đồ Khô</td>\n",
       "      <td>KHO06</td>\n",
       "      <td>Khô mix 3 vị (heo bơ tỏi, mực, gà)</td>\n",
       "      <td>1</td>\n",
       "      <td>109000</td>\n",
       "      <td>109000</td>\n",
       "      <td>23:30:40</td>\n",
       "      <td>31</td>\n",
       "      <td>12</td>\n",
       "      <td>4</td>\n",
       "      <td>2022</td>\n",
       "      <td>A</td>\n",
       "    </tr>\n",
       "  </tbody>\n",
       "</table>\n",
       "</div>"
      ],
      "text/plain": [
       "         Thời gian tạo đơn Mã đơn hàng Mã khách hàng Tên khách hàng Mã PKKH  \\\n",
       "396024 2022-12-31 23:23:46  ORD0030264      CUZ23056            NaN      A2   \n",
       "396029 2022-12-31 23:23:46  ORD0030264      CUZ23056            NaN      A2   \n",
       "396032 2022-12-31 23:30:40  ORD0030265      CUZ10053            NaN      A1   \n",
       "396038 2022-12-31 23:30:40  ORD0030265      CUZ10053            NaN      A1   \n",
       "396044 2022-12-31 23:30:40  ORD0030265      CUZ10053            NaN      A1   \n",
       "\n",
       "                               Mô tả Phân Khúc Khách hàng Mã nhóm hàng  \\\n",
       "396024  Nhân viên văn phòng, freelancer thu nhập trung...          KHO   \n",
       "396029  Nhân viên văn phòng, freelancer thu nhập trung...          NCO   \n",
       "396032             Học sinh, sinh viên có sở thích ăn vặt          BAN   \n",
       "396038             Học sinh, sinh viên có sở thích ăn vặt          BIM   \n",
       "396044             Học sinh, sinh viên có sở thích ăn vặt          KHO   \n",
       "\n",
       "       Tên nhóm hàng Mã mặt hàng                        Tên mặt hàng  SL  \\\n",
       "396024        Đồ Khô       KHO06  Khô mix 3 vị (heo bơ tỏi, mực, gà)  11   \n",
       "396029       Ngũ Cốc       NCO06        Ngũ cốc granola vị nguyên vị   1   \n",
       "396032          Bánh       BAN03                 Bánh ngói hạnh nhân   1   \n",
       "396038       Bim Bim       BIM06                  Rong biển cháy tỏi   2   \n",
       "396044        Đồ Khô       KHO06  Khô mix 3 vị (heo bơ tỏi, mực, gà)   1   \n",
       "\n",
       "        Đơn giá  Thành tiền Thời gian  Ngày  Tháng  Quý   Năm Nhóm PKKH  \n",
       "396024   109000     1199000  23:23:46    31     12    4  2022         A  \n",
       "396029   119000      119000  23:23:46    31     12    4  2022         A  \n",
       "396032    99000       99000  23:30:40    31     12    4  2022         A  \n",
       "396038    64000      128000  23:30:40    31     12    4  2022         A  \n",
       "396044   109000      109000  23:30:40    31     12    4  2022         A  "
      ]
     },
     "execution_count": 58,
     "metadata": {},
     "output_type": "execute_result"
    }
   ],
   "source": [
    "df.tail()"
   ]
  },
  {
   "cell_type": "code",
   "execution_count": 59,
   "metadata": {},
   "outputs": [
    {
     "name": "stdout",
     "output_type": "stream",
     "text": [
      "Shape of Dataset\n",
      "Rows: 28517\n",
      "Columns: 19\n"
     ]
    }
   ],
   "source": [
    "print('Shape of Dataset')\n",
    "print(f'Rows: {df.shape[0]}')\n",
    "print(f'Columns: {df.shape[1]}')"
   ]
  },
  {
   "cell_type": "code",
   "execution_count": 60,
   "metadata": {},
   "outputs": [
    {
     "name": "stdout",
     "output_type": "stream",
     "text": [
      "Data Info:\n",
      "<class 'pandas.core.frame.DataFrame'>\n",
      "Index: 28517 entries, 249413 to 396044\n",
      "Data columns (total 19 columns):\n",
      " #   Column                      Non-Null Count  Dtype         \n",
      "---  ------                      --------------  -----         \n",
      " 0   Thời gian tạo đơn           28517 non-null  datetime64[ns]\n",
      " 1   Mã đơn hàng                 28517 non-null  object        \n",
      " 2   Mã khách hàng               28517 non-null  object        \n",
      " 3   Tên khách hàng              3351 non-null   object        \n",
      " 4   Mã PKKH                     28517 non-null  object        \n",
      " 5   Mô tả Phân Khúc Khách hàng  28517 non-null  object        \n",
      " 6   Mã nhóm hàng                28517 non-null  object        \n",
      " 7   Tên nhóm hàng               28517 non-null  object        \n",
      " 8   Mã mặt hàng                 28517 non-null  object        \n",
      " 9   Tên mặt hàng                28517 non-null  object        \n",
      " 10  SL                          28517 non-null  int64         \n",
      " 11  Đơn giá                     28517 non-null  int64         \n",
      " 12  Thành tiền                  28517 non-null  int64         \n",
      " 13  Thời gian                   28517 non-null  object        \n",
      " 14  Ngày                        28517 non-null  int32         \n",
      " 15  Tháng                       28517 non-null  int32         \n",
      " 16  Quý                         28517 non-null  int32         \n",
      " 17  Năm                         28517 non-null  int32         \n",
      " 18  Nhóm PKKH                   28517 non-null  object        \n",
      "dtypes: datetime64[ns](1), int32(4), int64(3), object(11)\n",
      "memory usage: 3.9+ MB\n"
     ]
    }
   ],
   "source": [
    "print(\"Data Info:\")\n",
    "df.info()"
   ]
  },
  {
   "cell_type": "markdown",
   "metadata": {},
   "source": [
    "<h2 style='text-align: center; color: white'><strong>---- Phân tích vài ý chính về dataframe mới để dẫn đến luật ----\n",
    "</strong>"
   ]
  },
  {
   "cell_type": "markdown",
   "metadata": {},
   "source": [
    "<h3 style=\"color:white\"><strong>🔘 Phân tích mối quan hệ đồng xuất hiện giữa các mặt hàng "
   ]
  },
  {
   "cell_type": "code",
   "execution_count": 61,
   "metadata": {},
   "outputs": [],
   "source": [
    "from itertools import combinations\n",
    "# Tạo nhóm theo 'Mã đơn hàng' và liệt kê các 'Tên nhóm hàng' liên quan\n",
    "grouped = df.groupby('Mã đơn hàng')['Tên mặt hàng'].apply(list)\n",
    "\n",
    "# Tạo một dictionary để đếm số lần xuất hiện của mỗi cặp sản phẩm\n",
    "pair_counts = {}\n",
    "for items in grouped:\n",
    "    items = sorted(set(items))  # Loại bỏ trùng lặp và sắp xếp\n",
    "    for pair in combinations(items, 2):\n",
    "        if pair in pair_counts:\n",
    "            pair_counts[pair] += 1\n",
    "        else:\n",
    "            pair_counts[pair] = 1\n",
    "\n",
    "# Chuyển dictionary thành DataFrame\n",
    "pairs_df = pd.DataFrame(list(pair_counts.items()), columns=['Item Pair', 'Số lượng'])\n",
    "pairs_df = pairs_df.sort_values(by='Số lượng', ascending=False)\n",
    "\n",
    "# Tách cặp nhóm hàng thành hai cột riêng biệt\n",
    "pairs_df[['Group 1', 'Group 2']] = pd.DataFrame(pairs_df['Item Pair'].tolist(), index=pairs_df.index)\n",
    "\n",
    "# Tạo pivot table và đảm bảo đối xứng\n",
    "pivot_table = pairs_df.pivot_table(values='Số lượng', index='Group 1', columns='Group 2', aggfunc='sum', fill_value=0)\n",
    "max_index = pivot_table.index.union(pivot_table.columns)\n",
    "pivot_table = pivot_table.reindex(index=max_index, columns=max_index, fill_value=0)\n",
    "pivot_table += pivot_table.T"
   ]
  },
  {
   "cell_type": "code",
   "execution_count": 62,
   "metadata": {},
   "outputs": [
    {
     "data": {
      "text/html": [
       "<div>\n",
       "<style scoped>\n",
       "    .dataframe tbody tr th:only-of-type {\n",
       "        vertical-align: middle;\n",
       "    }\n",
       "\n",
       "    .dataframe tbody tr th {\n",
       "        vertical-align: top;\n",
       "    }\n",
       "\n",
       "    .dataframe thead th {\n",
       "        text-align: right;\n",
       "    }\n",
       "</style>\n",
       "<table border=\"1\" class=\"dataframe\">\n",
       "  <thead>\n",
       "    <tr style=\"text-align: right;\">\n",
       "      <th></th>\n",
       "      <th>Bánh ngói hạnh nhân</th>\n",
       "      <th>Bột củ sen hòa tan dinh dưỡng không đường</th>\n",
       "      <th>Khô mix 3 vị (heo bơ tỏi, mực, gà)</th>\n",
       "      <th>Ngũ cốc granola vị nguyên vị</th>\n",
       "      <th>Rong biển cháy tỏi</th>\n",
       "      <th>Trà sữa ô long</th>\n",
       "    </tr>\n",
       "  </thead>\n",
       "  <tbody>\n",
       "    <tr>\n",
       "      <th>Bánh ngói hạnh nhân</th>\n",
       "      <td>0</td>\n",
       "      <td>2503</td>\n",
       "      <td>2925</td>\n",
       "      <td>3332</td>\n",
       "      <td>3773</td>\n",
       "      <td>821</td>\n",
       "    </tr>\n",
       "    <tr>\n",
       "      <th>Bột củ sen hòa tan dinh dưỡng không đường</th>\n",
       "      <td>2503</td>\n",
       "      <td>0</td>\n",
       "      <td>859</td>\n",
       "      <td>3970</td>\n",
       "      <td>2232</td>\n",
       "      <td>207</td>\n",
       "    </tr>\n",
       "    <tr>\n",
       "      <th>Khô mix 3 vị (heo bơ tỏi, mực, gà)</th>\n",
       "      <td>2925</td>\n",
       "      <td>859</td>\n",
       "      <td>0</td>\n",
       "      <td>1719</td>\n",
       "      <td>3334</td>\n",
       "      <td>870</td>\n",
       "    </tr>\n",
       "    <tr>\n",
       "      <th>Ngũ cốc granola vị nguyên vị</th>\n",
       "      <td>3332</td>\n",
       "      <td>3970</td>\n",
       "      <td>1719</td>\n",
       "      <td>0</td>\n",
       "      <td>3080</td>\n",
       "      <td>462</td>\n",
       "    </tr>\n",
       "    <tr>\n",
       "      <th>Rong biển cháy tỏi</th>\n",
       "      <td>3773</td>\n",
       "      <td>2232</td>\n",
       "      <td>3334</td>\n",
       "      <td>3080</td>\n",
       "      <td>0</td>\n",
       "      <td>968</td>\n",
       "    </tr>\n",
       "    <tr>\n",
       "      <th>Trà sữa ô long</th>\n",
       "      <td>821</td>\n",
       "      <td>207</td>\n",
       "      <td>870</td>\n",
       "      <td>462</td>\n",
       "      <td>968</td>\n",
       "      <td>0</td>\n",
       "    </tr>\n",
       "  </tbody>\n",
       "</table>\n",
       "</div>"
      ],
      "text/plain": [
       "                                           Bánh ngói hạnh nhân  \\\n",
       "Bánh ngói hạnh nhân                                          0   \n",
       "Bột củ sen hòa tan dinh dưỡng không đường                 2503   \n",
       "Khô mix 3 vị (heo bơ tỏi, mực, gà)                        2925   \n",
       "Ngũ cốc granola vị nguyên vị                              3332   \n",
       "Rong biển cháy tỏi                                        3773   \n",
       "Trà sữa ô long                                             821   \n",
       "\n",
       "                                           Bột củ sen hòa tan dinh dưỡng không đường  \\\n",
       "Bánh ngói hạnh nhân                                                             2503   \n",
       "Bột củ sen hòa tan dinh dưỡng không đường                                          0   \n",
       "Khô mix 3 vị (heo bơ tỏi, mực, gà)                                               859   \n",
       "Ngũ cốc granola vị nguyên vị                                                    3970   \n",
       "Rong biển cháy tỏi                                                              2232   \n",
       "Trà sữa ô long                                                                   207   \n",
       "\n",
       "                                           Khô mix 3 vị (heo bơ tỏi, mực, gà)  \\\n",
       "Bánh ngói hạnh nhân                                                      2925   \n",
       "Bột củ sen hòa tan dinh dưỡng không đường                                 859   \n",
       "Khô mix 3 vị (heo bơ tỏi, mực, gà)                                          0   \n",
       "Ngũ cốc granola vị nguyên vị                                             1719   \n",
       "Rong biển cháy tỏi                                                       3334   \n",
       "Trà sữa ô long                                                            870   \n",
       "\n",
       "                                           Ngũ cốc granola vị nguyên vị  \\\n",
       "Bánh ngói hạnh nhân                                                3332   \n",
       "Bột củ sen hòa tan dinh dưỡng không đường                          3970   \n",
       "Khô mix 3 vị (heo bơ tỏi, mực, gà)                                 1719   \n",
       "Ngũ cốc granola vị nguyên vị                                          0   \n",
       "Rong biển cháy tỏi                                                 3080   \n",
       "Trà sữa ô long                                                      462   \n",
       "\n",
       "                                           Rong biển cháy tỏi  Trà sữa ô long  \n",
       "Bánh ngói hạnh nhân                                      3773             821  \n",
       "Bột củ sen hòa tan dinh dưỡng không đường                2232             207  \n",
       "Khô mix 3 vị (heo bơ tỏi, mực, gà)                       3334             870  \n",
       "Ngũ cốc granola vị nguyên vị                             3080             462  \n",
       "Rong biển cháy tỏi                                          0             968  \n",
       "Trà sữa ô long                                            968               0  "
      ]
     },
     "execution_count": 62,
     "metadata": {},
     "output_type": "execute_result"
    }
   ],
   "source": [
    "pivot_table"
   ]
  },
  {
   "cell_type": "code",
   "execution_count": 65,
   "metadata": {},
   "outputs": [
    {
     "name": "stderr",
     "output_type": "stream",
     "text": [
      "C:\\Users\\DINH TAI\\AppData\\Local\\Temp\\ipykernel_2088\\1502799851.py:6: FutureWarning:\n",
      "\n",
      "DataFrame.applymap has been deprecated. Use DataFrame.map instead.\n",
      "\n"
     ]
    },
    {
     "data": {
      "application/vnd.plotly.v1+json": {
       "config": {
        "plotlyServerURL": "https://plot.ly"
       },
       "data": [
        {
         "colorscale": [
          [
           0,
           "rgb(247,251,255)"
          ],
          [
           0.125,
           "rgb(222,235,247)"
          ],
          [
           0.25,
           "rgb(198,219,239)"
          ],
          [
           0.375,
           "rgb(158,202,225)"
          ],
          [
           0.5,
           "rgb(107,174,214)"
          ],
          [
           0.625,
           "rgb(66,146,198)"
          ],
          [
           0.75,
           "rgb(33,113,181)"
          ],
          [
           0.875,
           "rgb(8,81,156)"
          ],
          [
           1,
           "rgb(8,48,107)"
          ]
         ],
         "hoverinfo": "text",
         "text": [
          [
           "",
           "2503",
           "2925",
           "3332",
           "3773",
           "821"
          ],
          [
           "2503",
           "",
           "859",
           "3970",
           "2232",
           "207"
          ],
          [
           "2925",
           "859",
           "",
           "1719",
           "3334",
           "870"
          ],
          [
           "3332",
           "3970",
           "1719",
           "",
           "3080",
           "462"
          ],
          [
           "3773",
           "2232",
           "3334",
           "3080",
           "",
           "968"
          ],
          [
           "821",
           "207",
           "870",
           "462",
           "968",
           ""
          ]
         ],
         "texttemplate": "%{text}",
         "type": "heatmap",
         "x": [
          "Bánh ngói hạnh nhân",
          "Bột củ sen hòa tan dinh dưỡng không đường",
          "Khô mix 3 vị (heo bơ tỏi, mực, gà)",
          "Ngũ cốc granola vị nguyên vị",
          "Rong biển cháy tỏi",
          "Trà sữa ô long"
         ],
         "y": [
          "Bánh ngói hạnh nhân",
          "Bột củ sen hòa tan dinh dưỡng không đường",
          "Khô mix 3 vị (heo bơ tỏi, mực, gà)",
          "Ngũ cốc granola vị nguyên vị",
          "Rong biển cháy tỏi",
          "Trà sữa ô long"
         ],
         "z": [
          [
           0,
           2503,
           2925,
           3332,
           3773,
           821
          ],
          [
           2503,
           0,
           859,
           3970,
           2232,
           207
          ],
          [
           2925,
           859,
           0,
           1719,
           3334,
           870
          ],
          [
           3332,
           3970,
           1719,
           0,
           3080,
           462
          ],
          [
           3773,
           2232,
           3334,
           3080,
           0,
           968
          ],
          [
           821,
           207,
           870,
           462,
           968,
           0
          ]
         ]
        }
       ],
       "layout": {
        "autosize": false,
        "font": {
         "size": 12
        },
        "height": 600,
        "template": {
         "data": {
          "bar": [
           {
            "error_x": {
             "color": "#2a3f5f"
            },
            "error_y": {
             "color": "#2a3f5f"
            },
            "marker": {
             "line": {
              "color": "#E5ECF6",
              "width": 0.5
             },
             "pattern": {
              "fillmode": "overlay",
              "size": 10,
              "solidity": 0.2
             }
            },
            "type": "bar"
           }
          ],
          "barpolar": [
           {
            "marker": {
             "line": {
              "color": "#E5ECF6",
              "width": 0.5
             },
             "pattern": {
              "fillmode": "overlay",
              "size": 10,
              "solidity": 0.2
             }
            },
            "type": "barpolar"
           }
          ],
          "carpet": [
           {
            "aaxis": {
             "endlinecolor": "#2a3f5f",
             "gridcolor": "white",
             "linecolor": "white",
             "minorgridcolor": "white",
             "startlinecolor": "#2a3f5f"
            },
            "baxis": {
             "endlinecolor": "#2a3f5f",
             "gridcolor": "white",
             "linecolor": "white",
             "minorgridcolor": "white",
             "startlinecolor": "#2a3f5f"
            },
            "type": "carpet"
           }
          ],
          "choropleth": [
           {
            "colorbar": {
             "outlinewidth": 0,
             "ticks": ""
            },
            "type": "choropleth"
           }
          ],
          "contour": [
           {
            "colorbar": {
             "outlinewidth": 0,
             "ticks": ""
            },
            "colorscale": [
             [
              0,
              "#0d0887"
             ],
             [
              0.1111111111111111,
              "#46039f"
             ],
             [
              0.2222222222222222,
              "#7201a8"
             ],
             [
              0.3333333333333333,
              "#9c179e"
             ],
             [
              0.4444444444444444,
              "#bd3786"
             ],
             [
              0.5555555555555556,
              "#d8576b"
             ],
             [
              0.6666666666666666,
              "#ed7953"
             ],
             [
              0.7777777777777778,
              "#fb9f3a"
             ],
             [
              0.8888888888888888,
              "#fdca26"
             ],
             [
              1,
              "#f0f921"
             ]
            ],
            "type": "contour"
           }
          ],
          "contourcarpet": [
           {
            "colorbar": {
             "outlinewidth": 0,
             "ticks": ""
            },
            "type": "contourcarpet"
           }
          ],
          "heatmap": [
           {
            "colorbar": {
             "outlinewidth": 0,
             "ticks": ""
            },
            "colorscale": [
             [
              0,
              "#0d0887"
             ],
             [
              0.1111111111111111,
              "#46039f"
             ],
             [
              0.2222222222222222,
              "#7201a8"
             ],
             [
              0.3333333333333333,
              "#9c179e"
             ],
             [
              0.4444444444444444,
              "#bd3786"
             ],
             [
              0.5555555555555556,
              "#d8576b"
             ],
             [
              0.6666666666666666,
              "#ed7953"
             ],
             [
              0.7777777777777778,
              "#fb9f3a"
             ],
             [
              0.8888888888888888,
              "#fdca26"
             ],
             [
              1,
              "#f0f921"
             ]
            ],
            "type": "heatmap"
           }
          ],
          "heatmapgl": [
           {
            "colorbar": {
             "outlinewidth": 0,
             "ticks": ""
            },
            "colorscale": [
             [
              0,
              "#0d0887"
             ],
             [
              0.1111111111111111,
              "#46039f"
             ],
             [
              0.2222222222222222,
              "#7201a8"
             ],
             [
              0.3333333333333333,
              "#9c179e"
             ],
             [
              0.4444444444444444,
              "#bd3786"
             ],
             [
              0.5555555555555556,
              "#d8576b"
             ],
             [
              0.6666666666666666,
              "#ed7953"
             ],
             [
              0.7777777777777778,
              "#fb9f3a"
             ],
             [
              0.8888888888888888,
              "#fdca26"
             ],
             [
              1,
              "#f0f921"
             ]
            ],
            "type": "heatmapgl"
           }
          ],
          "histogram": [
           {
            "marker": {
             "pattern": {
              "fillmode": "overlay",
              "size": 10,
              "solidity": 0.2
             }
            },
            "type": "histogram"
           }
          ],
          "histogram2d": [
           {
            "colorbar": {
             "outlinewidth": 0,
             "ticks": ""
            },
            "colorscale": [
             [
              0,
              "#0d0887"
             ],
             [
              0.1111111111111111,
              "#46039f"
             ],
             [
              0.2222222222222222,
              "#7201a8"
             ],
             [
              0.3333333333333333,
              "#9c179e"
             ],
             [
              0.4444444444444444,
              "#bd3786"
             ],
             [
              0.5555555555555556,
              "#d8576b"
             ],
             [
              0.6666666666666666,
              "#ed7953"
             ],
             [
              0.7777777777777778,
              "#fb9f3a"
             ],
             [
              0.8888888888888888,
              "#fdca26"
             ],
             [
              1,
              "#f0f921"
             ]
            ],
            "type": "histogram2d"
           }
          ],
          "histogram2dcontour": [
           {
            "colorbar": {
             "outlinewidth": 0,
             "ticks": ""
            },
            "colorscale": [
             [
              0,
              "#0d0887"
             ],
             [
              0.1111111111111111,
              "#46039f"
             ],
             [
              0.2222222222222222,
              "#7201a8"
             ],
             [
              0.3333333333333333,
              "#9c179e"
             ],
             [
              0.4444444444444444,
              "#bd3786"
             ],
             [
              0.5555555555555556,
              "#d8576b"
             ],
             [
              0.6666666666666666,
              "#ed7953"
             ],
             [
              0.7777777777777778,
              "#fb9f3a"
             ],
             [
              0.8888888888888888,
              "#fdca26"
             ],
             [
              1,
              "#f0f921"
             ]
            ],
            "type": "histogram2dcontour"
           }
          ],
          "mesh3d": [
           {
            "colorbar": {
             "outlinewidth": 0,
             "ticks": ""
            },
            "type": "mesh3d"
           }
          ],
          "parcoords": [
           {
            "line": {
             "colorbar": {
              "outlinewidth": 0,
              "ticks": ""
             }
            },
            "type": "parcoords"
           }
          ],
          "pie": [
           {
            "automargin": true,
            "type": "pie"
           }
          ],
          "scatter": [
           {
            "fillpattern": {
             "fillmode": "overlay",
             "size": 10,
             "solidity": 0.2
            },
            "type": "scatter"
           }
          ],
          "scatter3d": [
           {
            "line": {
             "colorbar": {
              "outlinewidth": 0,
              "ticks": ""
             }
            },
            "marker": {
             "colorbar": {
              "outlinewidth": 0,
              "ticks": ""
             }
            },
            "type": "scatter3d"
           }
          ],
          "scattercarpet": [
           {
            "marker": {
             "colorbar": {
              "outlinewidth": 0,
              "ticks": ""
             }
            },
            "type": "scattercarpet"
           }
          ],
          "scattergeo": [
           {
            "marker": {
             "colorbar": {
              "outlinewidth": 0,
              "ticks": ""
             }
            },
            "type": "scattergeo"
           }
          ],
          "scattergl": [
           {
            "marker": {
             "colorbar": {
              "outlinewidth": 0,
              "ticks": ""
             }
            },
            "type": "scattergl"
           }
          ],
          "scattermapbox": [
           {
            "marker": {
             "colorbar": {
              "outlinewidth": 0,
              "ticks": ""
             }
            },
            "type": "scattermapbox"
           }
          ],
          "scatterpolar": [
           {
            "marker": {
             "colorbar": {
              "outlinewidth": 0,
              "ticks": ""
             }
            },
            "type": "scatterpolar"
           }
          ],
          "scatterpolargl": [
           {
            "marker": {
             "colorbar": {
              "outlinewidth": 0,
              "ticks": ""
             }
            },
            "type": "scatterpolargl"
           }
          ],
          "scatterternary": [
           {
            "marker": {
             "colorbar": {
              "outlinewidth": 0,
              "ticks": ""
             }
            },
            "type": "scatterternary"
           }
          ],
          "surface": [
           {
            "colorbar": {
             "outlinewidth": 0,
             "ticks": ""
            },
            "colorscale": [
             [
              0,
              "#0d0887"
             ],
             [
              0.1111111111111111,
              "#46039f"
             ],
             [
              0.2222222222222222,
              "#7201a8"
             ],
             [
              0.3333333333333333,
              "#9c179e"
             ],
             [
              0.4444444444444444,
              "#bd3786"
             ],
             [
              0.5555555555555556,
              "#d8576b"
             ],
             [
              0.6666666666666666,
              "#ed7953"
             ],
             [
              0.7777777777777778,
              "#fb9f3a"
             ],
             [
              0.8888888888888888,
              "#fdca26"
             ],
             [
              1,
              "#f0f921"
             ]
            ],
            "type": "surface"
           }
          ],
          "table": [
           {
            "cells": {
             "fill": {
              "color": "#EBF0F8"
             },
             "line": {
              "color": "white"
             }
            },
            "header": {
             "fill": {
              "color": "#C8D4E3"
             },
             "line": {
              "color": "white"
             }
            },
            "type": "table"
           }
          ]
         },
         "layout": {
          "annotationdefaults": {
           "arrowcolor": "#2a3f5f",
           "arrowhead": 0,
           "arrowwidth": 1
          },
          "autotypenumbers": "strict",
          "coloraxis": {
           "colorbar": {
            "outlinewidth": 0,
            "ticks": ""
           }
          },
          "colorscale": {
           "diverging": [
            [
             0,
             "#8e0152"
            ],
            [
             0.1,
             "#c51b7d"
            ],
            [
             0.2,
             "#de77ae"
            ],
            [
             0.3,
             "#f1b6da"
            ],
            [
             0.4,
             "#fde0ef"
            ],
            [
             0.5,
             "#f7f7f7"
            ],
            [
             0.6,
             "#e6f5d0"
            ],
            [
             0.7,
             "#b8e186"
            ],
            [
             0.8,
             "#7fbc41"
            ],
            [
             0.9,
             "#4d9221"
            ],
            [
             1,
             "#276419"
            ]
           ],
           "sequential": [
            [
             0,
             "#0d0887"
            ],
            [
             0.1111111111111111,
             "#46039f"
            ],
            [
             0.2222222222222222,
             "#7201a8"
            ],
            [
             0.3333333333333333,
             "#9c179e"
            ],
            [
             0.4444444444444444,
             "#bd3786"
            ],
            [
             0.5555555555555556,
             "#d8576b"
            ],
            [
             0.6666666666666666,
             "#ed7953"
            ],
            [
             0.7777777777777778,
             "#fb9f3a"
            ],
            [
             0.8888888888888888,
             "#fdca26"
            ],
            [
             1,
             "#f0f921"
            ]
           ],
           "sequentialminus": [
            [
             0,
             "#0d0887"
            ],
            [
             0.1111111111111111,
             "#46039f"
            ],
            [
             0.2222222222222222,
             "#7201a8"
            ],
            [
             0.3333333333333333,
             "#9c179e"
            ],
            [
             0.4444444444444444,
             "#bd3786"
            ],
            [
             0.5555555555555556,
             "#d8576b"
            ],
            [
             0.6666666666666666,
             "#ed7953"
            ],
            [
             0.7777777777777778,
             "#fb9f3a"
            ],
            [
             0.8888888888888888,
             "#fdca26"
            ],
            [
             1,
             "#f0f921"
            ]
           ]
          },
          "colorway": [
           "#636efa",
           "#EF553B",
           "#00cc96",
           "#ab63fa",
           "#FFA15A",
           "#19d3f3",
           "#FF6692",
           "#B6E880",
           "#FF97FF",
           "#FECB52"
          ],
          "font": {
           "color": "#2a3f5f"
          },
          "geo": {
           "bgcolor": "white",
           "lakecolor": "white",
           "landcolor": "#E5ECF6",
           "showlakes": true,
           "showland": true,
           "subunitcolor": "white"
          },
          "hoverlabel": {
           "align": "left"
          },
          "hovermode": "closest",
          "mapbox": {
           "style": "light"
          },
          "paper_bgcolor": "white",
          "plot_bgcolor": "#E5ECF6",
          "polar": {
           "angularaxis": {
            "gridcolor": "white",
            "linecolor": "white",
            "ticks": ""
           },
           "bgcolor": "#E5ECF6",
           "radialaxis": {
            "gridcolor": "white",
            "linecolor": "white",
            "ticks": ""
           }
          },
          "scene": {
           "xaxis": {
            "backgroundcolor": "#E5ECF6",
            "gridcolor": "white",
            "gridwidth": 2,
            "linecolor": "white",
            "showbackground": true,
            "ticks": "",
            "zerolinecolor": "white"
           },
           "yaxis": {
            "backgroundcolor": "#E5ECF6",
            "gridcolor": "white",
            "gridwidth": 2,
            "linecolor": "white",
            "showbackground": true,
            "ticks": "",
            "zerolinecolor": "white"
           },
           "zaxis": {
            "backgroundcolor": "#E5ECF6",
            "gridcolor": "white",
            "gridwidth": 2,
            "linecolor": "white",
            "showbackground": true,
            "ticks": "",
            "zerolinecolor": "white"
           }
          },
          "shapedefaults": {
           "line": {
            "color": "#2a3f5f"
           }
          },
          "ternary": {
           "aaxis": {
            "gridcolor": "white",
            "linecolor": "white",
            "ticks": ""
           },
           "baxis": {
            "gridcolor": "white",
            "linecolor": "white",
            "ticks": ""
           },
           "bgcolor": "#E5ECF6",
           "caxis": {
            "gridcolor": "white",
            "linecolor": "white",
            "ticks": ""
           }
          },
          "title": {
           "x": 0.05
          },
          "xaxis": {
           "automargin": true,
           "gridcolor": "white",
           "linecolor": "white",
           "ticks": "",
           "title": {
            "standoff": 15
           },
           "zerolinecolor": "white",
           "zerolinewidth": 2
          },
          "yaxis": {
           "automargin": true,
           "gridcolor": "white",
           "linecolor": "white",
           "ticks": "",
           "title": {
            "standoff": 15
           },
           "zerolinecolor": "white",
           "zerolinewidth": 2
          }
         }
        },
        "title": {
         "text": "Biểu đồ Heatmap về Cross-selling giữa các mặt hàng"
        },
        "width": 1000,
        "xaxis": {
         "side": "bottom",
         "title": {
          "text": "Product Group 2"
         }
        },
        "yaxis": {
         "side": "left",
         "title": {
          "text": "Product Group 1"
         }
        }
       }
      }
     },
     "metadata": {},
     "output_type": "display_data"
    }
   ],
   "source": [
    "fig = go.Figure(data=go.Heatmap(\n",
    "    z=pivot_table.to_numpy(),\n",
    "    x=pivot_table.columns,\n",
    "    y=pivot_table.index,\n",
    "    colorscale='Blues',  # Sử dụng colorscale với độ tương phản cao hơn\n",
    "    text=pivot_table.applymap(lambda x: '{:.0f}'.format(x) if x != 0 else ''),  # Định dạng số liệu để hiển thị\n",
    "    texttemplate=\"%{text}\",\n",
    "    hoverinfo='text'  # Hiển thị text khi hover\n",
    "))\n",
    "\n",
    "# Cập nhật layout\n",
    "fig.update_layout(\n",
    "    title=\"Biểu đồ Heatmap về Cross-selling giữa các mặt hàng\",\n",
    "    xaxis_title=\"Product Group 2\",\n",
    "    yaxis_title=\"Product Group 1\",\n",
    "    xaxis={'side': 'bottom'},\n",
    "    yaxis={'side': 'left'},\n",
    "    font=dict(size=12),  # Điều chỉnh kích thước font cho dễ đọc\n",
    "    autosize=False,\n",
    "    width=1000,  # Điều chỉnh chiều rộng của biểu đồ\n",
    "    height=600   # Điều chỉnh chiều cao của biểu đồ\n",
    ")\n",
    "\n",
    "# Hiển thị biểu đồ\n",
    "fig.show()"
   ]
  },
  {
   "cell_type": "markdown",
   "metadata": {},
   "source": [
    "<h3 style=\"color:white\"><strong>🔘 Phân tích doanh thu của các mặt hàng bằng pareto"
   ]
  },
  {
   "cell_type": "code",
   "execution_count": 66,
   "metadata": {},
   "outputs": [],
   "source": [
    "def calculate_pareto_dataframe(df, groupby_column):\n",
    "    # Bước 1: Nhóm dữ liệu và tính tổng doanh thu\n",
    "    revenue_sum = df.groupby(groupby_column)['Thành tiền'].sum().reset_index(name='Tổng Doanh Thu')\n",
    "    \n",
    "    # Bước 2: Sắp xếp dữ liệu giảm dần theo tổng doanh thu\n",
    "    revenue_sum_sorted = revenue_sum.sort_values(by='Tổng Doanh Thu', ascending=False)\n",
    "    \n",
    "    # Bước 3: Tính tổng lũy kế của tổng doanh thu\n",
    "    revenue_sum_sorted['Tổng Lũy Kế'] = revenue_sum_sorted['Tổng Doanh Thu'].cumsum()\n",
    "    \n",
    "    # Bước 4: Tính tổng lũy kế phần trăm\n",
    "    total_revenue = revenue_sum_sorted['Tổng Doanh Thu'].sum()\n",
    "    revenue_sum_sorted['Phần Trăm Lũy Kế'] = revenue_sum_sorted['Tổng Lũy Kế'] / total_revenue * 100\n",
    "    \n",
    "    return revenue_sum_sorted"
   ]
  },
  {
   "cell_type": "code",
   "execution_count": 67,
   "metadata": {},
   "outputs": [],
   "source": [
    "def create_pareto_dataframes(df):\n",
    "    pareto_dataframes = {}\n",
    "    columns_to_groupby = ['Tên mặt hàng']\n",
    "    \n",
    "    for column in columns_to_groupby:\n",
    "        pareto_dataframes[column] = calculate_pareto_dataframe(df, column)\n",
    "    \n",
    "    return pareto_dataframes"
   ]
  },
  {
   "cell_type": "code",
   "execution_count": 68,
   "metadata": {},
   "outputs": [],
   "source": [
    "pareto_dfs = create_pareto_dataframes(df)"
   ]
  },
  {
   "cell_type": "code",
   "execution_count": 69,
   "metadata": {},
   "outputs": [
    {
     "data": {
      "text/html": [
       "<div>\n",
       "<style scoped>\n",
       "    .dataframe tbody tr th:only-of-type {\n",
       "        vertical-align: middle;\n",
       "    }\n",
       "\n",
       "    .dataframe tbody tr th {\n",
       "        vertical-align: top;\n",
       "    }\n",
       "\n",
       "    .dataframe thead th {\n",
       "        text-align: right;\n",
       "    }\n",
       "</style>\n",
       "<table border=\"1\" class=\"dataframe\">\n",
       "  <thead>\n",
       "    <tr style=\"text-align: right;\">\n",
       "      <th></th>\n",
       "      <th>Tên mặt hàng</th>\n",
       "      <th>Tổng Doanh Thu</th>\n",
       "      <th>Tổng Lũy Kế</th>\n",
       "      <th>Phần Trăm Lũy Kế</th>\n",
       "    </tr>\n",
       "  </thead>\n",
       "  <tbody>\n",
       "    <tr>\n",
       "      <th>3</th>\n",
       "      <td>Ngũ cốc granola vị nguyên vị</td>\n",
       "      <td>5299308000</td>\n",
       "      <td>5299308000</td>\n",
       "      <td>54.941401</td>\n",
       "    </tr>\n",
       "    <tr>\n",
       "      <th>2</th>\n",
       "      <td>Khô mix 3 vị (heo bơ tỏi, mực, gà)</td>\n",
       "      <td>1129785000</td>\n",
       "      <td>6429093000</td>\n",
       "      <td>66.654623</td>\n",
       "    </tr>\n",
       "    <tr>\n",
       "      <th>4</th>\n",
       "      <td>Rong biển cháy tỏi</td>\n",
       "      <td>1067520000</td>\n",
       "      <td>7496613000</td>\n",
       "      <td>77.722303</td>\n",
       "    </tr>\n",
       "    <tr>\n",
       "      <th>1</th>\n",
       "      <td>Bột củ sen hòa tan dinh dưỡng không đường</td>\n",
       "      <td>1062750000</td>\n",
       "      <td>8559363000</td>\n",
       "      <td>88.740529</td>\n",
       "    </tr>\n",
       "    <tr>\n",
       "      <th>0</th>\n",
       "      <td>Bánh ngói hạnh nhân</td>\n",
       "      <td>960201000</td>\n",
       "      <td>9519564000</td>\n",
       "      <td>98.695562</td>\n",
       "    </tr>\n",
       "    <tr>\n",
       "      <th>5</th>\n",
       "      <td>Trà sữa ô long</td>\n",
       "      <td>125818000</td>\n",
       "      <td>9645382000</td>\n",
       "      <td>100.000000</td>\n",
       "    </tr>\n",
       "  </tbody>\n",
       "</table>\n",
       "</div>"
      ],
      "text/plain": [
       "                                Tên mặt hàng  Tổng Doanh Thu  Tổng Lũy Kế  \\\n",
       "3               Ngũ cốc granola vị nguyên vị      5299308000   5299308000   \n",
       "2         Khô mix 3 vị (heo bơ tỏi, mực, gà)      1129785000   6429093000   \n",
       "4                         Rong biển cháy tỏi      1067520000   7496613000   \n",
       "1  Bột củ sen hòa tan dinh dưỡng không đường      1062750000   8559363000   \n",
       "0                        Bánh ngói hạnh nhân       960201000   9519564000   \n",
       "5                             Trà sữa ô long       125818000   9645382000   \n",
       "\n",
       "   Phần Trăm Lũy Kế  \n",
       "3         54.941401  \n",
       "2         66.654623  \n",
       "4         77.722303  \n",
       "1         88.740529  \n",
       "0         98.695562  \n",
       "5        100.000000  "
      ]
     },
     "execution_count": 69,
     "metadata": {},
     "output_type": "execute_result"
    }
   ],
   "source": [
    "pareto_dfs['Tên mặt hàng']"
   ]
  },
  {
   "cell_type": "code",
   "execution_count": 70,
   "metadata": {},
   "outputs": [
    {
     "data": {
      "application/vnd.plotly.v1+json": {
       "config": {
        "plotlyServerURL": "https://plot.ly"
       },
       "data": [
        {
         "marker": {
          "color": "blue"
         },
         "name": "Doanh Thu",
         "type": "bar",
         "x": [
          "Ngũ cốc granola vị nguyên vị",
          "Khô mix 3 vị (heo bơ tỏi, mực, gà)",
          "Rong biển cháy tỏi",
          "Bột củ sen hòa tan dinh dưỡng không đường",
          "Bánh ngói hạnh nhân",
          "Trà sữa ô long"
         ],
         "xaxis": "x",
         "y": [
          5299308000,
          1129785000,
          1067520000,
          1062750000,
          960201000,
          125818000
         ],
         "yaxis": "y"
        },
        {
         "marker": {
          "color": "red"
         },
         "name": "Phần Trăm Lũy Kế",
         "type": "scatter",
         "x": [
          "Ngũ cốc granola vị nguyên vị",
          "Khô mix 3 vị (heo bơ tỏi, mực, gà)",
          "Rong biển cháy tỏi",
          "Bột củ sen hòa tan dinh dưỡng không đường",
          "Bánh ngói hạnh nhân",
          "Trà sữa ô long"
         ],
         "xaxis": "x",
         "y": [
          54.941400973025225,
          66.65462290658888,
          77.72230275586804,
          88.7405288872955,
          98.6955622908455,
          100
         ],
         "yaxis": "y2"
        }
       ],
       "layout": {
        "annotations": [
         {
          "font": {
           "size": 16
          },
          "showarrow": false,
          "text": "Tên mặt hàng",
          "x": 0.47,
          "xanchor": "center",
          "xref": "paper",
          "y": 1,
          "yanchor": "bottom",
          "yref": "paper"
         }
        ],
        "height": 800,
        "showlegend": false,
        "template": {
         "data": {
          "bar": [
           {
            "error_x": {
             "color": "#2a3f5f"
            },
            "error_y": {
             "color": "#2a3f5f"
            },
            "marker": {
             "line": {
              "color": "#E5ECF6",
              "width": 0.5
             },
             "pattern": {
              "fillmode": "overlay",
              "size": 10,
              "solidity": 0.2
             }
            },
            "type": "bar"
           }
          ],
          "barpolar": [
           {
            "marker": {
             "line": {
              "color": "#E5ECF6",
              "width": 0.5
             },
             "pattern": {
              "fillmode": "overlay",
              "size": 10,
              "solidity": 0.2
             }
            },
            "type": "barpolar"
           }
          ],
          "carpet": [
           {
            "aaxis": {
             "endlinecolor": "#2a3f5f",
             "gridcolor": "white",
             "linecolor": "white",
             "minorgridcolor": "white",
             "startlinecolor": "#2a3f5f"
            },
            "baxis": {
             "endlinecolor": "#2a3f5f",
             "gridcolor": "white",
             "linecolor": "white",
             "minorgridcolor": "white",
             "startlinecolor": "#2a3f5f"
            },
            "type": "carpet"
           }
          ],
          "choropleth": [
           {
            "colorbar": {
             "outlinewidth": 0,
             "ticks": ""
            },
            "type": "choropleth"
           }
          ],
          "contour": [
           {
            "colorbar": {
             "outlinewidth": 0,
             "ticks": ""
            },
            "colorscale": [
             [
              0,
              "#0d0887"
             ],
             [
              0.1111111111111111,
              "#46039f"
             ],
             [
              0.2222222222222222,
              "#7201a8"
             ],
             [
              0.3333333333333333,
              "#9c179e"
             ],
             [
              0.4444444444444444,
              "#bd3786"
             ],
             [
              0.5555555555555556,
              "#d8576b"
             ],
             [
              0.6666666666666666,
              "#ed7953"
             ],
             [
              0.7777777777777778,
              "#fb9f3a"
             ],
             [
              0.8888888888888888,
              "#fdca26"
             ],
             [
              1,
              "#f0f921"
             ]
            ],
            "type": "contour"
           }
          ],
          "contourcarpet": [
           {
            "colorbar": {
             "outlinewidth": 0,
             "ticks": ""
            },
            "type": "contourcarpet"
           }
          ],
          "heatmap": [
           {
            "colorbar": {
             "outlinewidth": 0,
             "ticks": ""
            },
            "colorscale": [
             [
              0,
              "#0d0887"
             ],
             [
              0.1111111111111111,
              "#46039f"
             ],
             [
              0.2222222222222222,
              "#7201a8"
             ],
             [
              0.3333333333333333,
              "#9c179e"
             ],
             [
              0.4444444444444444,
              "#bd3786"
             ],
             [
              0.5555555555555556,
              "#d8576b"
             ],
             [
              0.6666666666666666,
              "#ed7953"
             ],
             [
              0.7777777777777778,
              "#fb9f3a"
             ],
             [
              0.8888888888888888,
              "#fdca26"
             ],
             [
              1,
              "#f0f921"
             ]
            ],
            "type": "heatmap"
           }
          ],
          "heatmapgl": [
           {
            "colorbar": {
             "outlinewidth": 0,
             "ticks": ""
            },
            "colorscale": [
             [
              0,
              "#0d0887"
             ],
             [
              0.1111111111111111,
              "#46039f"
             ],
             [
              0.2222222222222222,
              "#7201a8"
             ],
             [
              0.3333333333333333,
              "#9c179e"
             ],
             [
              0.4444444444444444,
              "#bd3786"
             ],
             [
              0.5555555555555556,
              "#d8576b"
             ],
             [
              0.6666666666666666,
              "#ed7953"
             ],
             [
              0.7777777777777778,
              "#fb9f3a"
             ],
             [
              0.8888888888888888,
              "#fdca26"
             ],
             [
              1,
              "#f0f921"
             ]
            ],
            "type": "heatmapgl"
           }
          ],
          "histogram": [
           {
            "marker": {
             "pattern": {
              "fillmode": "overlay",
              "size": 10,
              "solidity": 0.2
             }
            },
            "type": "histogram"
           }
          ],
          "histogram2d": [
           {
            "colorbar": {
             "outlinewidth": 0,
             "ticks": ""
            },
            "colorscale": [
             [
              0,
              "#0d0887"
             ],
             [
              0.1111111111111111,
              "#46039f"
             ],
             [
              0.2222222222222222,
              "#7201a8"
             ],
             [
              0.3333333333333333,
              "#9c179e"
             ],
             [
              0.4444444444444444,
              "#bd3786"
             ],
             [
              0.5555555555555556,
              "#d8576b"
             ],
             [
              0.6666666666666666,
              "#ed7953"
             ],
             [
              0.7777777777777778,
              "#fb9f3a"
             ],
             [
              0.8888888888888888,
              "#fdca26"
             ],
             [
              1,
              "#f0f921"
             ]
            ],
            "type": "histogram2d"
           }
          ],
          "histogram2dcontour": [
           {
            "colorbar": {
             "outlinewidth": 0,
             "ticks": ""
            },
            "colorscale": [
             [
              0,
              "#0d0887"
             ],
             [
              0.1111111111111111,
              "#46039f"
             ],
             [
              0.2222222222222222,
              "#7201a8"
             ],
             [
              0.3333333333333333,
              "#9c179e"
             ],
             [
              0.4444444444444444,
              "#bd3786"
             ],
             [
              0.5555555555555556,
              "#d8576b"
             ],
             [
              0.6666666666666666,
              "#ed7953"
             ],
             [
              0.7777777777777778,
              "#fb9f3a"
             ],
             [
              0.8888888888888888,
              "#fdca26"
             ],
             [
              1,
              "#f0f921"
             ]
            ],
            "type": "histogram2dcontour"
           }
          ],
          "mesh3d": [
           {
            "colorbar": {
             "outlinewidth": 0,
             "ticks": ""
            },
            "type": "mesh3d"
           }
          ],
          "parcoords": [
           {
            "line": {
             "colorbar": {
              "outlinewidth": 0,
              "ticks": ""
             }
            },
            "type": "parcoords"
           }
          ],
          "pie": [
           {
            "automargin": true,
            "type": "pie"
           }
          ],
          "scatter": [
           {
            "fillpattern": {
             "fillmode": "overlay",
             "size": 10,
             "solidity": 0.2
            },
            "type": "scatter"
           }
          ],
          "scatter3d": [
           {
            "line": {
             "colorbar": {
              "outlinewidth": 0,
              "ticks": ""
             }
            },
            "marker": {
             "colorbar": {
              "outlinewidth": 0,
              "ticks": ""
             }
            },
            "type": "scatter3d"
           }
          ],
          "scattercarpet": [
           {
            "marker": {
             "colorbar": {
              "outlinewidth": 0,
              "ticks": ""
             }
            },
            "type": "scattercarpet"
           }
          ],
          "scattergeo": [
           {
            "marker": {
             "colorbar": {
              "outlinewidth": 0,
              "ticks": ""
             }
            },
            "type": "scattergeo"
           }
          ],
          "scattergl": [
           {
            "marker": {
             "colorbar": {
              "outlinewidth": 0,
              "ticks": ""
             }
            },
            "type": "scattergl"
           }
          ],
          "scattermapbox": [
           {
            "marker": {
             "colorbar": {
              "outlinewidth": 0,
              "ticks": ""
             }
            },
            "type": "scattermapbox"
           }
          ],
          "scatterpolar": [
           {
            "marker": {
             "colorbar": {
              "outlinewidth": 0,
              "ticks": ""
             }
            },
            "type": "scatterpolar"
           }
          ],
          "scatterpolargl": [
           {
            "marker": {
             "colorbar": {
              "outlinewidth": 0,
              "ticks": ""
             }
            },
            "type": "scatterpolargl"
           }
          ],
          "scatterternary": [
           {
            "marker": {
             "colorbar": {
              "outlinewidth": 0,
              "ticks": ""
             }
            },
            "type": "scatterternary"
           }
          ],
          "surface": [
           {
            "colorbar": {
             "outlinewidth": 0,
             "ticks": ""
            },
            "colorscale": [
             [
              0,
              "#0d0887"
             ],
             [
              0.1111111111111111,
              "#46039f"
             ],
             [
              0.2222222222222222,
              "#7201a8"
             ],
             [
              0.3333333333333333,
              "#9c179e"
             ],
             [
              0.4444444444444444,
              "#bd3786"
             ],
             [
              0.5555555555555556,
              "#d8576b"
             ],
             [
              0.6666666666666666,
              "#ed7953"
             ],
             [
              0.7777777777777778,
              "#fb9f3a"
             ],
             [
              0.8888888888888888,
              "#fdca26"
             ],
             [
              1,
              "#f0f921"
             ]
            ],
            "type": "surface"
           }
          ],
          "table": [
           {
            "cells": {
             "fill": {
              "color": "#EBF0F8"
             },
             "line": {
              "color": "white"
             }
            },
            "header": {
             "fill": {
              "color": "#C8D4E3"
             },
             "line": {
              "color": "white"
             }
            },
            "type": "table"
           }
          ]
         },
         "layout": {
          "annotationdefaults": {
           "arrowcolor": "#2a3f5f",
           "arrowhead": 0,
           "arrowwidth": 1
          },
          "autotypenumbers": "strict",
          "coloraxis": {
           "colorbar": {
            "outlinewidth": 0,
            "ticks": ""
           }
          },
          "colorscale": {
           "diverging": [
            [
             0,
             "#8e0152"
            ],
            [
             0.1,
             "#c51b7d"
            ],
            [
             0.2,
             "#de77ae"
            ],
            [
             0.3,
             "#f1b6da"
            ],
            [
             0.4,
             "#fde0ef"
            ],
            [
             0.5,
             "#f7f7f7"
            ],
            [
             0.6,
             "#e6f5d0"
            ],
            [
             0.7,
             "#b8e186"
            ],
            [
             0.8,
             "#7fbc41"
            ],
            [
             0.9,
             "#4d9221"
            ],
            [
             1,
             "#276419"
            ]
           ],
           "sequential": [
            [
             0,
             "#0d0887"
            ],
            [
             0.1111111111111111,
             "#46039f"
            ],
            [
             0.2222222222222222,
             "#7201a8"
            ],
            [
             0.3333333333333333,
             "#9c179e"
            ],
            [
             0.4444444444444444,
             "#bd3786"
            ],
            [
             0.5555555555555556,
             "#d8576b"
            ],
            [
             0.6666666666666666,
             "#ed7953"
            ],
            [
             0.7777777777777778,
             "#fb9f3a"
            ],
            [
             0.8888888888888888,
             "#fdca26"
            ],
            [
             1,
             "#f0f921"
            ]
           ],
           "sequentialminus": [
            [
             0,
             "#0d0887"
            ],
            [
             0.1111111111111111,
             "#46039f"
            ],
            [
             0.2222222222222222,
             "#7201a8"
            ],
            [
             0.3333333333333333,
             "#9c179e"
            ],
            [
             0.4444444444444444,
             "#bd3786"
            ],
            [
             0.5555555555555556,
             "#d8576b"
            ],
            [
             0.6666666666666666,
             "#ed7953"
            ],
            [
             0.7777777777777778,
             "#fb9f3a"
            ],
            [
             0.8888888888888888,
             "#fdca26"
            ],
            [
             1,
             "#f0f921"
            ]
           ]
          },
          "colorway": [
           "#636efa",
           "#EF553B",
           "#00cc96",
           "#ab63fa",
           "#FFA15A",
           "#19d3f3",
           "#FF6692",
           "#B6E880",
           "#FF97FF",
           "#FECB52"
          ],
          "font": {
           "color": "#2a3f5f"
          },
          "geo": {
           "bgcolor": "white",
           "lakecolor": "white",
           "landcolor": "#E5ECF6",
           "showlakes": true,
           "showland": true,
           "subunitcolor": "white"
          },
          "hoverlabel": {
           "align": "left"
          },
          "hovermode": "closest",
          "mapbox": {
           "style": "light"
          },
          "paper_bgcolor": "white",
          "plot_bgcolor": "#E5ECF6",
          "polar": {
           "angularaxis": {
            "gridcolor": "white",
            "linecolor": "white",
            "ticks": ""
           },
           "bgcolor": "#E5ECF6",
           "radialaxis": {
            "gridcolor": "white",
            "linecolor": "white",
            "ticks": ""
           }
          },
          "scene": {
           "xaxis": {
            "backgroundcolor": "#E5ECF6",
            "gridcolor": "white",
            "gridwidth": 2,
            "linecolor": "white",
            "showbackground": true,
            "ticks": "",
            "zerolinecolor": "white"
           },
           "yaxis": {
            "backgroundcolor": "#E5ECF6",
            "gridcolor": "white",
            "gridwidth": 2,
            "linecolor": "white",
            "showbackground": true,
            "ticks": "",
            "zerolinecolor": "white"
           },
           "zaxis": {
            "backgroundcolor": "#E5ECF6",
            "gridcolor": "white",
            "gridwidth": 2,
            "linecolor": "white",
            "showbackground": true,
            "ticks": "",
            "zerolinecolor": "white"
           }
          },
          "shapedefaults": {
           "line": {
            "color": "#2a3f5f"
           }
          },
          "ternary": {
           "aaxis": {
            "gridcolor": "white",
            "linecolor": "white",
            "ticks": ""
           },
           "baxis": {
            "gridcolor": "white",
            "linecolor": "white",
            "ticks": ""
           },
           "bgcolor": "#E5ECF6",
           "caxis": {
            "gridcolor": "white",
            "linecolor": "white",
            "ticks": ""
           }
          },
          "title": {
           "x": 0.05
          },
          "xaxis": {
           "automargin": true,
           "gridcolor": "white",
           "linecolor": "white",
           "ticks": "",
           "title": {
            "standoff": 15
           },
           "zerolinecolor": "white",
           "zerolinewidth": 2
          },
          "yaxis": {
           "automargin": true,
           "gridcolor": "white",
           "linecolor": "white",
           "ticks": "",
           "title": {
            "standoff": 15
           },
           "zerolinecolor": "white",
           "zerolinewidth": 2
          }
         }
        },
        "title": {
         "text": "Biểu Đồ Pareto cho các mặt hàng"
        },
        "xaxis": {
         "anchor": "y",
         "domain": [
          0,
          0.94
         ]
        },
        "yaxis": {
         "anchor": "x",
         "domain": [
          0,
          1
         ]
        },
        "yaxis2": {
         "anchor": "x",
         "overlaying": "y",
         "side": "right",
         "tickformat": ",.0f",
         "title": {
          "text": "Phần Trăm Lũy Kế (%)"
         }
        }
       }
      }
     },
     "metadata": {},
     "output_type": "display_data"
    }
   ],
   "source": [
    "import plotly.graph_objs as go\n",
    "from plotly.subplots import make_subplots\n",
    "\n",
    "def draw_pareto_subplots(pareto_dfs, num_rows, num_cols):\n",
    "    subplot_titles = tuple(pareto_dfs.keys())\n",
    "    fig = make_subplots(\n",
    "        rows=num_rows, cols=num_cols, \n",
    "        subplot_titles=subplot_titles,\n",
    "        specs=[[{\"secondary_y\": True}] * num_cols] * num_rows\n",
    "    )\n",
    "    \n",
    "    # Biến để theo dõi subplot hiện tại\n",
    "    row = 1\n",
    "    col = 1\n",
    "    \n",
    "    for column, df in pareto_dfs.items():\n",
    "        # Truy cập đến DataFrame từ từ điển pareto_dfs\n",
    "        df_pareto = pareto_dfs[column]\n",
    "        \n",
    "        # Thêm biểu đồ cột cho tổng doanh thu của từng mặt hàng\n",
    "        fig.add_trace(\n",
    "            go.Bar(x=df_pareto[column], y=df_pareto['Tổng Doanh Thu'], name='Doanh Thu', marker_color='blue'), \n",
    "            row=row, col=col, secondary_y=False\n",
    "        )\n",
    "        \n",
    "        # Thêm biểu đồ đường cho tổng lũy kế phần trăm\n",
    "        fig.add_trace(\n",
    "            go.Scatter(x=df_pareto[column], y=df_pareto['Phần Trăm Lũy Kế'], name='Phần Trăm Lũy Kế', marker_color='red'),\n",
    "            row=row, col=col, secondary_y=True\n",
    "        )\n",
    "        \n",
    "    \n",
    "    # Cập nhật layout cho tất cả subplots\n",
    "    fig.update_layout(\n",
    "        title_text=\"Biểu Đồ Pareto cho các mặt hàng\",\n",
    "        height=800,\n",
    "        showlegend=False\n",
    "    )\n",
    "    \n",
    "    # Định dạng lại cho từng trục y phụ (phần trăm lũy kế)\n",
    "    for i in range(1, num_rows * num_cols + 1):\n",
    "        fig.update_yaxes(title_text=\"Phần Trăm Lũy Kế (%)\", secondary_y=True, tickformat=',.0f', row=i, col=1)\n",
    "    \n",
    "    # Hiển thị biểu đồ\n",
    "    fig.show()\n",
    "\n",
    "# Giả định pareto_dfs là từ điển chứa các DataFrame cho mỗi nhóm bạn muốn vẽ\n",
    "# num_rows và num_cols là số hàng và cột mà bạn muốn trong subplot\n",
    "draw_pareto_subplots(pareto_dfs, num_rows=1, num_cols=1)"
   ]
  },
  {
   "cell_type": "markdown",
   "metadata": {},
   "source": [
    "<h3 style=\"color:white\"><strong>--> Sau khi phân tích Data Frame mới, chúng ta có thể rút ra một số ý như:\n"
   ]
  },
  {
   "cell_type": "markdown",
   "metadata": {},
   "source": [
    "<h3 style=\"color:white\"><strong>- Sản phẩm ngũ cốc granola vị nguyên vị góp phần rất nhiều đến doanh thu\n"
   ]
  },
  {
   "cell_type": "markdown",
   "metadata": {},
   "source": [
    "<h3 style=\"color:white\"><strong>- Có những cặp sản phẩm được cùng xuất hiện cùng nhau trong một đơn hàng là rất nhiều"
   ]
  },
  {
   "cell_type": "markdown",
   "metadata": {},
   "source": [
    "<h3 style=\"color:white\"><strong>--> Để làm rõ hơn, chúng ta sẽ đi vào khai phá luật kết hợp của Data Frame mới này\n"
   ]
  },
  {
   "cell_type": "markdown",
   "metadata": {},
   "source": [
    "<h1 style=\"color: white ;font-family:Georgia;text-align: center;font-size:50px;\"><strong>✨ Data Preprocessing ✨</h1>"
   ]
  },
  {
   "cell_type": "markdown",
   "metadata": {},
   "source": [
    "<h1 style=\"color:white\"><strong>🔘 Lọc các giao dịch theo mã đơn hàng"
   ]
  },
  {
   "cell_type": "code",
   "execution_count": 71,
   "metadata": {},
   "outputs": [
    {
     "data": {
      "text/html": [
       "<div>\n",
       "<style scoped>\n",
       "    .dataframe tbody tr th:only-of-type {\n",
       "        vertical-align: middle;\n",
       "    }\n",
       "\n",
       "    .dataframe tbody tr th {\n",
       "        vertical-align: top;\n",
       "    }\n",
       "\n",
       "    .dataframe thead th {\n",
       "        text-align: right;\n",
       "    }\n",
       "</style>\n",
       "<table border=\"1\" class=\"dataframe\">\n",
       "  <thead>\n",
       "    <tr style=\"text-align: right;\">\n",
       "      <th></th>\n",
       "      <th>Mã đơn hàng</th>\n",
       "      <th>Tên mặt hàng</th>\n",
       "    </tr>\n",
       "  </thead>\n",
       "  <tbody>\n",
       "    <tr>\n",
       "      <th>0</th>\n",
       "      <td>ORD0019862</td>\n",
       "      <td>[Rong biển cháy tỏi]</td>\n",
       "    </tr>\n",
       "    <tr>\n",
       "      <th>1</th>\n",
       "      <td>ORD0019863</td>\n",
       "      <td>[Bánh ngói hạnh nhân, Bột củ sen hòa tan dinh ...</td>\n",
       "    </tr>\n",
       "    <tr>\n",
       "      <th>2</th>\n",
       "      <td>ORD0019864</td>\n",
       "      <td>[Bột củ sen hòa tan dinh dưỡng không đường, Ng...</td>\n",
       "    </tr>\n",
       "    <tr>\n",
       "      <th>3</th>\n",
       "      <td>ORD0019865</td>\n",
       "      <td>[Bánh ngói hạnh nhân, Rong biển cháy tỏi, Ngũ ...</td>\n",
       "    </tr>\n",
       "    <tr>\n",
       "      <th>4</th>\n",
       "      <td>ORD0019866</td>\n",
       "      <td>[Bánh ngói hạnh nhân, Rong biển cháy tỏi]</td>\n",
       "    </tr>\n",
       "    <tr>\n",
       "      <th>...</th>\n",
       "      <td>...</td>\n",
       "      <td>...</td>\n",
       "    </tr>\n",
       "    <tr>\n",
       "      <th>10143</th>\n",
       "      <td>ORD0030261</td>\n",
       "      <td>[Ngũ cốc granola vị nguyên vị]</td>\n",
       "    </tr>\n",
       "    <tr>\n",
       "      <th>10144</th>\n",
       "      <td>ORD0030262</td>\n",
       "      <td>[Bột củ sen hòa tan dinh dưỡng không đường, Ng...</td>\n",
       "    </tr>\n",
       "    <tr>\n",
       "      <th>10145</th>\n",
       "      <td>ORD0030263</td>\n",
       "      <td>[Bánh ngói hạnh nhân, Rong biển cháy tỏi, Khô ...</td>\n",
       "    </tr>\n",
       "    <tr>\n",
       "      <th>10146</th>\n",
       "      <td>ORD0030264</td>\n",
       "      <td>[Bánh ngói hạnh nhân, Rong biển cháy tỏi, Khô ...</td>\n",
       "    </tr>\n",
       "    <tr>\n",
       "      <th>10147</th>\n",
       "      <td>ORD0030265</td>\n",
       "      <td>[Bánh ngói hạnh nhân, Rong biển cháy tỏi, Khô ...</td>\n",
       "    </tr>\n",
       "  </tbody>\n",
       "</table>\n",
       "<p>10148 rows × 2 columns</p>\n",
       "</div>"
      ],
      "text/plain": [
       "      Mã đơn hàng                                       Tên mặt hàng\n",
       "0      ORD0019862                               [Rong biển cháy tỏi]\n",
       "1      ORD0019863  [Bánh ngói hạnh nhân, Bột củ sen hòa tan dinh ...\n",
       "2      ORD0019864  [Bột củ sen hòa tan dinh dưỡng không đường, Ng...\n",
       "3      ORD0019865  [Bánh ngói hạnh nhân, Rong biển cháy tỏi, Ngũ ...\n",
       "4      ORD0019866          [Bánh ngói hạnh nhân, Rong biển cháy tỏi]\n",
       "...           ...                                                ...\n",
       "10143  ORD0030261                     [Ngũ cốc granola vị nguyên vị]\n",
       "10144  ORD0030262  [Bột củ sen hòa tan dinh dưỡng không đường, Ng...\n",
       "10145  ORD0030263  [Bánh ngói hạnh nhân, Rong biển cháy tỏi, Khô ...\n",
       "10146  ORD0030264  [Bánh ngói hạnh nhân, Rong biển cháy tỏi, Khô ...\n",
       "10147  ORD0030265  [Bánh ngói hạnh nhân, Rong biển cháy tỏi, Khô ...\n",
       "\n",
       "[10148 rows x 2 columns]"
      ]
     },
     "execution_count": 71,
     "metadata": {},
     "output_type": "execute_result"
    }
   ],
   "source": [
    "top_6_quarter_item = df.groupby('Mã đơn hàng')['Tên mặt hàng'].unique().reset_index(name=\"Tên mặt hàng\")\n",
    "top_6_quarter_item"
   ]
  },
  {
   "cell_type": "markdown",
   "metadata": {},
   "source": [
    "<h1 style=\"color:white\"><strong>🔘 Lọc các bộ giao dịch từ mã đơn hàng thành một danh sách giao dịch mới"
   ]
  },
  {
   "cell_type": "code",
   "execution_count": 72,
   "metadata": {},
   "outputs": [
    {
     "data": {
      "text/plain": [
       "0                                     [Rong biển cháy tỏi]\n",
       "1        [Bánh ngói hạnh nhân, Bột củ sen hòa tan dinh ...\n",
       "2        [Bột củ sen hòa tan dinh dưỡng không đường, Ng...\n",
       "3        [Bánh ngói hạnh nhân, Rong biển cháy tỏi, Ngũ ...\n",
       "4                [Bánh ngói hạnh nhân, Rong biển cháy tỏi]\n",
       "                               ...                        \n",
       "10143                       [Ngũ cốc granola vị nguyên vị]\n",
       "10144    [Bột củ sen hòa tan dinh dưỡng không đường, Ng...\n",
       "10145    [Bánh ngói hạnh nhân, Rong biển cháy tỏi, Khô ...\n",
       "10146    [Bánh ngói hạnh nhân, Rong biển cháy tỏi, Khô ...\n",
       "10147    [Bánh ngói hạnh nhân, Rong biển cháy tỏi, Khô ...\n",
       "Length: 10148, dtype: object"
      ]
     },
     "execution_count": 72,
     "metadata": {},
     "output_type": "execute_result"
    }
   ],
   "source": [
    "groceries=[]\n",
    "for rows in top_6_quarter_item['Tên mặt hàng']:\n",
    "    groceries.append(rows)\n",
    "groceries=pd.Series(groceries)\n",
    "groceries"
   ]
  },
  {
   "cell_type": "markdown",
   "metadata": {},
   "source": [
    "<h1 style=\"color:#ffffff;font-size:30px;font-family:Georgia;text-align: center\">\n",
    "<strong>---- Transform Data ----</strong></h1>"
   ]
  },
  {
   "cell_type": "code",
   "execution_count": 73,
   "metadata": {},
   "outputs": [],
   "source": [
    "encoder=TransactionEncoder()"
   ]
  },
  {
   "cell_type": "code",
   "execution_count": 74,
   "metadata": {},
   "outputs": [],
   "source": [
    "transactions= encoder.fit(groceries).transform(groceries)"
   ]
  },
  {
   "cell_type": "code",
   "execution_count": 75,
   "metadata": {},
   "outputs": [],
   "source": [
    "itemsets=pd.DataFrame(transactions, columns = encoder.columns_)"
   ]
  },
  {
   "cell_type": "code",
   "execution_count": 77,
   "metadata": {},
   "outputs": [
    {
     "data": {
      "text/html": [
       "<div>\n",
       "<style scoped>\n",
       "    .dataframe tbody tr th:only-of-type {\n",
       "        vertical-align: middle;\n",
       "    }\n",
       "\n",
       "    .dataframe tbody tr th {\n",
       "        vertical-align: top;\n",
       "    }\n",
       "\n",
       "    .dataframe thead th {\n",
       "        text-align: right;\n",
       "    }\n",
       "</style>\n",
       "<table border=\"1\" class=\"dataframe\">\n",
       "  <thead>\n",
       "    <tr style=\"text-align: right;\">\n",
       "      <th></th>\n",
       "      <th>Bánh ngói hạnh nhân</th>\n",
       "      <th>Bột củ sen hòa tan dinh dưỡng không đường</th>\n",
       "      <th>Khô mix 3 vị (heo bơ tỏi, mực, gà)</th>\n",
       "      <th>Ngũ cốc granola vị nguyên vị</th>\n",
       "      <th>Rong biển cháy tỏi</th>\n",
       "      <th>Trà sữa ô long</th>\n",
       "    </tr>\n",
       "  </thead>\n",
       "  <tbody>\n",
       "    <tr>\n",
       "      <th>0</th>\n",
       "      <td>False</td>\n",
       "      <td>False</td>\n",
       "      <td>False</td>\n",
       "      <td>False</td>\n",
       "      <td>True</td>\n",
       "      <td>False</td>\n",
       "    </tr>\n",
       "    <tr>\n",
       "      <th>1</th>\n",
       "      <td>True</td>\n",
       "      <td>True</td>\n",
       "      <td>False</td>\n",
       "      <td>True</td>\n",
       "      <td>False</td>\n",
       "      <td>False</td>\n",
       "    </tr>\n",
       "    <tr>\n",
       "      <th>2</th>\n",
       "      <td>False</td>\n",
       "      <td>True</td>\n",
       "      <td>False</td>\n",
       "      <td>True</td>\n",
       "      <td>False</td>\n",
       "      <td>False</td>\n",
       "    </tr>\n",
       "    <tr>\n",
       "      <th>3</th>\n",
       "      <td>True</td>\n",
       "      <td>False</td>\n",
       "      <td>False</td>\n",
       "      <td>True</td>\n",
       "      <td>True</td>\n",
       "      <td>False</td>\n",
       "    </tr>\n",
       "    <tr>\n",
       "      <th>4</th>\n",
       "      <td>True</td>\n",
       "      <td>False</td>\n",
       "      <td>False</td>\n",
       "      <td>False</td>\n",
       "      <td>True</td>\n",
       "      <td>False</td>\n",
       "    </tr>\n",
       "    <tr>\n",
       "      <th>5</th>\n",
       "      <td>True</td>\n",
       "      <td>False</td>\n",
       "      <td>False</td>\n",
       "      <td>True</td>\n",
       "      <td>True</td>\n",
       "      <td>False</td>\n",
       "    </tr>\n",
       "    <tr>\n",
       "      <th>6</th>\n",
       "      <td>False</td>\n",
       "      <td>True</td>\n",
       "      <td>False</td>\n",
       "      <td>True</td>\n",
       "      <td>False</td>\n",
       "      <td>False</td>\n",
       "    </tr>\n",
       "    <tr>\n",
       "      <th>7</th>\n",
       "      <td>False</td>\n",
       "      <td>False</td>\n",
       "      <td>True</td>\n",
       "      <td>False</td>\n",
       "      <td>True</td>\n",
       "      <td>False</td>\n",
       "    </tr>\n",
       "    <tr>\n",
       "      <th>8</th>\n",
       "      <td>True</td>\n",
       "      <td>True</td>\n",
       "      <td>False</td>\n",
       "      <td>True</td>\n",
       "      <td>False</td>\n",
       "      <td>False</td>\n",
       "    </tr>\n",
       "    <tr>\n",
       "      <th>9</th>\n",
       "      <td>False</td>\n",
       "      <td>False</td>\n",
       "      <td>True</td>\n",
       "      <td>False</td>\n",
       "      <td>False</td>\n",
       "      <td>False</td>\n",
       "    </tr>\n",
       "  </tbody>\n",
       "</table>\n",
       "</div>"
      ],
      "text/plain": [
       "   Bánh ngói hạnh nhân  Bột củ sen hòa tan dinh dưỡng không đường  \\\n",
       "0                False                                      False   \n",
       "1                 True                                       True   \n",
       "2                False                                       True   \n",
       "3                 True                                      False   \n",
       "4                 True                                      False   \n",
       "5                 True                                      False   \n",
       "6                False                                       True   \n",
       "7                False                                      False   \n",
       "8                 True                                       True   \n",
       "9                False                                      False   \n",
       "\n",
       "   Khô mix 3 vị (heo bơ tỏi, mực, gà)  Ngũ cốc granola vị nguyên vị  \\\n",
       "0                               False                         False   \n",
       "1                               False                          True   \n",
       "2                               False                          True   \n",
       "3                               False                          True   \n",
       "4                               False                         False   \n",
       "5                               False                          True   \n",
       "6                               False                          True   \n",
       "7                                True                         False   \n",
       "8                               False                          True   \n",
       "9                                True                         False   \n",
       "\n",
       "   Rong biển cháy tỏi  Trà sữa ô long  \n",
       "0                True           False  \n",
       "1               False           False  \n",
       "2               False           False  \n",
       "3                True           False  \n",
       "4                True           False  \n",
       "5                True           False  \n",
       "6               False           False  \n",
       "7                True           False  \n",
       "8               False           False  \n",
       "9               False           False  "
      ]
     },
     "execution_count": 77,
     "metadata": {},
     "output_type": "execute_result"
    }
   ],
   "source": [
    "itemsets.head(10)"
   ]
  },
  {
   "cell_type": "code",
   "execution_count": 78,
   "metadata": {},
   "outputs": [
    {
     "name": "stdout",
     "output_type": "stream",
     "text": [
      "<class 'pandas.core.frame.DataFrame'>\n",
      "RangeIndex: 10148 entries, 0 to 10147\n",
      "Data columns (total 6 columns):\n",
      " #   Column                                     Non-Null Count  Dtype\n",
      "---  ------                                     --------------  -----\n",
      " 0   Bánh ngói hạnh nhân                        10148 non-null  bool \n",
      " 1   Bột củ sen hòa tan dinh dưỡng không đường  10148 non-null  bool \n",
      " 2   Khô mix 3 vị (heo bơ tỏi, mực, gà)         10148 non-null  bool \n",
      " 3   Ngũ cốc granola vị nguyên vị               10148 non-null  bool \n",
      " 4   Rong biển cháy tỏi                         10148 non-null  bool \n",
      " 5   Trà sữa ô long                             10148 non-null  bool \n",
      "dtypes: bool(6)\n",
      "memory usage: 59.6 KB\n"
     ]
    }
   ],
   "source": [
    "itemsets.info()"
   ]
  },
  {
   "cell_type": "markdown",
   "metadata": {},
   "source": [
    "<h1 style=\"color: white ;font-family:Georgia;text-align: center;font-size:50px;\"><strong>✨ Thuật toán Apriori ✨</h1>"
   ]
  },
  {
   "cell_type": "markdown",
   "metadata": {},
   "source": [
    "<h1 style=\"color:#ffffff;font-size:30px;font-family:Georgia;text-align: center\">\n",
    "<strong>---- Genrate Frequent Itemsets ----</strong></h1>"
   ]
  },
  {
   "cell_type": "markdown",
   "metadata": {},
   "source": [
    "<h3 style=\"color:white\"><strong>* Chọn min_support = 0.05"
   ]
  },
  {
   "cell_type": "code",
   "execution_count": 79,
   "metadata": {},
   "outputs": [],
   "source": [
    "frequent_items=apriori(itemsets, use_colnames=True, min_support=0.05)"
   ]
  },
  {
   "cell_type": "code",
   "execution_count": 80,
   "metadata": {},
   "outputs": [
    {
     "data": {
      "text/html": [
       "<div>\n",
       "<style scoped>\n",
       "    .dataframe tbody tr th:only-of-type {\n",
       "        vertical-align: middle;\n",
       "    }\n",
       "\n",
       "    .dataframe tbody tr th {\n",
       "        vertical-align: top;\n",
       "    }\n",
       "\n",
       "    .dataframe thead th {\n",
       "        text-align: right;\n",
       "    }\n",
       "</style>\n",
       "<table border=\"1\" class=\"dataframe\">\n",
       "  <thead>\n",
       "    <tr style=\"text-align: right;\">\n",
       "      <th></th>\n",
       "      <th>support</th>\n",
       "      <th>itemsets</th>\n",
       "    </tr>\n",
       "  </thead>\n",
       "  <tbody>\n",
       "    <tr>\n",
       "      <th>0</th>\n",
       "      <td>0.595684</td>\n",
       "      <td>(Bánh ngói hạnh nhân)</td>\n",
       "    </tr>\n",
       "    <tr>\n",
       "      <th>1</th>\n",
       "      <td>0.448069</td>\n",
       "      <td>(Bột củ sen hòa tan dinh dưỡng không đường)</td>\n",
       "    </tr>\n",
       "    <tr>\n",
       "      <th>2</th>\n",
       "      <td>0.449645</td>\n",
       "      <td>(Khô mix 3 vị (heo bơ tỏi, mực, gà))</td>\n",
       "    </tr>\n",
       "    <tr>\n",
       "      <th>3</th>\n",
       "      <td>0.581888</td>\n",
       "      <td>(Ngũ cốc granola vị nguyên vị)</td>\n",
       "    </tr>\n",
       "    <tr>\n",
       "      <th>4</th>\n",
       "      <td>0.596866</td>\n",
       "      <td>(Rong biển cháy tỏi)</td>\n",
       "    </tr>\n",
       "    <tr>\n",
       "      <th>5</th>\n",
       "      <td>0.137958</td>\n",
       "      <td>(Trà sữa ô long)</td>\n",
       "    </tr>\n",
       "    <tr>\n",
       "      <th>6</th>\n",
       "      <td>0.246650</td>\n",
       "      <td>(Bánh ngói hạnh nhân, Bột củ sen hòa tan dinh ...</td>\n",
       "    </tr>\n",
       "    <tr>\n",
       "      <th>7</th>\n",
       "      <td>0.288234</td>\n",
       "      <td>(Bánh ngói hạnh nhân, Khô mix 3 vị (heo bơ tỏi...</td>\n",
       "    </tr>\n",
       "    <tr>\n",
       "      <th>8</th>\n",
       "      <td>0.328341</td>\n",
       "      <td>(Bánh ngói hạnh nhân, Ngũ cốc granola vị nguyê...</td>\n",
       "    </tr>\n",
       "    <tr>\n",
       "      <th>9</th>\n",
       "      <td>0.371797</td>\n",
       "      <td>(Bánh ngói hạnh nhân, Rong biển cháy tỏi)</td>\n",
       "    </tr>\n",
       "    <tr>\n",
       "      <th>10</th>\n",
       "      <td>0.080903</td>\n",
       "      <td>(Bánh ngói hạnh nhân, Trà sữa ô long)</td>\n",
       "    </tr>\n",
       "    <tr>\n",
       "      <th>11</th>\n",
       "      <td>0.084647</td>\n",
       "      <td>(Bột củ sen hòa tan dinh dưỡng không đường, Kh...</td>\n",
       "    </tr>\n",
       "    <tr>\n",
       "      <th>12</th>\n",
       "      <td>0.391210</td>\n",
       "      <td>(Ngũ cốc granola vị nguyên vị, Bột củ sen hòa ...</td>\n",
       "    </tr>\n",
       "    <tr>\n",
       "      <th>13</th>\n",
       "      <td>0.219945</td>\n",
       "      <td>(Rong biển cháy tỏi, Bột củ sen hòa tan dinh d...</td>\n",
       "    </tr>\n",
       "    <tr>\n",
       "      <th>14</th>\n",
       "      <td>0.169393</td>\n",
       "      <td>(Ngũ cốc granola vị nguyên vị, Khô mix 3 vị (h...</td>\n",
       "    </tr>\n",
       "    <tr>\n",
       "      <th>15</th>\n",
       "      <td>0.328538</td>\n",
       "      <td>(Rong biển cháy tỏi, Khô mix 3 vị (heo bơ tỏi,...</td>\n",
       "    </tr>\n",
       "    <tr>\n",
       "      <th>16</th>\n",
       "      <td>0.085731</td>\n",
       "      <td>(Trà sữa ô long, Khô mix 3 vị (heo bơ tỏi, mực...</td>\n",
       "    </tr>\n",
       "    <tr>\n",
       "      <th>17</th>\n",
       "      <td>0.303508</td>\n",
       "      <td>(Ngũ cốc granola vị nguyên vị, Rong biển cháy ...</td>\n",
       "    </tr>\n",
       "    <tr>\n",
       "      <th>18</th>\n",
       "      <td>0.095388</td>\n",
       "      <td>(Trà sữa ô long, Rong biển cháy tỏi)</td>\n",
       "    </tr>\n",
       "    <tr>\n",
       "      <th>19</th>\n",
       "      <td>0.051439</td>\n",
       "      <td>(Bánh ngói hạnh nhân, Bột củ sen hòa tan dinh ...</td>\n",
       "    </tr>\n",
       "    <tr>\n",
       "      <th>20</th>\n",
       "      <td>0.214722</td>\n",
       "      <td>(Bánh ngói hạnh nhân, Ngũ cốc granola vị nguyê...</td>\n",
       "    </tr>\n",
       "    <tr>\n",
       "      <th>21</th>\n",
       "      <td>0.129188</td>\n",
       "      <td>(Bánh ngói hạnh nhân, Rong biển cháy tỏi, Bột ...</td>\n",
       "    </tr>\n",
       "    <tr>\n",
       "      <th>22</th>\n",
       "      <td>0.110367</td>\n",
       "      <td>(Bánh ngói hạnh nhân, Ngũ cốc granola vị nguyê...</td>\n",
       "    </tr>\n",
       "    <tr>\n",
       "      <th>23</th>\n",
       "      <td>0.218861</td>\n",
       "      <td>(Bánh ngói hạnh nhân, Rong biển cháy tỏi, Khô ...</td>\n",
       "    </tr>\n",
       "    <tr>\n",
       "      <th>24</th>\n",
       "      <td>0.053508</td>\n",
       "      <td>(Bánh ngói hạnh nhân, Trà sữa ô long, Khô mix ...</td>\n",
       "    </tr>\n",
       "    <tr>\n",
       "      <th>25</th>\n",
       "      <td>0.185061</td>\n",
       "      <td>(Bánh ngói hạnh nhân, Ngũ cốc granola vị nguyê...</td>\n",
       "    </tr>\n",
       "    <tr>\n",
       "      <th>26</th>\n",
       "      <td>0.058041</td>\n",
       "      <td>(Bánh ngói hạnh nhân, Trà sữa ô long, Rong biể...</td>\n",
       "    </tr>\n",
       "    <tr>\n",
       "      <th>27</th>\n",
       "      <td>0.067205</td>\n",
       "      <td>(Ngũ cốc granola vị nguyên vị, Bột củ sen hòa ...</td>\n",
       "    </tr>\n",
       "    <tr>\n",
       "      <th>28</th>\n",
       "      <td>0.196492</td>\n",
       "      <td>(Rong biển cháy tỏi, Ngũ cốc granola vị nguyên...</td>\n",
       "    </tr>\n",
       "    <tr>\n",
       "      <th>29</th>\n",
       "      <td>0.112337</td>\n",
       "      <td>(Ngũ cốc granola vị nguyên vị, Rong biển cháy ...</td>\n",
       "    </tr>\n",
       "    <tr>\n",
       "      <th>30</th>\n",
       "      <td>0.066023</td>\n",
       "      <td>(Trà sữa ô long, Rong biển cháy tỏi, Khô mix 3...</td>\n",
       "    </tr>\n",
       "    <tr>\n",
       "      <th>31</th>\n",
       "      <td>0.115097</td>\n",
       "      <td>(Bánh ngói hạnh nhân, Ngũ cốc granola vị nguyê...</td>\n",
       "    </tr>\n",
       "    <tr>\n",
       "      <th>32</th>\n",
       "      <td>0.077651</td>\n",
       "      <td>(Bánh ngói hạnh nhân, Ngũ cốc granola vị nguyê...</td>\n",
       "    </tr>\n",
       "  </tbody>\n",
       "</table>\n",
       "</div>"
      ],
      "text/plain": [
       "     support                                           itemsets\n",
       "0   0.595684                              (Bánh ngói hạnh nhân)\n",
       "1   0.448069        (Bột củ sen hòa tan dinh dưỡng không đường)\n",
       "2   0.449645               (Khô mix 3 vị (heo bơ tỏi, mực, gà))\n",
       "3   0.581888                     (Ngũ cốc granola vị nguyên vị)\n",
       "4   0.596866                               (Rong biển cháy tỏi)\n",
       "5   0.137958                                   (Trà sữa ô long)\n",
       "6   0.246650  (Bánh ngói hạnh nhân, Bột củ sen hòa tan dinh ...\n",
       "7   0.288234  (Bánh ngói hạnh nhân, Khô mix 3 vị (heo bơ tỏi...\n",
       "8   0.328341  (Bánh ngói hạnh nhân, Ngũ cốc granola vị nguyê...\n",
       "9   0.371797          (Bánh ngói hạnh nhân, Rong biển cháy tỏi)\n",
       "10  0.080903              (Bánh ngói hạnh nhân, Trà sữa ô long)\n",
       "11  0.084647  (Bột củ sen hòa tan dinh dưỡng không đường, Kh...\n",
       "12  0.391210  (Ngũ cốc granola vị nguyên vị, Bột củ sen hòa ...\n",
       "13  0.219945  (Rong biển cháy tỏi, Bột củ sen hòa tan dinh d...\n",
       "14  0.169393  (Ngũ cốc granola vị nguyên vị, Khô mix 3 vị (h...\n",
       "15  0.328538  (Rong biển cháy tỏi, Khô mix 3 vị (heo bơ tỏi,...\n",
       "16  0.085731  (Trà sữa ô long, Khô mix 3 vị (heo bơ tỏi, mực...\n",
       "17  0.303508  (Ngũ cốc granola vị nguyên vị, Rong biển cháy ...\n",
       "18  0.095388               (Trà sữa ô long, Rong biển cháy tỏi)\n",
       "19  0.051439  (Bánh ngói hạnh nhân, Bột củ sen hòa tan dinh ...\n",
       "20  0.214722  (Bánh ngói hạnh nhân, Ngũ cốc granola vị nguyê...\n",
       "21  0.129188  (Bánh ngói hạnh nhân, Rong biển cháy tỏi, Bột ...\n",
       "22  0.110367  (Bánh ngói hạnh nhân, Ngũ cốc granola vị nguyê...\n",
       "23  0.218861  (Bánh ngói hạnh nhân, Rong biển cháy tỏi, Khô ...\n",
       "24  0.053508  (Bánh ngói hạnh nhân, Trà sữa ô long, Khô mix ...\n",
       "25  0.185061  (Bánh ngói hạnh nhân, Ngũ cốc granola vị nguyê...\n",
       "26  0.058041  (Bánh ngói hạnh nhân, Trà sữa ô long, Rong biể...\n",
       "27  0.067205  (Ngũ cốc granola vị nguyên vị, Bột củ sen hòa ...\n",
       "28  0.196492  (Rong biển cháy tỏi, Ngũ cốc granola vị nguyên...\n",
       "29  0.112337  (Ngũ cốc granola vị nguyên vị, Rong biển cháy ...\n",
       "30  0.066023  (Trà sữa ô long, Rong biển cháy tỏi, Khô mix 3...\n",
       "31  0.115097  (Bánh ngói hạnh nhân, Ngũ cốc granola vị nguyê...\n",
       "32  0.077651  (Bánh ngói hạnh nhân, Ngũ cốc granola vị nguyê..."
      ]
     },
     "execution_count": 80,
     "metadata": {},
     "output_type": "execute_result"
    }
   ],
   "source": [
    "frequent_items"
   ]
  },
  {
   "cell_type": "markdown",
   "metadata": {},
   "source": [
    "<h1 style=\"color:#ffffff;font-size:30px;font-family:Georgia;text-align: center\">\n",
    "<strong>---- Create Association Rules ----</strong></h1>"
   ]
  },
  {
   "cell_type": "markdown",
   "metadata": {},
   "source": [
    "<h3 style=\"color:white\"><strong>* Chọn min_threshold = 0.7"
   ]
  },
  {
   "cell_type": "code",
   "execution_count": 81,
   "metadata": {},
   "outputs": [],
   "source": [
    "min_conf=0.7\n",
    "rules = association_rules(frequent_items, metric='confidence', min_threshold=min_conf)"
   ]
  },
  {
   "cell_type": "code",
   "execution_count": 82,
   "metadata": {},
   "outputs": [
    {
     "data": {
      "text/html": [
       "<div>\n",
       "<style scoped>\n",
       "    .dataframe tbody tr th:only-of-type {\n",
       "        vertical-align: middle;\n",
       "    }\n",
       "\n",
       "    .dataframe tbody tr th {\n",
       "        vertical-align: top;\n",
       "    }\n",
       "\n",
       "    .dataframe thead th {\n",
       "        text-align: right;\n",
       "    }\n",
       "</style>\n",
       "<table border=\"1\" class=\"dataframe\">\n",
       "  <thead>\n",
       "    <tr style=\"text-align: right;\">\n",
       "      <th></th>\n",
       "      <th>antecedents</th>\n",
       "      <th>consequents</th>\n",
       "      <th>antecedent support</th>\n",
       "      <th>consequent support</th>\n",
       "      <th>support</th>\n",
       "      <th>confidence</th>\n",
       "      <th>lift</th>\n",
       "      <th>leverage</th>\n",
       "      <th>conviction</th>\n",
       "      <th>zhangs_metric</th>\n",
       "    </tr>\n",
       "  </thead>\n",
       "  <tbody>\n",
       "    <tr>\n",
       "      <th>0</th>\n",
       "      <td>(Bột củ sen hòa tan dinh dưỡng không đường)</td>\n",
       "      <td>(Ngũ cốc granola vị nguyên vị)</td>\n",
       "      <td>0.448069</td>\n",
       "      <td>0.581888</td>\n",
       "      <td>0.391210</td>\n",
       "      <td>0.873103</td>\n",
       "      <td>1.500466</td>\n",
       "      <td>0.130484</td>\n",
       "      <td>3.294896</td>\n",
       "      <td>0.604315</td>\n",
       "    </tr>\n",
       "    <tr>\n",
       "      <th>1</th>\n",
       "      <td>(Khô mix 3 vị (heo bơ tỏi, mực, gà))</td>\n",
       "      <td>(Rong biển cháy tỏi)</td>\n",
       "      <td>0.449645</td>\n",
       "      <td>0.596866</td>\n",
       "      <td>0.328538</td>\n",
       "      <td>0.730660</td>\n",
       "      <td>1.224160</td>\n",
       "      <td>0.060160</td>\n",
       "      <td>1.496744</td>\n",
       "      <td>0.332718</td>\n",
       "    </tr>\n",
       "    <tr>\n",
       "      <th>2</th>\n",
       "      <td>(Bánh ngói hạnh nhân, Bột củ sen hòa tan dinh ...</td>\n",
       "      <td>(Ngũ cốc granola vị nguyên vị)</td>\n",
       "      <td>0.246650</td>\n",
       "      <td>0.581888</td>\n",
       "      <td>0.214722</td>\n",
       "      <td>0.870555</td>\n",
       "      <td>1.496087</td>\n",
       "      <td>0.071200</td>\n",
       "      <td>3.230044</td>\n",
       "      <td>0.440153</td>\n",
       "    </tr>\n",
       "    <tr>\n",
       "      <th>3</th>\n",
       "      <td>(Bánh ngói hạnh nhân, Khô mix 3 vị (heo bơ tỏi...</td>\n",
       "      <td>(Rong biển cháy tỏi)</td>\n",
       "      <td>0.288234</td>\n",
       "      <td>0.596866</td>\n",
       "      <td>0.218861</td>\n",
       "      <td>0.759316</td>\n",
       "      <td>1.272171</td>\n",
       "      <td>0.046824</td>\n",
       "      <td>1.674951</td>\n",
       "      <td>0.300580</td>\n",
       "    </tr>\n",
       "    <tr>\n",
       "      <th>4</th>\n",
       "      <td>(Bánh ngói hạnh nhân, Trà sữa ô long)</td>\n",
       "      <td>(Rong biển cháy tỏi)</td>\n",
       "      <td>0.080903</td>\n",
       "      <td>0.596866</td>\n",
       "      <td>0.058041</td>\n",
       "      <td>0.717418</td>\n",
       "      <td>1.201974</td>\n",
       "      <td>0.009753</td>\n",
       "      <td>1.426606</td>\n",
       "      <td>0.182826</td>\n",
       "    </tr>\n",
       "    <tr>\n",
       "      <th>5</th>\n",
       "      <td>(Bột củ sen hòa tan dinh dưỡng không đường, Kh...</td>\n",
       "      <td>(Ngũ cốc granola vị nguyên vị)</td>\n",
       "      <td>0.084647</td>\n",
       "      <td>0.581888</td>\n",
       "      <td>0.067205</td>\n",
       "      <td>0.793946</td>\n",
       "      <td>1.364432</td>\n",
       "      <td>0.017950</td>\n",
       "      <td>2.029142</td>\n",
       "      <td>0.291794</td>\n",
       "    </tr>\n",
       "    <tr>\n",
       "      <th>6</th>\n",
       "      <td>(Bột củ sen hòa tan dinh dưỡng không đường, Ro...</td>\n",
       "      <td>(Ngũ cốc granola vị nguyên vị)</td>\n",
       "      <td>0.219945</td>\n",
       "      <td>0.581888</td>\n",
       "      <td>0.196492</td>\n",
       "      <td>0.893369</td>\n",
       "      <td>1.535294</td>\n",
       "      <td>0.068509</td>\n",
       "      <td>3.921117</td>\n",
       "      <td>0.446967</td>\n",
       "    </tr>\n",
       "    <tr>\n",
       "      <th>7</th>\n",
       "      <td>(Trà sữa ô long, Khô mix 3 vị (heo bơ tỏi, mực...</td>\n",
       "      <td>(Rong biển cháy tỏi)</td>\n",
       "      <td>0.085731</td>\n",
       "      <td>0.596866</td>\n",
       "      <td>0.066023</td>\n",
       "      <td>0.770115</td>\n",
       "      <td>1.290264</td>\n",
       "      <td>0.014853</td>\n",
       "      <td>1.753631</td>\n",
       "      <td>0.246060</td>\n",
       "    </tr>\n",
       "    <tr>\n",
       "      <th>8</th>\n",
       "      <td>(Bánh ngói hạnh nhân, Bột củ sen hòa tan dinh ...</td>\n",
       "      <td>(Ngũ cốc granola vị nguyên vị)</td>\n",
       "      <td>0.129188</td>\n",
       "      <td>0.581888</td>\n",
       "      <td>0.115097</td>\n",
       "      <td>0.890923</td>\n",
       "      <td>1.531090</td>\n",
       "      <td>0.039924</td>\n",
       "      <td>3.833180</td>\n",
       "      <td>0.398330</td>\n",
       "    </tr>\n",
       "    <tr>\n",
       "      <th>9</th>\n",
       "      <td>(Bánh ngói hạnh nhân, Ngũ cốc granola vị nguyê...</td>\n",
       "      <td>(Rong biển cháy tỏi)</td>\n",
       "      <td>0.110367</td>\n",
       "      <td>0.596866</td>\n",
       "      <td>0.077651</td>\n",
       "      <td>0.703571</td>\n",
       "      <td>1.178775</td>\n",
       "      <td>0.011777</td>\n",
       "      <td>1.359969</td>\n",
       "      <td>0.170477</td>\n",
       "    </tr>\n",
       "  </tbody>\n",
       "</table>\n",
       "</div>"
      ],
      "text/plain": [
       "                                         antecedents  \\\n",
       "0        (Bột củ sen hòa tan dinh dưỡng không đường)   \n",
       "1               (Khô mix 3 vị (heo bơ tỏi, mực, gà))   \n",
       "2  (Bánh ngói hạnh nhân, Bột củ sen hòa tan dinh ...   \n",
       "3  (Bánh ngói hạnh nhân, Khô mix 3 vị (heo bơ tỏi...   \n",
       "4              (Bánh ngói hạnh nhân, Trà sữa ô long)   \n",
       "5  (Bột củ sen hòa tan dinh dưỡng không đường, Kh...   \n",
       "6  (Bột củ sen hòa tan dinh dưỡng không đường, Ro...   \n",
       "7  (Trà sữa ô long, Khô mix 3 vị (heo bơ tỏi, mực...   \n",
       "8  (Bánh ngói hạnh nhân, Bột củ sen hòa tan dinh ...   \n",
       "9  (Bánh ngói hạnh nhân, Ngũ cốc granola vị nguyê...   \n",
       "\n",
       "                      consequents  antecedent support  consequent support  \\\n",
       "0  (Ngũ cốc granola vị nguyên vị)            0.448069            0.581888   \n",
       "1            (Rong biển cháy tỏi)            0.449645            0.596866   \n",
       "2  (Ngũ cốc granola vị nguyên vị)            0.246650            0.581888   \n",
       "3            (Rong biển cháy tỏi)            0.288234            0.596866   \n",
       "4            (Rong biển cháy tỏi)            0.080903            0.596866   \n",
       "5  (Ngũ cốc granola vị nguyên vị)            0.084647            0.581888   \n",
       "6  (Ngũ cốc granola vị nguyên vị)            0.219945            0.581888   \n",
       "7            (Rong biển cháy tỏi)            0.085731            0.596866   \n",
       "8  (Ngũ cốc granola vị nguyên vị)            0.129188            0.581888   \n",
       "9            (Rong biển cháy tỏi)            0.110367            0.596866   \n",
       "\n",
       "    support  confidence      lift  leverage  conviction  zhangs_metric  \n",
       "0  0.391210    0.873103  1.500466  0.130484    3.294896       0.604315  \n",
       "1  0.328538    0.730660  1.224160  0.060160    1.496744       0.332718  \n",
       "2  0.214722    0.870555  1.496087  0.071200    3.230044       0.440153  \n",
       "3  0.218861    0.759316  1.272171  0.046824    1.674951       0.300580  \n",
       "4  0.058041    0.717418  1.201974  0.009753    1.426606       0.182826  \n",
       "5  0.067205    0.793946  1.364432  0.017950    2.029142       0.291794  \n",
       "6  0.196492    0.893369  1.535294  0.068509    3.921117       0.446967  \n",
       "7  0.066023    0.770115  1.290264  0.014853    1.753631       0.246060  \n",
       "8  0.115097    0.890923  1.531090  0.039924    3.833180       0.398330  \n",
       "9  0.077651    0.703571  1.178775  0.011777    1.359969       0.170477  "
      ]
     },
     "execution_count": 82,
     "metadata": {},
     "output_type": "execute_result"
    }
   ],
   "source": [
    "rules"
   ]
  },
  {
   "cell_type": "markdown",
   "metadata": {},
   "source": [
    "<h1 style=\"color:#ffffff;font-size:30px;font-family:Georgia;text-align: center\">\n",
    "<strong>---- Đánh giá các luật qua các độ đo chính ----</strong></h1>"
   ]
  },
  {
   "cell_type": "code",
   "execution_count": 83,
   "metadata": {},
   "outputs": [
    {
     "name": "stdout",
     "output_type": "stream",
     "text": [
      "Association Rules:\n"
     ]
    },
    {
     "data": {
      "text/html": [
       "<div>\n",
       "<style scoped>\n",
       "    .dataframe tbody tr th:only-of-type {\n",
       "        vertical-align: middle;\n",
       "    }\n",
       "\n",
       "    .dataframe tbody tr th {\n",
       "        vertical-align: top;\n",
       "    }\n",
       "\n",
       "    .dataframe thead th {\n",
       "        text-align: right;\n",
       "    }\n",
       "</style>\n",
       "<table border=\"1\" class=\"dataframe\">\n",
       "  <thead>\n",
       "    <tr style=\"text-align: right;\">\n",
       "      <th></th>\n",
       "      <th>antecedents</th>\n",
       "      <th>consequents</th>\n",
       "      <th>support</th>\n",
       "      <th>confidence</th>\n",
       "      <th>lift</th>\n",
       "    </tr>\n",
       "  </thead>\n",
       "  <tbody>\n",
       "    <tr>\n",
       "      <th>0</th>\n",
       "      <td>(Bột củ sen hòa tan dinh dưỡng không đường)</td>\n",
       "      <td>(Ngũ cốc granola vị nguyên vị)</td>\n",
       "      <td>0.391210</td>\n",
       "      <td>0.873103</td>\n",
       "      <td>1.500466</td>\n",
       "    </tr>\n",
       "    <tr>\n",
       "      <th>1</th>\n",
       "      <td>(Khô mix 3 vị (heo bơ tỏi, mực, gà))</td>\n",
       "      <td>(Rong biển cháy tỏi)</td>\n",
       "      <td>0.328538</td>\n",
       "      <td>0.730660</td>\n",
       "      <td>1.224160</td>\n",
       "    </tr>\n",
       "    <tr>\n",
       "      <th>2</th>\n",
       "      <td>(Bánh ngói hạnh nhân, Bột củ sen hòa tan dinh ...</td>\n",
       "      <td>(Ngũ cốc granola vị nguyên vị)</td>\n",
       "      <td>0.214722</td>\n",
       "      <td>0.870555</td>\n",
       "      <td>1.496087</td>\n",
       "    </tr>\n",
       "    <tr>\n",
       "      <th>3</th>\n",
       "      <td>(Bánh ngói hạnh nhân, Khô mix 3 vị (heo bơ tỏi...</td>\n",
       "      <td>(Rong biển cháy tỏi)</td>\n",
       "      <td>0.218861</td>\n",
       "      <td>0.759316</td>\n",
       "      <td>1.272171</td>\n",
       "    </tr>\n",
       "    <tr>\n",
       "      <th>4</th>\n",
       "      <td>(Bánh ngói hạnh nhân, Trà sữa ô long)</td>\n",
       "      <td>(Rong biển cháy tỏi)</td>\n",
       "      <td>0.058041</td>\n",
       "      <td>0.717418</td>\n",
       "      <td>1.201974</td>\n",
       "    </tr>\n",
       "    <tr>\n",
       "      <th>5</th>\n",
       "      <td>(Bột củ sen hòa tan dinh dưỡng không đường, Kh...</td>\n",
       "      <td>(Ngũ cốc granola vị nguyên vị)</td>\n",
       "      <td>0.067205</td>\n",
       "      <td>0.793946</td>\n",
       "      <td>1.364432</td>\n",
       "    </tr>\n",
       "    <tr>\n",
       "      <th>6</th>\n",
       "      <td>(Bột củ sen hòa tan dinh dưỡng không đường, Ro...</td>\n",
       "      <td>(Ngũ cốc granola vị nguyên vị)</td>\n",
       "      <td>0.196492</td>\n",
       "      <td>0.893369</td>\n",
       "      <td>1.535294</td>\n",
       "    </tr>\n",
       "    <tr>\n",
       "      <th>7</th>\n",
       "      <td>(Trà sữa ô long, Khô mix 3 vị (heo bơ tỏi, mực...</td>\n",
       "      <td>(Rong biển cháy tỏi)</td>\n",
       "      <td>0.066023</td>\n",
       "      <td>0.770115</td>\n",
       "      <td>1.290264</td>\n",
       "    </tr>\n",
       "    <tr>\n",
       "      <th>8</th>\n",
       "      <td>(Bánh ngói hạnh nhân, Bột củ sen hòa tan dinh ...</td>\n",
       "      <td>(Ngũ cốc granola vị nguyên vị)</td>\n",
       "      <td>0.115097</td>\n",
       "      <td>0.890923</td>\n",
       "      <td>1.531090</td>\n",
       "    </tr>\n",
       "    <tr>\n",
       "      <th>9</th>\n",
       "      <td>(Bánh ngói hạnh nhân, Ngũ cốc granola vị nguyê...</td>\n",
       "      <td>(Rong biển cháy tỏi)</td>\n",
       "      <td>0.077651</td>\n",
       "      <td>0.703571</td>\n",
       "      <td>1.178775</td>\n",
       "    </tr>\n",
       "  </tbody>\n",
       "</table>\n",
       "</div>"
      ],
      "text/plain": [
       "                                         antecedents  \\\n",
       "0        (Bột củ sen hòa tan dinh dưỡng không đường)   \n",
       "1               (Khô mix 3 vị (heo bơ tỏi, mực, gà))   \n",
       "2  (Bánh ngói hạnh nhân, Bột củ sen hòa tan dinh ...   \n",
       "3  (Bánh ngói hạnh nhân, Khô mix 3 vị (heo bơ tỏi...   \n",
       "4              (Bánh ngói hạnh nhân, Trà sữa ô long)   \n",
       "5  (Bột củ sen hòa tan dinh dưỡng không đường, Kh...   \n",
       "6  (Bột củ sen hòa tan dinh dưỡng không đường, Ro...   \n",
       "7  (Trà sữa ô long, Khô mix 3 vị (heo bơ tỏi, mực...   \n",
       "8  (Bánh ngói hạnh nhân, Bột củ sen hòa tan dinh ...   \n",
       "9  (Bánh ngói hạnh nhân, Ngũ cốc granola vị nguyê...   \n",
       "\n",
       "                      consequents   support  confidence      lift  \n",
       "0  (Ngũ cốc granola vị nguyên vị)  0.391210    0.873103  1.500466  \n",
       "1            (Rong biển cháy tỏi)  0.328538    0.730660  1.224160  \n",
       "2  (Ngũ cốc granola vị nguyên vị)  0.214722    0.870555  1.496087  \n",
       "3            (Rong biển cháy tỏi)  0.218861    0.759316  1.272171  \n",
       "4            (Rong biển cháy tỏi)  0.058041    0.717418  1.201974  \n",
       "5  (Ngũ cốc granola vị nguyên vị)  0.067205    0.793946  1.364432  \n",
       "6  (Ngũ cốc granola vị nguyên vị)  0.196492    0.893369  1.535294  \n",
       "7            (Rong biển cháy tỏi)  0.066023    0.770115  1.290264  \n",
       "8  (Ngũ cốc granola vị nguyên vị)  0.115097    0.890923  1.531090  \n",
       "9            (Rong biển cháy tỏi)  0.077651    0.703571  1.178775  "
      ]
     },
     "execution_count": 83,
     "metadata": {},
     "output_type": "execute_result"
    }
   ],
   "source": [
    "print(\"Association Rules:\")\n",
    "rules=rules[['antecedents', 'consequents', 'support', 'confidence', 'lift']]\n",
    "rules"
   ]
  },
  {
   "cell_type": "markdown",
   "metadata": {},
   "source": [
    "<h3 style=\"color:white\"><strong>Lọc theo độ đo lift cao nhất"
   ]
  },
  {
   "cell_type": "code",
   "execution_count": 84,
   "metadata": {},
   "outputs": [
    {
     "data": {
      "text/html": [
       "<div>\n",
       "<style scoped>\n",
       "    .dataframe tbody tr th:only-of-type {\n",
       "        vertical-align: middle;\n",
       "    }\n",
       "\n",
       "    .dataframe tbody tr th {\n",
       "        vertical-align: top;\n",
       "    }\n",
       "\n",
       "    .dataframe thead th {\n",
       "        text-align: right;\n",
       "    }\n",
       "</style>\n",
       "<table border=\"1\" class=\"dataframe\">\n",
       "  <thead>\n",
       "    <tr style=\"text-align: right;\">\n",
       "      <th></th>\n",
       "      <th>antecedents</th>\n",
       "      <th>consequents</th>\n",
       "      <th>support</th>\n",
       "      <th>confidence</th>\n",
       "      <th>lift</th>\n",
       "    </tr>\n",
       "  </thead>\n",
       "  <tbody>\n",
       "    <tr>\n",
       "      <th>6</th>\n",
       "      <td>(Bột củ sen hòa tan dinh dưỡng không đường, Ro...</td>\n",
       "      <td>(Ngũ cốc granola vị nguyên vị)</td>\n",
       "      <td>0.196492</td>\n",
       "      <td>0.893369</td>\n",
       "      <td>1.535294</td>\n",
       "    </tr>\n",
       "    <tr>\n",
       "      <th>8</th>\n",
       "      <td>(Bánh ngói hạnh nhân, Bột củ sen hòa tan dinh ...</td>\n",
       "      <td>(Ngũ cốc granola vị nguyên vị)</td>\n",
       "      <td>0.115097</td>\n",
       "      <td>0.890923</td>\n",
       "      <td>1.531090</td>\n",
       "    </tr>\n",
       "    <tr>\n",
       "      <th>0</th>\n",
       "      <td>(Bột củ sen hòa tan dinh dưỡng không đường)</td>\n",
       "      <td>(Ngũ cốc granola vị nguyên vị)</td>\n",
       "      <td>0.391210</td>\n",
       "      <td>0.873103</td>\n",
       "      <td>1.500466</td>\n",
       "    </tr>\n",
       "    <tr>\n",
       "      <th>2</th>\n",
       "      <td>(Bánh ngói hạnh nhân, Bột củ sen hòa tan dinh ...</td>\n",
       "      <td>(Ngũ cốc granola vị nguyên vị)</td>\n",
       "      <td>0.214722</td>\n",
       "      <td>0.870555</td>\n",
       "      <td>1.496087</td>\n",
       "    </tr>\n",
       "    <tr>\n",
       "      <th>5</th>\n",
       "      <td>(Bột củ sen hòa tan dinh dưỡng không đường, Kh...</td>\n",
       "      <td>(Ngũ cốc granola vị nguyên vị)</td>\n",
       "      <td>0.067205</td>\n",
       "      <td>0.793946</td>\n",
       "      <td>1.364432</td>\n",
       "    </tr>\n",
       "    <tr>\n",
       "      <th>7</th>\n",
       "      <td>(Trà sữa ô long, Khô mix 3 vị (heo bơ tỏi, mực...</td>\n",
       "      <td>(Rong biển cháy tỏi)</td>\n",
       "      <td>0.066023</td>\n",
       "      <td>0.770115</td>\n",
       "      <td>1.290264</td>\n",
       "    </tr>\n",
       "    <tr>\n",
       "      <th>3</th>\n",
       "      <td>(Bánh ngói hạnh nhân, Khô mix 3 vị (heo bơ tỏi...</td>\n",
       "      <td>(Rong biển cháy tỏi)</td>\n",
       "      <td>0.218861</td>\n",
       "      <td>0.759316</td>\n",
       "      <td>1.272171</td>\n",
       "    </tr>\n",
       "    <tr>\n",
       "      <th>1</th>\n",
       "      <td>(Khô mix 3 vị (heo bơ tỏi, mực, gà))</td>\n",
       "      <td>(Rong biển cháy tỏi)</td>\n",
       "      <td>0.328538</td>\n",
       "      <td>0.730660</td>\n",
       "      <td>1.224160</td>\n",
       "    </tr>\n",
       "    <tr>\n",
       "      <th>4</th>\n",
       "      <td>(Bánh ngói hạnh nhân, Trà sữa ô long)</td>\n",
       "      <td>(Rong biển cháy tỏi)</td>\n",
       "      <td>0.058041</td>\n",
       "      <td>0.717418</td>\n",
       "      <td>1.201974</td>\n",
       "    </tr>\n",
       "    <tr>\n",
       "      <th>9</th>\n",
       "      <td>(Bánh ngói hạnh nhân, Ngũ cốc granola vị nguyê...</td>\n",
       "      <td>(Rong biển cháy tỏi)</td>\n",
       "      <td>0.077651</td>\n",
       "      <td>0.703571</td>\n",
       "      <td>1.178775</td>\n",
       "    </tr>\n",
       "  </tbody>\n",
       "</table>\n",
       "</div>"
      ],
      "text/plain": [
       "                                         antecedents  \\\n",
       "6  (Bột củ sen hòa tan dinh dưỡng không đường, Ro...   \n",
       "8  (Bánh ngói hạnh nhân, Bột củ sen hòa tan dinh ...   \n",
       "0        (Bột củ sen hòa tan dinh dưỡng không đường)   \n",
       "2  (Bánh ngói hạnh nhân, Bột củ sen hòa tan dinh ...   \n",
       "5  (Bột củ sen hòa tan dinh dưỡng không đường, Kh...   \n",
       "7  (Trà sữa ô long, Khô mix 3 vị (heo bơ tỏi, mực...   \n",
       "3  (Bánh ngói hạnh nhân, Khô mix 3 vị (heo bơ tỏi...   \n",
       "1               (Khô mix 3 vị (heo bơ tỏi, mực, gà))   \n",
       "4              (Bánh ngói hạnh nhân, Trà sữa ô long)   \n",
       "9  (Bánh ngói hạnh nhân, Ngũ cốc granola vị nguyê...   \n",
       "\n",
       "                      consequents   support  confidence      lift  \n",
       "6  (Ngũ cốc granola vị nguyên vị)  0.196492    0.893369  1.535294  \n",
       "8  (Ngũ cốc granola vị nguyên vị)  0.115097    0.890923  1.531090  \n",
       "0  (Ngũ cốc granola vị nguyên vị)  0.391210    0.873103  1.500466  \n",
       "2  (Ngũ cốc granola vị nguyên vị)  0.214722    0.870555  1.496087  \n",
       "5  (Ngũ cốc granola vị nguyên vị)  0.067205    0.793946  1.364432  \n",
       "7            (Rong biển cháy tỏi)  0.066023    0.770115  1.290264  \n",
       "3            (Rong biển cháy tỏi)  0.218861    0.759316  1.272171  \n",
       "1            (Rong biển cháy tỏi)  0.328538    0.730660  1.224160  \n",
       "4            (Rong biển cháy tỏi)  0.058041    0.717418  1.201974  \n",
       "9            (Rong biển cháy tỏi)  0.077651    0.703571  1.178775  "
      ]
     },
     "execution_count": 84,
     "metadata": {},
     "output_type": "execute_result"
    }
   ],
   "source": [
    "rules_lift = rules.sort_values(by=\"lift\", ascending=False)\n",
    "rules_lift"
   ]
  },
  {
   "cell_type": "markdown",
   "metadata": {},
   "source": [
    "<h1 style=\"color:white; text-align:center\"><strong>---- Rút ra các kết luận từ luật ----"
   ]
  },
  {
   "cell_type": "markdown",
   "metadata": {},
   "source": [
    "<h3 style=\"color:white\"><strong>- Sản phẩm Ngũ cốc granola vị nguyên vị thường được mua kèm khi khách hàng mua sản phẩm Bột củ sen hòa tan dinh dưỡng không đường và rong biển cháy tỏi"
   ]
  },
  {
   "cell_type": "markdown",
   "metadata": {},
   "source": [
    "<h3 style=\"color:white\"><strong>- Rong biển cháy tỏi thường được mua kèm khi khách hàng mua sản phẩm Khô mix 3 vị (heo bơ tỏi, mực, gà)"
   ]
  }
 ],
 "metadata": {
  "kernelspec": {
   "display_name": "Python 3.12.2 64-bit",
   "language": "python",
   "name": "python3"
  },
  "language_info": {
   "codemirror_mode": {
    "name": "ipython",
    "version": 3
   },
   "file_extension": ".py",
   "mimetype": "text/x-python",
   "name": "python",
   "nbconvert_exporter": "python",
   "pygments_lexer": "ipython3",
   "version": "3.12.2"
  },
  "vscode": {
   "interpreter": {
    "hash": "3fcbd7240ee8f908d933dc7f71e8c42a1a91163b70ede8dcff5146d4087436c7"
   }
  }
 },
 "nbformat": 4,
 "nbformat_minor": 2
}
